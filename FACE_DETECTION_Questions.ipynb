{
 "cells": [
  {
   "cell_type": "markdown",
   "metadata": {
    "colab_type": "text",
    "id": "IgJNvpw9SnZq"
   },
   "source": [
    "#### In this problem we use \"Transfer Learning\" of an Object Detector model to detect any object according to the problem in hand.\n",
    "\n",
    "Here, We are particularly interested in detecting faces in a given image.\n",
    "\n",
    "#### To use the model first, we need to import the model and its supporting files for the model to function. \n",
    "\n",
    "We see the below steps to import the model."
   ]
  },
  {
   "cell_type": "markdown",
   "metadata": {
    "colab_type": "text",
    "id": "HtnH8CujQfxM"
   },
   "source": [
    "### Import MobileNet model given in file `mn_model.py`"
   ]
  },
  {
   "cell_type": "code",
   "execution_count": 1,
   "metadata": {
    "colab": {},
    "colab_type": "code",
    "id": "FtnDz1qkQESM"
   },
   "outputs": [
    {
     "name": "stderr",
     "output_type": "stream",
     "text": [
      "Using TensorFlow backend.\n"
     ]
    }
   ],
   "source": [
    "### Import MobileNet model given in file `mn_model.py`\n",
    "\n",
    "from mn_model import mn_model"
   ]
  },
  {
   "cell_type": "markdown",
   "metadata": {
    "colab_type": "text",
    "id": "dwNy4u8zQk1H"
   },
   "source": [
    "### Import the BatchGenerator and SSDLoss functions in given files `face_generator.py`, `keras_ssd_loss` and `ssd_box_encode_decode_utils.py` as well, used in MobileNet model"
   ]
  },
  {
   "cell_type": "code",
   "execution_count": 2,
   "metadata": {
    "colab": {},
    "colab_type": "code",
    "id": "3gVMOicwQlg_"
   },
   "outputs": [],
   "source": [
    "#### Import the BatchGenerator and SSDLoss functions as well, used in MobileNet model\n",
    "\n",
    "from face_generator import BatchGenerator\n",
    "from keras_ssd_loss import SSDLoss\n",
    "from ssd_box_encode_decode_utils import SSDBoxEncoder, decode_y, decode_y2"
   ]
  },
  {
   "cell_type": "code",
   "execution_count": 3,
   "metadata": {
    "colab": {},
    "colab_type": "code",
    "id": "tkzbMq9UeuCM"
   },
   "outputs": [],
   "source": [
    "\n",
    "import warnings\n",
    "warnings.filterwarnings(\"ignore\")\n",
    "\n",
    "from keras.optimizers import Adam, SGD, Nadam\n",
    "from keras.callbacks import ModelCheckpoint, EarlyStopping, ReduceLROnPlateau, TensorBoard, LearningRateScheduler\n",
    "from keras.callbacks import Callback\n",
    "from keras import backend as K \n",
    "from keras.models import load_model\n",
    "from math import ceil \n",
    "import numpy as np \n",
    "from termcolor import colored\n",
    "\n",
    "from mn_model import mn_model\n",
    "from face_generator import BatchGenerator\n",
    "from keras_ssd_loss import SSDLoss\n",
    "from ssd_box_encode_decode_utils import SSDBoxEncoder, decode_y, decode_y2\n",
    "\n",
    "# training parameters\n",
    "from keras import backend as K\n",
    "import scipy.misc as sm\n"
   ]
  },
  {
   "cell_type": "markdown",
   "metadata": {
    "colab_type": "text",
    "id": "UqyWOSGJRB18"
   },
   "source": [
    "## Set the parameters for the model\n",
    "\n",
    "#### We need to customize the model parameters according to our problem as given below.\n",
    "\n",
    "#### Set n_classes (no.of classes) = 2, as we are interested in only face detection. \n",
    "#### `Face` will be one class and everything else comes under other class (we can call it as `background`)\n",
    "\n",
    "#### Set class_names = [\"background\", \"face\"]"
   ]
  },
  {
   "cell_type": "code",
   "execution_count": 4,
   "metadata": {
    "colab": {},
    "colab_type": "code",
    "id": "bcoBM5wlfHgZ"
   },
   "outputs": [],
   "source": [
    "img_height =512\n",
    "img_width = 512\n",
    "\n",
    "img_channels = 3\n",
    "\n",
    "n_classes =2 \n",
    "class_names = [\"background\",\"face\"]\n",
    "\n",
    "scales = [0.07, 0.15, 0.33, 0.51, 0.69, 0.87, 1.05] # anchorboxes for coco dataset\n",
    "aspect_ratios = [[0.5, 1.0, 2.0],\n",
    "                 [1.0/3.0, 0.5, 1.0, 2.0, 3.0],\n",
    "                 [1.0/3.0, 0.5, 1.0, 2.0, 3.0],\n",
    "                 [1.0/3.0, 0.5, 1.0, 2.0, 3.0],\n",
    "                 [0.5, 1.0, 2.0],\n",
    "                 [0.5, 1.0, 2.0]] # The anchor box aspect ratios used in the original SSD300\n",
    "two_boxes_for_ar1 = True\n",
    "limit_boxes = True # Whether or not you want to limit the anchor boxes to lie entirely within the image boundaries\n",
    "variances = [0.1, 0.1, 0.2, 0.2] # The variances by which the encoded target coordinates are scaled as in the original implementation\n",
    "coords = 'centroids' # Whether the box coordinates to be used as targets for the model should be in the 'centroids' or 'minmax' format, see documentation\n",
    "normalize_coords = True\n",
    "\n",
    "det_model_path = \"./\""
   ]
  },
  {
   "cell_type": "markdown",
   "metadata": {
    "colab_type": "text",
    "id": "z7vX1GJjTg0v"
   },
   "source": [
    "### Now, we have imported the model and its dependencies. The next thing is to import the dataset for the model to train on. For this, we are using the WIDER FACE dataset. \n",
    "\n",
    "#### To make the dataset available follow the steps given below.\n",
    "\n",
    "\n",
    "1. Create a folder in your google drive for this project. \n",
    "\n",
    "2. Download the train and test dataset files given in .zip format into your drive folder you created for the project in step-1.\n",
    "\n",
    "3. Set the project path variable according to the folders you created to use for this project in your google drive. \n",
    "\n",
    "      `project_path = \"/content/drive/My Drive/DLCP/\"`\n",
    "\n",
    "4. Now, as we mount the drive the images will be available to use for training and testing but in zip format.\n",
    "\n",
    "5. So, lets extract the images from the zipfiles by using the code given of zipfile module.\n",
    "\n",
    "\n",
    "\n",
    "\n",
    "\n"
   ]
  },
  {
   "cell_type": "code",
   "execution_count": 5,
   "metadata": {
    "colab": {},
    "colab_type": "code",
    "id": "T2du37JKdpAK"
   },
   "outputs": [],
   "source": [
    "#from google.colab import drive"
   ]
  },
  {
   "cell_type": "code",
   "execution_count": 6,
   "metadata": {
    "colab": {
     "base_uri": "https://localhost:8080/",
     "height": 122
    },
    "colab_type": "code",
    "id": "mXRPqaDfdr1P",
    "outputId": "8edc6327-331a-43d7-ae2d-f4eb21429eb1"
   },
   "outputs": [],
   "source": [
    "#drive.mount('/content/drive')"
   ]
  },
  {
   "cell_type": "code",
   "execution_count": 7,
   "metadata": {},
   "outputs": [
    {
     "data": {
      "text/plain": [
       "'C:\\\\Users\\\\kalya\\\\Downloads\\\\Residency 9 - External Assignment'"
      ]
     },
     "execution_count": 7,
     "metadata": {},
     "output_type": "execute_result"
    }
   ],
   "source": [
    "pwd"
   ]
  },
  {
   "cell_type": "code",
   "execution_count": 8,
   "metadata": {
    "colab": {},
    "colab_type": "code",
    "id": "KM1QVQ2pduPE"
   },
   "outputs": [],
   "source": [
    "project_path = \"C:\\\\Users\\\\kalya\\\\Downloads\\\\Residency 9 - External Assignment\\\\\"\n",
    "#project_path = \"/content/drive/My Drive/DLCP/\""
   ]
  },
  {
   "cell_type": "code",
   "execution_count": 9,
   "metadata": {
    "colab": {},
    "colab_type": "code",
    "id": "F-pOMEK8pCPS"
   },
   "outputs": [],
   "source": [
    "train_images_path = project_path + 'WIDER_train.zip'\n",
    "test_images_path = project_path + 'WIDER_val.zip'"
   ]
  },
  {
   "cell_type": "code",
   "execution_count": 10,
   "metadata": {
    "colab": {},
    "colab_type": "code",
    "id": "5uIDTr5ApCR7"
   },
   "outputs": [],
   "source": [
    "import zipfile\n",
    "archive = zipfile.ZipFile(train_images_path, 'r')\n",
    "archive.extractall()"
   ]
  },
  {
   "cell_type": "code",
   "execution_count": 11,
   "metadata": {
    "colab": {},
    "colab_type": "code",
    "id": "BhqDPEEfpCUr"
   },
   "outputs": [],
   "source": [
    "archive = zipfile.ZipFile(test_images_path, 'r')\n",
    "archive.extractall()"
   ]
  },
  {
   "cell_type": "markdown",
   "metadata": {
    "colab_type": "text",
    "id": "-iCibT8AYiJ7"
   },
   "source": [
    "### Now, the images are available. The next thing we need is to get the labels for these images, so that we can use this information while training for detecting faces with the given model using transfer learning. \n",
    "\n",
    "#### Follow the below steps to get those labels available.\n",
    "\n",
    "\n",
    "Load the  '' `wider_train_small.npy`'' file given to check the information given about the dataset. In this file you can see the information about each image in the dataset in a list with following elemets:\n",
    "      \n",
    "\n",
    "        1.   Image filename (str)\n",
    "        2.   Image filename (str)\n",
    "        3.   Image size (list) [height, width]\n",
    "        4.   List of bounding box co-ordinates and Class label (list) [[a,b,c,d], Class label, ...]\n",
    "        \n",
    "        where,\n",
    "        a,b,c,d are the four co-ordinates of the bounding box\n",
    "        Class label is the position of object as mentioned in `class_names` list above."
   ]
  },
  {
   "cell_type": "code",
   "execution_count": 12,
   "metadata": {
    "colab": {},
    "colab_type": "code",
    "id": "nub3I0LPmlfk"
   },
   "outputs": [],
   "source": [
    "data = np.load('./wider_train_small.npy').item()"
   ]
  },
  {
   "cell_type": "code",
   "execution_count": 15,
   "metadata": {
    "colab": {
     "base_uri": "https://localhost:8080/",
     "height": 71
    },
    "colab_type": "code",
    "id": "Q2Fd8RY3pCJS",
    "outputId": "b9bbd88c-8772-4753-e12c-3b724adcada8"
   },
   "outputs": [
    {
     "name": "stdout",
     "output_type": "stream",
     "text": [
      "52--Photographers/52_Photographers_photographertakingphoto_52_582.jpg\n",
      "['WIDER_train/images/52--Photographers/52_Photographers_photographertakingphoto_52_582.jpg', 'WIDER_train/images/52--Photographers/52_Photographers_photographertakingphoto_52_582.jpg', [300, 300], [[21, 667, 9, 655], 1]]\n"
     ]
    }
   ],
   "source": [
    "### Printed first element to check the above given information.\n",
    "\n",
    "for key in data:\n",
    "    print (key)\n",
    "    print (data[key])\n",
    "    break"
   ]
  },
  {
   "cell_type": "markdown",
   "metadata": {
    "colab_type": "text",
    "id": "vlTpXziHZwws"
   },
   "source": [
    " As we can see from the above output all the information mentioned above is there for all the images."
   ]
  },
  {
   "cell_type": "markdown",
   "metadata": {
    "colab_type": "text",
    "id": "m2NBAZGqaec9"
   },
   "source": [
    "### Now, load the files `wider_trian.npy` and `wider_val.npy`"
   ]
  },
  {
   "cell_type": "code",
   "execution_count": 16,
   "metadata": {
    "colab": {},
    "colab_type": "code",
    "id": "_kfX49vXas4f"
   },
   "outputs": [],
   "source": [
    "train_data = 'wider_train_small.npy'\n",
    "test_data = 'wider_val_small.npy'\n",
    "\n",
    "x = np.load(train_data)"
   ]
  },
  {
   "cell_type": "markdown",
   "metadata": {
    "colab_type": "text",
    "id": "v2KdmbvGblC3"
   },
   "source": [
    "### Now, call the imported model with the given parameters and freeze all the layers in the model with names not having ''`detection`'' word as prefix.\n",
    "\n",
    "As we are not training the model from scratch, we are freezing all the above layers in the model having only last few layers while training to update their weights according to the problem in hand. This is called as **Transfer Learning**."
   ]
  },
  {
   "cell_type": "code",
   "execution_count": 135,
   "metadata": {
    "colab": {},
    "colab_type": "code",
    "id": "cHwplT2ggR-1"
   },
   "outputs": [
    {
     "name": "stdout",
     "output_type": "stream",
     "text": [
      "====> Model Specific data\n",
      "====> Height, Width, Channels : 512 512 3\n"
     ]
    }
   ],
   "source": [
    "# build the keras model\n",
    "# this model is not retrained, we are doing it from scratch \n",
    "\n",
    "K.clear_session()\n",
    "model, model_layer, img_input, predictor_sizes = mn_model(image_size=(img_height, img_width, img_channels), \n",
    "                                                                      n_classes = n_classes,\n",
    "                                                                      min_scale = None, \n",
    "                                                                      max_scale = None, \n",
    "                                                                      scales = scales, \n",
    "                                                                      aspect_ratios_global = None, \n",
    "                                                                      aspect_ratios_per_layer = aspect_ratios, \n",
    "                                                                      two_boxes_for_ar1= two_boxes_for_ar1, \n",
    "                                                                      limit_boxes=limit_boxes, \n",
    "                                                                      variances= variances, \n",
    "                                                                      coords=coords, \n",
    "                                                                      normalize_coords=normalize_coords)"
   ]
  },
  {
   "cell_type": "markdown",
   "metadata": {
    "colab_type": "text",
    "id": "FfC4yNb_uCdT"
   },
   "source": [
    "#### Write code to freeze all the layers in the above model with names not having ''`detection`'' word as prefix."
   ]
  },
  {
   "cell_type": "code",
   "execution_count": 139,
   "metadata": {},
   "outputs": [],
   "source": [
    "import itertools"
   ]
  },
  {
   "cell_type": "code",
   "execution_count": 140,
   "metadata": {},
   "outputs": [],
   "source": [
    "for (i,j) in zip(model.layers, model_layer): \n",
    "    if j[0:9]  != 'detection':\n",
    "        i.trainable=False"
   ]
  },
  {
   "cell_type": "code",
   "execution_count": 141,
   "metadata": {},
   "outputs": [
    {
     "name": "stdout",
     "output_type": "stream",
     "text": [
      "<keras.engine.input_layer.InputLayer object at 0x0000022F21F75550> False\n",
      "<keras.layers.core.Lambda object at 0x0000022F287CFD68> False\n",
      "<keras.layers.core.Lambda object at 0x0000022F287FF748> False\n",
      "<keras.layers.core.Lambda object at 0x0000022F287E0358> False\n",
      "<keras.layers.convolutional.Conv2D object at 0x0000022F287E0EF0> False\n",
      "<keras.layers.normalization.BatchNormalization object at 0x0000022F287E8518> False\n",
      "<keras.layers.core.Activation object at 0x0000022F21EB8748> False\n",
      "<mn_model.DepthwiseConv2D object at 0x0000022F287E0D68> False\n",
      "<keras.layers.normalization.BatchNormalization object at 0x0000022F287DBC50> False\n",
      "<keras.layers.core.Activation object at 0x0000022F289D5DA0> False\n",
      "<keras.layers.convolutional.Conv2D object at 0x0000022F28A35DD8> False\n",
      "<keras.layers.normalization.BatchNormalization object at 0x0000022F28B05D30> False\n",
      "<keras.layers.core.Activation object at 0x0000022F28ADAF28> False\n",
      "<mn_model.DepthwiseConv2D object at 0x0000022F28B43B38> False\n",
      "<keras.layers.normalization.BatchNormalization object at 0x0000022F28B64EF0> False\n",
      "<keras.layers.core.Activation object at 0x0000022F28B7F630> False\n",
      "<keras.layers.convolutional.Conv2D object at 0x0000022F28C6B518> False\n",
      "<keras.layers.normalization.BatchNormalization object at 0x0000022F28C85AC8> False\n",
      "<keras.layers.core.Activation object at 0x0000022F28C9EF98> False\n",
      "<mn_model.DepthwiseConv2D object at 0x0000022F28DE0D68> False\n",
      "<keras.layers.normalization.BatchNormalization object at 0x0000022F28DA75C0> False\n",
      "<keras.layers.core.Activation object at 0x0000022F28DB9E48> False\n",
      "<keras.layers.convolutional.Conv2D object at 0x0000022F28EA2FD0> False\n",
      "<keras.layers.normalization.BatchNormalization object at 0x0000022F28EC0E10> False\n",
      "<keras.layers.core.Activation object at 0x0000022F28EDFF98> False\n",
      "<mn_model.DepthwiseConv2D object at 0x0000022F28F9FDD8> False\n",
      "<keras.layers.normalization.BatchNormalization object at 0x0000022F29018EF0> False\n",
      "<keras.layers.core.Activation object at 0x0000022F29050E80> False\n",
      "<keras.layers.convolutional.Conv2D object at 0x0000022F2908EE10> False\n",
      "<keras.layers.normalization.BatchNormalization object at 0x0000022F29115898> False\n",
      "<keras.layers.core.Activation object at 0x0000022F290F45F8> False\n",
      "<mn_model.DepthwiseConv2D object at 0x0000022F291E55F8> False\n",
      "<keras.layers.normalization.BatchNormalization object at 0x0000022F291FABA8> False\n",
      "<keras.layers.core.Activation object at 0x0000022F29218A20> False\n",
      "<keras.layers.convolutional.Conv2D object at 0x0000022F292CACF8> False\n",
      "<keras.layers.normalization.BatchNormalization object at 0x0000022F29319DD8> False\n",
      "<keras.layers.core.Activation object at 0x0000022F29396160> False\n",
      "<mn_model.DepthwiseConv2D object at 0x0000022F293EEC18> False\n",
      "<keras.layers.normalization.BatchNormalization object at 0x0000022F29452908> False\n",
      "<keras.layers.core.Activation object at 0x0000022F294394E0> False\n",
      "<keras.layers.convolutional.Conv2D object at 0x0000022F294D2630> False\n",
      "<keras.layers.normalization.BatchNormalization object at 0x0000022F295F5668> False\n",
      "<keras.layers.core.Activation object at 0x0000022F295CADD8> False\n",
      "<mn_model.DepthwiseConv2D object at 0x0000022F29636BA8> False\n",
      "<keras.layers.normalization.BatchNormalization object at 0x0000022F29655BE0> False\n",
      "<keras.layers.core.Activation object at 0x0000022F29670DA0> False\n",
      "<keras.layers.convolutional.Conv2D object at 0x0000022F297B1E80> False\n",
      "<keras.layers.normalization.BatchNormalization object at 0x0000022F297796D8> False\n",
      "<keras.layers.core.Activation object at 0x0000022F297D19E8> False\n",
      "<mn_model.DepthwiseConv2D object at 0x0000022F29845F98> False\n",
      "<keras.layers.normalization.BatchNormalization object at 0x0000022F29896400> False\n",
      "<keras.layers.core.Activation object at 0x0000022F298AF8D0> False\n",
      "<keras.layers.convolutional.Conv2D object at 0x0000022F2996ACC0> False\n",
      "<keras.layers.normalization.BatchNormalization object at 0x0000022F299B5898> False\n",
      "<keras.layers.core.Activation object at 0x0000022F299C9240> False\n",
      "<mn_model.DepthwiseConv2D object at 0x0000022F29A8CD68> False\n",
      "<keras.layers.normalization.BatchNormalization object at 0x0000022F29B6D390> False\n",
      "<keras.layers.core.Activation object at 0x0000022F29B42EB8> False\n",
      "<keras.layers.convolutional.Conv2D object at 0x0000022F29B81EF0> False\n",
      "<keras.layers.normalization.BatchNormalization object at 0x0000022F29BCDB70> False\n",
      "<keras.layers.core.Activation object at 0x0000022F29BE7E48> False\n",
      "<mn_model.DepthwiseConv2D object at 0x0000022F29CCA6D8> False\n",
      "<keras.layers.normalization.BatchNormalization object at 0x0000022F29CECA90> False\n",
      "<keras.layers.core.Activation object at 0x0000022F29D48FD0> False\n",
      "<keras.layers.convolutional.Conv2D object at 0x0000022F29DF1320> False\n",
      "<keras.layers.normalization.BatchNormalization object at 0x0000022F29E0C390> False\n",
      "<keras.layers.core.Activation object at 0x0000022F29E28588> False\n",
      "<mn_model.DepthwiseConv2D object at 0x0000022F29EE6CF8> False\n",
      "<keras.layers.normalization.BatchNormalization object at 0x0000022F29F2D5C0> False\n",
      "<keras.layers.core.Activation object at 0x0000022F29F445C0> False\n",
      "<keras.layers.convolutional.Conv2D object at 0x0000022F29FC0710> False\n",
      "<keras.layers.normalization.BatchNormalization object at 0x0000022F2A061FD0> False\n",
      "<keras.layers.core.Activation object at 0x0000022F2A046898> False\n",
      "<mn_model.DepthwiseConv2D object at 0x0000022F2A125C88> False\n",
      "<keras.layers.normalization.BatchNormalization object at 0x0000022F2A180BA8> False\n",
      "<keras.layers.core.Activation object at 0x0000022F2A162BE0> False\n",
      "<keras.layers.convolutional.Conv2D object at 0x0000022F2A21C828> False\n",
      "<keras.layers.normalization.BatchNormalization object at 0x0000022F2A265AC8> False\n",
      "<keras.layers.core.Activation object at 0x0000022F2A285DA0> False\n",
      "<mn_model.DepthwiseConv2D object at 0x0000022F2A36C438> False\n",
      "<keras.layers.normalization.BatchNormalization object at 0x0000022F2A383828> False\n",
      "<keras.layers.core.Activation object at 0x0000022F2A39E9B0> False\n",
      "<keras.layers.convolutional.Conv2D object at 0x0000022F2A455AC8> False\n",
      "<keras.layers.normalization.BatchNormalization object at 0x0000022F2A4A4630> False\n",
      "<keras.layers.core.Activation object at 0x0000022F2A4FDF60> False\n",
      "<keras.layers.convolutional.Conv2D object at 0x0000022F2A59BAC8> True\n",
      "<keras.layers.normalization.BatchNormalization object at 0x0000022F2A5BC7F0> True\n",
      "<keras.layers.core.Lambda object at 0x0000022F2A67BF28> True\n",
      "<mn_model.DepthwiseConv2D object at 0x0000022F2A6F5B00> True\n",
      "<keras.layers.normalization.BatchNormalization object at 0x0000022F2A7125C0> True\n",
      "<keras.layers.core.Activation object at 0x0000022F2A792C18> True\n",
      "<keras.layers.convolutional.Conv2D object at 0x0000022F2A854C50> True\n",
      "<keras.layers.normalization.BatchNormalization object at 0x0000022F2A81ECC0> True\n",
      "<keras.layers.core.Activation object at 0x0000022F2A831278> True\n",
      "<keras.layers.convolutional.Conv2D object at 0x0000022F2A8F6E80> True\n",
      "<keras.layers.normalization.BatchNormalization object at 0x0000022F2A9DA668> True\n",
      "<keras.layers.core.Lambda object at 0x0000022F2A9ECEB8> True\n",
      "<mn_model.DepthwiseConv2D object at 0x0000022F2AA39BE0> True\n",
      "<keras.layers.normalization.BatchNormalization object at 0x0000022F2AA524E0> True\n",
      "<keras.layers.core.Activation object at 0x0000022F2AAF2E48> True\n",
      "<keras.layers.convolutional.Conv2D object at 0x0000022F2AB3AC88> True\n",
      "<keras.layers.normalization.BatchNormalization object at 0x0000022F2BBBFB00> True\n",
      "<keras.layers.core.Activation object at 0x0000022F2AB90EB8> True\n",
      "<keras.layers.convolutional.Conv2D object at 0x0000022F2BC21E48> True\n",
      "<keras.layers.normalization.BatchNormalization object at 0x0000022F2BD04D68> True\n",
      "<keras.layers.core.Lambda object at 0x0000022F2BD1AC88> True\n",
      "<mn_model.DepthwiseConv2D object at 0x0000022F2BD9E3C8> True\n",
      "<keras.layers.normalization.BatchNormalization object at 0x0000022F2BDFCE48> True\n",
      "<keras.layers.core.Activation object at 0x0000022F2BE23BA8> True\n",
      "<keras.layers.convolutional.Conv2D object at 0x0000022F2BE68BE0> True\n",
      "<keras.layers.normalization.BatchNormalization object at 0x0000022F2BEC0F60> True\n",
      "<keras.layers.core.Activation object at 0x0000022F2BEA6BA8> True\n",
      "<keras.layers.convolutional.Conv2D object at 0x0000022F2BF88DA0> True\n",
      "<keras.layers.normalization.BatchNormalization object at 0x0000022F2BFE4DA0> True\n"
     ]
    },
    {
     "name": "stdout",
     "output_type": "stream",
     "text": [
      "<keras.layers.core.Lambda object at 0x0000022F2C078DA0> True\n",
      "<mn_model.DepthwiseConv2D object at 0x0000022F2C0C8EF0> True\n",
      "<keras.layers.normalization.BatchNormalization object at 0x0000022F2C100D30> True\n",
      "<keras.layers.core.Activation object at 0x0000022F2C0E9BA8> True\n",
      "<keras.layers.convolutional.Conv2D object at 0x0000022F2C1E5860> True\n",
      "<keras.layers.normalization.BatchNormalization object at 0x0000022F2C21F860> True\n",
      "<keras_layer_L2Normalization.L2Normalization object at 0x0000022F2C2E3DA0> True\n",
      "<keras.layers.core.Activation object at 0x0000022F2C2A0908> True\n",
      "<mn_model.DepthwiseConv2D object at 0x0000022F2C300DD8> True\n",
      "<mn_model.DepthwiseConv2D object at 0x0000022F2C54C470> True\n",
      "<mn_model.DepthwiseConv2D object at 0x0000022F2C754B00> True\n",
      "<mn_model.DepthwiseConv2D object at 0x0000022F2C8CB0F0> True\n",
      "<mn_model.DepthwiseConv2D object at 0x0000022F288DC080> True\n",
      "<mn_model.DepthwiseConv2D object at 0x0000022F2CDAA438> True\n",
      "<keras.layers.normalization.BatchNormalization object at 0x0000022F2C3C0710> True\n",
      "<keras.layers.normalization.BatchNormalization object at 0x0000022F2C566630> True\n",
      "<keras.layers.normalization.BatchNormalization object at 0x0000022F2C7A6F28> True\n",
      "<keras.layers.normalization.BatchNormalization object at 0x0000022F2CA00EF0> True\n",
      "<keras.layers.normalization.BatchNormalization object at 0x0000022F288D5160> True\n",
      "<keras.layers.normalization.BatchNormalization object at 0x0000022F2CDC2B00> True\n",
      "<mn_model.DepthwiseConv2D object at 0x0000022F2CFB6C18> True\n",
      "<mn_model.DepthwiseConv2D object at 0x0000022F2D1FCC18> True\n",
      "<mn_model.DepthwiseConv2D object at 0x0000022F2D43DBA8> True\n",
      "<mn_model.DepthwiseConv2D object at 0x0000022F2D652FD0> True\n",
      "<mn_model.DepthwiseConv2D object at 0x0000022F2D7C67F0> True\n",
      "<mn_model.DepthwiseConv2D object at 0x0000022F2DAE2A58> True\n",
      "<keras.layers.core.Activation object at 0x0000022F2C3D5BA8> True\n",
      "<keras.layers.core.Activation object at 0x0000022F2C5C4DD8> True\n",
      "<keras.layers.core.Activation object at 0x0000022F2C824160> True\n",
      "<keras.layers.core.Activation object at 0x0000022F2CA5EE10> True\n",
      "<keras.layers.core.Activation object at 0x0000022F287E0F60> True\n",
      "<keras.layers.core.Activation object at 0x0000022F2CDD99E8> True\n",
      "<keras.layers.normalization.BatchNormalization object at 0x0000022F2D001518> True\n",
      "<keras.layers.normalization.BatchNormalization object at 0x0000022F2D256D68> True\n",
      "<keras.layers.normalization.BatchNormalization object at 0x0000022F2D460D68> True\n",
      "<keras.layers.normalization.BatchNormalization object at 0x0000022F2D6A2EF0> True\n",
      "<keras.layers.normalization.BatchNormalization object at 0x0000022F2D8FB748> True\n",
      "<keras.layers.normalization.BatchNormalization object at 0x0000022F2DB03E80> True\n",
      "<keras.layers.convolutional.Conv2D object at 0x0000022F2C401AC8> True\n",
      "<keras.layers.convolutional.Conv2D object at 0x0000022F2C57D9E8> True\n",
      "<keras.layers.convolutional.Conv2D object at 0x0000022F2C904C88> True\n",
      "<keras.layers.convolutional.Conv2D object at 0x0000022F2CA49550> True\n",
      "<keras.layers.convolutional.Conv2D object at 0x0000022F21EB1828> True\n",
      "<keras.layers.convolutional.Conv2D object at 0x0000022F2CF1BDD8> True\n",
      "<keras.layers.core.Activation object at 0x0000022F2D074438> True\n",
      "<keras.layers.core.Activation object at 0x0000022F2D2D9588> True\n",
      "<keras.layers.core.Activation object at 0x0000022F2D4B94E0> True\n",
      "<keras.layers.core.Activation object at 0x0000022F2D71D0F0> True\n",
      "<keras.layers.core.Activation object at 0x0000022F2D91B5C0> True\n",
      "<keras.layers.core.Activation object at 0x0000022F2DB60B38> True\n",
      "<keras.layers.normalization.BatchNormalization object at 0x0000022F2C449B70> True\n",
      "<keras.layers.normalization.BatchNormalization object at 0x0000022F2C69E828> True\n",
      "<keras.layers.normalization.BatchNormalization object at 0x0000022F2C8DF7B8> True\n",
      "<keras.layers.normalization.BatchNormalization object at 0x0000022F288F53C8> True\n",
      "<keras.layers.normalization.BatchNormalization object at 0x0000022F21E84C88> True\n",
      "<keras.layers.normalization.BatchNormalization object at 0x0000022F2CEE11D0> True\n",
      "<keras.layers.convolutional.Conv2D object at 0x0000022F2D018E80> True\n",
      "<keras.layers.convolutional.Conv2D object at 0x0000022F2D237438> True\n",
      "<keras.layers.convolutional.Conv2D object at 0x0000022F2D478DD8> True\n",
      "<keras.layers.convolutional.Conv2D object at 0x0000022F2D800C50> True\n",
      "<keras.layers.convolutional.Conv2D object at 0x0000022F2D943518> True\n",
      "<keras.layers.convolutional.Conv2D object at 0x0000022F2DB23160> True\n",
      "<keras.layers.core.Activation object at 0x0000022F2C4A2E80> True\n",
      "<keras.layers.core.Activation object at 0x0000022F2C68BB38> True\n",
      "<keras.layers.core.Activation object at 0x0000022F2C93F320> True\n",
      "<keras.layers.core.Activation object at 0x0000022F270A8828> True\n",
      "<keras.layers.core.Activation object at 0x0000022F2CCD4FD0> True\n",
      "<keras.layers.core.Activation object at 0x0000022F2CF5B518> True\n",
      "<keras.layers.normalization.BatchNormalization object at 0x0000022F2D11CE80> True\n",
      "<keras.layers.normalization.BatchNormalization object at 0x0000022F2D33EB70> True\n",
      "<keras.layers.normalization.BatchNormalization object at 0x0000022F2D580B00> True\n",
      "<keras.layers.normalization.BatchNormalization object at 0x0000022F2D7DB780> True\n",
      "<keras.layers.normalization.BatchNormalization object at 0x0000022F2DA1E4E0> True\n",
      "<keras.layers.normalization.BatchNormalization object at 0x0000022F2DC28C18> True\n",
      "<keras.layers.core.Reshape object at 0x0000022F2DE1FA20> True\n",
      "<keras.layers.core.Reshape object at 0x0000022F2DDD0CF8> True\n",
      "<keras.layers.core.Reshape object at 0x0000022F2DDD0C50> True\n",
      "<keras.layers.core.Reshape object at 0x0000022F2DE451D0> True\n",
      "<keras.layers.core.Reshape object at 0x0000022F2DE45A90> True\n",
      "<keras.layers.core.Reshape object at 0x0000022F2DE69BE0> True\n",
      "<keras.layers.core.Activation object at 0x0000022F2D1905F8> True\n",
      "<keras.layers.core.Activation object at 0x0000022F2D360FD0> True\n",
      "<keras.layers.core.Activation object at 0x0000022F2D5DFEB8> True\n",
      "<keras.layers.core.Activation object at 0x0000022F2D83B438> True\n",
      "<keras.layers.core.Activation object at 0x0000022F2D9FE048> True\n",
      "<keras.layers.core.Activation object at 0x0000022F2DC404A8> True\n",
      "<keras_layer_AnchorBoxes.AnchorBoxes object at 0x0000022F2DD83DA0> True\n",
      "<keras_layer_AnchorBoxes.AnchorBoxes object at 0x0000022F2DD4AC18> True\n",
      "<keras_layer_AnchorBoxes.AnchorBoxes object at 0x0000022F2DCF4E48> True\n",
      "<keras_layer_AnchorBoxes.AnchorBoxes object at 0x0000022F2DCF47F0> True\n",
      "<keras_layer_AnchorBoxes.AnchorBoxes object at 0x0000022F2DCF43C8> True\n",
      "<keras_layer_AnchorBoxes.AnchorBoxes object at 0x0000022F2DCF4320> True\n",
      "<keras.layers.merge.Concatenate object at 0x0000022F2DFB85C0> True\n",
      "<keras.layers.core.Reshape object at 0x0000022F2DD5EBA8> True\n",
      "<keras.layers.core.Reshape object at 0x0000022F2DD5EB00> True\n",
      "<keras.layers.core.Reshape object at 0x0000022F2DEF77F0> True\n",
      "<keras.layers.core.Reshape object at 0x0000022F2DEB0198> True\n",
      "<keras.layers.core.Reshape object at 0x0000022F2DEB0C50> True\n",
      "<keras.layers.core.Reshape object at 0x0000022F2DED6EF0> True\n",
      "<keras.layers.core.Reshape object at 0x0000022F2DED6208> True\n",
      "<keras.layers.core.Reshape object at 0x0000022F2DF16080> True\n",
      "<keras.layers.core.Reshape object at 0x0000022F2DF16B70> True\n",
      "<keras.layers.core.Reshape object at 0x0000022F2DF76E80> True\n",
      "<keras.layers.core.Reshape object at 0x0000022F2DF36EB8> True\n",
      "<keras.layers.core.Reshape object at 0x0000022F2DF36358> True\n",
      "<keras.layers.core.Activation object at 0x0000022F2DF97320> True\n",
      "<keras.layers.merge.Concatenate object at 0x0000022F2DF585F8> True\n",
      "<keras.layers.merge.Concatenate object at 0x0000022F2DF586A0> True\n",
      "<keras.layers.merge.Concatenate object at 0x0000022F2DF97BE0> True\n"
     ]
    }
   ],
   "source": [
    "for layer in model.layers:\n",
    "    print(layer, layer.trainable)"
   ]
  },
  {
   "cell_type": "markdown",
   "metadata": {
    "colab_type": "text",
    "id": "n1IIGWM2c3x-"
   },
   "source": [
    "### After making the model ready for transfer learning, load the weights of the model given in file ''`mobilenet_1_0_224_tf.h5`''"
   ]
  },
  {
   "cell_type": "code",
   "execution_count": 137,
   "metadata": {},
   "outputs": [
    {
     "name": "stdout",
     "output_type": "stream",
     "text": [
      "__________________________________________________________________________________________________\n",
      "Layer (type)                    Output Shape         Param #     Connected to                     \n",
      "==================================================================================================\n",
      "input_1 (InputLayer)            (None, 512, 512, 3)  0                                            \n",
      "__________________________________________________________________________________________________\n",
      "lambda1 (Lambda)                (None, 512, 512, 3)  0           input_1[0][0]                    \n",
      "__________________________________________________________________________________________________\n",
      "lambda2 (Lambda)                (None, 512, 512, 3)  0           lambda1[0][0]                    \n",
      "__________________________________________________________________________________________________\n",
      "lambda3 (Lambda)                (None, 512, 512, 3)  0           lambda2[0][0]                    \n",
      "__________________________________________________________________________________________________\n",
      "conv1 (Conv2D)                  (None, 256, 256, 32) 864         lambda3[0][0]                    \n",
      "__________________________________________________________________________________________________\n",
      "conv1_bn (BatchNormalization)   (None, 256, 256, 32) 128         conv1[0][0]                      \n",
      "__________________________________________________________________________________________________\n",
      "conv1_relu (Activation)         (None, 256, 256, 32) 0           conv1_bn[0][0]                   \n",
      "__________________________________________________________________________________________________\n",
      "conv_dw_1 (DepthwiseConv2D)     (None, 256, 256, 32) 288         conv1_relu[0][0]                 \n",
      "__________________________________________________________________________________________________\n",
      "conv_dw_1_bn (BatchNormalizatio (None, 256, 256, 32) 128         conv_dw_1[0][0]                  \n",
      "__________________________________________________________________________________________________\n",
      "conv_dw_1_relu (Activation)     (None, 256, 256, 32) 0           conv_dw_1_bn[0][0]               \n",
      "__________________________________________________________________________________________________\n",
      "conv_pw_1 (Conv2D)              (None, 256, 256, 64) 2048        conv_dw_1_relu[0][0]             \n",
      "__________________________________________________________________________________________________\n",
      "conv_pw_1_bn (BatchNormalizatio (None, 256, 256, 64) 256         conv_pw_1[0][0]                  \n",
      "__________________________________________________________________________________________________\n",
      "conv_pw_1_relu (Activation)     (None, 256, 256, 64) 0           conv_pw_1_bn[0][0]               \n",
      "__________________________________________________________________________________________________\n",
      "conv_dw_2 (DepthwiseConv2D)     (None, 128, 128, 64) 576         conv_pw_1_relu[0][0]             \n",
      "__________________________________________________________________________________________________\n",
      "conv_dw_2_bn (BatchNormalizatio (None, 128, 128, 64) 256         conv_dw_2[0][0]                  \n",
      "__________________________________________________________________________________________________\n",
      "conv_dw_2_relu (Activation)     (None, 128, 128, 64) 0           conv_dw_2_bn[0][0]               \n",
      "__________________________________________________________________________________________________\n",
      "conv_pw_2 (Conv2D)              (None, 128, 128, 128 8192        conv_dw_2_relu[0][0]             \n",
      "__________________________________________________________________________________________________\n",
      "conv_pw_2_bn (BatchNormalizatio (None, 128, 128, 128 512         conv_pw_2[0][0]                  \n",
      "__________________________________________________________________________________________________\n",
      "conv_pw_2_relu (Activation)     (None, 128, 128, 128 0           conv_pw_2_bn[0][0]               \n",
      "__________________________________________________________________________________________________\n",
      "conv_dw_3 (DepthwiseConv2D)     (None, 128, 128, 128 1152        conv_pw_2_relu[0][0]             \n",
      "__________________________________________________________________________________________________\n",
      "conv_dw_3_bn (BatchNormalizatio (None, 128, 128, 128 512         conv_dw_3[0][0]                  \n",
      "__________________________________________________________________________________________________\n",
      "conv_dw_3_relu (Activation)     (None, 128, 128, 128 0           conv_dw_3_bn[0][0]               \n",
      "__________________________________________________________________________________________________\n",
      "conv_pw_3 (Conv2D)              (None, 128, 128, 128 16384       conv_dw_3_relu[0][0]             \n",
      "__________________________________________________________________________________________________\n",
      "conv_pw_3_bn (BatchNormalizatio (None, 128, 128, 128 512         conv_pw_3[0][0]                  \n",
      "__________________________________________________________________________________________________\n",
      "conv_pw_3_relu (Activation)     (None, 128, 128, 128 0           conv_pw_3_bn[0][0]               \n",
      "__________________________________________________________________________________________________\n",
      "conv_dw_4 (DepthwiseConv2D)     (None, 64, 64, 128)  1152        conv_pw_3_relu[0][0]             \n",
      "__________________________________________________________________________________________________\n",
      "conv_dw_4_bn (BatchNormalizatio (None, 64, 64, 128)  512         conv_dw_4[0][0]                  \n",
      "__________________________________________________________________________________________________\n",
      "conv_dw_4_relu (Activation)     (None, 64, 64, 128)  0           conv_dw_4_bn[0][0]               \n",
      "__________________________________________________________________________________________________\n",
      "conv_pw_4 (Conv2D)              (None, 64, 64, 256)  32768       conv_dw_4_relu[0][0]             \n",
      "__________________________________________________________________________________________________\n",
      "conv_pw_4_bn (BatchNormalizatio (None, 64, 64, 256)  1024        conv_pw_4[0][0]                  \n",
      "__________________________________________________________________________________________________\n",
      "conv_pw_4_relu (Activation)     (None, 64, 64, 256)  0           conv_pw_4_bn[0][0]               \n",
      "__________________________________________________________________________________________________\n",
      "conv_dw_5 (DepthwiseConv2D)     (None, 64, 64, 256)  2304        conv_pw_4_relu[0][0]             \n",
      "__________________________________________________________________________________________________\n",
      "conv_dw_5_bn (BatchNormalizatio (None, 64, 64, 256)  1024        conv_dw_5[0][0]                  \n",
      "__________________________________________________________________________________________________\n",
      "conv_dw_5_relu (Activation)     (None, 64, 64, 256)  0           conv_dw_5_bn[0][0]               \n",
      "__________________________________________________________________________________________________\n",
      "conv_pw_5 (Conv2D)              (None, 64, 64, 256)  65536       conv_dw_5_relu[0][0]             \n",
      "__________________________________________________________________________________________________\n",
      "conv_pw_5_bn (BatchNormalizatio (None, 64, 64, 256)  1024        conv_pw_5[0][0]                  \n",
      "__________________________________________________________________________________________________\n",
      "conv_pw_5_relu (Activation)     (None, 64, 64, 256)  0           conv_pw_5_bn[0][0]               \n",
      "__________________________________________________________________________________________________\n",
      "conv_dw_6 (DepthwiseConv2D)     (None, 32, 32, 256)  2304        conv_pw_5_relu[0][0]             \n",
      "__________________________________________________________________________________________________\n",
      "conv_dw_6_bn (BatchNormalizatio (None, 32, 32, 256)  1024        conv_dw_6[0][0]                  \n",
      "__________________________________________________________________________________________________\n",
      "conv_dw_6_relu (Activation)     (None, 32, 32, 256)  0           conv_dw_6_bn[0][0]               \n"
     ]
    },
    {
     "name": "stdout",
     "output_type": "stream",
     "text": [
      "__________________________________________________________________________________________________\n",
      "conv_pw_6 (Conv2D)              (None, 32, 32, 512)  131072      conv_dw_6_relu[0][0]             \n",
      "__________________________________________________________________________________________________\n",
      "conv_pw_6_bn (BatchNormalizatio (None, 32, 32, 512)  2048        conv_pw_6[0][0]                  \n",
      "__________________________________________________________________________________________________\n",
      "conv_pw_6_relu (Activation)     (None, 32, 32, 512)  0           conv_pw_6_bn[0][0]               \n",
      "__________________________________________________________________________________________________\n",
      "conv_dw_7 (DepthwiseConv2D)     (None, 32, 32, 512)  4608        conv_pw_6_relu[0][0]             \n",
      "__________________________________________________________________________________________________\n",
      "conv_dw_7_bn (BatchNormalizatio (None, 32, 32, 512)  2048        conv_dw_7[0][0]                  \n",
      "__________________________________________________________________________________________________\n",
      "conv_dw_7_relu (Activation)     (None, 32, 32, 512)  0           conv_dw_7_bn[0][0]               \n",
      "__________________________________________________________________________________________________\n",
      "conv_pw_7 (Conv2D)              (None, 32, 32, 512)  262144      conv_dw_7_relu[0][0]             \n",
      "__________________________________________________________________________________________________\n",
      "conv_pw_7_bn (BatchNormalizatio (None, 32, 32, 512)  2048        conv_pw_7[0][0]                  \n",
      "__________________________________________________________________________________________________\n",
      "conv_pw_7_relu (Activation)     (None, 32, 32, 512)  0           conv_pw_7_bn[0][0]               \n",
      "__________________________________________________________________________________________________\n",
      "conv_dw_8 (DepthwiseConv2D)     (None, 32, 32, 512)  4608        conv_pw_7_relu[0][0]             \n",
      "__________________________________________________________________________________________________\n",
      "conv_dw_8_bn (BatchNormalizatio (None, 32, 32, 512)  2048        conv_dw_8[0][0]                  \n",
      "__________________________________________________________________________________________________\n",
      "conv_dw_8_relu (Activation)     (None, 32, 32, 512)  0           conv_dw_8_bn[0][0]               \n",
      "__________________________________________________________________________________________________\n",
      "conv_pw_8 (Conv2D)              (None, 32, 32, 512)  262144      conv_dw_8_relu[0][0]             \n",
      "__________________________________________________________________________________________________\n",
      "conv_pw_8_bn (BatchNormalizatio (None, 32, 32, 512)  2048        conv_pw_8[0][0]                  \n",
      "__________________________________________________________________________________________________\n",
      "conv_pw_8_relu (Activation)     (None, 32, 32, 512)  0           conv_pw_8_bn[0][0]               \n",
      "__________________________________________________________________________________________________\n",
      "conv_dw_9 (DepthwiseConv2D)     (None, 32, 32, 512)  4608        conv_pw_8_relu[0][0]             \n",
      "__________________________________________________________________________________________________\n",
      "conv_dw_9_bn (BatchNormalizatio (None, 32, 32, 512)  2048        conv_dw_9[0][0]                  \n",
      "__________________________________________________________________________________________________\n",
      "conv_dw_9_relu (Activation)     (None, 32, 32, 512)  0           conv_dw_9_bn[0][0]               \n",
      "__________________________________________________________________________________________________\n",
      "conv_pw_9 (Conv2D)              (None, 32, 32, 512)  262144      conv_dw_9_relu[0][0]             \n",
      "__________________________________________________________________________________________________\n",
      "conv_pw_9_bn (BatchNormalizatio (None, 32, 32, 512)  2048        conv_pw_9[0][0]                  \n",
      "__________________________________________________________________________________________________\n",
      "conv_pw_9_relu (Activation)     (None, 32, 32, 512)  0           conv_pw_9_bn[0][0]               \n",
      "__________________________________________________________________________________________________\n",
      "conv_dw_10 (DepthwiseConv2D)    (None, 32, 32, 512)  4608        conv_pw_9_relu[0][0]             \n",
      "__________________________________________________________________________________________________\n",
      "conv_dw_10_bn (BatchNormalizati (None, 32, 32, 512)  2048        conv_dw_10[0][0]                 \n",
      "__________________________________________________________________________________________________\n",
      "conv_dw_10_relu (Activation)    (None, 32, 32, 512)  0           conv_dw_10_bn[0][0]              \n",
      "__________________________________________________________________________________________________\n",
      "conv_pw_10 (Conv2D)             (None, 32, 32, 512)  262144      conv_dw_10_relu[0][0]            \n",
      "__________________________________________________________________________________________________\n",
      "conv_pw_10_bn (BatchNormalizati (None, 32, 32, 512)  2048        conv_pw_10[0][0]                 \n",
      "__________________________________________________________________________________________________\n",
      "conv_pw_10_relu (Activation)    (None, 32, 32, 512)  0           conv_pw_10_bn[0][0]              \n",
      "__________________________________________________________________________________________________\n",
      "conv_dw_11 (DepthwiseConv2D)    (None, 32, 32, 512)  4608        conv_pw_10_relu[0][0]            \n",
      "__________________________________________________________________________________________________\n",
      "conv_dw_11_bn (BatchNormalizati (None, 32, 32, 512)  2048        conv_dw_11[0][0]                 \n",
      "__________________________________________________________________________________________________\n",
      "conv_dw_11_relu (Activation)    (None, 32, 32, 512)  0           conv_dw_11_bn[0][0]              \n",
      "__________________________________________________________________________________________________\n",
      "conv_pw_11 (Conv2D)             (None, 32, 32, 512)  262144      conv_dw_11_relu[0][0]            \n",
      "__________________________________________________________________________________________________\n",
      "conv_pw_11_bn (BatchNormalizati (None, 32, 32, 512)  2048        conv_pw_11[0][0]                 \n",
      "__________________________________________________________________________________________________\n",
      "conv_pw_11_relu (Activation)    (None, 32, 32, 512)  0           conv_pw_11_bn[0][0]              \n",
      "__________________________________________________________________________________________________\n",
      "conv_dw_12 (DepthwiseConv2D)    (None, 16, 16, 512)  4608        conv_pw_11_relu[0][0]            \n",
      "__________________________________________________________________________________________________\n",
      "conv_dw_12_bn (BatchNormalizati (None, 16, 16, 512)  2048        conv_dw_12[0][0]                 \n",
      "__________________________________________________________________________________________________\n",
      "conv_dw_12_relu (Activation)    (None, 16, 16, 512)  0           conv_dw_12_bn[0][0]              \n",
      "__________________________________________________________________________________________________\n",
      "conv_pw_12 (Conv2D)             (None, 16, 16, 1024) 524288      conv_dw_12_relu[0][0]            \n",
      "__________________________________________________________________________________________________\n",
      "conv_pw_12_bn (BatchNormalizati (None, 16, 16, 1024) 4096        conv_pw_12[0][0]                 \n",
      "__________________________________________________________________________________________________\n",
      "conv_pw_12_relu (Activation)    (None, 16, 16, 1024) 0           conv_pw_12_bn[0][0]              \n",
      "__________________________________________________________________________________________________\n",
      "conv_dw_13 (DepthwiseConv2D)    (None, 16, 16, 1024) 9216        conv_pw_12_relu[0][0]            \n",
      "__________________________________________________________________________________________________\n",
      "conv_dw_13_bn (BatchNormalizati (None, 16, 16, 1024) 4096        conv_dw_13[0][0]                 \n"
     ]
    },
    {
     "name": "stdout",
     "output_type": "stream",
     "text": [
      "__________________________________________________________________________________________________\n",
      "conv_dw_13_relu (Activation)    (None, 16, 16, 1024) 0           conv_dw_13_bn[0][0]              \n",
      "__________________________________________________________________________________________________\n",
      "conv_pw_13 (Conv2D)             (None, 16, 16, 1024) 1048576     conv_dw_13_relu[0][0]            \n",
      "__________________________________________________________________________________________________\n",
      "conv_pw_13_bn (BatchNormalizati (None, 16, 16, 1024) 4096        conv_pw_13[0][0]                 \n",
      "__________________________________________________________________________________________________\n",
      "conv_pw_13_relu (Activation)    (None, 16, 16, 1024) 0           conv_pw_13_bn[0][0]              \n",
      "__________________________________________________________________________________________________\n",
      "detection_conv6_1 (Conv2D)      (None, 16, 16, 256)  262400      conv_pw_13_relu[0][0]            \n",
      "__________________________________________________________________________________________________\n",
      "detection_conv6_1_bn (BatchNorm (None, 16, 16, 256)  1024        detection_conv6_1[0][0]          \n",
      "__________________________________________________________________________________________________\n",
      "detection_conv6_1_nonlin (Lambd (None, 16, 16, 256)  0           detection_conv6_1_bn[0][0]       \n",
      "__________________________________________________________________________________________________\n",
      "detection_conv6_2_conv_dw_1 (De (None, 8, 8, 256)    2304        detection_conv6_1_nonlin[0][0]   \n",
      "__________________________________________________________________________________________________\n",
      "detection_conv6_2_conv_dw_1_bn  (None, 8, 8, 256)    1024        detection_conv6_2_conv_dw_1[0][0]\n",
      "__________________________________________________________________________________________________\n",
      "detection_conv6_2_conv_dw_1_rel (None, 8, 8, 256)    0           detection_conv6_2_conv_dw_1_bn[0]\n",
      "__________________________________________________________________________________________________\n",
      "detection_conv6_2_conv_pw_1 (Co (None, 8, 8, 512)    131072      detection_conv6_2_conv_dw_1_relu[\n",
      "__________________________________________________________________________________________________\n",
      "detection_conv6_2_conv_pw_1_bn  (None, 8, 8, 512)    2048        detection_conv6_2_conv_pw_1[0][0]\n",
      "__________________________________________________________________________________________________\n",
      "detection_conv6_2_conv_pw_1_rel (None, 8, 8, 512)    0           detection_conv6_2_conv_pw_1_bn[0]\n",
      "__________________________________________________________________________________________________\n",
      "detection_conv7_1 (Conv2D)      (None, 8, 8, 128)    65664       detection_conv6_2_conv_pw_1_relu[\n",
      "__________________________________________________________________________________________________\n",
      "detection_conv7_1_bn (BatchNorm (None, 8, 8, 128)    512         detection_conv7_1[0][0]          \n",
      "__________________________________________________________________________________________________\n",
      "detection_conv7_1_nonlin (Lambd (None, 8, 8, 128)    0           detection_conv7_1_bn[0][0]       \n",
      "__________________________________________________________________________________________________\n",
      "detection_conv7_2_conv_dw_2 (De (None, 4, 4, 128)    1152        detection_conv7_1_nonlin[0][0]   \n",
      "__________________________________________________________________________________________________\n",
      "detection_conv7_2_conv_dw_2_bn  (None, 4, 4, 128)    512         detection_conv7_2_conv_dw_2[0][0]\n",
      "__________________________________________________________________________________________________\n",
      "detection_conv7_2_conv_dw_2_rel (None, 4, 4, 128)    0           detection_conv7_2_conv_dw_2_bn[0]\n",
      "__________________________________________________________________________________________________\n",
      "detection_conv7_2_conv_pw_2 (Co (None, 4, 4, 256)    32768       detection_conv7_2_conv_dw_2_relu[\n",
      "__________________________________________________________________________________________________\n",
      "detection_conv7_2_conv_pw_2_bn  (None, 4, 4, 256)    1024        detection_conv7_2_conv_pw_2[0][0]\n",
      "__________________________________________________________________________________________________\n",
      "detection_conv7_2_conv_pw_2_rel (None, 4, 4, 256)    0           detection_conv7_2_conv_pw_2_bn[0]\n",
      "__________________________________________________________________________________________________\n",
      "detection_conv8_1 (Conv2D)      (None, 4, 4, 128)    32896       detection_conv7_2_conv_pw_2_relu[\n",
      "__________________________________________________________________________________________________\n",
      "detection_conv8_1_bn (BatchNorm (None, 4, 4, 128)    512         detection_conv8_1[0][0]          \n",
      "__________________________________________________________________________________________________\n",
      "detection_conv8_1_nonlin (Lambd (None, 4, 4, 128)    0           detection_conv8_1_bn[0][0]       \n",
      "__________________________________________________________________________________________________\n",
      "detection_conv8_2_conv_dw_3 (De (None, 2, 2, 128)    1152        detection_conv8_1_nonlin[0][0]   \n",
      "__________________________________________________________________________________________________\n",
      "detection_conv8_2_conv_dw_3_bn  (None, 2, 2, 128)    512         detection_conv8_2_conv_dw_3[0][0]\n",
      "__________________________________________________________________________________________________\n",
      "detection_conv8_2_conv_dw_3_rel (None, 2, 2, 128)    0           detection_conv8_2_conv_dw_3_bn[0]\n",
      "__________________________________________________________________________________________________\n",
      "detection_conv8_2_conv_pw_3 (Co (None, 2, 2, 256)    32768       detection_conv8_2_conv_dw_3_relu[\n",
      "__________________________________________________________________________________________________\n",
      "detection_conv8_2_conv_pw_3_bn  (None, 2, 2, 256)    1024        detection_conv8_2_conv_pw_3[0][0]\n",
      "__________________________________________________________________________________________________\n",
      "detection_conv8_2_conv_pw_3_rel (None, 2, 2, 256)    0           detection_conv8_2_conv_pw_3_bn[0]\n",
      "__________________________________________________________________________________________________\n",
      "detection_conv9_1 (Conv2D)      (None, 2, 2, 64)     16448       detection_conv8_2_conv_pw_3_relu[\n",
      "__________________________________________________________________________________________________\n",
      "detection_conv9_1_bn (BatchNorm (None, 2, 2, 64)     256         detection_conv9_1[0][0]          \n",
      "__________________________________________________________________________________________________\n",
      "detection_conv9_1_nonlin (Lambd (None, 2, 2, 64)     0           detection_conv9_1_bn[0][0]       \n",
      "__________________________________________________________________________________________________\n",
      "detection_conv9_2_conv_dw_4 (De (None, 1, 1, 64)     576         detection_conv9_1_nonlin[0][0]   \n",
      "__________________________________________________________________________________________________\n",
      "detection_conv9_2_conv_dw_4_bn  (None, 1, 1, 64)     256         detection_conv9_2_conv_dw_4[0][0]\n",
      "__________________________________________________________________________________________________\n",
      "detection_conv9_2_conv_dw_4_rel (None, 1, 1, 64)     0           detection_conv9_2_conv_dw_4_bn[0]\n",
      "__________________________________________________________________________________________________\n",
      "detection_conv9_2_conv_pw_4 (Co (None, 1, 1, 256)    16384       detection_conv9_2_conv_dw_4_relu[\n",
      "__________________________________________________________________________________________________\n",
      "detection_conv9_2_conv_pw_4_bn  (None, 1, 1, 256)    1024        detection_conv9_2_conv_pw_4[0][0]\n",
      "__________________________________________________________________________________________________\n",
      "detection_conv4_3_norm (L2Norma (None, 32, 32, 512)  512         conv_pw_11_relu[0][0]            \n",
      "__________________________________________________________________________________________________\n",
      "detection_conv9_2_conv_pw_4_rel (None, 1, 1, 256)    0           detection_conv9_2_conv_pw_4_bn[0]\n"
     ]
    },
    {
     "name": "stdout",
     "output_type": "stream",
     "text": [
      "__________________________________________________________________________________________________\n",
      "detection_conv4_3_norm_mbox_con (None, 32, 32, 512)  4608        detection_conv4_3_norm[0][0]     \n",
      "__________________________________________________________________________________________________\n",
      "detection_fc7_mbox_conf_conv_dw (None, 16, 16, 1024) 9216        conv_pw_13_relu[0][0]            \n",
      "__________________________________________________________________________________________________\n",
      "detection_conv6_2_mbox_conf_con (None, 8, 8, 512)    4608        detection_conv6_2_conv_pw_1_relu[\n",
      "__________________________________________________________________________________________________\n",
      "detection_conv7_2_mbox_conf_con (None, 4, 4, 256)    2304        detection_conv7_2_conv_pw_2_relu[\n",
      "__________________________________________________________________________________________________\n",
      "detection_conv8_2_mbox_conf_con (None, 2, 2, 256)    2304        detection_conv8_2_conv_pw_3_relu[\n",
      "__________________________________________________________________________________________________\n",
      "detection_conv9_2_mbox_conf_con (None, 1, 1, 256)    2304        detection_conv9_2_conv_pw_4_relu[\n",
      "__________________________________________________________________________________________________\n",
      "detection_conv4_3_norm_mbox_con (None, 32, 32, 512)  2048        detection_conv4_3_norm_mbox_conf_\n",
      "__________________________________________________________________________________________________\n",
      "detection_fc7_mbox_conf_conv_dw (None, 16, 16, 1024) 4096        detection_fc7_mbox_conf_conv_dw_2\n",
      "__________________________________________________________________________________________________\n",
      "detection_conv6_2_mbox_conf_con (None, 8, 8, 512)    2048        detection_conv6_2_mbox_conf_conv_\n",
      "__________________________________________________________________________________________________\n",
      "detection_conv7_2_mbox_conf_con (None, 4, 4, 256)    1024        detection_conv7_2_mbox_conf_conv_\n",
      "__________________________________________________________________________________________________\n",
      "detection_conv8_2_mbox_conf_con (None, 2, 2, 256)    1024        detection_conv8_2_mbox_conf_conv_\n",
      "__________________________________________________________________________________________________\n",
      "detection_conv9_2_mbox_conf_con (None, 1, 1, 256)    1024        detection_conv9_2_mbox_conf_conv_\n",
      "__________________________________________________________________________________________________\n",
      "detection_conv4_3_norm_mbox_loc (None, 32, 32, 512)  4608        detection_conv4_3_norm[0][0]     \n",
      "__________________________________________________________________________________________________\n",
      "detection_fc7_mbox_loc_conv_dw_ (None, 16, 16, 1024) 9216        conv_pw_13_relu[0][0]            \n",
      "__________________________________________________________________________________________________\n",
      "detection_conv6_2_mbox_loc_conv (None, 8, 8, 512)    4608        detection_conv6_2_conv_pw_1_relu[\n",
      "__________________________________________________________________________________________________\n",
      "detection_conv7_2_mbox_loc_conv (None, 4, 4, 256)    2304        detection_conv7_2_conv_pw_2_relu[\n",
      "__________________________________________________________________________________________________\n",
      "detection_conv8_2_mbox_loc_conv (None, 2, 2, 256)    2304        detection_conv8_2_conv_pw_3_relu[\n",
      "__________________________________________________________________________________________________\n",
      "detection_conv9_2_mbox_loc_conv (None, 1, 1, 256)    2304        detection_conv9_2_conv_pw_4_relu[\n",
      "__________________________________________________________________________________________________\n",
      "detection_conv4_3_norm_mbox_con (None, 32, 32, 512)  0           detection_conv4_3_norm_mbox_conf_\n",
      "__________________________________________________________________________________________________\n",
      "detection_fc7_mbox_conf_conv_dw (None, 16, 16, 1024) 0           detection_fc7_mbox_conf_conv_dw_2\n",
      "__________________________________________________________________________________________________\n",
      "detection_conv6_2_mbox_conf_con (None, 8, 8, 512)    0           detection_conv6_2_mbox_conf_conv_\n",
      "__________________________________________________________________________________________________\n",
      "detection_conv7_2_mbox_conf_con (None, 4, 4, 256)    0           detection_conv7_2_mbox_conf_conv_\n",
      "__________________________________________________________________________________________________\n",
      "detection_conv8_2_mbox_conf_con (None, 2, 2, 256)    0           detection_conv8_2_mbox_conf_conv_\n",
      "__________________________________________________________________________________________________\n",
      "detection_conv9_2_mbox_conf_con (None, 1, 1, 256)    0           detection_conv9_2_mbox_conf_conv_\n",
      "__________________________________________________________________________________________________\n",
      "detection_conv4_3_norm_mbox_loc (None, 32, 32, 512)  2048        detection_conv4_3_norm_mbox_loc_c\n",
      "__________________________________________________________________________________________________\n",
      "detection_fc7_mbox_loc_conv_dw_ (None, 16, 16, 1024) 4096        detection_fc7_mbox_loc_conv_dw_2[\n",
      "__________________________________________________________________________________________________\n",
      "detection_conv6_2_mbox_loc_conv (None, 8, 8, 512)    2048        detection_conv6_2_mbox_loc_conv_d\n",
      "__________________________________________________________________________________________________\n",
      "detection_conv7_2_mbox_loc_conv (None, 4, 4, 256)    1024        detection_conv7_2_mbox_loc_conv_d\n",
      "__________________________________________________________________________________________________\n",
      "detection_conv8_2_mbox_loc_conv (None, 2, 2, 256)    1024        detection_conv8_2_mbox_loc_conv_d\n",
      "__________________________________________________________________________________________________\n",
      "detection_conv9_2_mbox_loc_conv (None, 1, 1, 256)    1024        detection_conv9_2_mbox_loc_conv_d\n",
      "__________________________________________________________________________________________________\n",
      "detection_conv4_3_norm_mbox_con (None, 32, 32, 8)    4096        detection_conv4_3_norm_mbox_conf_\n",
      "__________________________________________________________________________________________________\n",
      "detection_fc7_mbox_conf_conv_pw (None, 16, 16, 12)   12288       detection_fc7_mbox_conf_conv_dw_2\n",
      "__________________________________________________________________________________________________\n",
      "detection_conv6_2_mbox_conf_con (None, 8, 8, 12)     6144        detection_conv6_2_mbox_conf_conv_\n",
      "__________________________________________________________________________________________________\n",
      "detection_conv7_2_mbox_conf_con (None, 4, 4, 12)     3072        detection_conv7_2_mbox_conf_conv_\n",
      "__________________________________________________________________________________________________\n",
      "detection_conv8_2_mbox_conf_con (None, 2, 2, 8)      2048        detection_conv8_2_mbox_conf_conv_\n",
      "__________________________________________________________________________________________________\n",
      "detection_conv9_2_mbox_conf_con (None, 1, 1, 8)      2048        detection_conv9_2_mbox_conf_conv_\n",
      "__________________________________________________________________________________________________\n",
      "detection_conv4_3_norm_mbox_loc (None, 32, 32, 512)  0           detection_conv4_3_norm_mbox_loc_c\n",
      "__________________________________________________________________________________________________\n",
      "detection_fc7_mbox_loc_conv_dw_ (None, 16, 16, 1024) 0           detection_fc7_mbox_loc_conv_dw_2_\n",
      "__________________________________________________________________________________________________\n",
      "detection_conv6_2_mbox_loc_conv (None, 8, 8, 512)    0           detection_conv6_2_mbox_loc_conv_d\n",
      "__________________________________________________________________________________________________\n",
      "detection_conv7_2_mbox_loc_conv (None, 4, 4, 256)    0           detection_conv7_2_mbox_loc_conv_d\n",
      "__________________________________________________________________________________________________\n",
      "detection_conv8_2_mbox_loc_conv (None, 2, 2, 256)    0           detection_conv8_2_mbox_loc_conv_d\n"
     ]
    },
    {
     "name": "stdout",
     "output_type": "stream",
     "text": [
      "__________________________________________________________________________________________________\n",
      "detection_conv9_2_mbox_loc_conv (None, 1, 1, 256)    0           detection_conv9_2_mbox_loc_conv_d\n",
      "__________________________________________________________________________________________________\n",
      "detection_conv4_3_norm_mbox_con (None, 32, 32, 8)    32          detection_conv4_3_norm_mbox_conf_\n",
      "__________________________________________________________________________________________________\n",
      "detection_fc7_mbox_conf_conv_pw (None, 16, 16, 12)   48          detection_fc7_mbox_conf_conv_pw_2\n",
      "__________________________________________________________________________________________________\n",
      "detection_conv6_2_mbox_conf_con (None, 8, 8, 12)     48          detection_conv6_2_mbox_conf_conv_\n",
      "__________________________________________________________________________________________________\n",
      "detection_conv7_2_mbox_conf_con (None, 4, 4, 12)     48          detection_conv7_2_mbox_conf_conv_\n",
      "__________________________________________________________________________________________________\n",
      "detection_conv8_2_mbox_conf_con (None, 2, 2, 8)      32          detection_conv8_2_mbox_conf_conv_\n",
      "__________________________________________________________________________________________________\n",
      "detection_conv9_2_mbox_conf_con (None, 1, 1, 8)      32          detection_conv9_2_mbox_conf_conv_\n",
      "__________________________________________________________________________________________________\n",
      "detection_conv4_3_norm_mbox_loc (None, 32, 32, 16)   8192        detection_conv4_3_norm_mbox_loc_c\n",
      "__________________________________________________________________________________________________\n",
      "detection_fc7_mbox_loc_conv_pw_ (None, 16, 16, 24)   24576       detection_fc7_mbox_loc_conv_dw_2_\n",
      "__________________________________________________________________________________________________\n",
      "detection_conv6_2_mbox_loc_conv (None, 8, 8, 24)     12288       detection_conv6_2_mbox_loc_conv_d\n",
      "__________________________________________________________________________________________________\n",
      "detection_conv7_2_mbox_loc_conv (None, 4, 4, 24)     6144        detection_conv7_2_mbox_loc_conv_d\n",
      "__________________________________________________________________________________________________\n",
      "detection_conv8_2_mbox_loc_conv (None, 2, 2, 16)     4096        detection_conv8_2_mbox_loc_conv_d\n",
      "__________________________________________________________________________________________________\n",
      "detection_conv9_2_mbox_loc_conv (None, 1, 1, 16)     4096        detection_conv9_2_mbox_loc_conv_d\n",
      "__________________________________________________________________________________________________\n",
      "detection_conv4_3_norm_mbox_con (None, 32, 32, 8)    0           detection_conv4_3_norm_mbox_conf_\n",
      "__________________________________________________________________________________________________\n",
      "detection_fc7_mbox_conf_conv_pw (None, 16, 16, 12)   0           detection_fc7_mbox_conf_conv_pw_2\n",
      "__________________________________________________________________________________________________\n",
      "detection_conv6_2_mbox_conf_con (None, 8, 8, 12)     0           detection_conv6_2_mbox_conf_conv_\n",
      "__________________________________________________________________________________________________\n",
      "detection_conv7_2_mbox_conf_con (None, 4, 4, 12)     0           detection_conv7_2_mbox_conf_conv_\n",
      "__________________________________________________________________________________________________\n",
      "detection_conv8_2_mbox_conf_con (None, 2, 2, 8)      0           detection_conv8_2_mbox_conf_conv_\n",
      "__________________________________________________________________________________________________\n",
      "detection_conv9_2_mbox_conf_con (None, 1, 1, 8)      0           detection_conv9_2_mbox_conf_conv_\n",
      "__________________________________________________________________________________________________\n",
      "detection_conv4_3_norm_mbox_loc (None, 32, 32, 16)   64          detection_conv4_3_norm_mbox_loc_c\n",
      "__________________________________________________________________________________________________\n",
      "detection_fc7_mbox_loc_conv_pw_ (None, 16, 16, 24)   96          detection_fc7_mbox_loc_conv_pw_2[\n",
      "__________________________________________________________________________________________________\n",
      "detection_conv6_2_mbox_loc_conv (None, 8, 8, 24)     96          detection_conv6_2_mbox_loc_conv_p\n",
      "__________________________________________________________________________________________________\n",
      "detection_conv7_2_mbox_loc_conv (None, 4, 4, 24)     96          detection_conv7_2_mbox_loc_conv_p\n",
      "__________________________________________________________________________________________________\n",
      "detection_conv8_2_mbox_loc_conv (None, 2, 2, 16)     64          detection_conv8_2_mbox_loc_conv_p\n",
      "__________________________________________________________________________________________________\n",
      "detection_conv9_2_mbox_loc_conv (None, 1, 1, 16)     64          detection_conv9_2_mbox_loc_conv_p\n",
      "__________________________________________________________________________________________________\n",
      "detection_conv4_3_norm_mbox_con (None, 4096, 2)      0           detection_conv4_3_norm_mbox_conf_\n",
      "__________________________________________________________________________________________________\n",
      "detection_fc7_mbox_conf_reshape (None, 1536, 2)      0           detection_fc7_mbox_conf_conv_pw_2\n",
      "__________________________________________________________________________________________________\n",
      "detection_conv6_2_mbox_conf_res (None, 384, 2)       0           detection_conv6_2_mbox_conf_conv_\n",
      "__________________________________________________________________________________________________\n",
      "detection_conv7_2_mbox_conf_res (None, 96, 2)        0           detection_conv7_2_mbox_conf_conv_\n",
      "__________________________________________________________________________________________________\n",
      "detection_conv8_2_mbox_conf_res (None, 16, 2)        0           detection_conv8_2_mbox_conf_conv_\n",
      "__________________________________________________________________________________________________\n",
      "detection_conv9_2_mbox_conf_res (None, 4, 2)         0           detection_conv9_2_mbox_conf_conv_\n",
      "__________________________________________________________________________________________________\n",
      "detection_conv4_3_norm_mbox_loc (None, 32, 32, 16)   0           detection_conv4_3_norm_mbox_loc_c\n",
      "__________________________________________________________________________________________________\n",
      "detection_fc7_mbox_loc_conv_pw_ (None, 16, 16, 24)   0           detection_fc7_mbox_loc_conv_pw_2_\n",
      "__________________________________________________________________________________________________\n",
      "detection_conv6_2_mbox_loc_conv (None, 8, 8, 24)     0           detection_conv6_2_mbox_loc_conv_p\n",
      "__________________________________________________________________________________________________\n",
      "detection_conv7_2_mbox_loc_conv (None, 4, 4, 24)     0           detection_conv7_2_mbox_loc_conv_p\n",
      "__________________________________________________________________________________________________\n",
      "detection_conv8_2_mbox_loc_conv (None, 2, 2, 16)     0           detection_conv8_2_mbox_loc_conv_p\n",
      "__________________________________________________________________________________________________\n",
      "detection_conv9_2_mbox_loc_conv (None, 1, 1, 16)     0           detection_conv9_2_mbox_loc_conv_p\n",
      "__________________________________________________________________________________________________\n",
      "detection_conv4_3_norm_mbox_pri (None, 32, 32, 4, 8) 0           detection_conv4_3_norm[0][0]     \n",
      "__________________________________________________________________________________________________\n",
      "detection_fc7_mbox_priorbox (An (None, 16, 16, 6, 8) 0           conv_pw_13_relu[0][0]            \n",
      "__________________________________________________________________________________________________\n",
      "detection_conv6_2_mbox_priorbox (None, 8, 8, 6, 8)   0           detection_conv6_2_conv_pw_1_relu[\n",
      "__________________________________________________________________________________________________\n",
      "detection_conv7_2_mbox_priorbox (None, 4, 4, 6, 8)   0           detection_conv7_2_conv_pw_2_relu[\n"
     ]
    },
    {
     "name": "stdout",
     "output_type": "stream",
     "text": [
      "__________________________________________________________________________________________________\n",
      "detection_conv8_2_mbox_priorbox (None, 2, 2, 4, 8)   0           detection_conv8_2_conv_pw_3_relu[\n",
      "__________________________________________________________________________________________________\n",
      "detection_conv9_2_mbox_priorbox (None, 1, 1, 4, 8)   0           detection_conv9_2_conv_pw_4_relu[\n",
      "__________________________________________________________________________________________________\n",
      "detection_mbox_conf (Concatenat (None, 6132, 2)      0           detection_conv4_3_norm_mbox_conf_\n",
      "                                                                 detection_fc7_mbox_conf_reshape[0\n",
      "                                                                 detection_conv6_2_mbox_conf_resha\n",
      "                                                                 detection_conv7_2_mbox_conf_resha\n",
      "                                                                 detection_conv8_2_mbox_conf_resha\n",
      "                                                                 detection_conv9_2_mbox_conf_resha\n",
      "__________________________________________________________________________________________________\n",
      "detection_conv4_3_norm_mbox_loc (None, 4096, 4)      0           detection_conv4_3_norm_mbox_loc_c\n",
      "__________________________________________________________________________________________________\n",
      "detection_fc7_mbox_loc_reshape  (None, 1536, 4)      0           detection_fc7_mbox_loc_conv_pw_2_\n",
      "__________________________________________________________________________________________________\n",
      "detection_conv6_2_mbox_loc_resh (None, 384, 4)       0           detection_conv6_2_mbox_loc_conv_p\n",
      "__________________________________________________________________________________________________\n",
      "detection_conv7_2_mbox_loc_resh (None, 96, 4)        0           detection_conv7_2_mbox_loc_conv_p\n",
      "__________________________________________________________________________________________________\n",
      "detection_conv8_2_mbox_loc_resh (None, 16, 4)        0           detection_conv8_2_mbox_loc_conv_p\n",
      "__________________________________________________________________________________________________\n",
      "detection_conv9_2_mbox_loc_resh (None, 4, 4)         0           detection_conv9_2_mbox_loc_conv_p\n",
      "__________________________________________________________________________________________________\n",
      "detection_conv4_3_norm_mbox_pri (None, 4096, 8)      0           detection_conv4_3_norm_mbox_prior\n",
      "__________________________________________________________________________________________________\n",
      "detection_fc7_mbox_priorbox_res (None, 1536, 8)      0           detection_fc7_mbox_priorbox[0][0]\n",
      "__________________________________________________________________________________________________\n",
      "detection_conv6_2_mbox_priorbox (None, 384, 8)       0           detection_conv6_2_mbox_priorbox[0\n",
      "__________________________________________________________________________________________________\n",
      "detection_conv7_2_mbox_priorbox (None, 96, 8)        0           detection_conv7_2_mbox_priorbox[0\n",
      "__________________________________________________________________________________________________\n",
      "detection_conv8_2_mbox_priorbox (None, 16, 8)        0           detection_conv8_2_mbox_priorbox[0\n",
      "__________________________________________________________________________________________________\n",
      "detection_conv9_2_mbox_priorbox (None, 4, 8)         0           detection_conv9_2_mbox_priorbox[0\n",
      "__________________________________________________________________________________________________\n",
      "detection_mbox_conf_softmax (Ac (None, 6132, 2)      0           detection_mbox_conf[0][0]        \n",
      "__________________________________________________________________________________________________\n",
      "detection_mbox_loc (Concatenate (None, 6132, 4)      0           detection_conv4_3_norm_mbox_loc_r\n",
      "                                                                 detection_fc7_mbox_loc_reshape[0]\n",
      "                                                                 detection_conv6_2_mbox_loc_reshap\n",
      "                                                                 detection_conv7_2_mbox_loc_reshap\n",
      "                                                                 detection_conv8_2_mbox_loc_reshap\n",
      "                                                                 detection_conv9_2_mbox_loc_reshap\n",
      "__________________________________________________________________________________________________\n",
      "detection_mbox_priorbox (Concat (None, 6132, 8)      0           detection_conv4_3_norm_mbox_prior\n",
      "                                                                 detection_fc7_mbox_priorbox_resha\n",
      "                                                                 detection_conv6_2_mbox_priorbox_r\n",
      "                                                                 detection_conv7_2_mbox_priorbox_r\n",
      "                                                                 detection_conv8_2_mbox_priorbox_r\n",
      "                                                                 detection_conv9_2_mbox_priorbox_r\n",
      "__________________________________________________________________________________________________\n",
      "detection_predictions (Concaten (None, 6132, 14)     0           detection_mbox_conf_softmax[0][0]\n",
      "                                                                 detection_mbox_loc[0][0]         \n",
      "                                                                 detection_mbox_priorbox[0][0]    \n",
      "==================================================================================================\n",
      "Total params: 3,997,712\n",
      "Trainable params: 3,959,336\n",
      "Non-trainable params: 38,376\n",
      "__________________________________________________________________________________________________\n"
     ]
    }
   ],
   "source": [
    "model.summary()"
   ]
  },
  {
   "cell_type": "code",
   "execution_count": 142,
   "metadata": {},
   "outputs": [],
   "source": [
    "model.compile('Adam',loss='mse')"
   ]
  },
  {
   "cell_type": "code",
   "execution_count": 143,
   "metadata": {
    "colab": {},
    "colab_type": "code",
    "id": "lmCmRr2Rc2Sv"
   },
   "outputs": [],
   "source": [
    "model.load_weights('mobilenet_1_0_224_tf.h5',by_name=True)"
   ]
  },
  {
   "cell_type": "markdown",
   "metadata": {
    "colab_type": "text",
    "id": "73KNzDSCf6Rh"
   },
   "source": [
    "#### Using the functions given in the model, we are trying to divide the dataset into train and validation samples. Run the below code."
   ]
  },
  {
   "cell_type": "code",
   "execution_count": 144,
   "metadata": {
    "colab": {
     "base_uri": "https://localhost:8080/",
     "height": 221
    },
    "colab_type": "code",
    "id": "4_pZEU8TfBoR",
    "outputId": "6490ca74-d3f7-463d-f98a-f337d9fb6433"
   },
   "outputs": [
    {
     "name": "stdout",
     "output_type": "stream",
     "text": [
      "==>TRAINING DATA\n",
      "==> Parsing XML files ...\n",
      "==>Parsing XML Finished.\n",
      "==>Generate training batches...\n",
      "==>Training batch generation complete\n",
      "==>Total number of training samples = 128\n",
      "==>VALIDATION\n",
      "==> Parsing XML files ...\n",
      "==>Parsing XML Finished.\n",
      "==>Generate training batches...\n",
      "==>Training batch generation complete\n",
      "==>Total number of validation samples = 60\n"
     ]
    }
   ],
   "source": [
    "batch_size = 32\n",
    "ssd_box_encoder = SSDBoxEncoder(img_height=img_height,\n",
    "                                img_width=img_width,\n",
    "                                n_classes=n_classes, \n",
    "                                predictor_sizes=predictor_sizes,\n",
    "                                min_scale=None,\n",
    "                                max_scale=None,\n",
    "                                scales=scales,\n",
    "                                aspect_ratios_global=None,\n",
    "                                aspect_ratios_per_layer=aspect_ratios,\n",
    "                                two_boxes_for_ar1=two_boxes_for_ar1,\n",
    "                                limit_boxes=limit_boxes,\n",
    "                                variances=variances,\n",
    "                                pos_iou_threshold=0.5,\n",
    "                                neg_iou_threshold=0.2,\n",
    "                                coords=coords,\n",
    "                                normalize_coords=normalize_coords)\n",
    "\n",
    "train_dataset = BatchGenerator(images_path=train_data, \n",
    "                include_classes='all', \n",
    "                box_output_format = ['class_id', 'xmin', 'xmax', 'ymin', 'ymax'])\n",
    "\n",
    "print (\"==>TRAINING DATA\")\n",
    "print (\"==> Parsing XML files ...\")\n",
    "\n",
    "train_dataset.parse_xml(\n",
    "                  annotations_path=train_data,\n",
    "                  image_set_path='None',\n",
    "                  image_set='None',\n",
    "                  classes = class_names, \n",
    "                  exclude_truncated=False,\n",
    "                  exclude_difficult=False,\n",
    "                  ret=False, \n",
    "                  debug = False)\n",
    "print(\"==>Parsing XML Finished.\")\n",
    "\n",
    "print (\"==>Generate training batches...\")\n",
    "train_generator = train_dataset.generate(\n",
    "                 batch_size=batch_size,\n",
    "                 train=True,\n",
    "                 ssd_box_encoder=ssd_box_encoder,\n",
    "                 equalize=True,\n",
    "                 brightness=(0.5,2,0.5),\n",
    "                 flip=0.5,\n",
    "                 translate=((0, 20), (0, 30), 0.5),\n",
    "                 scale=(0.75, 1.2, 0.5),\n",
    "                 crop=False,\n",
    "                 #random_crop = (img_height,img_width,1,3), \n",
    "                 random_crop=False,\n",
    "                 resize=(img_height, img_width),\n",
    "                 #resize=False,\n",
    "                 gray=False,\n",
    "                 limit_boxes=True,\n",
    "                 include_thresh=0.4,\n",
    "                 diagnostics=False)\n",
    "\n",
    "print (\"==>Training batch generation complete\")\n",
    "\n",
    "n_train_samples = train_dataset.get_n_samples()\n",
    "\n",
    "print (\"==>Total number of training samples = {}\".format(n_train_samples))\n",
    "\n",
    "# Now repeat above steps for validation data \n",
    "\n",
    "print (\"==>VALIDATION\")\n",
    "\n",
    "val_dataset = BatchGenerator(images_path=test_data, include_classes='all', \n",
    "                box_output_format = ['class_id', 'xmin', 'xmax', 'ymin', 'ymax'])\n",
    "\n",
    "print (\"==> Parsing XML files ...\")\n",
    "\n",
    "\n",
    "val_dataset.parse_xml(\n",
    "                  annotations_path=test_data,\n",
    "                  image_set_path='None',\n",
    "                  image_set='None',\n",
    "                  classes = class_names, \n",
    "                  exclude_truncated=False,\n",
    "                  exclude_difficult=False,\n",
    "                  ret=False, \n",
    "                  debug = False)\n",
    "\n",
    "\n",
    "print(\"==>Parsing XML Finished.\")\n",
    "\n",
    "\n",
    "print (\"==>Generate training batches...\")\n",
    "val_generator = val_dataset.generate(\n",
    "                 batch_size=batch_size,\n",
    "                 train=True,\n",
    "                 ssd_box_encoder=ssd_box_encoder,\n",
    "                 equalize=False,\n",
    "                 brightness=False,\n",
    "                 flip=False,\n",
    "                 translate=False,\n",
    "                 scale=False,\n",
    "                 crop=False,\n",
    "                 #random_crop = (img_height,img_width,1,3), \n",
    "                 random_crop=False, \n",
    "                 resize=(img_height, img_width), \n",
    "                 #resize=False, \n",
    "                 gray=False,\n",
    "                 limit_boxes=True,\n",
    "                 include_thresh=0.4,\n",
    "                 diagnostics=False)\n",
    "\n",
    "\n",
    "print (\"==>Training batch generation complete\")\n",
    "\n",
    "n_val_samples = val_dataset.get_n_samples()\n",
    "\n",
    "print (\"==>Total number of validation samples = {}\".format(n_val_samples))"
   ]
  },
  {
   "cell_type": "markdown",
   "metadata": {
    "colab_type": "text",
    "id": "4KtkdFTQhKlE"
   },
   "source": [
    "### Now, lets setup things for training by initilaizing required variables like learning rate, epochs, optimizer and loss function(SSDLoss) to compile the model"
   ]
  },
  {
   "cell_type": "code",
   "execution_count": 145,
   "metadata": {
    "colab": {},
    "colab_type": "code",
    "id": "g1-3OOPmgmxk"
   },
   "outputs": [
    {
     "name": "stdout",
     "output_type": "stream",
     "text": [
      "WARNING:tensorflow:From C:\\Users\\kalya\\Downloads\\Residency 9 - External Assignment\\keras_ssd_loss.py:129: to_float (from tensorflow.python.ops.math_ops) is deprecated and will be removed in a future version.\n",
      "Instructions for updating:\n",
      "Use tf.cast instead.\n",
      "WARNING:tensorflow:From C:\\Users\\kalya\\Downloads\\Residency 9 - External Assignment\\keras_ssd_loss.py:162: to_int32 (from tensorflow.python.ops.math_ops) is deprecated and will be removed in a future version.\n",
      "Instructions for updating:\n",
      "Use tf.cast instead.\n"
     ]
    }
   ],
   "source": [
    "# setting up training \n",
    "\n",
    "# batch_size and no.of epochs\n",
    "\n",
    "batch_size = 16\n",
    "num_epochs = 10\n",
    "\n",
    "#Learning rate\n",
    "base_lr = 0.002\n",
    "\n",
    "# Optimizer\n",
    "adam = Adam(lr=base_lr, beta_1=0.9, beta_2=0.999, epsilon=1e-6, decay = 0.0)\n",
    "\n",
    "# Loss\n",
    "ssd_loss = SSDLoss(neg_pos_ratio=2, n_neg_min=0, alpha=1.0, beta = 1.0)\n",
    "\n",
    "# Compile\n",
    "model.compile(optimizer=adam, loss=ssd_loss.compute_loss)"
   ]
  },
  {
   "cell_type": "markdown",
   "metadata": {
    "colab_type": "text",
    "id": "vt_RxSHJitPR"
   },
   "source": [
    "### Lets add early stopping and model checkpoint layers on validation loss with some patience values and using fit_generator function to train the model on data generated batch-by-batch by a Python generator, `train_generator` object as generator.\n",
    "\n",
    "\n",
    "We are using checkpoint to save the best model based on validation accuracy."
   ]
  },
  {
   "cell_type": "markdown",
   "metadata": {
    "colab_type": "text",
    "id": "ugJ68M7_vDqy"
   },
   "source": [
    "#### Write code for early_stopping and model_checkpoint layers. Using model.fit_generator train the model and save the best weight file."
   ]
  },
  {
   "cell_type": "code",
   "execution_count": 237,
   "metadata": {},
   "outputs": [],
   "source": [
    "filepath = 'model-improvement-{epoch:02d}.hdf5'"
   ]
  },
  {
   "cell_type": "code",
   "execution_count": 238,
   "metadata": {
    "colab": {},
    "colab_type": "code",
    "id": "EeO-T9jwi8be"
   },
   "outputs": [],
   "source": [
    "early_stopping = EarlyStopping(monitor='val_acc', patience=5, verbose=1, mode='auto')\n",
    "checkpoint = ModelCheckpoint(filepath, monitor='val_loss', verbose=1, save_best_only=False, mode='auto')\n",
    "callback_list = [checkpoint,early_stopping]\n",
    "#checkpoint = ModelCheckpoint(filepath, monitor='val_acc', verbose=1, save_best_only=True, save_weights_only=False, mode='max', period=1)\n",
    "#callback_list = [early_stopping,checkpoint]"
   ]
  },
  {
   "cell_type": "code",
   "execution_count": 239,
   "metadata": {},
   "outputs": [
    {
     "data": {
      "text/plain": [
       "'C:\\\\Users\\\\kalya\\\\Downloads\\\\Residency 9 - External Assignment'"
      ]
     },
     "execution_count": 239,
     "metadata": {},
     "output_type": "execute_result"
    }
   ],
   "source": [
    "pwd"
   ]
  },
  {
   "cell_type": "code",
   "execution_count": 240,
   "metadata": {},
   "outputs": [
    {
     "name": "stdout",
     "output_type": "stream",
     "text": [
      "Epoch 1/20\n",
      "2/2 [==============================] - ETA: 15s - loss: 0.20 - 30s 15s/step - loss: 0.2174\n",
      "\n",
      "Epoch 00001: saving model to model-improvement-01.hdf5\n",
      "Epoch 2/20\n",
      "2/2 [==============================] - ETA: 15s - loss: 0.19 - 27s 13s/step - loss: 0.1821\n",
      "\n",
      "Epoch 00002: saving model to model-improvement-02.hdf5\n",
      "Epoch 3/20\n",
      "2/2 [==============================] - ETA: 11s - loss: 0.25 - 23s 11s/step - loss: 0.2168\n",
      "\n",
      "Epoch 00003: saving model to model-improvement-03.hdf5\n",
      "Epoch 4/20\n",
      "2/2 [==============================] - ETA: 11s - loss: 0.17 - 23s 12s/step - loss: 0.1769\n",
      "\n",
      "Epoch 00004: saving model to model-improvement-04.hdf5\n",
      "Epoch 5/20\n",
      "2/2 [==============================] - ETA: 11s - loss: 0.21 - 23s 11s/step - loss: 0.2036\n",
      "\n",
      "Epoch 00005: saving model to model-improvement-05.hdf5\n",
      "Epoch 6/20\n",
      "2/2 [==============================] - ETA: 11s - loss: 0.17 - 23s 12s/step - loss: 0.2019\n",
      "\n",
      "Epoch 00006: saving model to model-improvement-06.hdf5\n",
      "Epoch 7/20\n",
      "2/2 [==============================] - ETA: 12s - loss: 0.17 - 24s 12s/step - loss: 0.1980\n",
      "\n",
      "Epoch 00007: saving model to model-improvement-07.hdf5\n",
      "Epoch 8/20\n",
      "2/2 [==============================] - ETA: 11s - loss: 0.21 - 23s 11s/step - loss: 0.2057\n",
      "\n",
      "Epoch 00008: saving model to model-improvement-08.hdf5\n",
      "Epoch 9/20\n",
      "2/2 [==============================] - ETA: 11s - loss: 0.22 - 23s 11s/step - loss: 0.1925\n",
      "\n",
      "Epoch 00009: saving model to model-improvement-09.hdf5\n",
      "Epoch 10/20\n",
      "2/2 [==============================] - ETA: 11s - loss: 0.18 - 24s 12s/step - loss: 0.2007\n",
      "\n",
      "Epoch 00010: saving model to model-improvement-10.hdf5\n",
      "Epoch 11/20\n",
      "2/2 [==============================] - ETA: 12s - loss: 0.18 - 24s 12s/step - loss: 0.1823\n",
      "\n",
      "Epoch 00011: saving model to model-improvement-11.hdf5\n",
      "Epoch 12/20\n",
      "2/2 [==============================] - ETA: 12s - loss: 0.20 - 25s 12s/step - loss: 0.2005\n",
      "\n",
      "Epoch 00012: saving model to model-improvement-12.hdf5\n",
      "Epoch 13/20\n",
      "2/2 [==============================] - ETA: 12s - loss: 0.17 - 24s 12s/step - loss: 0.2060\n",
      "\n",
      "Epoch 00013: saving model to model-improvement-13.hdf5\n",
      "Epoch 14/20\n",
      "2/2 [==============================] - ETA: 11s - loss: 0.19 - 23s 12s/step - loss: 0.1879\n",
      "\n",
      "Epoch 00014: saving model to model-improvement-14.hdf5\n",
      "Epoch 15/20\n",
      "2/2 [==============================] - ETA: 10s - loss: 0.22 - 22s 11s/step - loss: 0.2039\n",
      "\n",
      "Epoch 00015: saving model to model-improvement-15.hdf5\n",
      "Epoch 16/20\n",
      "2/2 [==============================] - ETA: 10s - loss: 0.21 - 22s 11s/step - loss: 0.2124\n",
      "\n",
      "Epoch 00016: saving model to model-improvement-16.hdf5\n",
      "Epoch 17/20\n",
      "2/2 [==============================] - ETA: 10s - loss: 0.19 - 21s 11s/step - loss: 0.2011\n",
      "\n",
      "Epoch 00017: saving model to model-improvement-17.hdf5\n",
      "Epoch 18/20\n",
      "2/2 [==============================] - ETA: 11s - loss: 0.16 - 22s 11s/step - loss: 0.1897\n",
      "\n",
      "Epoch 00018: saving model to model-improvement-18.hdf5\n",
      "Epoch 19/20\n",
      "2/2 [==============================] - ETA: 10s - loss: 0.22 - 22s 11s/step - loss: 0.2036\n",
      "\n",
      "Epoch 00019: saving model to model-improvement-19.hdf5\n",
      "Epoch 20/20\n",
      "2/2 [==============================] - ETA: 12s - loss: 0.19 - 24s 12s/step - loss: 0.1763\n",
      "\n",
      "Epoch 00020: saving model to model-improvement-20.hdf5\n"
     ]
    },
    {
     "data": {
      "text/plain": [
       "<keras.callbacks.History at 0x22f28497160>"
      ]
     },
     "execution_count": 240,
     "metadata": {},
     "output_type": "execute_result"
    }
   ],
   "source": [
    "model.fit_generator(generator=train_generator,steps_per_epoch=2,epochs=20,callbacks=callback_list)"
   ]
  },
  {
   "cell_type": "markdown",
   "metadata": {
    "colab_type": "text",
    "id": "U3FHrp77jdOx"
   },
   "source": [
    "### Load the best saved model from above step and check predictions for test data using test_generator object to generate batches."
   ]
  },
  {
   "cell_type": "markdown",
   "metadata": {
    "colab_type": "text",
    "id": "S7eP30cxvcEA"
   },
   "source": [
    "#### Write code in the below cell to load best saved model in the above step."
   ]
  },
  {
   "cell_type": "code",
   "execution_count": null,
   "metadata": {},
   "outputs": [],
   "source": []
  },
  {
   "cell_type": "code",
   "execution_count": 243,
   "metadata": {
    "colab": {},
    "colab_type": "code",
    "id": "nh7tMrxFjR4B"
   },
   "outputs": [],
   "source": [
    "model.load_weights('model-improvement-04.hdf5')"
   ]
  },
  {
   "cell_type": "markdown",
   "metadata": {
    "colab_type": "text",
    "id": "6dD7q7pzqvnh"
   },
   "source": [
    "### Use the below function to plot the boundingbox in the test image to show the predictions."
   ]
  },
  {
   "cell_type": "code",
   "execution_count": 244,
   "metadata": {
    "colab": {},
    "colab_type": "code",
    "id": "h89fe5NGqwI9"
   },
   "outputs": [],
   "source": [
    "def save_bb(path, filename, results, prediction=True):\n",
    "  \n",
    "  # print filename\n",
    "\n",
    "  img = image.load_img(filename, target_size=(img_height, img_width))\n",
    "  img = image.img_to_array(img)\n",
    "\n",
    "  filename = filename.split(\"/\")[-1]\n",
    "\n",
    "  if(not prediction):\n",
    "    filename = filename[:-4] + \"_gt\" + \".jpg\"\n",
    "\n",
    "  #fig,currentAxis = plt.subplots(1)\n",
    "  currentAxis = plt.gca()\n",
    "\n",
    " # Get detections with confidence higher than 0.6.\n",
    "  colors = plt.cm.hsv(np.linspace(0, 1, 25)).tolist()\n",
    "  color_code = min(len(results), 16)\n",
    "  print (colored(\"total number of bbs: %d\" % len(results), \"yellow\"))\n",
    "  for result in results:\n",
    "    # Parse the outputs.\n",
    "\n",
    "    if(prediction):\n",
    "      det_label = result[0]\n",
    "      det_conf = result[1]\n",
    "      det_xmin = result[2]\n",
    "      det_xmax = result[3]\n",
    "      det_ymin = result[4]\n",
    "      det_ymax = result[5]\n",
    "    else :\n",
    "      det_label = result[0]\n",
    "      det_xmin = result[1]\n",
    "      det_xmax = result[2]\n",
    "      det_ymin = result[3]\n",
    "      det_ymax = result[4]\n",
    "\n",
    "    xmin = int(det_xmin)\n",
    "    ymin = int(det_ymin)\n",
    "    xmax = int(det_xmax)\n",
    "    ymax = int(det_ymax)\n",
    "\n",
    "    if(prediction):\n",
    "      score = det_conf\n",
    "    \n",
    "    plt.imshow(img / 255.)\n",
    "    \n",
    "    label = int(int(det_label))\n",
    "    label_name = class_names[label]\n",
    "    # print label_name \n",
    "    # print label\n",
    "\n",
    "    if(prediction):\n",
    "      display_txt = '{:0.2f}'.format(score)\n",
    "    else:\n",
    "      display_txt = '{}'.format(label_name)\n",
    "\n",
    "      \n",
    "    # print (xmin, ymin, ymin, ymax)\n",
    "    coords = (xmin, ymin), (xmax-xmin), (ymax-ymin)\n",
    "    color_code = color_code-1 \n",
    "    color = colors[color_code]\n",
    "    currentAxis.add_patch(plt.Rectangle(*coords, fill=False, edgecolor=color, linewidth=2))\n",
    "    currentAxis.text(xmin, ymin, display_txt, bbox={'facecolor':color, 'alpha':0.2})\n",
    "\n",
    "  # y\n",
    "  currentAxis.axes.get_yaxis().set_visible(False)\n",
    "  # x\n",
    "  currentAxis.axes.get_xaxis().set_visible(False)\n",
    "  plt.savefig(path + filename, bbox_inches='tight')\n",
    "\n",
    "  print ('saved' , path + filename)\n",
    "\n",
    "  plt.clf()\n"
   ]
  },
  {
   "cell_type": "markdown",
   "metadata": {
    "colab_type": "text",
    "id": "RrMdNhMtwE3t"
   },
   "source": [
    "#### Run the below code to create a folder with name output_test and get the predictions for the test images using model.predict()"
   ]
  },
  {
   "cell_type": "code",
   "execution_count": 245,
   "metadata": {
    "colab": {},
    "colab_type": "code",
    "id": "1Sep0lG3vR0R"
   },
   "outputs": [],
   "source": [
    "!mkdir output_test"
   ]
  },
  {
   "cell_type": "code",
   "execution_count": 247,
   "metadata": {
    "colab": {},
    "colab_type": "code",
    "id": "70s6RPuInpqo"
   },
   "outputs": [
    {
     "name": "stdout",
     "output_type": "stream",
     "text": [
      "done.\n",
      "now predicting...\n",
      "total number of bbs: 0\n",
      "saved ./output_test/28_Sports_Fan_Sports_Fan_28_86.jpg\n",
      "total number of bbs: 1\n",
      "saved ./output_test/28_Sports_Fan_Sports_Fan_28_86_gt.jpg\n",
      "total number of bbs: 3\n",
      "saved ./output_test/4_Dancing_Dancing_4_514.jpg\n",
      "total number of bbs: 2\n",
      "saved ./output_test/4_Dancing_Dancing_4_514_gt.jpg\n",
      "total number of bbs: 4\n",
      "saved ./output_test/2_Demonstration_Demonstration_Or_Protest_2_367.jpg\n",
      "total number of bbs: 9\n",
      "saved ./output_test/2_Demonstration_Demonstration_Or_Protest_2_367_gt.jpg\n",
      "total number of bbs: 3\n",
      "saved ./output_test/2_Demonstration_Demonstration_Or_Protest_2_306.jpg\n",
      "total number of bbs: 10\n",
      "saved ./output_test/2_Demonstration_Demonstration_Or_Protest_2_306_gt.jpg\n",
      "total number of bbs: 2\n",
      "saved ./output_test/13_Interview_Interview_Sequences_13_779.jpg\n",
      "total number of bbs: 1\n",
      "saved ./output_test/13_Interview_Interview_Sequences_13_779_gt.jpg\n",
      "total number of bbs: 3\n",
      "saved ./output_test/12_Group_Team_Organized_Group_12_Group_Team_Organized_Group_12_21.jpg\n",
      "total number of bbs: 5\n",
      "saved ./output_test/12_Group_Team_Organized_Group_12_Group_Team_Organized_Group_12_21_gt.jpg\n",
      "total number of bbs: 1\n",
      "saved ./output_test/33_Running_Running_33_209.jpg\n",
      "total number of bbs: 1\n",
      "saved ./output_test/33_Running_Running_33_209_gt.jpg\n",
      "total number of bbs: 1\n",
      "saved ./output_test/40_Gymnastics_Gymnastics_40_57.jpg\n",
      "total number of bbs: 1\n",
      "saved ./output_test/40_Gymnastics_Gymnastics_40_57_gt.jpg\n",
      "total number of bbs: 5\n",
      "saved ./output_test/11_Meeting_Meeting_11_Meeting_Meeting_11_176.jpg\n",
      "total number of bbs: 17\n",
      "saved ./output_test/11_Meeting_Meeting_11_Meeting_Meeting_11_176_gt.jpg\n",
      "total number of bbs: 0\n",
      "saved ./output_test/18_Concerts_Concerts_18_536.jpg\n",
      "total number of bbs: 1\n",
      "saved ./output_test/18_Concerts_Concerts_18_536_gt.jpg\n",
      "total number of bbs: 1\n",
      "saved ./output_test/2_Demonstration_Political_Rally_2_800.jpg\n",
      "total number of bbs: 1\n",
      "saved ./output_test/2_Demonstration_Political_Rally_2_800_gt.jpg\n",
      "total number of bbs: 9\n",
      "saved ./output_test/10_People_Marching_People_Marching_2_793.jpg\n",
      "total number of bbs: 10\n",
      "saved ./output_test/10_People_Marching_People_Marching_2_793_gt.jpg\n",
      "total number of bbs: 1\n",
      "saved ./output_test/41_Swimming_Swimming_41_580.jpg\n",
      "total number of bbs: 1\n",
      "saved ./output_test/41_Swimming_Swimming_41_580_gt.jpg\n",
      "total number of bbs: 1\n",
      "saved ./output_test/30_Surgeons_Surgeons_30_533.jpg\n",
      "total number of bbs: 1\n",
      "saved ./output_test/30_Surgeons_Surgeons_30_533_gt.jpg\n",
      "total number of bbs: 4\n",
      "saved ./output_test/21_Festival_Festival_21_395.jpg\n",
      "total number of bbs: 9\n",
      "saved ./output_test/21_Festival_Festival_21_395_gt.jpg\n"
     ]
    },
    {
     "ename": "IndexError",
     "evalue": "list index out of range",
     "output_type": "error",
     "traceback": [
      "\u001b[1;31m---------------------------------------------------------------------------\u001b[0m",
      "\u001b[1;31mIndexError\u001b[0m                                Traceback (most recent call last)",
      "\u001b[1;32m<ipython-input-247-58d50d612371>\u001b[0m in \u001b[0;36m<module>\u001b[1;34m\u001b[0m\n\u001b[0;32m     45\u001b[0m     \u001b[0mnp\u001b[0m\u001b[1;33m.\u001b[0m\u001b[0mset_printoptions\u001b[0m\u001b[1;33m(\u001b[0m\u001b[0msuppress\u001b[0m\u001b[1;33m=\u001b[0m\u001b[1;32mTrue\u001b[0m\u001b[1;33m)\u001b[0m\u001b[1;33m\u001b[0m\u001b[1;33m\u001b[0m\u001b[0m\n\u001b[0;32m     46\u001b[0m \u001b[1;33m\u001b[0m\u001b[0m\n\u001b[1;32m---> 47\u001b[1;33m     \u001b[0msave_bb\u001b[0m\u001b[1;33m(\u001b[0m\u001b[1;34m\"./output_test/\"\u001b[0m\u001b[1;33m,\u001b[0m \u001b[0mfilenames\u001b[0m\u001b[1;33m[\u001b[0m\u001b[0mi\u001b[0m\u001b[1;33m]\u001b[0m\u001b[1;33m,\u001b[0m \u001b[0my_pred_decoded\u001b[0m\u001b[1;33m[\u001b[0m\u001b[0mi\u001b[0m\u001b[1;33m]\u001b[0m\u001b[1;33m)\u001b[0m\u001b[1;33m\u001b[0m\u001b[1;33m\u001b[0m\u001b[0m\n\u001b[0m\u001b[0;32m     48\u001b[0m     \u001b[0msave_bb\u001b[0m\u001b[1;33m(\u001b[0m\u001b[1;34m\"./output_test/\"\u001b[0m\u001b[1;33m,\u001b[0m \u001b[0mfilenames\u001b[0m\u001b[1;33m[\u001b[0m\u001b[0mi\u001b[0m\u001b[1;33m]\u001b[0m\u001b[1;33m,\u001b[0m \u001b[0my\u001b[0m\u001b[1;33m[\u001b[0m\u001b[0mi\u001b[0m\u001b[1;33m]\u001b[0m\u001b[1;33m,\u001b[0m \u001b[0mprediction\u001b[0m\u001b[1;33m=\u001b[0m\u001b[1;32mFalse\u001b[0m\u001b[1;33m)\u001b[0m\u001b[1;33m\u001b[0m\u001b[1;33m\u001b[0m\u001b[0m\n",
      "\u001b[1;31mIndexError\u001b[0m: list index out of range"
     ]
    }
   ],
   "source": [
    "from keras.preprocessing import image\n",
    "from matplotlib import pyplot as plt\n",
    "\n",
    "test_size = 16\n",
    "test_generator = val_dataset.generate(\n",
    "                 batch_size=test_size,\n",
    "                 train=False,\n",
    "                 ssd_box_encoder=ssd_box_encoder,\n",
    "                 equalize=False,\n",
    "                 brightness=False,\n",
    "                 flip=False,\n",
    "                 translate=False,\n",
    "                 scale=False,\n",
    "                 crop=False,\n",
    "                 #random_crop = (img_height,img_width,1,3), \n",
    "                 random_crop=False, \n",
    "                 resize=(img_height, img_width), \n",
    "                 #resize=False,\n",
    "                 gray=False,\n",
    "                 limit_boxes=True,\n",
    "                 include_thresh=0.4,\n",
    "                 diagnostics=False)\n",
    "\n",
    "print (colored(\"done.\", \"green\"))\n",
    "\n",
    "print (colored(\"now predicting...\", \"yellow\"))\n",
    "\n",
    "_CONF = 0.60 \n",
    "_IOU = 0.15\n",
    "\n",
    "for i in range(test_size):\n",
    "    X, y, filenames = next(test_generator)\n",
    "\n",
    "    y_pred = model.predict(X)\n",
    "    y_pred_decoded = decode_y2(y_pred,\n",
    "                             confidence_thresh=_CONF,\n",
    "                            iou_threshold=_IOU,\n",
    "                            top_k='all',\n",
    "                            input_coords=coords,\n",
    "                            normalize_coords=normalize_coords,\n",
    "                            img_height=img_height,\n",
    "                            img_width=img_width)\n",
    "\n",
    "\n",
    "    np.set_printoptions(suppress=True)\n",
    "\n",
    "    save_bb(\"./output_test/\", filenames[i], y_pred_decoded[i])\n",
    "    save_bb(\"./output_test/\", filenames[i], y[i], prediction=False)\n"
   ]
  },
  {
   "cell_type": "markdown",
   "metadata": {
    "colab_type": "text",
    "id": "qLKgtPCJwena"
   },
   "source": [
    "In the above step all the test images along with predictions are stored in output_test folder in this notebook environment. You can check the folder in Files section of the menu to left-side of screen in colab.\n",
    "\n",
    "Each test image is used for predictions and is stored as 2 files.\n",
    "\n",
    "one file is the original ground truth with <filename_gt.jpg>\n",
    "second file is the prediction of the model on the image. with <filename.jpg>"
   ]
  },
  {
   "cell_type": "markdown",
   "metadata": {
    "colab_type": "text",
    "id": "TFzb3Vj9kDGH"
   },
   "source": [
    "### Visualize a test image to check predictions\n",
    "\n",
    "\n",
    "#### Write code to show images: Using cv2.imshow() or matplotlib show any 3 test images and their predictions."
   ]
  },
  {
   "cell_type": "code",
   "execution_count": 249,
   "metadata": {
    "colab": {},
    "colab_type": "code",
    "id": "zA1lMnX4-edG"
   },
   "outputs": [],
   "source": [
    "import cv2"
   ]
  },
  {
   "cell_type": "code",
   "execution_count": 265,
   "metadata": {},
   "outputs": [],
   "source": [
    "img_orig = cv2.imread('./output_test/11_Meeting_Meeting_11_Meeting_Meeting_11_176_gt.jpg')\n",
    "img_pred = cv2.imread('./output_test/11_Meeting_Meeting_11_Meeting_Meeting_11_176.jpg')"
   ]
  },
  {
   "cell_type": "code",
   "execution_count": 267,
   "metadata": {},
   "outputs": [],
   "source": [
    "cv2.imshow('image',img_orig)\n",
    "cv2.waitKey(0)\n",
    "cv2.imshow('image',img_pred)\n",
    "cv2.waitKey(0)\n",
    "cv2.destroyAllWindows()"
   ]
  },
  {
   "cell_type": "code",
   "execution_count": 268,
   "metadata": {},
   "outputs": [],
   "source": [
    "img_orig = cv2.imread('./output_test/40_Gymnastics_Gymnastics_40_57_gt.jpg')\n",
    "img_pred = cv2.imread('./output_test/40_Gymnastics_Gymnastics_40_57.jpg')"
   ]
  },
  {
   "cell_type": "code",
   "execution_count": 269,
   "metadata": {},
   "outputs": [],
   "source": [
    "cv2.imshow('image',img_orig)\n",
    "cv2.waitKey(0)\n",
    "cv2.imshow('image',img_pred)\n",
    "cv2.waitKey(0)\n",
    "cv2.destroyAllWindows()"
   ]
  },
  {
   "cell_type": "code",
   "execution_count": 270,
   "metadata": {},
   "outputs": [],
   "source": [
    "img_orig = cv2.imread('./output_test/30_Surgeons_Surgeons_30_533_gt.jpg')\n",
    "img_pred = cv2.imread('./output_test/30_Surgeons_Surgeons_30_533.jpg')"
   ]
  },
  {
   "cell_type": "code",
   "execution_count": 271,
   "metadata": {},
   "outputs": [],
   "source": [
    "cv2.imshow('image',img_orig)\n",
    "cv2.waitKey(0)\n",
    "cv2.imshow('image',img_pred)\n",
    "cv2.waitKey(0)\n",
    "cv2.destroyAllWindows()"
   ]
  },
  {
   "cell_type": "code",
   "execution_count": null,
   "metadata": {},
   "outputs": [],
   "source": []
  }
 ],
 "metadata": {
  "colab": {
   "collapsed_sections": [],
   "name": "FACE DETECTION_Questions.ipynb",
   "provenance": [],
   "toc_visible": true,
   "version": "0.3.2"
  },
  "kernelspec": {
   "display_name": "Python 3",
   "language": "python",
   "name": "python3"
  },
  "language_info": {
   "codemirror_mode": {
    "name": "ipython",
    "version": 3
   },
   "file_extension": ".py",
   "mimetype": "text/x-python",
   "name": "python",
   "nbconvert_exporter": "python",
   "pygments_lexer": "ipython3",
   "version": "3.7.3"
  }
 },
 "nbformat": 4,
 "nbformat_minor": 1
}
