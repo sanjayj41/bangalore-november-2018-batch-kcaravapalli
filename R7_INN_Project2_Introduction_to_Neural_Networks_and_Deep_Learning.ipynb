{
 "cells": [
  {
   "cell_type": "code",
   "execution_count": 117,
   "metadata": {
    "colab": {},
    "colab_type": "code",
    "id": "daiX3aEGOOLu"
   },
   "outputs": [],
   "source": [
    "import h5py\n",
    "import numpy as np\n",
    "import matplotlib.pylab as plt\n",
    "import matplotlib.cm as cm\n",
    "%matplotlib inline\n",
    "\n",
    "import warnings\n",
    "warnings.filterwarnings('ignore')\n",
    "\n",
    "from sklearn.neighbors import KNeighborsClassifier\n",
    "from sklearn.model_selection import KFold\n",
    "from sklearn.model_selection import cross_val_score\n",
    "from sklearn import metrics \n",
    "\n",
    "from keras.models import Sequential\n",
    "from keras.utils import np_utils\n",
    "from keras.layers import Dense, BatchNormalization, Activation, Dropout, Flatten, Reshape, Convolution2D, MaxPooling2D\n",
    "from keras.callbacks import EarlyStopping"
   ]
  },
  {
   "cell_type": "code",
   "execution_count": 3,
   "metadata": {
    "colab": {
     "base_uri": "https://localhost:8080/",
     "height": 121
    },
    "colab_type": "code",
    "id": "StMlbM5POOL9",
    "outputId": "a0feb932-c977-4319-ebc5-11d688cbba8b"
   },
   "outputs": [],
   "source": [
    "#from google.colab import drive\n",
    "#drive.mount('/content/drive/')"
   ]
  },
  {
   "cell_type": "code",
   "execution_count": 67,
   "metadata": {
    "colab": {
     "base_uri": "https://localhost:8080/",
     "height": 34
    },
    "colab_type": "code",
    "id": "zTSlyrf-OOMC",
    "outputId": "ad6a1568-31ce-4539-f73b-513d97da8f99"
   },
   "outputs": [],
   "source": [
    "\n",
    "#filename = '/content/drive/My Drive/AIML/SVHN_single_grey1.h5'\n",
    "#filename = 'SVHN_single_grey1.h5'\n",
    "#f = h5py.File(filename, 'r')\n",
    "\n",
    "# List all groups\n",
    "#print(\"Keys: %s\" % f.keys())\n",
    "#a_group_key = list(f.keys())[0]\n",
    "#b_group_key = list(f.keys())[1]\n",
    "#c_group_key = list(f.keys())[2]\n",
    "#d_group_key = list(f.keys())[3]\n",
    "#e_group_key = list(f.keys())[4]\n",
    "#f_group_key = list(f.keys())[5]\n",
    "\n",
    "# Get the data\n",
    "#X_test = list(f[a_group_key])\n",
    "#X_train = list(f[b_group_key])\n",
    "#X_val = list(f[c_group_key])\n",
    "#y_test = list(f[d_group_key])\n",
    "#y_train = list(f[e_group_key])\n",
    "#y_val = list(f[f_group_key])"
   ]
  },
  {
   "cell_type": "code",
   "execution_count": 68,
   "metadata": {
    "colab": {},
    "colab_type": "code",
    "id": "DJW8J4hFOOMN"
   },
   "outputs": [],
   "source": [
    "#f.close()"
   ]
  },
  {
   "cell_type": "code",
   "execution_count": 70,
   "metadata": {
    "colab": {},
    "colab_type": "code",
    "id": "btxqb8fptLYH"
   },
   "outputs": [],
   "source": [
    "# Import the dataset into Train, Test and Validation sets\n",
    "#filename = '/content/drive/My Drive/AIML/SVHN_single_grey1.h5'\n",
    "filename = 'SVHN_single_grey1.h5'\n",
    "# Open the file as readonly\n",
    "h5f = h5py.File(filename, 'r')\n",
    "\n",
    "# Load the training, test and validation set\n",
    "X_train = h5f['X_train'][:]\n",
    "y_train = h5f['y_train'][:]\n",
    "X_test = h5f['X_test'][:]\n",
    "y_test = h5f['y_test'][:]\n",
    "X_val = h5f['X_val'][:]\n",
    "y_val = h5f['y_val'][:]\n",
    "\n",
    "# Close this file\n",
    "h5f.close()"
   ]
  },
  {
   "cell_type": "code",
   "execution_count": 72,
   "metadata": {
    "colab": {
     "base_uri": "https://localhost:8080/",
     "height": 151
    },
    "colab_type": "code",
    "id": "I-s6vt_GyrMk",
    "outputId": "0916d807-17a8-4ebd-b482-e3072fd89a2c"
   },
   "outputs": [
    {
     "data": {
      "text/plain": [
       "array([[ 79.1708,  79.8718,  79.5729, ..., 125.9506, 140.0201, 146.2044],\n",
       "       [ 73.2145,  73.0296,  71.7308, ..., 125.2927, 140.2481, 145.7314],\n",
       "       [ 70.1439,  70.2579,  68.0732, ..., 124.9337, 140.775 , 145.8454],\n",
       "       ...,\n",
       "       [ 97.1412, 112.2537, 127.0072, ..., 117.3196, 134.5198, 139.5902],\n",
       "       [ 96.9132, 108.439 , 119.9648, ..., 118.2055, 133.6339, 138.4763],\n",
       "       [ 94.9134, 105.6242, 114.5632, ..., 118.2055, 133.5199, 138.4763]],\n",
       "      dtype=float32)"
      ]
     },
     "execution_count": 72,
     "metadata": {},
     "output_type": "execute_result"
    }
   ],
   "source": [
    "# Check the data in Train set\n",
    "X_train[50]"
   ]
  },
  {
   "cell_type": "code",
   "execution_count": 73,
   "metadata": {
    "colab": {
     "base_uri": "https://localhost:8080/",
     "height": 34
    },
    "colab_type": "code",
    "id": "0f3fWSoRzAp6",
    "outputId": "d37aa6a4-34d8-43e2-81f6-e5d7d176b08c"
   },
   "outputs": [
    {
     "data": {
      "text/plain": [
       "4"
      ]
     },
     "execution_count": 73,
     "metadata": {},
     "output_type": "execute_result"
    }
   ],
   "source": [
    "# Check the output variable in Train dataset\n",
    "y_train[50]"
   ]
  },
  {
   "cell_type": "code",
   "execution_count": 74,
   "metadata": {
    "colab": {
     "base_uri": "https://localhost:8080/",
     "height": 67
    },
    "colab_type": "code",
    "id": "RjLPjy-ItXzv",
    "outputId": "44788ce3-497a-4204-c6ca-7e95ba5cad8e"
   },
   "outputs": [
    {
     "name": "stdout",
     "output_type": "stream",
     "text": [
      "Training set (42000, 32, 32) (42000,)\n",
      "Validation set (60000, 32, 32) (60000,)\n",
      "Test set (18000, 32, 32) (18000,)\n"
     ]
    }
   ],
   "source": [
    "print('Training set', X_train.shape, y_train.shape)\n",
    "print('Validation set', X_val.shape, y_val.shape)\n",
    "print('Test set', X_test.shape, y_test.shape)"
   ]
  },
  {
   "cell_type": "code",
   "execution_count": 71,
   "metadata": {
    "colab": {},
    "colab_type": "code",
    "id": "FGaxS-VwOONC"
   },
   "outputs": [],
   "source": []
  },
  {
   "cell_type": "code",
   "execution_count": 75,
   "metadata": {
    "colab": {
     "base_uri": "https://localhost:8080/",
     "height": 286
    },
    "colab_type": "code",
    "id": "E08VTQATOONI",
    "outputId": "bde6d4f7-97cc-446a-b554-3bbf4df7dab6"
   },
   "outputs": [
    {
     "data": {
      "text/plain": [
       "<matplotlib.image.AxesImage at 0x1d98df975c0>"
      ]
     },
     "execution_count": 75,
     "metadata": {},
     "output_type": "execute_result"
    },
    {
     "data": {
      "image/png": "[encoded data removed]",
      "text/plain": [
       "<Figure size 432x288 with 1 Axes>"
      ]
     },
     "metadata": {
      "needs_background": "light"
     },
     "output_type": "display_data"
    }
   ],
   "source": [
    "# Verify the data for the particular image we saw above\n",
    "plt.imshow(X_train[50])"
   ]
  },
  {
   "cell_type": "code",
   "execution_count": 18,
   "metadata": {
    "colab": {},
    "colab_type": "code",
    "id": "7OISEBqnOONV"
   },
   "outputs": [],
   "source": [
    "# # normalize inputs from 0-255 to 0-1\n",
    "x_train = np.asarray(X_train) / 255.0\n",
    "x_test = np.asarray(X_test) / 255.0\n",
    "x_val = np.asarray(X_val) / 255.0"
   ]
  },
  {
   "cell_type": "code",
   "execution_count": 76,
   "metadata": {
    "colab": {},
    "colab_type": "code",
    "id": "hBvIErlLOONa"
   },
   "outputs": [],
   "source": [
    "# Reshape the datasets to X,Y format\n",
    "x_train=x_train.reshape(42000,1024)\n",
    "x_test=x_test.reshape(18000,1024)\n",
    "x_val=x_val.reshape(60000,1024)"
   ]
  },
  {
   "cell_type": "code",
   "execution_count": 0,
   "metadata": {
    "colab": {},
    "colab_type": "code",
    "id": "_rWawmQaXIMi"
   },
   "outputs": [],
   "source": []
  },
  {
   "cell_type": "code",
   "execution_count": 0,
   "metadata": {
    "colab": {
     "base_uri": "https://localhost:8080/",
     "height": 67
    },
    "colab_type": "code",
    "id": "CGNuhECxQtQl",
    "outputId": "b76fa4ee-6929-4b1a-9af3-8bac9cd686f5"
   },
   "outputs": [
    {
     "name": "stdout",
     "output_type": "stream",
     "text": [
      "[0.4291193413650524, 0.4617379155186992, 0.4715951148426814, 0.47966642626067896]\n",
      "[3, 5, 7, 9]\n",
      "The optimal number of neighbors is 9\n"
     ]
    }
   ],
   "source": [
    "# creating odd list of K for KNN\n",
    "myList = [3,5,7,9]\n",
    "\n",
    "\n",
    "# empty list that will hold cv scores\n",
    "cv_scores = []\n",
    "k_neighbors = []\n",
    "\n",
    "# perform 10-fold cross validation\n",
    "for k in myList:\n",
    "    knn = KNeighborsClassifier(n_neighbors=k)\n",
    "    scores = cross_val_score(knn, x_train, y_train, scoring='accuracy')\n",
    "    cv_scores.append(scores.mean())\n",
    "    k_neighbors.append(k)\n",
    "print (cv_scores)\n",
    "print (k_neighbors)\n",
    "\n",
    "MSE = [1 - x for x in cv_scores]\n",
    "min(MSE)\n",
    "MSE.index(min(MSE))\n",
    "best_k = myList[MSE.index(min(MSE))]\n",
    "print (\"The optimal number of neighbors is %d\" % best_k)"
   ]
  },
  {
   "cell_type": "code",
   "execution_count": 0,
   "metadata": {
    "colab": {},
    "colab_type": "code",
    "id": "tNN7afFrIth9"
   },
   "outputs": [],
   "source": [
    "# It took quite a few hours to run the cross validation but finally \n",
    "# it's identified that the best number of classifier is 9, hence executing the model with k = 9\n",
    "knn = KNeighborsClassifier(n_neighbors = 9)\n"
   ]
  },
  {
   "cell_type": "code",
   "execution_count": 0,
   "metadata": {
    "colab": {
     "base_uri": "https://localhost:8080/",
     "height": 67
    },
    "colab_type": "code",
    "id": "PRcsV2StOONg",
    "outputId": "8cf6b7a6-03af-41c0-b824-7342b1eb4ce4"
   },
   "outputs": [
    {
     "data": {
      "text/plain": [
       "KNeighborsClassifier(algorithm='auto', leaf_size=30, metric='minkowski',\n",
       "                     metric_params=None, n_jobs=None, n_neighbors=9, p=2,\n",
       "                     weights='uniform')"
      ]
     },
     "execution_count": 18,
     "metadata": {
      "tags": []
     },
     "output_type": "execute_result"
    }
   ],
   "source": [
    "knn.fit(x_train,y_train)"
   ]
  },
  {
   "cell_type": "code",
   "execution_count": 0,
   "metadata": {
    "colab": {},
    "colab_type": "code",
    "id": "W59_MS42OONo"
   },
   "outputs": [],
   "source": [
    "y_pred = knn.predict(x_test)"
   ]
  },
  {
   "cell_type": "code",
   "execution_count": 0,
   "metadata": {
    "colab": {
     "base_uri": "https://localhost:8080/",
     "height": 470
    },
    "colab_type": "code",
    "id": "-D1DtVI4OONw",
    "outputId": "883cf344-a23e-4dd5-f675-dff381deba34"
   },
   "outputs": [
    {
     "name": "stdout",
     "output_type": "stream",
     "text": [
      "              precision    recall  f1-score   support\n",
      "\n",
      "           0       0.43      0.68      0.52      1814\n",
      "           1       0.46      0.73      0.56      1828\n",
      "           2       0.57      0.55      0.56      1803\n",
      "           3       0.42      0.41      0.42      1719\n",
      "           4       0.64      0.63      0.64      1812\n",
      "           5       0.49      0.38      0.43      1768\n",
      "           6       0.49      0.40      0.44      1832\n",
      "           7       0.73      0.60      0.66      1808\n",
      "           8       0.45      0.34      0.39      1812\n",
      "           9       0.56      0.39      0.46      1804\n",
      "\n",
      "    accuracy                           0.51     18000\n",
      "   macro avg       0.52      0.51      0.51     18000\n",
      "weighted avg       0.52      0.51      0.51     18000\n",
      "\n",
      "[[1226   59   44   41   52   48  108   28   98  110]\n",
      " [  91 1336   69   88   85   41   22   47   20   29]\n",
      " [ 106  242  985  125   52   36   30  126   44   57]\n",
      " [ 130  271  150  711   56  155   46   57   83   60]\n",
      " [ 120  245   62   59 1145   28   55   18   39   41]\n",
      " [ 173  154   76  284   64  678  138   24  108   69]\n",
      " [ 316  124   40   72  135  147  730   23  189   56]\n",
      " [ 103  234  149   81   30   28   34 1090   24   35]\n",
      " [ 262  117   75  136   94  130  264   24  614   96]\n",
      " [ 334  138   81  106   72   99   69   64  132  709]]\n"
     ]
    }
   ],
   "source": [
    "# Making the Confusion Matrix\n",
    "\n",
    "\n",
    "print(metrics.classification_report(y_test, y_pred))\n",
    "print(metrics.confusion_matrix(y_test, y_pred))"
   ]
  },
  {
   "cell_type": "markdown",
   "metadata": {},
   "source": [
    "It's clear from the above classification report that the accuracy is 51% only"
   ]
  },
  {
   "cell_type": "code",
   "execution_count": 79,
   "metadata": {
    "colab": {},
    "colab_type": "code",
    "id": "LQg4dtr4CbWv"
   },
   "outputs": [],
   "source": [
    "# convert class vectors to binary class matrices for keras\n",
    "num_classes = 10\n",
    "y_train = np_utils.to_categorical(y_train, num_classes)\n",
    "y_test = np_utils.to_categorical(y_test, num_classes)\n",
    "y_val = np_utils.to_categorical(y_val, num_classes)"
   ]
  },
  {
   "cell_type": "code",
   "execution_count": 81,
   "metadata": {},
   "outputs": [],
   "source": [
    "# Convert the datatype to int from float for the output labels\n",
    "y_train=y_train.astype(int)\n",
    "y_test=y_test.astype(int)\n",
    "y_val=y_val.astype(int)"
   ]
  },
  {
   "cell_type": "markdown",
   "metadata": {},
   "source": [
    "Create a fully connected normal layer without Convolution and check the accuracy"
   ]
  },
  {
   "cell_type": "code",
   "execution_count": 88,
   "metadata": {
    "colab": {},
    "colab_type": "code",
    "id": "uKrIUjEYln-X"
   },
   "outputs": [],
   "source": [
    "#Initialize Sequential model\n",
    "model1 = Sequential()\n",
    "\n",
    "#Reshape data from 2D to 1D -> 32x32 to 1024\n",
    "model1.add(Dense(48,input_shape=(1024,),activation='relu'))\n",
    "\n",
    "#Normalize the data \n",
    "model1.add(BatchNormalization())\n",
    "\n",
    "model1.add(Dense(600, activation='relu'))\n",
    "\n",
    "model1.add(BatchNormalization())\n",
    "\n",
    "model1.add(Dense(400, activation='relu'))\n",
    "\n",
    "model1.add(BatchNormalization())\n",
    "\n",
    "model1.add(Dense(200, activation='relu'))\n",
    "\n",
    "model1.add(BatchNormalization())\n",
    "\n",
    "model1.add(Dense(100, activation='relu'))\n",
    "\n",
    "model1.add(BatchNormalization())\n",
    "\n",
    "model1.add(Dense(80, activation='relu'))\n",
    "\n",
    "model1.add(BatchNormalization())\n",
    "#Add Dense Layer which provides 10 Outputs after applying softmax\n",
    "model1.add(Dense(num_classes, activation='softmax'))\n",
    "\n",
    "#Comile the model ((We will learn about optimizers it in the next residency))\n",
    "model1.compile(optimizer='sgd', loss='categorical_crossentropy', metrics=['accuracy'])"
   ]
  },
  {
   "cell_type": "code",
   "execution_count": 90,
   "metadata": {},
   "outputs": [
    {
     "name": "stdout",
     "output_type": "stream",
     "text": [
      "_________________________________________________________________\n",
      "Layer (type)                 Output Shape              Param #   \n",
      "=================================================================\n",
      "dense_43 (Dense)             (None, 48)                49200     \n",
      "_________________________________________________________________\n",
      "batch_normalization_27 (Batc (None, 48)                192       \n",
      "_________________________________________________________________\n",
      "dense_44 (Dense)             (None, 600)               29400     \n",
      "_________________________________________________________________\n",
      "batch_normalization_28 (Batc (None, 600)               2400      \n",
      "_________________________________________________________________\n",
      "dense_45 (Dense)             (None, 400)               240400    \n",
      "_________________________________________________________________\n",
      "batch_normalization_29 (Batc (None, 400)               1600      \n",
      "_________________________________________________________________\n",
      "dense_46 (Dense)             (None, 200)               80200     \n",
      "_________________________________________________________________\n",
      "batch_normalization_30 (Batc (None, 200)               800       \n",
      "_________________________________________________________________\n",
      "dense_47 (Dense)             (None, 100)               20100     \n",
      "_________________________________________________________________\n",
      "batch_normalization_31 (Batc (None, 100)               400       \n",
      "_________________________________________________________________\n",
      "dense_48 (Dense)             (None, 80)                8080      \n",
      "_________________________________________________________________\n",
      "batch_normalization_32 (Batc (None, 80)                320       \n",
      "_________________________________________________________________\n",
      "dense_49 (Dense)             (None, 10)                810       \n",
      "=================================================================\n",
      "Total params: 433,902\n",
      "Trainable params: 431,046\n",
      "Non-trainable params: 2,856\n",
      "_________________________________________________________________\n"
     ]
    }
   ],
   "source": [
    "model1.summary()"
   ]
  },
  {
   "cell_type": "code",
   "execution_count": 91,
   "metadata": {
    "colab": {
     "base_uri": "https://localhost:8080/",
     "height": 337
    },
    "colab_type": "code",
    "id": "Z8D3cHlTDOUO",
    "outputId": "70e68ccd-e3a4-4ae8-aba6-d8fab709f427"
   },
   "outputs": [
    {
     "name": "stdout",
     "output_type": "stream",
     "text": [
      "Train on 42000 samples, validate on 18000 samples\n",
      "Epoch 1/10\n",
      "42000/42000 [==============================] - 43s 1ms/step - loss: 2.3288 - acc: 0.1214 - val_loss: 2.2995 - val_acc: 0.1372\n",
      "Epoch 2/10\n",
      "42000/42000 [==============================] - 44s 1ms/step - loss: 2.2454 - acc: 0.1632 - val_loss: 2.0621 - val_acc: 0.2694\n",
      "Epoch 3/10\n",
      "42000/42000 [==============================] - 44s 1ms/step - loss: 2.1486 - acc: 0.2170 - val_loss: 2.0857 - val_acc: 0.2409\n",
      "Epoch 4/10\n",
      "42000/42000 [==============================] - 45s 1ms/step - loss: 2.1717 - acc: 0.2042 - val_loss: 1.9166 - val_acc: 0.3228\n",
      "Epoch 5/10\n",
      "42000/42000 [==============================] - 44s 1ms/step - loss: 2.1116 - acc: 0.2302 - val_loss: 1.8995 - val_acc: 0.3280\n",
      "Epoch 6/10\n",
      "42000/42000 [==============================] - 44s 1ms/step - loss: 2.1374 - acc: 0.2105 - val_loss: 2.4813 - val_acc: 0.1196\n",
      "Epoch 7/10\n",
      "42000/42000 [==============================] - 46s 1ms/step - loss: 2.1755 - acc: 0.1847 - val_loss: 2.3506 - val_acc: 0.1044\n",
      "Epoch 8/10\n",
      "42000/42000 [==============================] - 46s 1ms/step - loss: 2.3160 - acc: 0.0993 - val_loss: 2.3161 - val_acc: 0.1046\n",
      "Epoch 9/10\n",
      "42000/42000 [==============================] - 45s 1ms/step - loss: 2.3127 - acc: 0.1018 - val_loss: 2.3087 - val_acc: 0.1023\n",
      "Epoch 10/10\n",
      "42000/42000 [==============================] - 47s 1ms/step - loss: 2.3110 - acc: 0.0994 - val_loss: 2.3079 - val_acc: 0.1011\n",
      "Epoch 00010: early stopping\n"
     ]
    },
    {
     "data": {
      "text/plain": [
       "<keras.callbacks.History at 0x1d9916a8f60>"
      ]
     },
     "execution_count": 91,
     "metadata": {},
     "output_type": "execute_result"
    }
   ],
   "source": [
    "# Store Training Results\n",
    "early_stopping = EarlyStopping(monitor='val_acc', patience=5, verbose=1, mode='auto')\n",
    "callback_list = [early_stopping]\n",
    "\n",
    "# Train the model\n",
    "model1.fit(x_train, y_train, batch_size=5, nb_epoch=10, validation_data=(x_test, y_test), callbacks=callback_list)"
   ]
  },
  {
   "cell_type": "code",
   "execution_count": null,
   "metadata": {},
   "outputs": [],
   "source": []
  },
  {
   "cell_type": "code",
   "execution_count": 92,
   "metadata": {},
   "outputs": [
    {
     "name": "stdout",
     "output_type": "stream",
     "text": [
      "60000/60000 [==============================] - 9s 150us/step\n"
     ]
    }
   ],
   "source": [
    "model1_loss,model1_accuracy=model1.evaluate(x_val,y_val)"
   ]
  },
  {
   "cell_type": "code",
   "execution_count": 93,
   "metadata": {},
   "outputs": [
    {
     "data": {
      "text/plain": [
       "2.3084494642893474"
      ]
     },
     "execution_count": 93,
     "metadata": {},
     "output_type": "execute_result"
    }
   ],
   "source": [
    "model1_loss"
   ]
  },
  {
   "cell_type": "code",
   "execution_count": 94,
   "metadata": {},
   "outputs": [
    {
     "data": {
      "text/plain": [
       "10.006666666666666"
      ]
     },
     "execution_count": 94,
     "metadata": {},
     "output_type": "execute_result"
    }
   ],
   "source": [
    "\n",
    "model1_accuracy*100"
   ]
  },
  {
   "cell_type": "code",
   "execution_count": null,
   "metadata": {
    "colab": {
     "base_uri": "https://localhost:8080/",
     "height": 336
    },
    "colab_type": "code",
    "id": "RKlRl2aJ2v4U",
    "outputId": "4206f50f-a64d-433f-98c5-ee7ed3b7cbea"
   },
   "outputs": [],
   "source": []
  },
  {
   "cell_type": "code",
   "execution_count": 95,
   "metadata": {
    "colab": {},
    "colab_type": "code",
    "id": "HJIFRONZnlNJ"
   },
   "outputs": [],
   "source": [
    "y_pred_cn=model1.predict(x_val)"
   ]
  },
  {
   "cell_type": "code",
   "execution_count": null,
   "metadata": {},
   "outputs": [],
   "source": []
  },
  {
   "cell_type": "code",
   "execution_count": 98,
   "metadata": {
    "colab": {
     "base_uri": "https://localhost:8080/",
     "height": 337
    },
    "colab_type": "code",
    "id": "pD3jWoPInlXa",
    "outputId": "00e76d0f-9dfd-459a-d5a2-b5ed1e39c6ef"
   },
   "outputs": [
    {
     "name": "stdout",
     "output_type": "stream",
     "text": [
      "              precision    recall  f1-score   support\n",
      "\n",
      "           0       0.00      0.00      0.00      6000\n",
      "           1       0.00      0.00      0.00      6000\n",
      "           2       0.00      0.00      0.00      6000\n",
      "           3       0.00      0.00      0.00      6000\n",
      "           4       0.00      0.00      0.00      6000\n",
      "           5       0.00      0.00      0.00      6000\n",
      "           6       0.00      0.00      0.00      6000\n",
      "           7       0.64      0.00      0.00      6000\n",
      "           8       0.00      0.00      0.00      6000\n",
      "           9       0.00      0.00      0.00      6000\n",
      "\n",
      "   micro avg       0.54      0.00      0.00     60000\n",
      "   macro avg       0.06      0.00      0.00     60000\n",
      "weighted avg       0.06      0.00      0.00     60000\n",
      " samples avg       0.00      0.00      0.00     60000\n",
      "\n"
     ]
    }
   ],
   "source": [
    "\n",
    "# Making the Classification Matrix\n",
    "print(metrics.classification_report(y_val, np.round(y_pred_cn)))\n"
   ]
  },
  {
   "cell_type": "markdown",
   "metadata": {
    "colab": {},
    "colab_type": "code",
    "id": "3lZiCk69nli8"
   },
   "source": [
    "A standard neural network doesn't seem to resolve this problem. It has an accuracy of only 10% vs KNN where the accuracy was 51%. Classification repost also isn't encouraging"
   ]
  },
  {
   "cell_type": "markdown",
   "metadata": {},
   "source": [
    "Let's now build the model with CNN"
   ]
  },
  {
   "cell_type": "code",
   "execution_count": 106,
   "metadata": {},
   "outputs": [],
   "source": [
    "filename = 'SVHN_single_grey1.h5'\n",
    "# Open the file as readonly\n",
    "h5f = h5py.File(filename, 'r')\n",
    "\n",
    "# Load the training, test and validation set\n",
    "X_train = h5f['X_train'][:]\n",
    "y_train = h5f['y_train'][:]\n",
    "X_test = h5f['X_test'][:]\n",
    "y_test = h5f['y_test'][:]\n",
    "X_val = h5f['X_val'][:]\n",
    "y_val = h5f['y_val'][:]\n",
    "\n",
    "# Close this file\n",
    "h5f.close()"
   ]
  },
  {
   "cell_type": "code",
   "execution_count": 107,
   "metadata": {
    "colab": {},
    "colab_type": "code",
    "id": "ZTbkHhVCDOpL"
   },
   "outputs": [],
   "source": [
    "# # normalize inputs from 0-255 to 0-1\n",
    "x_train = np.asarray(X_train) / 255.0\n",
    "x_test = np.asarray(X_test) / 255.0\n",
    "x_val = np.asarray(X_val) / 255.0"
   ]
  },
  {
   "cell_type": "code",
   "execution_count": null,
   "metadata": {
    "colab": {},
    "colab_type": "code",
    "id": "vm3mmCBUUPVG"
   },
   "outputs": [],
   "source": []
  },
  {
   "cell_type": "code",
   "execution_count": 108,
   "metadata": {
    "colab": {},
    "colab_type": "code",
    "id": "ynjhCM1vDOpT"
   },
   "outputs": [],
   "source": [
    "# Reshape the data to include the channel because channel is a prerequisite to CNN which is not available to us in the given dataset\n",
    "x_train=x_train.reshape(42000,32, 32, 1)\n",
    "x_test=x_test.reshape(18000,32, 32, 1)\n",
    "x_val=x_val.reshape(60000,32,32,1)"
   ]
  },
  {
   "cell_type": "code",
   "execution_count": 51,
   "metadata": {
    "colab": {},
    "colab_type": "code",
    "id": "488KxioAUfMv"
   },
   "outputs": [],
   "source": []
  },
  {
   "cell_type": "code",
   "execution_count": 109,
   "metadata": {},
   "outputs": [],
   "source": [
    "# convert class vectors to binary class matrices for keras\n",
    "num_classes = 10\n",
    "y_train = np_utils.to_categorical(y_train, num_classes)\n",
    "y_test = np_utils.to_categorical(y_test, num_classes)\n",
    "y_val = np_utils.to_categorical(y_val, num_classes)"
   ]
  },
  {
   "cell_type": "code",
   "execution_count": 52,
   "metadata": {
    "colab": {
     "base_uri": "https://localhost:8080/",
     "height": 470
    },
    "colab_type": "code",
    "id": "Y3clC2ZHDvyj",
    "outputId": "aa68df73-561b-40cb-92f0-749abf317489"
   },
   "outputs": [
    {
     "name": "stderr",
     "output_type": "stream",
     "text": [
      "C:\\Users\\024059\\AppData\\Local\\Continuum\\anaconda3\\lib\\site-packages\\ipykernel_launcher.py:3: UserWarning: Update your `Conv2D` call to the Keras 2 API: `Conv2D(32, (3, 3), input_shape=(32, 32, 1...)`\n",
      "  This is separate from the ipykernel package so we can avoid doing imports until\n",
      "C:\\Users\\024059\\AppData\\Local\\Continuum\\anaconda3\\lib\\site-packages\\ipykernel_launcher.py:7: UserWarning: Update your `Conv2D` call to the Keras 2 API: `Conv2D(32, (3, 3))`\n",
      "  import sys\n",
      "C:\\Users\\024059\\AppData\\Local\\Continuum\\anaconda3\\lib\\site-packages\\ipykernel_launcher.py:27: UserWarning: The `nb_epoch` argument in `fit` has been renamed `epochs`.\n"
     ]
    },
    {
     "name": "stdout",
     "output_type": "stream",
     "text": [
      "Train on 42000 samples, validate on 18000 samples\n",
      "Epoch 1/10\n",
      "42000/42000 [==============================] - 169s 4ms/step - loss: 2.1896 - acc: 0.2154 - val_loss: 1.8185 - val_acc: 0.3779\n",
      "Epoch 2/10\n",
      "42000/42000 [==============================] - 131s 3ms/step - loss: 1.3777 - acc: 0.5634 - val_loss: 1.4779 - val_acc: 0.5656\n",
      "Epoch 3/10\n",
      "42000/42000 [==============================] - 131s 3ms/step - loss: 1.1030 - acc: 0.6645 - val_loss: 1.0012 - val_acc: 0.6980\n",
      "Epoch 4/10\n",
      "42000/42000 [==============================] - 130s 3ms/step - loss: 0.9255 - acc: 0.7246 - val_loss: 0.9193 - val_acc: 0.7283\n",
      "Epoch 5/10\n",
      "42000/42000 [==============================] - 130s 3ms/step - loss: 0.7697 - acc: 0.7718 - val_loss: 0.7740 - val_acc: 0.7727\n",
      "Epoch 6/10\n",
      "42000/42000 [==============================] - 130s 3ms/step - loss: 0.6475 - acc: 0.8087 - val_loss: 0.7357 - val_acc: 0.7840\n",
      "Epoch 7/10\n",
      "42000/42000 [==============================] - 130s 3ms/step - loss: 0.5553 - acc: 0.8377 - val_loss: 0.6149 - val_acc: 0.8279\n",
      "Epoch 8/10\n",
      "42000/42000 [==============================] - 131s 3ms/step - loss: 0.4777 - acc: 0.8609 - val_loss: 0.5613 - val_acc: 0.8463\n",
      "Epoch 9/10\n",
      "42000/42000 [==============================] - 131s 3ms/step - loss: 0.4226 - acc: 0.8772 - val_loss: 0.5720 - val_acc: 0.8454\n",
      "Epoch 10/10\n",
      "42000/42000 [==============================] - 130s 3ms/step - loss: 0.3788 - acc: 0.8887 - val_loss: 0.5488 - val_acc: 0.8514\n"
     ]
    },
    {
     "data": {
      "text/plain": [
       "<keras.callbacks.History at 0x1d99a711dd8>"
      ]
     },
     "execution_count": 52,
     "metadata": {},
     "output_type": "execute_result"
    }
   ],
   "source": [
    "model = Sequential()\n",
    "# 1st Conv Layer\n",
    "model.add(Convolution2D(32, 3, 3, input_shape=(32, 32, 1)))\n",
    "model.add(Activation('relu'))\n",
    "\n",
    "# 2nd Conv Layer\n",
    "model.add(Convolution2D(32, 3, 3))\n",
    "model.add(Activation('relu'))\n",
    "\n",
    "# Fully Connected Layer\n",
    "model.add(Flatten())\n",
    "model.add(Dense(128))\n",
    "model.add(Activation('relu'))\n",
    "\n",
    "# Prediction Layer\n",
    "model.add(Dense(10))\n",
    "model.add(Activation('softmax'))\n",
    "\n",
    "# Loss and Optimizer\n",
    "model.compile(loss='categorical_crossentropy', optimizer='sgd', metrics=['accuracy'])\n",
    "\n",
    "# Store Training Results\n",
    "early_stopping = EarlyStopping(monitor='val_acc', patience=5, verbose=1, mode='auto')\n",
    "callback_list = [early_stopping]\n",
    "\n",
    "# Train the model\n",
    "model.fit(x_train, y_train, batch_size=32, nb_epoch=10, validation_data=(x_test, y_test), callbacks=callback_list)"
   ]
  },
  {
   "cell_type": "code",
   "execution_count": 112,
   "metadata": {},
   "outputs": [
    {
     "name": "stdout",
     "output_type": "stream",
     "text": [
      "60000/60000 [==============================] - 41s 683us/step\n"
     ]
    }
   ],
   "source": [
    "model_loss,model_accuracy=model.evaluate(x_val,y_val)"
   ]
  },
  {
   "cell_type": "code",
   "execution_count": 113,
   "metadata": {},
   "outputs": [
    {
     "data": {
      "text/plain": [
       "0.3928935322254896"
      ]
     },
     "execution_count": 113,
     "metadata": {},
     "output_type": "execute_result"
    }
   ],
   "source": [
    "model_loss"
   ]
  },
  {
   "cell_type": "code",
   "execution_count": 114,
   "metadata": {},
   "outputs": [
    {
     "data": {
      "text/plain": [
       "88.95166666666667"
      ]
     },
     "execution_count": 114,
     "metadata": {},
     "output_type": "execute_result"
    }
   ],
   "source": [
    "model_accuracy*100"
   ]
  },
  {
   "cell_type": "code",
   "execution_count": 111,
   "metadata": {
    "colab": {},
    "colab_type": "code",
    "id": "XejOxxMfvLuG"
   },
   "outputs": [],
   "source": [
    "y_pred_cn=model.predict(x_val)"
   ]
  },
  {
   "cell_type": "code",
   "execution_count": 60,
   "metadata": {},
   "outputs": [
    {
     "data": {
      "text/plain": [
       "array([7.9937615e-02, 1.0791415e-05, 1.2300372e-03, 1.0574368e-02,\n",
       "       7.2749062e-05, 1.6567672e-02, 2.3606102e-01, 2.8600539e-06,\n",
       "       5.3502172e-01, 1.2052115e-01], dtype=float32)"
      ]
     },
     "execution_count": 60,
     "metadata": {},
     "output_type": "execute_result"
    }
   ],
   "source": [
    "y_pred_cn[10]"
   ]
  },
  {
   "cell_type": "code",
   "execution_count": 59,
   "metadata": {},
   "outputs": [
    {
     "data": {
      "text/plain": [
       "array([0., 0., 0., 0., 0., 0., 0., 0., 1., 0.], dtype=float32)"
      ]
     },
     "execution_count": 59,
     "metadata": {},
     "output_type": "execute_result"
    }
   ],
   "source": [
    "np.round(y_pred_cn[10])"
   ]
  },
  {
   "cell_type": "code",
   "execution_count": 115,
   "metadata": {},
   "outputs": [
    {
     "name": "stdout",
     "output_type": "stream",
     "text": [
      "              precision    recall  f1-score   support\n",
      "\n",
      "           0       0.93      0.90      0.92      6000\n",
      "           1       0.92      0.87      0.89      6000\n",
      "           2       0.97      0.86      0.91      6000\n",
      "           3       0.94      0.80      0.86      6000\n",
      "           4       0.97      0.86      0.91      6000\n",
      "           5       0.92      0.86      0.89      6000\n",
      "           6       0.91      0.86      0.89      6000\n",
      "           7       0.95      0.90      0.92      6000\n",
      "           8       0.97      0.72      0.83      6000\n",
      "           9       0.88      0.89      0.89      6000\n",
      "\n",
      "   micro avg       0.93      0.85      0.89     60000\n",
      "   macro avg       0.94      0.85      0.89     60000\n",
      "weighted avg       0.94      0.85      0.89     60000\n",
      " samples avg       0.85      0.85      0.85     60000\n",
      "\n"
     ]
    }
   ],
   "source": [
    "# Making the Classification Matrix\n",
    "\n",
    "\n",
    "print(metrics.classification_report(y_val, np.round(y_pred_cn)))"
   ]
  },
  {
   "cell_type": "markdown",
   "metadata": {},
   "source": [
    "Looking at the CNN model, we can clearly establish that this is the best among KNN, Traditional NN and CNN based on the following factors:\n",
    "    1. Accuracy is 89%\n",
    "    2. Loss is low\n",
    "    3. Good f1-score\n",
    "    4. Good precision and recall"
   ]
  },
  {
   "cell_type": "code",
   "execution_count": 0,
   "metadata": {
    "colab": {},
    "colab_type": "code",
    "id": "5me9pMOuaMmy"
   },
   "outputs": [],
   "source": []
  }
 ],
 "metadata": {
  "colab": {
   "collapsed_sections": [],
   "name": "R7_INN_Project2_Introduction_to_Neural_Networks_and_Deep_Learning.ipynb",
   "provenance": [],
   "version": "0.3.2"
  },
  "kernelspec": {
   "display_name": "Python 3",
   "language": "python",
   "name": "python3"
  },
  "language_info": {
   "codemirror_mode": {
    "name": "ipython",
    "version": 3
   },
   "file_extension": ".py",
   "mimetype": "text/x-python",
   "name": "python",
   "nbconvert_exporter": "python",
   "pygments_lexer": "ipython3",
   "version": "3.7.1"
  }
 },
 "nbformat": 4,
 "nbformat_minor": 1
}
