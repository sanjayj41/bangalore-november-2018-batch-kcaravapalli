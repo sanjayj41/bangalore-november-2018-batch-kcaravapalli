{
  "nbformat": 4,
  "nbformat_minor": 0,
  "metadata": {
    "colab": {
      "name": "R9_External_Lab_Questions.ipynb",
      "version": "0.3.2",
      "provenance": [],
      "collapsed_sections": [],
      "include_colab_link": true
    },
    "kernelspec": {
      "name": "python3",
      "display_name": "Python 3"
    },
    "language_info": {
      "codemirror_mode": {
        "name": "ipython",
        "version": 3
      },
      "file_extension": ".py",
      "mimetype": "text/x-python",
      "name": "python",
      "nbconvert_exporter": "python",
      "pygments_lexer": "ipython3",
      "version": "3.7.3"
    },
    "accelerator": "GPU"
  },
  "cells": [
    {
      "cell_type": "markdown",
      "metadata": {
        "id": "view-in-github",
        "colab_type": "text"
      },
      "source": [
        "<a href=\"https://colab.research.google.com/github/GreatLearningAIML1/bangalore-november-2018-batch-kcaravapalli/blob/master/R9_External_Lab_Questions.ipynb\" target=\"_parent\"><img src=\"https://colab.research.google.com/assets/colab-badge.svg\" alt=\"Open In Colab\"/></a>"
      ]
    },
    {
      "cell_type": "markdown",
      "metadata": {
        "colab_type": "text",
        "id": "WPJHV_CIn6Bg"
      },
      "source": [
        "# U - Net\n",
        "## Problem: \n",
        "\n",
        "Seismic data is collected using reflection seismology, or seismic reflection. The method requires a controlled seismic source of energy, such as compressed air or a seismic vibrator, and sensors record the reflection from rock interfaces within the subsurface. The recorded data is then processed to create a 3D view of earth’s interior. Reflection seismology is similar to X-ray, sonar and echolocation.\n",
        "\n",
        "A seismic image is produced from imaging the reflection coming from rock boundaries. The seismic image shows the boundaries between different rock types. In theory, the strength of reflection is directly proportional to the difference in the physical properties on either sides of the interface. While seismic images show rock boundaries, they don't say much about the rock themselves; some rocks are easy to identify while some are difficult.\n",
        "\n",
        "There are several areas of the world where there are vast quantities of salt in the subsurface. One of the challenges of seismic imaging is to identify the part of subsurface which is salt. Salt has characteristics that makes it both simple and hard to identify. Salt density is usually 2.14 g/cc which is lower than most surrounding rocks. The seismic velocity of salt is 4.5 km/sec, which is usually faster than its surrounding rocks. This difference creates a sharp reflection at the salt-sediment interface. Usually salt is an amorphous rock without much internal structure. This means that there is typically not much reflectivity inside the salt, unless there are sediments trapped inside it. The unusually high seismic velocity of salt can create problems with seismic imaging.\n",
        "\n",
        "### Data\n",
        "The data is a set of images chosen at various locations chosen at random in the subsurface. The images are 101 x 101 pixels and each pixel is classified as either salt or sediment. In addition to the seismic images, the depth of the imaged location is provided for each image. The goal of the competition is to segment regions that contain salt.\n",
        "\n",
        "#### Source: \n",
        "https://www.kaggle.com/c/tgs-salt-identification-challenge\n",
        "\n",
        "\n",
        "### Note: \n",
        "Accept the terms and download data from the above link"
      ]
    },
    {
      "cell_type": "markdown",
      "metadata": {
        "colab_type": "text",
        "id": "3OKrTNUtn-od"
      },
      "source": [
        "### Aim: \n",
        "\n",
        "Implement U-Net neural model architecture in keras to solve this problem.\n",
        "\n",
        "\n",
        "In this, you are asked to segment salt deposits beneath the Earth’s surface. Given a set of seismic images that are 101 x 101 pixels each and each pixel we need to classify as either salt or sediment. Our goal is to segment regions that contain salt. A seismic image is produced from imaging the reflection coming from rock boundaries. The seismic image shows the boundaries between different rock types. "
      ]
    },
    {
      "cell_type": "markdown",
      "metadata": {
        "colab_type": "text",
        "id": "ZUOAF8WWoA1x"
      },
      "source": [
        "### Broad Steps:\n",
        "\n",
        "1. Download the dataset\n",
        "2. Upload to Drive\n",
        "3. Import from drive to colab\n",
        "4. Load the images and create training data.\n",
        "5. Build U-net Model\n",
        "6. Train your model.\n",
        "7. Check the validation accuracy and plot sample."
      ]
    },
    {
      "cell_type": "code",
      "metadata": {
        "colab_type": "code",
        "id": "b7TLNzB6oDep",
        "colab": {}
      },
      "source": [
        "#Importing necessary libraries\n",
        "import os\n",
        "import random\n",
        "import pandas as pd\n",
        "import numpy as np\n",
        "import matplotlib.pyplot as plt\n",
        "plt.style.use(\"ggplot\")\n",
        "%matplotlib inline\n",
        "\n",
        "from tqdm import tqdm_notebook, tnrange\n",
        "from itertools import chain\n",
        "from skimage.io import imread, imshow, concatenate_images\n",
        "from skimage.transform import resize\n",
        "from skimage.morphology import label\n",
        "from sklearn.model_selection import train_test_split\n",
        "from PIL import Image\n",
        "\n",
        "import tensorflow as tf\n",
        "from keras.models import Model, load_model\n",
        "from keras.layers import Input, BatchNormalization, Activation, Dense, Dropout\n",
        "from keras.layers.core import Lambda, RepeatVector, Reshape\n",
        "from keras.layers.convolutional import Conv2D, Conv2DTranspose\n",
        "from keras.layers.pooling import MaxPooling2D, GlobalMaxPool2D\n",
        "from keras.layers.merge import concatenate, add\n",
        "from keras.callbacks import EarlyStopping, ModelCheckpoint, ReduceLROnPlateau\n",
        "from keras.optimizers import Adam\n",
        "from keras.preprocessing.image import ImageDataGenerator, array_to_img, img_to_array, load_img"
      ],
      "execution_count": 0,
      "outputs": []
    },
    {
      "cell_type": "code",
      "metadata": {
        "colab_type": "code",
        "id": "6qiCvW9coD_E",
        "outputId": "b104be5c-2ceb-4c40-918c-ae2f2c783094",
        "colab": {
          "base_uri": "https://localhost:8080/",
          "height": 121
        }
      },
      "source": [
        "#Mount drive\n",
        "from google.colab import drive\n",
        "drive.mount('/content/drive/')"
      ],
      "execution_count": 2,
      "outputs": [
        {
          "output_type": "stream",
          "text": [
            "Go to this URL in a browser: https://accounts.google.com/o/oauth2/auth?client_id=947318989803-6bn6qk8qdgf4n4g3pfee6491hc0brc4i.apps.googleusercontent.com&redirect_uri=urn%3Aietf%3Awg%3Aoauth%3A2.0%3Aoob&scope=email%20https%3A%2F%2Fwww.googleapis.com%2Fauth%2Fdocs.test%20https%3A%2F%2Fwww.googleapis.com%2Fauth%2Fdrive%20https%3A%2F%2Fwww.googleapis.com%2Fauth%2Fdrive.photos.readonly%20https%3A%2F%2Fwww.googleapis.com%2Fauth%2Fpeopleapi.readonly&response_type=code\n",
            "\n",
            "Enter your authorization code:\n",
            "··········\n",
            "Mounted at /content/drive/\n"
          ],
          "name": "stdout"
        }
      ]
    },
    {
      "cell_type": "markdown",
      "metadata": {
        "colab_type": "text",
        "id": "B4IaUgploION"
      },
      "source": [
        "### 1.Set your project path where you have your data and related files for this lab."
      ]
    },
    {
      "cell_type": "code",
      "metadata": {
        "colab_type": "code",
        "id": "0tPkbXWyoK-z",
        "colab": {}
      },
      "source": [
        "import os\n",
        "os.chdir('/content/drive/My Drive/AIML/CNN/Assignment/')"
      ],
      "execution_count": 0,
      "outputs": []
    },
    {
      "cell_type": "code",
      "metadata": {
        "id": "ikaLhMuV2weG",
        "colab_type": "code",
        "outputId": "d0444f4b-ab8d-4bd6-a1a6-fd0ab7a684fb",
        "colab": {
          "base_uri": "https://localhost:8080/",
          "height": 34
        }
      },
      "source": [
        "pwd"
      ],
      "execution_count": 4,
      "outputs": [
        {
          "output_type": "execute_result",
          "data": {
            "text/plain": [
              "'/content/drive/My Drive/AIML/CNN/Assignment'"
            ]
          },
          "metadata": {
            "tags": []
          },
          "execution_count": 4
        }
      ]
    },
    {
      "cell_type": "code",
      "metadata": {
        "colab_type": "code",
        "id": "Kxy5LexhoLMT",
        "colab": {}
      },
      "source": [
        "project_path = os.getcwd()"
      ],
      "execution_count": 0,
      "outputs": []
    },
    {
      "cell_type": "code",
      "metadata": {
        "id": "MRDW1sHGr8zP",
        "colab_type": "code",
        "outputId": "6ea49786-ce82-448d-918e-3cbf2dcd6cfb",
        "colab": {
          "base_uri": "https://localhost:8080/",
          "height": 34
        }
      },
      "source": [
        "project_path"
      ],
      "execution_count": 6,
      "outputs": [
        {
          "output_type": "execute_result",
          "data": {
            "text/plain": [
              "'/content/drive/My Drive/AIML/CNN/Assignment'"
            ]
          },
          "metadata": {
            "tags": []
          },
          "execution_count": 6
        }
      ]
    },
    {
      "cell_type": "markdown",
      "metadata": {
        "colab_type": "text",
        "id": "g15qSXZSoSuL"
      },
      "source": [
        "### 2. Set the necessary parameters"
      ]
    },
    {
      "cell_type": "markdown",
      "metadata": {
        "colab_type": "text",
        "id": "Dzrz2Or_HdxR"
      },
      "source": [
        "## Setup"
      ]
    },
    {
      "cell_type": "code",
      "metadata": {
        "colab_type": "code",
        "id": "3IEaEnuzoW2a",
        "colab": {}
      },
      "source": [
        "im_width = 128      #width of your train image\n",
        "im_height = 128     #hight of your train image\n",
        "#border =        \n",
        "path_train = project_path + '/train/'   #Path for your train data"
      ],
      "execution_count": 0,
      "outputs": []
    },
    {
      "cell_type": "code",
      "metadata": {
        "colab_type": "code",
        "id": "uZQyyn55oKW-",
        "outputId": "88c4b636-fbd7-4fd7-96fa-b8a90e84f48c",
        "colab": {
          "base_uri": "https://localhost:8080/",
          "height": 34
        }
      },
      "source": [
        "path_train"
      ],
      "execution_count": 14,
      "outputs": [
        {
          "output_type": "execute_result",
          "data": {
            "text/plain": [
              "'/content/drive/My Drive/AIML/CNN/Assignment/train/'"
            ]
          },
          "metadata": {
            "tags": []
          },
          "execution_count": 14
        }
      ]
    },
    {
      "cell_type": "markdown",
      "metadata": {
        "colab_type": "text",
        "id": "Q3IoS6RCoZPh"
      },
      "source": [
        "# 3. Make directory for train data at in your project/lab folder.\n",
        "\n",
        "Hint - use !mkdir function."
      ]
    },
    {
      "cell_type": "code",
      "metadata": {
        "colab_type": "code",
        "id": "MRPpQ2QrocBQ",
        "colab": {}
      },
      "source": [
        "!mkdir train"
      ],
      "execution_count": 0,
      "outputs": []
    },
    {
      "cell_type": "code",
      "metadata": {
        "colab_type": "code",
        "id": "RWATodbkocN9",
        "outputId": "52b8b276-8d1c-49e2-d4a6-ee61d0df8b06",
        "colab": {
          "base_uri": "https://localhost:8080/",
          "height": 34
        }
      },
      "source": [
        "ls"
      ],
      "execution_count": 13,
      "outputs": [
        {
          "output_type": "stream",
          "text": [
            "data.zip  R9_External_Lab_Questions.ipynb  \u001b[0m\u001b[01;34mtrain\u001b[0m/  train.zip\n"
          ],
          "name": "stdout"
        }
      ]
    },
    {
      "cell_type": "code",
      "metadata": {
        "id": "3uBw1mQa2etK",
        "colab_type": "code",
        "outputId": "ca9e513e-8c26-4609-b89e-f494623d69f5",
        "colab": {
          "base_uri": "https://localhost:8080/",
          "height": 34
        }
      },
      "source": [
        "!google-drive-ocamlfuse -cc"
      ],
      "execution_count": 0,
      "outputs": [
        {
          "output_type": "stream",
          "text": [
            "/bin/bash: google-drive-ocamlfuse: command not found\n"
          ],
          "name": "stdout"
        }
      ]
    },
    {
      "cell_type": "code",
      "metadata": {
        "id": "Z5fyjLBy2WbL",
        "colab_type": "code",
        "colab": {}
      },
      "source": [
        ""
      ],
      "execution_count": 0,
      "outputs": []
    },
    {
      "cell_type": "markdown",
      "metadata": {
        "colab_type": "text",
        "id": "fRbC22DGoeb7"
      },
      "source": [
        "# 4. Extract your train images to the train directory you have just created above. \n",
        "train.zip and test.zip files available at your google drive/local system.\n",
        "\n",
        "As a good practice - Upload or copy the data at your project path folder.\n",
        "\n",
        "Make sure you are providing the right project_path."
      ]
    },
    {
      "cell_type": "code",
      "metadata": {
        "colab_type": "code",
        "id": "5BtPznFbogjG",
        "colab": {}
      },
      "source": [
        "#For simplicity we have added the required code here.\n",
        "from zipfile import ZipFile\n",
        "\n",
        "with ZipFile(project_path + '/train.zip', 'r') as zf:\n",
        "  zf.extractall(path_train)\n"
      ],
      "execution_count": 0,
      "outputs": []
    },
    {
      "cell_type": "code",
      "metadata": {
        "colab_type": "code",
        "id": "7YZ2prb9oiX4",
        "colab": {}
      },
      "source": [
        "#The train file have both images and masks with the same names_ids."
      ],
      "execution_count": 0,
      "outputs": []
    },
    {
      "cell_type": "code",
      "metadata": {
        "colab_type": "code",
        "id": "zxQ1u8Bvoj1M",
        "outputId": "a2125da3-1f80-4b61-d10f-15b3f398f2fd",
        "colab": {
          "base_uri": "https://localhost:8080/",
          "height": 34
        }
      },
      "source": [
        "path_train"
      ],
      "execution_count": 0,
      "outputs": [
        {
          "output_type": "execute_result",
          "data": {
            "text/plain": [
              "'/content/drive/My Drive/AIML/CNN/Assignment/train/'"
            ]
          },
          "metadata": {
            "tags": []
          },
          "execution_count": 14
        }
      ]
    },
    {
      "cell_type": "markdown",
      "metadata": {
        "colab_type": "text",
        "id": "iwCH81ZWomLA"
      },
      "source": [
        "### 5. Get the list of names of images and masks and name the list imagelist and masklist.\n",
        "\n",
        "Hint - Use os.listdir() funtions."
      ]
    },
    {
      "cell_type": "code",
      "metadata": {
        "colab_type": "code",
        "id": "Clt5ya_JoplC",
        "colab": {}
      },
      "source": [
        "imagelist = os.listdir(path_train + 'images')\n",
        "masklist = os.listdir(path_train + 'masks')"
      ],
      "execution_count": 0,
      "outputs": []
    },
    {
      "cell_type": "code",
      "metadata": {
        "colab_type": "code",
        "id": "-vHPQoHVoppK",
        "outputId": "d8223c87-e013-457d-d47e-5b675a763fbc",
        "colab": {
          "base_uri": "https://localhost:8080/",
          "height": 84
        }
      },
      "source": [
        "#Test your list names by printing some of the names as given below.\n",
        "print(imagelist[-1])\n",
        "print(masklist[-1])\n",
        "print(imagelist[10])\n",
        "print(masklist[10])"
      ],
      "execution_count": 17,
      "outputs": [
        {
          "output_type": "stream",
          "text": [
            "7cc53fe88b.png\n",
            "7cc53fe88b.png\n",
            "de08c5a3b7.png\n",
            "de08c5a3b7.png\n"
          ],
          "name": "stdout"
        }
      ]
    },
    {
      "cell_type": "code",
      "metadata": {
        "colab_type": "code",
        "id": "WUZw-kSKoqIr",
        "colab": {}
      },
      "source": [
        ""
      ],
      "execution_count": 0,
      "outputs": []
    },
    {
      "cell_type": "markdown",
      "metadata": {
        "colab_type": "text",
        "id": "1t8raFq5ous8"
      },
      "source": [
        "# 6. Read and test your images and respective masks.\n",
        "\n",
        "Hint -\n",
        "\n",
        "import  matplotlib.pyplot as plt\n",
        "\n",
        "import cv2\n",
        "\n",
        "plt.imshow(cv2.imread('path of image'))\n",
        "\n",
        "plt.imshow(cv2.imread('path of mask'))\n"
      ]
    },
    {
      "cell_type": "code",
      "metadata": {
        "id": "T1wZxJJIQxLj",
        "colab_type": "code",
        "colab": {}
      },
      "source": [
        "import cv2"
      ],
      "execution_count": 0,
      "outputs": []
    },
    {
      "cell_type": "code",
      "metadata": {
        "colab_type": "code",
        "id": "1gGpCSPpovvH",
        "colab": {
          "base_uri": "https://localhost:8080/",
          "height": 286
        },
        "outputId": "8550b691-3495-4f62-d478-3f3fa9287b2b"
      },
      "source": [
        "plt.imshow(cv2.imread(path_train + 'images/' + imagelist[-1]))"
      ],
      "execution_count": 23,
      "outputs": [
        {
          "output_type": "execute_result",
          "data": {
            "text/plain": [
              "<matplotlib.image.AxesImage at 0x7f84805a5f98>"
            ]
          },
          "metadata": {
            "tags": []
          },
          "execution_count": 23
        },
        {
          "output_type": "display_data",
          "data": {
            "image/png": "[encoded data removed]",
            "text/plain": [
              "<Figure size 432x288 with 1 Axes>"
            ]
          },
          "metadata": {
            "tags": []
          }
        }
      ]
    },
    {
      "cell_type": "code",
      "metadata": {
        "colab_type": "code",
        "id": "9E-McW2toyaR",
        "colab": {
          "base_uri": "https://localhost:8080/",
          "height": 286
        },
        "outputId": "93e6934a-73ba-4507-f344-6cf520246db7"
      },
      "source": [
        "plt.imshow(cv2.imread(path_train + 'masks/' + masklist[-1]))"
      ],
      "execution_count": 24,
      "outputs": [
        {
          "output_type": "execute_result",
          "data": {
            "text/plain": [
              "<matplotlib.image.AxesImage at 0x7f848050ccf8>"
            ]
          },
          "metadata": {
            "tags": []
          },
          "execution_count": 24
        },
        {
          "output_type": "display_data",
          "data": {
            "image/png": "[encoded data removed]",
            "text/plain": [
              "<Figure size 432x288 with 1 Axes>"
            ]
          },
          "metadata": {
            "tags": []
          }
        }
      ]
    },
    {
      "cell_type": "markdown",
      "metadata": {
        "colab_type": "text",
        "id": "_qFeroMNoylc"
      },
      "source": [
        "# 7. Create your training data.\n",
        "\n",
        "Hints - \n",
        "\n",
        "image_path = os.path.join(project_path +'path of your image directory' +n )\n",
        "\n",
        "mask_path = os.path.join(project_path +'path of your mask directory'+n )"
      ]
    },
    {
      "cell_type": "code",
      "metadata": {
        "colab_type": "code",
        "id": "gJbRVbL4o1qT",
        "colab": {
          "base_uri": "https://localhost:8080/",
          "height": 34
        },
        "outputId": "19f8c047-a3c2-4db4-de4f-04be54e4c30c"
      },
      "source": [
        "# Get and resize train images and masks\n",
        "def get_data():\n",
        "    X = np.zeros(((len(imagelist), im_height, im_width, 1)), dtype=np.float32) # Create an array for image\n",
        "    y = np.zeros(((len(masklist), im_height, im_width, 1)), dtype=np.float32) #Create an array for mask\n",
        "    \n",
        "    for n in imagelist: \n",
        "        k = imagelist.index(n)\n",
        "        ##Add image_path\n",
        "        image_path =  os.path.join(path_train + 'images/' +n)\n",
        "        ##Add mask_path\n",
        "        mask_path =   os.path.join(path_train + 'masks/' +n)                                                         \n",
        "        \n",
        "        # Load images and resize to (128,128,1)\n",
        "        img=Image.open(image_path)\n",
        "        img=img.resize((im_height, im_width))\n",
        "        resized_img=np.reshape(img.convert('L'),(128,128,1))\n",
        "        \n",
        "        # Load masks and resize to (128,128,1)\n",
        "        msk=Image.open(mask_path)\n",
        "        msk=msk.resize((im_height, im_width))\n",
        "        resized_mask=np.reshape(msk.convert('L'),(128,128,1))\n",
        "        \n",
        "        # Save images\n",
        "        X[k, ..., 0] = resized_img.squeeze() / 255\n",
        "        y[k] = resized_mask/255\n",
        "    print('Done!')\n",
        "    #if train:\n",
        "    #    return X, y\n",
        "    #else:\n",
        "    return X, y\n",
        "    \n",
        "X, y = get_data()"
      ],
      "execution_count": 34,
      "outputs": [
        {
          "output_type": "stream",
          "text": [
            "Done!\n"
          ],
          "name": "stdout"
        }
      ]
    },
    {
      "cell_type": "code",
      "metadata": {
        "colab_type": "code",
        "id": "kt6zXJPHo35y",
        "colab": {}
      },
      "source": [
        "# Split train and valid\n",
        "from sklearn.model_selection import train_test_split\n",
        "X_train, X_valid, y_train, y_valid = train_test_split(X, y, test_size=0.15, random_state=2019)"
      ],
      "execution_count": 0,
      "outputs": []
    },
    {
      "cell_type": "code",
      "metadata": {
        "colab_type": "code",
        "id": "mh_SRFGro6wr",
        "colab": {
          "base_uri": "https://localhost:8080/",
          "height": 319
        },
        "outputId": "15db19f5-5a9e-4e9e-90a1-95a444f58cf2"
      },
      "source": [
        "## Test your data whether it looks fine - Random check\n",
        "import random \n",
        "# Check if training data looks all right\n",
        "ix = random.randint(0, len(X_train))\n",
        "has_mask = y_train[ix].max() > 0\n",
        "\n",
        "fig, ax = plt.subplots(1, 2, figsize=(10, 10))\n",
        "\n",
        "ax[0].imshow(X_train[ix, ..., 0], cmap='seismic', interpolation='bilinear')\n",
        "if has_mask:\n",
        "    ax[0].contour(y_train[ix].squeeze(), colors='k', levels=[0.5])\n",
        "ax[0].set_title('Seismic')\n",
        "\n",
        "ax[1].imshow(y_train[ix].squeeze(), interpolation='bilinear', cmap='gray')\n",
        "ax[1].set_title('Salt');\n",
        "\n",
        "\n"
      ],
      "execution_count": 37,
      "outputs": [
        {
          "output_type": "display_data",
          "data": {
            "image/png": "[encoded data removed]",
            "text/plain": [
              "<Figure size 720x720 with 2 Axes>"
            ]
          },
          "metadata": {
            "tags": []
          }
        }
      ]
    },
    {
      "cell_type": "code",
      "metadata": {
        "colab_type": "code",
        "id": "aqMLP_Jwo8K5",
        "colab": {}
      },
      "source": [
        ""
      ],
      "execution_count": 0,
      "outputs": []
    },
    {
      "cell_type": "code",
      "metadata": {
        "colab_type": "code",
        "id": "_-JXuxrRo8a6",
        "colab": {}
      },
      "source": [
        ""
      ],
      "execution_count": 0,
      "outputs": []
    },
    {
      "cell_type": "markdown",
      "metadata": {
        "colab_type": "text",
        "id": "em5jGV93o8qR"
      },
      "source": [
        "### 8. Define loss and dice_coeff function."
      ]
    },
    {
      "cell_type": "code",
      "metadata": {
        "colab_type": "code",
        "id": "Uyxf8uhQpA78",
        "colab": {}
      },
      "source": [
        "def dice_coefficient(y_true, y_pred):\n",
        "    numerator = 2 * tf.reduce_sum(y_true * y_pred)\n",
        "    denominator = tf.reduce_sum(y_true + y_pred)\n",
        "\n",
        "    return numerator / (denominator + tf.keras.backend.epsilon())"
      ],
      "execution_count": 0,
      "outputs": []
    },
    {
      "cell_type": "code",
      "metadata": {
        "colab_type": "code",
        "id": "EmCjyEUUpA_V",
        "colab": {}
      },
      "source": [
        "def loss(y_true, y_pred):\n",
        "    return binary_crossentropy(y_true, y_pred) - tf.log(dice_coefficient(y_true, y_pred) + tf.keras.backend.epsilon())"
      ],
      "execution_count": 0,
      "outputs": []
    },
    {
      "cell_type": "markdown",
      "metadata": {
        "colab_type": "text",
        "id": "-ofKZA-9pDVJ"
      },
      "source": [
        "### 9. Build and compile UNet Model for your data.\n",
        "\n",
        "Hint - \n",
        "You can install and use segmentation models from this github repository.\n",
        "\n",
        "#Install segmentation models\n",
        "\n",
        "!pip install git+https://github.com/qubvel/segmentation_models"
      ]
    },
    {
      "cell_type": "code",
      "metadata": {
        "id": "QsypM2pLdl6P",
        "colab_type": "code",
        "colab": {
          "base_uri": "https://localhost:8080/",
          "height": 844
        },
        "outputId": "e36dcc30-2b72-4a9d-fc8c-a5fd98631c34"
      },
      "source": [
        "!pip install git+https://github.com/qubvel/segmentation_models"
      ],
      "execution_count": 38,
      "outputs": [
        {
          "output_type": "stream",
          "text": [
            "Collecting git+https://github.com/qubvel/segmentation_models\n",
            "  Cloning https://github.com/qubvel/segmentation_models to /tmp/pip-req-build-d7j2pcoz\n",
            "  Running command git clone -q https://github.com/qubvel/segmentation_models /tmp/pip-req-build-d7j2pcoz\n",
            "  Running command git submodule update --init --recursive -q\n",
            "Requirement already satisfied: keras>=2.2.0 in /usr/local/lib/python3.6/dist-packages (from segmentation-models==0.2.1) (2.2.4)\n",
            "Collecting keras_applications==1.0.7 (from segmentation-models==0.2.1)\n",
            "\u001b[?25l  Downloading https://files.pythonhosted.org/packages/90/85/64c82949765cfb246bbdaf5aca2d55f400f792655927a017710a78445def/Keras_Applications-1.0.7-py2.py3-none-any.whl (51kB)\n",
            "\u001b[K     |████████████████████████████████| 61kB 2.3MB/s \n",
            "\u001b[?25hRequirement already satisfied: scikit-image in /usr/local/lib/python3.6/dist-packages (from segmentation-models==0.2.1) (0.15.0)\n",
            "Collecting image-classifiers==0.2.0 (from segmentation-models==0.2.1)\n",
            "\u001b[?25l  Downloading https://files.pythonhosted.org/packages/de/32/a1e74e03f74506d1e4b46bb2732ca5a7b18ac52a36b5e3547e63537ce74c/image_classifiers-0.2.0-py2.py3-none-any.whl (76kB)\n",
            "\u001b[K     |████████████████████████████████| 81kB 5.9MB/s \n",
            "\u001b[?25hCollecting efficientnet>=0.0.4 (from segmentation-models==0.2.1)\n",
            "  Downloading https://files.pythonhosted.org/packages/a6/80/f2c098284f7c07491e66af18d9a5fea595d4b507d10c0845275b8d47dc6f/efficientnet-0.0.4.tar.gz\n",
            "Requirement already satisfied: pyyaml in /usr/local/lib/python3.6/dist-packages (from keras>=2.2.0->segmentation-models==0.2.1) (3.13)\n",
            "Requirement already satisfied: numpy>=1.9.1 in /usr/local/lib/python3.6/dist-packages (from keras>=2.2.0->segmentation-models==0.2.1) (1.16.4)\n",
            "Requirement already satisfied: scipy>=0.14 in /usr/local/lib/python3.6/dist-packages (from keras>=2.2.0->segmentation-models==0.2.1) (1.3.0)\n",
            "Requirement already satisfied: h5py in /usr/local/lib/python3.6/dist-packages (from keras>=2.2.0->segmentation-models==0.2.1) (2.8.0)\n",
            "Requirement already satisfied: keras-preprocessing>=1.0.5 in /usr/local/lib/python3.6/dist-packages (from keras>=2.2.0->segmentation-models==0.2.1) (1.1.0)\n",
            "Requirement already satisfied: six>=1.9.0 in /usr/local/lib/python3.6/dist-packages (from keras>=2.2.0->segmentation-models==0.2.1) (1.12.0)\n",
            "Requirement already satisfied: matplotlib!=3.0.0,>=2.0.0 in /usr/local/lib/python3.6/dist-packages (from scikit-image->segmentation-models==0.2.1) (3.0.3)\n",
            "Requirement already satisfied: imageio>=2.0.1 in /usr/local/lib/python3.6/dist-packages (from scikit-image->segmentation-models==0.2.1) (2.4.1)\n",
            "Requirement already satisfied: PyWavelets>=0.4.0 in /usr/local/lib/python3.6/dist-packages (from scikit-image->segmentation-models==0.2.1) (1.0.3)\n",
            "Requirement already satisfied: pillow>=4.3.0 in /usr/local/lib/python3.6/dist-packages (from scikit-image->segmentation-models==0.2.1) (4.3.0)\n",
            "Requirement already satisfied: networkx>=2.0 in /usr/local/lib/python3.6/dist-packages (from scikit-image->segmentation-models==0.2.1) (2.3)\n",
            "Requirement already satisfied: pyparsing!=2.0.4,!=2.1.2,!=2.1.6,>=2.0.1 in /usr/local/lib/python3.6/dist-packages (from matplotlib!=3.0.0,>=2.0.0->scikit-image->segmentation-models==0.2.1) (2.4.0)\n",
            "Requirement already satisfied: cycler>=0.10 in /usr/local/lib/python3.6/dist-packages (from matplotlib!=3.0.0,>=2.0.0->scikit-image->segmentation-models==0.2.1) (0.10.0)\n",
            "Requirement already satisfied: python-dateutil>=2.1 in /usr/local/lib/python3.6/dist-packages (from matplotlib!=3.0.0,>=2.0.0->scikit-image->segmentation-models==0.2.1) (2.5.3)\n",
            "Requirement already satisfied: kiwisolver>=1.0.1 in /usr/local/lib/python3.6/dist-packages (from matplotlib!=3.0.0,>=2.0.0->scikit-image->segmentation-models==0.2.1) (1.1.0)\n",
            "Requirement already satisfied: olefile in /usr/local/lib/python3.6/dist-packages (from pillow>=4.3.0->scikit-image->segmentation-models==0.2.1) (0.46)\n",
            "Requirement already satisfied: decorator>=4.3.0 in /usr/local/lib/python3.6/dist-packages (from networkx>=2.0->scikit-image->segmentation-models==0.2.1) (4.4.0)\n",
            "Requirement already satisfied: setuptools in /usr/local/lib/python3.6/dist-packages (from kiwisolver>=1.0.1->matplotlib!=3.0.0,>=2.0.0->scikit-image->segmentation-models==0.2.1) (41.0.1)\n",
            "Building wheels for collected packages: segmentation-models, efficientnet\n",
            "  Building wheel for segmentation-models (setup.py) ... \u001b[?25l\u001b[?25hdone\n",
            "  Stored in directory: /tmp/pip-ephem-wheel-cache-cgpjrnst/wheels/49/cf/46/cbb4bb64518c402aea99df9d466f1081450597e653256bbcf4\n",
            "  Building wheel for efficientnet (setup.py) ... \u001b[?25l\u001b[?25hdone\n",
            "  Stored in directory: /root/.cache/pip/wheels/5c/34/68/a611a699a28239e964ccf144c0e767cdb5439fee82ec5de6e0\n",
            "Successfully built segmentation-models efficientnet\n",
            "Installing collected packages: keras-applications, image-classifiers, efficientnet, segmentation-models\n",
            "  Found existing installation: Keras-Applications 1.0.8\n",
            "    Uninstalling Keras-Applications-1.0.8:\n",
            "      Successfully uninstalled Keras-Applications-1.0.8\n",
            "Successfully installed efficientnet-0.0.4 image-classifiers-0.2.0 keras-applications-1.0.7 segmentation-models-0.2.1\n"
          ],
          "name": "stdout"
        },
        {
          "output_type": "display_data",
          "data": {
            "application/vnd.colab-display-data+json": {
              "pip_warning": {
                "packages": [
                  "keras_applications"
                ]
              }
            }
          },
          "metadata": {
            "tags": []
          }
        }
      ]
    },
    {
      "cell_type": "code",
      "metadata": {
        "id": "U8Af4Vuxd5mK",
        "colab_type": "code",
        "colab": {
          "base_uri": "https://localhost:8080/",
          "height": 50
        },
        "outputId": "6b9c82ce-eb34-41b5-9af1-322442acc68e"
      },
      "source": [
        "#Import libraries\n",
        "from segmentation_models import Unet\n",
        "from segmentation_models.backbones import get_preprocessing\n",
        "from segmentation_models.losses import bce_jaccard_loss\n",
        "from segmentation_models.metrics import iou_score\n",
        "\n",
        "from keras.layers import Input, Conv2D, Reshape\n",
        "from keras.models import Model"
      ],
      "execution_count": 39,
      "outputs": [
        {
          "output_type": "stream",
          "text": [
            "/usr/local/lib/python3.6/dist-packages/classification_models/resnext/__init__.py:4: UserWarning: Current ResNext models are deprecated, use keras.applications ResNeXt models\n",
            "  warnings.warn('Current ResNext models are deprecated, '\n"
          ],
          "name": "stderr"
        }
      ]
    },
    {
      "cell_type": "code",
      "metadata": {
        "colab_type": "code",
        "id": "456utznCpGco",
        "colab": {
          "base_uri": "https://localhost:8080/",
          "height": 322
        },
        "outputId": "78d53492-747f-4b5e-9614-44d9da81a67a"
      },
      "source": [
        "model = Unet(backbone_name='resnet34', encoder_weights=None, input_shape=(None, None, 1))\n",
        "#compile your model by adding the parameters like optimizer, loss and metrics.\n",
        "\n"
      ],
      "execution_count": 40,
      "outputs": [
        {
          "output_type": "stream",
          "text": [
            "WARNING: Logging before flag parsing goes to stderr.\n",
            "W0720 09:09:05.827865 140208747034496 deprecation_wrapper.py:119] From /usr/local/lib/python3.6/dist-packages/keras/backend/tensorflow_backend.py:517: The name tf.placeholder is deprecated. Please use tf.compat.v1.placeholder instead.\n",
            "\n",
            "W0720 09:09:05.894594 140208747034496 deprecation_wrapper.py:119] From /usr/local/lib/python3.6/dist-packages/keras/backend/tensorflow_backend.py:245: The name tf.get_default_graph is deprecated. Please use tf.compat.v1.get_default_graph instead.\n",
            "\n",
            "W0720 09:09:05.896270 140208747034496 deprecation_wrapper.py:119] From /usr/local/lib/python3.6/dist-packages/keras/backend/tensorflow_backend.py:174: The name tf.get_default_session is deprecated. Please use tf.compat.v1.get_default_session instead.\n",
            "\n",
            "W0720 09:09:05.899101 140208747034496 deprecation_wrapper.py:119] From /usr/local/lib/python3.6/dist-packages/keras/backend/tensorflow_backend.py:181: The name tf.ConfigProto is deprecated. Please use tf.compat.v1.ConfigProto instead.\n",
            "\n",
            "W0720 09:09:05.900893 140208747034496 deprecation_wrapper.py:119] From /usr/local/lib/python3.6/dist-packages/keras/backend/tensorflow_backend.py:186: The name tf.Session is deprecated. Please use tf.compat.v1.Session instead.\n",
            "\n",
            "W0720 09:09:08.724387 140208747034496 deprecation_wrapper.py:119] From /usr/local/lib/python3.6/dist-packages/keras/backend/tensorflow_backend.py:1834: The name tf.nn.fused_batch_norm is deprecated. Please use tf.compat.v1.nn.fused_batch_norm instead.\n",
            "\n",
            "W0720 09:09:08.932469 140208747034496 deprecation_wrapper.py:119] From /usr/local/lib/python3.6/dist-packages/keras/backend/tensorflow_backend.py:3976: The name tf.nn.max_pool is deprecated. Please use tf.nn.max_pool2d instead.\n",
            "\n",
            "W0720 09:09:12.650919 140208747034496 deprecation_wrapper.py:119] From /usr/local/lib/python3.6/dist-packages/keras/backend/tensorflow_backend.py:2018: The name tf.image.resize_nearest_neighbor is deprecated. Please use tf.compat.v1.image.resize_nearest_neighbor instead.\n",
            "\n"
          ],
          "name": "stderr"
        }
      ]
    },
    {
      "cell_type": "code",
      "metadata": {
        "colab_type": "code",
        "id": "eL1lRlXDpIHl",
        "colab": {
          "base_uri": "https://localhost:8080/",
          "height": 1000
        },
        "outputId": "7872586f-6c90-43b7-b1c5-969cccb272b5"
      },
      "source": [
        "#Get the summary of your model\n",
        "model.summary()"
      ],
      "execution_count": 41,
      "outputs": [
        {
          "output_type": "stream",
          "text": [
            "__________________________________________________________________________________________________\n",
            "Layer (type)                    Output Shape         Param #     Connected to                     \n",
            "==================================================================================================\n",
            "data (InputLayer)               (None, None, None, 1 0                                            \n",
            "__________________________________________________________________________________________________\n",
            "bn_data (BatchNormalization)    (None, None, None, 1 3           data[0][0]                       \n",
            "__________________________________________________________________________________________________\n",
            "zero_padding2d_1 (ZeroPadding2D (None, None, None, 1 0           bn_data[0][0]                    \n",
            "__________________________________________________________________________________________________\n",
            "conv0 (Conv2D)                  (None, None, None, 6 3136        zero_padding2d_1[0][0]           \n",
            "__________________________________________________________________________________________________\n",
            "bn0 (BatchNormalization)        (None, None, None, 6 256         conv0[0][0]                      \n",
            "__________________________________________________________________________________________________\n",
            "relu0 (Activation)              (None, None, None, 6 0           bn0[0][0]                        \n",
            "__________________________________________________________________________________________________\n",
            "zero_padding2d_2 (ZeroPadding2D (None, None, None, 6 0           relu0[0][0]                      \n",
            "__________________________________________________________________________________________________\n",
            "pooling0 (MaxPooling2D)         (None, None, None, 6 0           zero_padding2d_2[0][0]           \n",
            "__________________________________________________________________________________________________\n",
            "stage1_unit1_bn1 (BatchNormaliz (None, None, None, 6 256         pooling0[0][0]                   \n",
            "__________________________________________________________________________________________________\n",
            "stage1_unit1_relu1 (Activation) (None, None, None, 6 0           stage1_unit1_bn1[0][0]           \n",
            "__________________________________________________________________________________________________\n",
            "zero_padding2d_3 (ZeroPadding2D (None, None, None, 6 0           stage1_unit1_relu1[0][0]         \n",
            "__________________________________________________________________________________________________\n",
            "stage1_unit1_conv1 (Conv2D)     (None, None, None, 6 36864       zero_padding2d_3[0][0]           \n",
            "__________________________________________________________________________________________________\n",
            "stage1_unit1_bn2 (BatchNormaliz (None, None, None, 6 256         stage1_unit1_conv1[0][0]         \n",
            "__________________________________________________________________________________________________\n",
            "stage1_unit1_relu2 (Activation) (None, None, None, 6 0           stage1_unit1_bn2[0][0]           \n",
            "__________________________________________________________________________________________________\n",
            "zero_padding2d_4 (ZeroPadding2D (None, None, None, 6 0           stage1_unit1_relu2[0][0]         \n",
            "__________________________________________________________________________________________________\n",
            "stage1_unit1_conv2 (Conv2D)     (None, None, None, 6 36864       zero_padding2d_4[0][0]           \n",
            "__________________________________________________________________________________________________\n",
            "stage1_unit1_sc (Conv2D)        (None, None, None, 6 4096        stage1_unit1_relu1[0][0]         \n",
            "__________________________________________________________________________________________________\n",
            "add_1 (Add)                     (None, None, None, 6 0           stage1_unit1_conv2[0][0]         \n",
            "                                                                 stage1_unit1_sc[0][0]            \n",
            "__________________________________________________________________________________________________\n",
            "stage1_unit2_bn1 (BatchNormaliz (None, None, None, 6 256         add_1[0][0]                      \n",
            "__________________________________________________________________________________________________\n",
            "stage1_unit2_relu1 (Activation) (None, None, None, 6 0           stage1_unit2_bn1[0][0]           \n",
            "__________________________________________________________________________________________________\n",
            "zero_padding2d_5 (ZeroPadding2D (None, None, None, 6 0           stage1_unit2_relu1[0][0]         \n",
            "__________________________________________________________________________________________________\n",
            "stage1_unit2_conv1 (Conv2D)     (None, None, None, 6 36864       zero_padding2d_5[0][0]           \n",
            "__________________________________________________________________________________________________\n",
            "stage1_unit2_bn2 (BatchNormaliz (None, None, None, 6 256         stage1_unit2_conv1[0][0]         \n",
            "__________________________________________________________________________________________________\n",
            "stage1_unit2_relu2 (Activation) (None, None, None, 6 0           stage1_unit2_bn2[0][0]           \n",
            "__________________________________________________________________________________________________\n",
            "zero_padding2d_6 (ZeroPadding2D (None, None, None, 6 0           stage1_unit2_relu2[0][0]         \n",
            "__________________________________________________________________________________________________\n",
            "stage1_unit2_conv2 (Conv2D)     (None, None, None, 6 36864       zero_padding2d_6[0][0]           \n",
            "__________________________________________________________________________________________________\n",
            "add_2 (Add)                     (None, None, None, 6 0           stage1_unit2_conv2[0][0]         \n",
            "                                                                 add_1[0][0]                      \n",
            "__________________________________________________________________________________________________\n",
            "stage1_unit3_bn1 (BatchNormaliz (None, None, None, 6 256         add_2[0][0]                      \n",
            "__________________________________________________________________________________________________\n",
            "stage1_unit3_relu1 (Activation) (None, None, None, 6 0           stage1_unit3_bn1[0][0]           \n",
            "__________________________________________________________________________________________________\n",
            "zero_padding2d_7 (ZeroPadding2D (None, None, None, 6 0           stage1_unit3_relu1[0][0]         \n",
            "__________________________________________________________________________________________________\n",
            "stage1_unit3_conv1 (Conv2D)     (None, None, None, 6 36864       zero_padding2d_7[0][0]           \n",
            "__________________________________________________________________________________________________\n",
            "stage1_unit3_bn2 (BatchNormaliz (None, None, None, 6 256         stage1_unit3_conv1[0][0]         \n",
            "__________________________________________________________________________________________________\n",
            "stage1_unit3_relu2 (Activation) (None, None, None, 6 0           stage1_unit3_bn2[0][0]           \n",
            "__________________________________________________________________________________________________\n",
            "zero_padding2d_8 (ZeroPadding2D (None, None, None, 6 0           stage1_unit3_relu2[0][0]         \n",
            "__________________________________________________________________________________________________\n",
            "stage1_unit3_conv2 (Conv2D)     (None, None, None, 6 36864       zero_padding2d_8[0][0]           \n",
            "__________________________________________________________________________________________________\n",
            "add_3 (Add)                     (None, None, None, 6 0           stage1_unit3_conv2[0][0]         \n",
            "                                                                 add_2[0][0]                      \n",
            "__________________________________________________________________________________________________\n",
            "stage2_unit1_bn1 (BatchNormaliz (None, None, None, 6 256         add_3[0][0]                      \n",
            "__________________________________________________________________________________________________\n",
            "stage2_unit1_relu1 (Activation) (None, None, None, 6 0           stage2_unit1_bn1[0][0]           \n",
            "__________________________________________________________________________________________________\n",
            "zero_padding2d_9 (ZeroPadding2D (None, None, None, 6 0           stage2_unit1_relu1[0][0]         \n",
            "__________________________________________________________________________________________________\n",
            "stage2_unit1_conv1 (Conv2D)     (None, None, None, 1 73728       zero_padding2d_9[0][0]           \n",
            "__________________________________________________________________________________________________\n",
            "stage2_unit1_bn2 (BatchNormaliz (None, None, None, 1 512         stage2_unit1_conv1[0][0]         \n",
            "__________________________________________________________________________________________________\n",
            "stage2_unit1_relu2 (Activation) (None, None, None, 1 0           stage2_unit1_bn2[0][0]           \n",
            "__________________________________________________________________________________________________\n",
            "zero_padding2d_10 (ZeroPadding2 (None, None, None, 1 0           stage2_unit1_relu2[0][0]         \n",
            "__________________________________________________________________________________________________\n",
            "stage2_unit1_conv2 (Conv2D)     (None, None, None, 1 147456      zero_padding2d_10[0][0]          \n",
            "__________________________________________________________________________________________________\n",
            "stage2_unit1_sc (Conv2D)        (None, None, None, 1 8192        stage2_unit1_relu1[0][0]         \n",
            "__________________________________________________________________________________________________\n",
            "add_4 (Add)                     (None, None, None, 1 0           stage2_unit1_conv2[0][0]         \n",
            "                                                                 stage2_unit1_sc[0][0]            \n",
            "__________________________________________________________________________________________________\n",
            "stage2_unit2_bn1 (BatchNormaliz (None, None, None, 1 512         add_4[0][0]                      \n",
            "__________________________________________________________________________________________________\n",
            "stage2_unit2_relu1 (Activation) (None, None, None, 1 0           stage2_unit2_bn1[0][0]           \n",
            "__________________________________________________________________________________________________\n",
            "zero_padding2d_11 (ZeroPadding2 (None, None, None, 1 0           stage2_unit2_relu1[0][0]         \n",
            "__________________________________________________________________________________________________\n",
            "stage2_unit2_conv1 (Conv2D)     (None, None, None, 1 147456      zero_padding2d_11[0][0]          \n",
            "__________________________________________________________________________________________________\n",
            "stage2_unit2_bn2 (BatchNormaliz (None, None, None, 1 512         stage2_unit2_conv1[0][0]         \n",
            "__________________________________________________________________________________________________\n",
            "stage2_unit2_relu2 (Activation) (None, None, None, 1 0           stage2_unit2_bn2[0][0]           \n",
            "__________________________________________________________________________________________________\n",
            "zero_padding2d_12 (ZeroPadding2 (None, None, None, 1 0           stage2_unit2_relu2[0][0]         \n",
            "__________________________________________________________________________________________________\n",
            "stage2_unit2_conv2 (Conv2D)     (None, None, None, 1 147456      zero_padding2d_12[0][0]          \n",
            "__________________________________________________________________________________________________\n",
            "add_5 (Add)                     (None, None, None, 1 0           stage2_unit2_conv2[0][0]         \n",
            "                                                                 add_4[0][0]                      \n",
            "__________________________________________________________________________________________________\n",
            "stage2_unit3_bn1 (BatchNormaliz (None, None, None, 1 512         add_5[0][0]                      \n",
            "__________________________________________________________________________________________________\n",
            "stage2_unit3_relu1 (Activation) (None, None, None, 1 0           stage2_unit3_bn1[0][0]           \n",
            "__________________________________________________________________________________________________\n",
            "zero_padding2d_13 (ZeroPadding2 (None, None, None, 1 0           stage2_unit3_relu1[0][0]         \n",
            "__________________________________________________________________________________________________\n",
            "stage2_unit3_conv1 (Conv2D)     (None, None, None, 1 147456      zero_padding2d_13[0][0]          \n",
            "__________________________________________________________________________________________________\n",
            "stage2_unit3_bn2 (BatchNormaliz (None, None, None, 1 512         stage2_unit3_conv1[0][0]         \n",
            "__________________________________________________________________________________________________\n",
            "stage2_unit3_relu2 (Activation) (None, None, None, 1 0           stage2_unit3_bn2[0][0]           \n",
            "__________________________________________________________________________________________________\n",
            "zero_padding2d_14 (ZeroPadding2 (None, None, None, 1 0           stage2_unit3_relu2[0][0]         \n",
            "__________________________________________________________________________________________________\n",
            "stage2_unit3_conv2 (Conv2D)     (None, None, None, 1 147456      zero_padding2d_14[0][0]          \n",
            "__________________________________________________________________________________________________\n",
            "add_6 (Add)                     (None, None, None, 1 0           stage2_unit3_conv2[0][0]         \n",
            "                                                                 add_5[0][0]                      \n",
            "__________________________________________________________________________________________________\n",
            "stage2_unit4_bn1 (BatchNormaliz (None, None, None, 1 512         add_6[0][0]                      \n",
            "__________________________________________________________________________________________________\n",
            "stage2_unit4_relu1 (Activation) (None, None, None, 1 0           stage2_unit4_bn1[0][0]           \n",
            "__________________________________________________________________________________________________\n",
            "zero_padding2d_15 (ZeroPadding2 (None, None, None, 1 0           stage2_unit4_relu1[0][0]         \n",
            "__________________________________________________________________________________________________\n",
            "stage2_unit4_conv1 (Conv2D)     (None, None, None, 1 147456      zero_padding2d_15[0][0]          \n",
            "__________________________________________________________________________________________________\n",
            "stage2_unit4_bn2 (BatchNormaliz (None, None, None, 1 512         stage2_unit4_conv1[0][0]         \n",
            "__________________________________________________________________________________________________\n",
            "stage2_unit4_relu2 (Activation) (None, None, None, 1 0           stage2_unit4_bn2[0][0]           \n",
            "__________________________________________________________________________________________________\n",
            "zero_padding2d_16 (ZeroPadding2 (None, None, None, 1 0           stage2_unit4_relu2[0][0]         \n",
            "__________________________________________________________________________________________________\n",
            "stage2_unit4_conv2 (Conv2D)     (None, None, None, 1 147456      zero_padding2d_16[0][0]          \n",
            "__________________________________________________________________________________________________\n",
            "add_7 (Add)                     (None, None, None, 1 0           stage2_unit4_conv2[0][0]         \n",
            "                                                                 add_6[0][0]                      \n",
            "__________________________________________________________________________________________________\n",
            "stage3_unit1_bn1 (BatchNormaliz (None, None, None, 1 512         add_7[0][0]                      \n",
            "__________________________________________________________________________________________________\n",
            "stage3_unit1_relu1 (Activation) (None, None, None, 1 0           stage3_unit1_bn1[0][0]           \n",
            "__________________________________________________________________________________________________\n",
            "zero_padding2d_17 (ZeroPadding2 (None, None, None, 1 0           stage3_unit1_relu1[0][0]         \n",
            "__________________________________________________________________________________________________\n",
            "stage3_unit1_conv1 (Conv2D)     (None, None, None, 2 294912      zero_padding2d_17[0][0]          \n",
            "__________________________________________________________________________________________________\n",
            "stage3_unit1_bn2 (BatchNormaliz (None, None, None, 2 1024        stage3_unit1_conv1[0][0]         \n",
            "__________________________________________________________________________________________________\n",
            "stage3_unit1_relu2 (Activation) (None, None, None, 2 0           stage3_unit1_bn2[0][0]           \n",
            "__________________________________________________________________________________________________\n",
            "zero_padding2d_18 (ZeroPadding2 (None, None, None, 2 0           stage3_unit1_relu2[0][0]         \n",
            "__________________________________________________________________________________________________\n",
            "stage3_unit1_conv2 (Conv2D)     (None, None, None, 2 589824      zero_padding2d_18[0][0]          \n",
            "__________________________________________________________________________________________________\n",
            "stage3_unit1_sc (Conv2D)        (None, None, None, 2 32768       stage3_unit1_relu1[0][0]         \n",
            "__________________________________________________________________________________________________\n",
            "add_8 (Add)                     (None, None, None, 2 0           stage3_unit1_conv2[0][0]         \n",
            "                                                                 stage3_unit1_sc[0][0]            \n",
            "__________________________________________________________________________________________________\n",
            "stage3_unit2_bn1 (BatchNormaliz (None, None, None, 2 1024        add_8[0][0]                      \n",
            "__________________________________________________________________________________________________\n",
            "stage3_unit2_relu1 (Activation) (None, None, None, 2 0           stage3_unit2_bn1[0][0]           \n",
            "__________________________________________________________________________________________________\n",
            "zero_padding2d_19 (ZeroPadding2 (None, None, None, 2 0           stage3_unit2_relu1[0][0]         \n",
            "__________________________________________________________________________________________________\n",
            "stage3_unit2_conv1 (Conv2D)     (None, None, None, 2 589824      zero_padding2d_19[0][0]          \n",
            "__________________________________________________________________________________________________\n",
            "stage3_unit2_bn2 (BatchNormaliz (None, None, None, 2 1024        stage3_unit2_conv1[0][0]         \n",
            "__________________________________________________________________________________________________\n",
            "stage3_unit2_relu2 (Activation) (None, None, None, 2 0           stage3_unit2_bn2[0][0]           \n",
            "__________________________________________________________________________________________________\n",
            "zero_padding2d_20 (ZeroPadding2 (None, None, None, 2 0           stage3_unit2_relu2[0][0]         \n",
            "__________________________________________________________________________________________________\n",
            "stage3_unit2_conv2 (Conv2D)     (None, None, None, 2 589824      zero_padding2d_20[0][0]          \n",
            "__________________________________________________________________________________________________\n",
            "add_9 (Add)                     (None, None, None, 2 0           stage3_unit2_conv2[0][0]         \n",
            "                                                                 add_8[0][0]                      \n",
            "__________________________________________________________________________________________________\n",
            "stage3_unit3_bn1 (BatchNormaliz (None, None, None, 2 1024        add_9[0][0]                      \n",
            "__________________________________________________________________________________________________\n",
            "stage3_unit3_relu1 (Activation) (None, None, None, 2 0           stage3_unit3_bn1[0][0]           \n",
            "__________________________________________________________________________________________________\n",
            "zero_padding2d_21 (ZeroPadding2 (None, None, None, 2 0           stage3_unit3_relu1[0][0]         \n",
            "__________________________________________________________________________________________________\n",
            "stage3_unit3_conv1 (Conv2D)     (None, None, None, 2 589824      zero_padding2d_21[0][0]          \n",
            "__________________________________________________________________________________________________\n",
            "stage3_unit3_bn2 (BatchNormaliz (None, None, None, 2 1024        stage3_unit3_conv1[0][0]         \n",
            "__________________________________________________________________________________________________\n",
            "stage3_unit3_relu2 (Activation) (None, None, None, 2 0           stage3_unit3_bn2[0][0]           \n",
            "__________________________________________________________________________________________________\n",
            "zero_padding2d_22 (ZeroPadding2 (None, None, None, 2 0           stage3_unit3_relu2[0][0]         \n",
            "__________________________________________________________________________________________________\n",
            "stage3_unit3_conv2 (Conv2D)     (None, None, None, 2 589824      zero_padding2d_22[0][0]          \n",
            "__________________________________________________________________________________________________\n",
            "add_10 (Add)                    (None, None, None, 2 0           stage3_unit3_conv2[0][0]         \n",
            "                                                                 add_9[0][0]                      \n",
            "__________________________________________________________________________________________________\n",
            "stage3_unit4_bn1 (BatchNormaliz (None, None, None, 2 1024        add_10[0][0]                     \n",
            "__________________________________________________________________________________________________\n",
            "stage3_unit4_relu1 (Activation) (None, None, None, 2 0           stage3_unit4_bn1[0][0]           \n",
            "__________________________________________________________________________________________________\n",
            "zero_padding2d_23 (ZeroPadding2 (None, None, None, 2 0           stage3_unit4_relu1[0][0]         \n",
            "__________________________________________________________________________________________________\n",
            "stage3_unit4_conv1 (Conv2D)     (None, None, None, 2 589824      zero_padding2d_23[0][0]          \n",
            "__________________________________________________________________________________________________\n",
            "stage3_unit4_bn2 (BatchNormaliz (None, None, None, 2 1024        stage3_unit4_conv1[0][0]         \n",
            "__________________________________________________________________________________________________\n",
            "stage3_unit4_relu2 (Activation) (None, None, None, 2 0           stage3_unit4_bn2[0][0]           \n",
            "__________________________________________________________________________________________________\n",
            "zero_padding2d_24 (ZeroPadding2 (None, None, None, 2 0           stage3_unit4_relu2[0][0]         \n",
            "__________________________________________________________________________________________________\n",
            "stage3_unit4_conv2 (Conv2D)     (None, None, None, 2 589824      zero_padding2d_24[0][0]          \n",
            "__________________________________________________________________________________________________\n",
            "add_11 (Add)                    (None, None, None, 2 0           stage3_unit4_conv2[0][0]         \n",
            "                                                                 add_10[0][0]                     \n",
            "__________________________________________________________________________________________________\n",
            "stage3_unit5_bn1 (BatchNormaliz (None, None, None, 2 1024        add_11[0][0]                     \n",
            "__________________________________________________________________________________________________\n",
            "stage3_unit5_relu1 (Activation) (None, None, None, 2 0           stage3_unit5_bn1[0][0]           \n",
            "__________________________________________________________________________________________________\n",
            "zero_padding2d_25 (ZeroPadding2 (None, None, None, 2 0           stage3_unit5_relu1[0][0]         \n",
            "__________________________________________________________________________________________________\n",
            "stage3_unit5_conv1 (Conv2D)     (None, None, None, 2 589824      zero_padding2d_25[0][0]          \n",
            "__________________________________________________________________________________________________\n",
            "stage3_unit5_bn2 (BatchNormaliz (None, None, None, 2 1024        stage3_unit5_conv1[0][0]         \n",
            "__________________________________________________________________________________________________\n",
            "stage3_unit5_relu2 (Activation) (None, None, None, 2 0           stage3_unit5_bn2[0][0]           \n",
            "__________________________________________________________________________________________________\n",
            "zero_padding2d_26 (ZeroPadding2 (None, None, None, 2 0           stage3_unit5_relu2[0][0]         \n",
            "__________________________________________________________________________________________________\n",
            "stage3_unit5_conv2 (Conv2D)     (None, None, None, 2 589824      zero_padding2d_26[0][0]          \n",
            "__________________________________________________________________________________________________\n",
            "add_12 (Add)                    (None, None, None, 2 0           stage3_unit5_conv2[0][0]         \n",
            "                                                                 add_11[0][0]                     \n",
            "__________________________________________________________________________________________________\n",
            "stage3_unit6_bn1 (BatchNormaliz (None, None, None, 2 1024        add_12[0][0]                     \n",
            "__________________________________________________________________________________________________\n",
            "stage3_unit6_relu1 (Activation) (None, None, None, 2 0           stage3_unit6_bn1[0][0]           \n",
            "__________________________________________________________________________________________________\n",
            "zero_padding2d_27 (ZeroPadding2 (None, None, None, 2 0           stage3_unit6_relu1[0][0]         \n",
            "__________________________________________________________________________________________________\n",
            "stage3_unit6_conv1 (Conv2D)     (None, None, None, 2 589824      zero_padding2d_27[0][0]          \n",
            "__________________________________________________________________________________________________\n",
            "stage3_unit6_bn2 (BatchNormaliz (None, None, None, 2 1024        stage3_unit6_conv1[0][0]         \n",
            "__________________________________________________________________________________________________\n",
            "stage3_unit6_relu2 (Activation) (None, None, None, 2 0           stage3_unit6_bn2[0][0]           \n",
            "__________________________________________________________________________________________________\n",
            "zero_padding2d_28 (ZeroPadding2 (None, None, None, 2 0           stage3_unit6_relu2[0][0]         \n",
            "__________________________________________________________________________________________________\n",
            "stage3_unit6_conv2 (Conv2D)     (None, None, None, 2 589824      zero_padding2d_28[0][0]          \n",
            "__________________________________________________________________________________________________\n",
            "add_13 (Add)                    (None, None, None, 2 0           stage3_unit6_conv2[0][0]         \n",
            "                                                                 add_12[0][0]                     \n",
            "__________________________________________________________________________________________________\n",
            "stage4_unit1_bn1 (BatchNormaliz (None, None, None, 2 1024        add_13[0][0]                     \n",
            "__________________________________________________________________________________________________\n",
            "stage4_unit1_relu1 (Activation) (None, None, None, 2 0           stage4_unit1_bn1[0][0]           \n",
            "__________________________________________________________________________________________________\n",
            "zero_padding2d_29 (ZeroPadding2 (None, None, None, 2 0           stage4_unit1_relu1[0][0]         \n",
            "__________________________________________________________________________________________________\n",
            "stage4_unit1_conv1 (Conv2D)     (None, None, None, 5 1179648     zero_padding2d_29[0][0]          \n",
            "__________________________________________________________________________________________________\n",
            "stage4_unit1_bn2 (BatchNormaliz (None, None, None, 5 2048        stage4_unit1_conv1[0][0]         \n",
            "__________________________________________________________________________________________________\n",
            "stage4_unit1_relu2 (Activation) (None, None, None, 5 0           stage4_unit1_bn2[0][0]           \n",
            "__________________________________________________________________________________________________\n",
            "zero_padding2d_30 (ZeroPadding2 (None, None, None, 5 0           stage4_unit1_relu2[0][0]         \n",
            "__________________________________________________________________________________________________\n",
            "stage4_unit1_conv2 (Conv2D)     (None, None, None, 5 2359296     zero_padding2d_30[0][0]          \n",
            "__________________________________________________________________________________________________\n",
            "stage4_unit1_sc (Conv2D)        (None, None, None, 5 131072      stage4_unit1_relu1[0][0]         \n",
            "__________________________________________________________________________________________________\n",
            "add_14 (Add)                    (None, None, None, 5 0           stage4_unit1_conv2[0][0]         \n",
            "                                                                 stage4_unit1_sc[0][0]            \n",
            "__________________________________________________________________________________________________\n",
            "stage4_unit2_bn1 (BatchNormaliz (None, None, None, 5 2048        add_14[0][0]                     \n",
            "__________________________________________________________________________________________________\n",
            "stage4_unit2_relu1 (Activation) (None, None, None, 5 0           stage4_unit2_bn1[0][0]           \n",
            "__________________________________________________________________________________________________\n",
            "zero_padding2d_31 (ZeroPadding2 (None, None, None, 5 0           stage4_unit2_relu1[0][0]         \n",
            "__________________________________________________________________________________________________\n",
            "stage4_unit2_conv1 (Conv2D)     (None, None, None, 5 2359296     zero_padding2d_31[0][0]          \n",
            "__________________________________________________________________________________________________\n",
            "stage4_unit2_bn2 (BatchNormaliz (None, None, None, 5 2048        stage4_unit2_conv1[0][0]         \n",
            "__________________________________________________________________________________________________\n",
            "stage4_unit2_relu2 (Activation) (None, None, None, 5 0           stage4_unit2_bn2[0][0]           \n",
            "__________________________________________________________________________________________________\n",
            "zero_padding2d_32 (ZeroPadding2 (None, None, None, 5 0           stage4_unit2_relu2[0][0]         \n",
            "__________________________________________________________________________________________________\n",
            "stage4_unit2_conv2 (Conv2D)     (None, None, None, 5 2359296     zero_padding2d_32[0][0]          \n",
            "__________________________________________________________________________________________________\n",
            "add_15 (Add)                    (None, None, None, 5 0           stage4_unit2_conv2[0][0]         \n",
            "                                                                 add_14[0][0]                     \n",
            "__________________________________________________________________________________________________\n",
            "stage4_unit3_bn1 (BatchNormaliz (None, None, None, 5 2048        add_15[0][0]                     \n",
            "__________________________________________________________________________________________________\n",
            "stage4_unit3_relu1 (Activation) (None, None, None, 5 0           stage4_unit3_bn1[0][0]           \n",
            "__________________________________________________________________________________________________\n",
            "zero_padding2d_33 (ZeroPadding2 (None, None, None, 5 0           stage4_unit3_relu1[0][0]         \n",
            "__________________________________________________________________________________________________\n",
            "stage4_unit3_conv1 (Conv2D)     (None, None, None, 5 2359296     zero_padding2d_33[0][0]          \n",
            "__________________________________________________________________________________________________\n",
            "stage4_unit3_bn2 (BatchNormaliz (None, None, None, 5 2048        stage4_unit3_conv1[0][0]         \n",
            "__________________________________________________________________________________________________\n",
            "stage4_unit3_relu2 (Activation) (None, None, None, 5 0           stage4_unit3_bn2[0][0]           \n",
            "__________________________________________________________________________________________________\n",
            "zero_padding2d_34 (ZeroPadding2 (None, None, None, 5 0           stage4_unit3_relu2[0][0]         \n",
            "__________________________________________________________________________________________________\n",
            "stage4_unit3_conv2 (Conv2D)     (None, None, None, 5 2359296     zero_padding2d_34[0][0]          \n",
            "__________________________________________________________________________________________________\n",
            "add_16 (Add)                    (None, None, None, 5 0           stage4_unit3_conv2[0][0]         \n",
            "                                                                 add_15[0][0]                     \n",
            "__________________________________________________________________________________________________\n",
            "bn1 (BatchNormalization)        (None, None, None, 5 2048        add_16[0][0]                     \n",
            "__________________________________________________________________________________________________\n",
            "relu1 (Activation)              (None, None, None, 5 0           bn1[0][0]                        \n",
            "__________________________________________________________________________________________________\n",
            "decoder_stage0_upsample (UpSamp (None, None, None, 5 0           relu1[0][0]                      \n",
            "__________________________________________________________________________________________________\n",
            "concatenate_1 (Concatenate)     (None, None, None, 7 0           decoder_stage0_upsample[0][0]    \n",
            "                                                                 stage4_unit1_relu1[0][0]         \n",
            "__________________________________________________________________________________________________\n",
            "decoder_stage0_conv1 (Conv2D)   (None, None, None, 2 1769472     concatenate_1[0][0]              \n",
            "__________________________________________________________________________________________________\n",
            "decoder_stage0_bn1 (BatchNormal (None, None, None, 2 1024        decoder_stage0_conv1[0][0]       \n",
            "__________________________________________________________________________________________________\n",
            "decoder_stage0_relu1 (Activatio (None, None, None, 2 0           decoder_stage0_bn1[0][0]         \n",
            "__________________________________________________________________________________________________\n",
            "decoder_stage0_conv2 (Conv2D)   (None, None, None, 2 589824      decoder_stage0_relu1[0][0]       \n",
            "__________________________________________________________________________________________________\n",
            "decoder_stage0_bn2 (BatchNormal (None, None, None, 2 1024        decoder_stage0_conv2[0][0]       \n",
            "__________________________________________________________________________________________________\n",
            "decoder_stage0_relu2 (Activatio (None, None, None, 2 0           decoder_stage0_bn2[0][0]         \n",
            "__________________________________________________________________________________________________\n",
            "decoder_stage1_upsample (UpSamp (None, None, None, 2 0           decoder_stage0_relu2[0][0]       \n",
            "__________________________________________________________________________________________________\n",
            "concatenate_2 (Concatenate)     (None, None, None, 3 0           decoder_stage1_upsample[0][0]    \n",
            "                                                                 stage3_unit1_relu1[0][0]         \n",
            "__________________________________________________________________________________________________\n",
            "decoder_stage1_conv1 (Conv2D)   (None, None, None, 1 442368      concatenate_2[0][0]              \n",
            "__________________________________________________________________________________________________\n",
            "decoder_stage1_bn1 (BatchNormal (None, None, None, 1 512         decoder_stage1_conv1[0][0]       \n",
            "__________________________________________________________________________________________________\n",
            "decoder_stage1_relu1 (Activatio (None, None, None, 1 0           decoder_stage1_bn1[0][0]         \n",
            "__________________________________________________________________________________________________\n",
            "decoder_stage1_conv2 (Conv2D)   (None, None, None, 1 147456      decoder_stage1_relu1[0][0]       \n",
            "__________________________________________________________________________________________________\n",
            "decoder_stage1_bn2 (BatchNormal (None, None, None, 1 512         decoder_stage1_conv2[0][0]       \n",
            "__________________________________________________________________________________________________\n",
            "decoder_stage1_relu2 (Activatio (None, None, None, 1 0           decoder_stage1_bn2[0][0]         \n",
            "__________________________________________________________________________________________________\n",
            "decoder_stage2_upsample (UpSamp (None, None, None, 1 0           decoder_stage1_relu2[0][0]       \n",
            "__________________________________________________________________________________________________\n",
            "concatenate_3 (Concatenate)     (None, None, None, 1 0           decoder_stage2_upsample[0][0]    \n",
            "                                                                 stage2_unit1_relu1[0][0]         \n",
            "__________________________________________________________________________________________________\n",
            "decoder_stage2_conv1 (Conv2D)   (None, None, None, 6 110592      concatenate_3[0][0]              \n",
            "__________________________________________________________________________________________________\n",
            "decoder_stage2_bn1 (BatchNormal (None, None, None, 6 256         decoder_stage2_conv1[0][0]       \n",
            "__________________________________________________________________________________________________\n",
            "decoder_stage2_relu1 (Activatio (None, None, None, 6 0           decoder_stage2_bn1[0][0]         \n",
            "__________________________________________________________________________________________________\n",
            "decoder_stage2_conv2 (Conv2D)   (None, None, None, 6 36864       decoder_stage2_relu1[0][0]       \n",
            "__________________________________________________________________________________________________\n",
            "decoder_stage2_bn2 (BatchNormal (None, None, None, 6 256         decoder_stage2_conv2[0][0]       \n",
            "__________________________________________________________________________________________________\n",
            "decoder_stage2_relu2 (Activatio (None, None, None, 6 0           decoder_stage2_bn2[0][0]         \n",
            "__________________________________________________________________________________________________\n",
            "decoder_stage3_upsample (UpSamp (None, None, None, 6 0           decoder_stage2_relu2[0][0]       \n",
            "__________________________________________________________________________________________________\n",
            "concatenate_4 (Concatenate)     (None, None, None, 1 0           decoder_stage3_upsample[0][0]    \n",
            "                                                                 relu0[0][0]                      \n",
            "__________________________________________________________________________________________________\n",
            "decoder_stage3_conv1 (Conv2D)   (None, None, None, 3 36864       concatenate_4[0][0]              \n",
            "__________________________________________________________________________________________________\n",
            "decoder_stage3_bn1 (BatchNormal (None, None, None, 3 128         decoder_stage3_conv1[0][0]       \n",
            "__________________________________________________________________________________________________\n",
            "decoder_stage3_relu1 (Activatio (None, None, None, 3 0           decoder_stage3_bn1[0][0]         \n",
            "__________________________________________________________________________________________________\n",
            "decoder_stage3_conv2 (Conv2D)   (None, None, None, 3 9216        decoder_stage3_relu1[0][0]       \n",
            "__________________________________________________________________________________________________\n",
            "decoder_stage3_bn2 (BatchNormal (None, None, None, 3 128         decoder_stage3_conv2[0][0]       \n",
            "__________________________________________________________________________________________________\n",
            "decoder_stage3_relu2 (Activatio (None, None, None, 3 0           decoder_stage3_bn2[0][0]         \n",
            "__________________________________________________________________________________________________\n",
            "decoder_stage4_upsample (UpSamp (None, None, None, 3 0           decoder_stage3_relu2[0][0]       \n",
            "__________________________________________________________________________________________________\n",
            "decoder_stage4_conv1 (Conv2D)   (None, None, None, 1 4608        decoder_stage4_upsample[0][0]    \n",
            "__________________________________________________________________________________________________\n",
            "decoder_stage4_bn1 (BatchNormal (None, None, None, 1 64          decoder_stage4_conv1[0][0]       \n",
            "__________________________________________________________________________________________________\n",
            "decoder_stage4_relu1 (Activatio (None, None, None, 1 0           decoder_stage4_bn1[0][0]         \n",
            "__________________________________________________________________________________________________\n",
            "decoder_stage4_conv2 (Conv2D)   (None, None, None, 1 2304        decoder_stage4_relu1[0][0]       \n",
            "__________________________________________________________________________________________________\n",
            "decoder_stage4_bn2 (BatchNormal (None, None, None, 1 64          decoder_stage4_conv2[0][0]       \n",
            "__________________________________________________________________________________________________\n",
            "decoder_stage4_relu2 (Activatio (None, None, None, 1 0           decoder_stage4_bn2[0][0]         \n",
            "__________________________________________________________________________________________________\n",
            "final_conv (Conv2D)             (None, None, None, 1 145         decoder_stage4_relu2[0][0]       \n",
            "__________________________________________________________________________________________________\n",
            "sigmoid (Activation)            (None, None, None, 1 0           final_conv[0][0]                 \n",
            "==================================================================================================\n",
            "Total params: 24,449,876\n",
            "Trainable params: 24,432,530\n",
            "Non-trainable params: 17,346\n",
            "__________________________________________________________________________________________________\n"
          ],
          "name": "stdout"
        }
      ]
    },
    {
      "cell_type": "code",
      "metadata": {
        "colab_type": "code",
        "id": "cA4f4oYYpJA6",
        "colab": {}
      },
      "source": [
        "backbone='resnet34'\n",
        "preprocess_input=get_preprocessing(backbone)"
      ],
      "execution_count": 0,
      "outputs": []
    },
    {
      "cell_type": "code",
      "metadata": {
        "id": "l9f23lqiqJCK",
        "colab_type": "code",
        "colab": {}
      },
      "source": [
        "x_train = preprocess_input(X_train)\n",
        "x_val = preprocess_input(X_valid)"
      ],
      "execution_count": 0,
      "outputs": []
    },
    {
      "cell_type": "code",
      "metadata": {
        "id": "PcdA5Jbrq4sZ",
        "colab_type": "code",
        "colab": {}
      },
      "source": [
        "from tensorflow.keras.losses import binary_crossentropy"
      ],
      "execution_count": 0,
      "outputs": []
    },
    {
      "cell_type": "code",
      "metadata": {
        "id": "ZVV92HSYqu-7",
        "colab_type": "code",
        "colab": {
          "base_uri": "https://localhost:8080/",
          "height": 87
        },
        "outputId": "e01501f4-a6a7-43e5-da28-48255deb9efa"
      },
      "source": [
        "model.compile(optimizer='Adam', loss=loss, metrics=[dice_coefficient])"
      ],
      "execution_count": 51,
      "outputs": [
        {
          "output_type": "stream",
          "text": [
            "W0720 09:17:02.993589 140208747034496 deprecation.py:323] From /usr/local/lib/python3.6/dist-packages/tensorflow/python/ops/nn_impl.py:180: add_dispatch_support.<locals>.wrapper (from tensorflow.python.ops.array_ops) is deprecated and will be removed in a future version.\n",
            "Instructions for updating:\n",
            "Use tf.where in 2.0, which has the same broadcast rule as np.where\n"
          ],
          "name": "stderr"
        }
      ]
    },
    {
      "cell_type": "markdown",
      "metadata": {
        "colab_type": "text",
        "id": "6UYvb8OdpLV5"
      },
      "source": [
        "### 10. Fit your model using model.fit function.\n",
        "Hint - As it might take long time to run. Run it for only 1 or 2 epochs."
      ]
    },
    {
      "cell_type": "code",
      "metadata": {
        "colab_type": "code",
        "id": "bFw1Yq06pQbp",
        "colab": {
          "base_uri": "https://localhost:8080/",
          "height": 118
        },
        "outputId": "84422425-1bc8-4afd-eeb9-49805ebea7d1"
      },
      "source": [
        "model.fit(x=x_train,\n",
        "    y=y_train,\n",
        "    batch_size=50,    \n",
        "    epochs=2,\n",
        "    validation_data=(x_val, y_valid))"
      ],
      "execution_count": 53,
      "outputs": [
        {
          "output_type": "stream",
          "text": [
            "Train on 3400 samples, validate on 600 samples\n",
            "Epoch 1/2\n",
            "3400/3400 [==============================] - 40s 12ms/step - loss: 0.7103 - dice_coefficient: 0.6900 - val_loss: 1.9637 - val_dice_coefficient: 0.5000\n",
            "Epoch 2/2\n",
            "3400/3400 [==============================] - 40s 12ms/step - loss: 0.6363 - dice_coefficient: 0.7257 - val_loss: 0.9508 - val_dice_coefficient: 0.6898\n"
          ],
          "name": "stdout"
        },
        {
          "output_type": "execute_result",
          "data": {
            "text/plain": [
              "<keras.callbacks.History at 0x7f8431b30208>"
            ]
          },
          "metadata": {
            "tags": []
          },
          "execution_count": 53
        }
      ]
    },
    {
      "cell_type": "markdown",
      "metadata": {
        "colab_type": "text",
        "id": "iH34vMq9pSnh"
      },
      "source": [
        "### 11.Predict on val set using model.predict funtion and store in preds_val variable.\n",
        "\n"
      ]
    },
    {
      "cell_type": "code",
      "metadata": {
        "colab_type": "code",
        "id": "FymN5QpopXW-",
        "colab": {
          "base_uri": "https://localhost:8080/",
          "height": 50
        },
        "outputId": "945bcef8-343a-40e1-ec20-95bd2a5cd438"
      },
      "source": [
        "preds_train = model.predict(x_train, verbose=1)\n",
        "preds_val = model.predict(x_val, verbose=1)"
      ],
      "execution_count": 54,
      "outputs": [
        {
          "output_type": "stream",
          "text": [
            "3400/3400 [==============================] - 13s 4ms/step\n",
            "600/600 [==============================] - 3s 4ms/step\n"
          ],
          "name": "stdout"
        }
      ]
    },
    {
      "cell_type": "code",
      "metadata": {
        "colab_type": "code",
        "id": "uKkpE3vEpXi8",
        "colab": {}
      },
      "source": [
        "#Get the threshold predictions to look at refined results.\n",
        "preds_val_t = (preds_val > 0.5).astype(np.uint8)"
      ],
      "execution_count": 0,
      "outputs": []
    },
    {
      "cell_type": "code",
      "metadata": {
        "colab_type": "code",
        "id": "Pyn3RyCRpaRH",
        "colab": {}
      },
      "source": [
        "#Plot a sample\n",
        "def plot_sample(X, y, preds, binary_preds, ix=None):\n",
        "    if ix is None:\n",
        "        ix = random.randint(0, len(X))\n",
        "\n",
        "    has_mask = y[ix].max() > 0\n",
        "\n",
        "    fig, ax = plt.subplots(1, 4, figsize=(20, 10))\n",
        "    ax[0].imshow(X[ix, ..., 0], cmap='seismic')\n",
        "    if has_mask:\n",
        "        ax[0].contour(y[ix].squeeze(), colors='k', levels=[0.5])\n",
        "    ax[0].set_title('Seismic')\n",
        "\n",
        "    ax[1].imshow(y[ix].squeeze())\n",
        "    ax[1].set_title('Salt')\n",
        "\n",
        "    ax[2].imshow(preds[ix].squeeze(), vmin=0, vmax=1)\n",
        "    if has_mask:\n",
        "        ax[2].contour(y[ix].squeeze(), colors='k', levels=[0.5])\n",
        "    ax[2].set_title('Salt Predicted')\n",
        "    \n",
        "    ax[3].imshow(binary_preds[ix].squeeze(), vmin=0, vmax=1)\n",
        "    if has_mask:\n",
        "        ax[3].contour(y[ix].squeeze(), colors='k', levels=[0.5])\n",
        "    ax[3].set_title('Salt Predicted binary');"
      ],
      "execution_count": 0,
      "outputs": []
    },
    {
      "cell_type": "code",
      "metadata": {
        "colab_type": "code",
        "id": "s_h5fcgYpbyR",
        "colab": {
          "base_uri": "https://localhost:8080/",
          "height": 308
        },
        "outputId": "62f8fa95-9720-4c9e-9719-07eddf8093c5"
      },
      "source": [
        "# Check if valid data looks all right\n",
        "plot_sample(X_valid, y_valid, preds_val, preds_val_t, ix=11)"
      ],
      "execution_count": 59,
      "outputs": [
        {
          "output_type": "display_data",
          "data": {
            "image/png": "[encoded data removed]",
            "text/plain": [
              "<Figure size 1440x720 with 4 Axes>"
            ]
          },
          "metadata": {
            "tags": []
          }
        }
      ]
    },
    {
      "cell_type": "markdown",
      "metadata": {
        "colab_type": "text",
        "id": "oasnhlaDpeU0"
      },
      "source": [
        "If you are getting good results- Congratulations.\n",
        "If you are not, try to explore what might be the reason."
      ]
    },
    {
      "cell_type": "markdown",
      "metadata": {
        "colab_type": "text",
        "id": "yllJR0PQpm4M"
      },
      "source": [
        "# Text generation using a RNN"
      ]
    },
    {
      "cell_type": "markdown",
      "metadata": {
        "colab_type": "text",
        "id": "2W6g03QsptwG"
      },
      "source": [
        "Given a sequence of words from this data, train a model to predict the next word in the sequence. Longer sequences of text can be generated by calling the model repeatedly."
      ]
    },
    {
      "cell_type": "markdown",
      "metadata": {
        "colab_type": "text",
        "id": "hbd3E0IuHwjz"
      },
      "source": [
        "**Mount your Google Drive**"
      ]
    },
    {
      "cell_type": "code",
      "metadata": {
        "colab_type": "code",
        "id": "Dikrw1ylHtAL",
        "colab": {
          "base_uri": "https://localhost:8080/",
          "height": 34
        },
        "outputId": "f44fa442-dee5-4bf0-87bc-f2755c2fdd35"
      },
      "source": [
        "from google.colab import drive\n",
        "drive.mount('/content/drive/')"
      ],
      "execution_count": 2,
      "outputs": [
        {
          "output_type": "stream",
          "text": [
            "Mounted at /content/drive/\n"
          ],
          "name": "stdout"
        }
      ]
    },
    {
      "cell_type": "code",
      "metadata": {
        "colab_type": "code",
        "id": "8_uTQu4nIGzm",
        "colab": {}
      },
      "source": [
        "import os\n",
        "os.chdir('/content/drive/My Drive/AIML/CNN/Assignment/')"
      ],
      "execution_count": 0,
      "outputs": []
    },
    {
      "cell_type": "markdown",
      "metadata": {
        "colab_type": "text",
        "id": "fnIX_mLXHdxS"
      },
      "source": [
        "### Import Keras and other libraries"
      ]
    },
    {
      "cell_type": "code",
      "metadata": {
        "colab_type": "code",
        "id": "0TmrQuvpHdxU",
        "colab": {
          "base_uri": "https://localhost:8080/",
          "height": 34
        },
        "outputId": "819f29ee-6c3c-4a3d-f2f4-626d7fc06df5"
      },
      "source": [
        "import glob\n",
        "\n",
        "from sklearn.utils import shuffle\n",
        "import numpy as np\n",
        "\n",
        "from keras.preprocessing.text import Tokenizer\n",
        "from keras.models import Sequential, load_model\n",
        "from keras.layers import LSTM, Dense, Dropout, Embedding, Masking, Bidirectional\n",
        "from keras.optimizers import Adam\n",
        "from keras import backend"
      ],
      "execution_count": 4,
      "outputs": [
        {
          "output_type": "stream",
          "text": [
            "Using TensorFlow backend.\n"
          ],
          "name": "stderr"
        }
      ]
    },
    {
      "cell_type": "markdown",
      "metadata": {
        "colab_type": "text",
        "id": "zKBXQflGlPjG"
      },
      "source": [
        "## Download data\n",
        "Reference: Data is collected from http://www.gutenberg.org\n",
        "\n",
        "For the lab purpose, you can load the dataset provided by Great Learning"
      ]
    },
    {
      "cell_type": "markdown",
      "metadata": {
        "colab_type": "text",
        "id": "s321mV4DHdxZ"
      },
      "source": [
        "### Load the Oscar Wilde dataset\n",
        "\n",
        "Store all the \".txt\" file names in a list"
      ]
    },
    {
      "cell_type": "code",
      "metadata": {
        "colab_type": "code",
        "id": "VUanlzNJHdxa",
        "colab": {}
      },
      "source": [
        "mkdir data"
      ],
      "execution_count": 0,
      "outputs": []
    },
    {
      "cell_type": "code",
      "metadata": {
        "id": "a9Yz-eR2aV0v",
        "colab_type": "code",
        "colab": {}
      },
      "source": [
        "project_path = os.getcwd()\n",
        "data_path = os.getcwd() + '/data'"
      ],
      "execution_count": 0,
      "outputs": []
    },
    {
      "cell_type": "code",
      "metadata": {
        "id": "_OE8XxuyaoFK",
        "colab_type": "code",
        "colab": {
          "base_uri": "https://localhost:8080/",
          "height": 34
        },
        "outputId": "f5ddac89-18bb-486e-a8a4-c102c14f7eef"
      },
      "source": [
        "data_path"
      ],
      "execution_count": 13,
      "outputs": [
        {
          "output_type": "execute_result",
          "data": {
            "text/plain": [
              "'/content/drive/My Drive/AIML/CNN/Assignment/data'"
            ]
          },
          "metadata": {
            "tags": []
          },
          "execution_count": 13
        }
      ]
    },
    {
      "cell_type": "code",
      "metadata": {
        "id": "845sqihDaIjy",
        "colab_type": "code",
        "colab": {}
      },
      "source": [
        "from zipfile import ZipFile\n",
        "\n",
        "with ZipFile(project_path + '/data.zip', 'r') as zf:\n",
        "  zf.extractall(data_path)"
      ],
      "execution_count": 0,
      "outputs": []
    },
    {
      "cell_type": "code",
      "metadata": {
        "id": "22Zl55RZc4hc",
        "colab_type": "code",
        "colab": {
          "base_uri": "https://localhost:8080/",
          "height": 34
        },
        "outputId": "7a1d89be-963f-41da-f88d-93e67e686236"
      },
      "source": [
        "pwd"
      ],
      "execution_count": 27,
      "outputs": [
        {
          "output_type": "execute_result",
          "data": {
            "text/plain": [
              "'/content/drive/My Drive/AIML/CNN/Assignment'"
            ]
          },
          "metadata": {
            "tags": []
          },
          "execution_count": 27
        }
      ]
    },
    {
      "cell_type": "code",
      "metadata": {
        "id": "NKGlsTd4aIA5",
        "colab_type": "code",
        "colab": {}
      },
      "source": [
        "oscar = glob.glob(\"./data/data/*.txt\")"
      ],
      "execution_count": 0,
      "outputs": []
    },
    {
      "cell_type": "code",
      "metadata": {
        "id": "OJyZeoz3bNFF",
        "colab_type": "code",
        "colab": {
          "base_uri": "https://localhost:8080/",
          "height": 538
        },
        "outputId": "f450c4b0-4b1c-4b70-a81c-fdd2f953d138"
      },
      "source": [
        "oscar"
      ],
      "execution_count": 29,
      "outputs": [
        {
          "output_type": "execute_result",
          "data": {
            "text/plain": [
              "['./data/data/For Love of the King.txt',\n",
              " './data/data/Salomé A tragedy in one act.txt',\n",
              " './data/data/Impressions of America.txt',\n",
              " './data/data/The Canterville Ghost.txt',\n",
              " './data/data/A House of Pomegranates.txt',\n",
              " './data/data/Miscellaneous Aphorisms_ The Soul of Man.txt',\n",
              " './data/data/A Woman of No Importance a play.txt',\n",
              " './data/data/Essays and Lectures.txt',\n",
              " './data/data/The Happy Prince and other tales.txt',\n",
              " './data/data/Rose Leaf and Apple Leaf.txt',\n",
              " './data/data/Vera or, The Nihilists.txt',\n",
              " './data/data/Lord Arthur Savile_s Crime.txt',\n",
              " './data/data/Poems with the Ballad of Reading Gaol.txt',\n",
              " './data/data/Selected poems of oscar wilde including The Ballad of Reading Gaol.txt',\n",
              " './data/data/Charmides and Other Poems.txt',\n",
              " './data/data/An Ideal Husband.txt',\n",
              " './data/data/The Duchess of Padua.txt',\n",
              " './data/data/Oscar Wilde Miscellaneous.txt',\n",
              " './data/data/The Ballad of Reading Gaol.txt',\n",
              " './data/data/Shorter Prose Pieces.txt',\n",
              " './data/data/Children in Prison and Other Cruelties of Prison Life.txt',\n",
              " './data/data/Reviews.txt',\n",
              " './data/data/A Critic in Pall Mall.txt',\n",
              " './data/data/De Profundis.txt',\n",
              " './data/data/Miscellanies.txt',\n",
              " './data/data/The Importance of Being Earnest.txt',\n",
              " './data/data/Selected prose of oscar wilde with a Preface by Robert Ross.txt',\n",
              " './data/data/The Soul of Man.txt',\n",
              " './data/data/Lady Windermere_s Fan.txt',\n",
              " './data/data/Intentions.txt',\n",
              " './data/data/The Picture of Dorian Gray.txt']"
            ]
          },
          "metadata": {
            "tags": []
          },
          "execution_count": 29
        }
      ]
    },
    {
      "cell_type": "markdown",
      "metadata": {
        "colab_type": "text",
        "id": "glr4hv6uZkL-"
      },
      "source": [
        "### Read the data\n",
        "\n",
        "Read contents of every file from the list and append the text in a new list"
      ]
    },
    {
      "cell_type": "code",
      "metadata": {
        "id": "lXAd6Ge7cR9L",
        "colab_type": "code",
        "colab": {}
      },
      "source": [
        "import pandas as pd\n",
        "import numpy as np"
      ],
      "execution_count": 0,
      "outputs": []
    },
    {
      "cell_type": "code",
      "metadata": {
        "colab_type": "code",
        "id": "zLrMMjrkRt9x",
        "colab": {}
      },
      "source": [
        "codetext = []\n",
        "bookranges = []\n",
        "for oscarfile in oscar:\n",
        "    oscartext = open(oscarfile, \"r\")\n",
        "    start = len(codetext)\n",
        "    codetext.append(oscartext.read())\n",
        "    end = len(codetext)\n",
        "    bookranges.append({\"start\": start, \"end\": end, \"name\": oscarfile.rsplit(\"/\", 1)[-1]})\n",
        "    oscartext.close()"
      ],
      "execution_count": 0,
      "outputs": []
    },
    {
      "cell_type": "markdown",
      "metadata": {
        "colab_type": "text",
        "id": "jMX-Fu-GHdxj"
      },
      "source": [
        "## Process the text\n",
        "Initialize and fit the tokenizer"
      ]
    },
    {
      "cell_type": "code",
      "metadata": {
        "colab_type": "code",
        "id": "zQf1AV8wHdxl",
        "colab": {}
      },
      "source": [
        "tokenizer = Tokenizer(lower=True, filters='!\"#$%&()*+,-./:;<=>?@[\\\\]^_`{|}~\\t\\n')\n",
        "tokenizer.fit_on_texts(codetext)"
      ],
      "execution_count": 0,
      "outputs": []
    },
    {
      "cell_type": "markdown",
      "metadata": {
        "colab_type": "text",
        "id": "vpZ0A2-xHdxp"
      },
      "source": [
        "### Vectorize the text\n",
        "\n",
        "Before training, we need to map strings to a numerical representation. Create two lookup tables: one mapping words to numbers, and another for numbers to words."
      ]
    },
    {
      "cell_type": "code",
      "metadata": {
        "colab_type": "code",
        "id": "_Nsq-rSPHdxq",
        "colab": {}
      },
      "source": [
        "word_idx = tokenizer.word_index\n",
        "idx_word = tokenizer.index_word"
      ],
      "execution_count": 0,
      "outputs": []
    },
    {
      "cell_type": "markdown",
      "metadata": {
        "colab_type": "text",
        "id": "YMYdjx4aHdxu"
      },
      "source": [
        "Get the word count for every word and also get the total number of words."
      ]
    },
    {
      "cell_type": "code",
      "metadata": {
        "colab_type": "code",
        "id": "ioEZ2c21Hdxw",
        "colab": {}
      },
      "source": [
        "word_counts = tokenizer.word_counts\n",
        "num_words = len(word_idx) + 1"
      ],
      "execution_count": 0,
      "outputs": []
    },
    {
      "cell_type": "markdown",
      "metadata": {
        "colab_type": "text",
        "id": "dWUBr9rHHdx0"
      },
      "source": [
        "Convert text to sequence of numbers"
      ]
    },
    {
      "cell_type": "code",
      "metadata": {
        "colab_type": "code",
        "id": "dwLl0BWKHdx2",
        "colab": {}
      },
      "source": [
        "sequences = tokenizer.texts_to_sequences(codetext)"
      ],
      "execution_count": 0,
      "outputs": []
    },
    {
      "cell_type": "markdown",
      "metadata": {
        "colab_type": "text",
        "id": "GkpK8McUHdx6"
      },
      "source": [
        "### Generate Features and Labels"
      ]
    },
    {
      "cell_type": "code",
      "metadata": {
        "colab_type": "code",
        "id": "zxhQamjwHdx7",
        "colab": {}
      },
      "source": [
        "features = []\n",
        "labels = []\n",
        "\n",
        "training_length = 50\n",
        "# Iterate through the sequences of tokens\n",
        "for seq in sequences:\n",
        "    # Create multiple training examples from each sequence\n",
        "    for i in range(training_length, training_length+300):\n",
        "        # Extract the features and label\n",
        "        extract = seq[i - training_length: i - training_length + 20]\n",
        "\n",
        "        # Set the features and label\n",
        "        features.append(extract[:-1])\n",
        "        labels.append(extract[-1])"
      ],
      "execution_count": 0,
      "outputs": []
    },
    {
      "cell_type": "markdown",
      "metadata": {
        "colab_type": "text",
        "id": "bbmsf23Bymwe"
      },
      "source": [
        "### The prediction task"
      ]
    },
    {
      "cell_type": "markdown",
      "metadata": {
        "colab_type": "text",
        "id": "wssHQ1oGymwe"
      },
      "source": [
        "Given a word, or a sequence of words, what is the most probable next word? This is the task we're training the model to perform. The input to the model will be a sequence of words, and we train the model to predict the output—the following word at each time step.\n",
        "\n",
        "Since RNNs maintain an internal state that depends on the previously seen elements, given all the words computed until this moment, what is the next word?"
      ]
    },
    {
      "cell_type": "markdown",
      "metadata": {
        "colab_type": "text",
        "id": "T2bsVOl7HdyA"
      },
      "source": [
        "### Generate training and testing data"
      ]
    },
    {
      "cell_type": "code",
      "metadata": {
        "colab_type": "code",
        "id": "j7-IsvynHdyB",
        "colab": {}
      },
      "source": [
        "from sklearn.utils import shuffle\n",
        "import numpy as np\n",
        "\n",
        "features, labels = shuffle(features, labels, random_state=1)\n",
        "\n",
        "# Decide on number of samples for training\n",
        "train_end = int(0.7 * len(labels))\n",
        "\n",
        "train_features = np.array(features[:train_end])\n",
        "valid_features = np.array(features[train_end:])\n",
        "\n",
        "train_labels = labels[:train_end]\n",
        "valid_labels = labels[train_end:]\n",
        "\n",
        "# Convert to arrays\n",
        "X_train, X_valid = np.array(train_features), np.array(valid_features)\n",
        "\n",
        "# Using int8 for memory savings\n",
        "y_train = np.zeros((len(train_labels), num_words), dtype=np.int8)\n",
        "y_valid = np.zeros((len(valid_labels), num_words), dtype=np.int8)\n",
        "\n",
        "# One hot encoding of labels\n",
        "for example_index, word_index in enumerate(train_labels):\n",
        "    y_train[example_index, word_index] = 1\n",
        "\n",
        "for example_index, word_index in enumerate(valid_labels):\n",
        "    y_valid[example_index, word_index] = 1"
      ],
      "execution_count": 0,
      "outputs": []
    },
    {
      "cell_type": "markdown",
      "metadata": {
        "colab_type": "text",
        "id": "juT1mZrUHdyE"
      },
      "source": [
        "This is just to check the features and labels"
      ]
    },
    {
      "cell_type": "code",
      "metadata": {
        "colab_type": "code",
        "id": "wkdmNbgjHdyF",
        "colab": {
          "base_uri": "https://localhost:8080/",
          "height": 151
        },
        "outputId": "59795848-6aae-4f7a-a3be-a9650d627363"
      },
      "source": [
        "for i, sequence in enumerate(X_train[:2]):\n",
        "    text = []\n",
        "#     print(i, sequence)\n",
        "    for idx in sequence:\n",
        "        text.append(idx_word[idx])\n",
        "        \n",
        "    print('Features: ' + ' '.join(text)+'\\n')\n",
        "    print('Label: ' + idx_word[np.argmax(y_train[i])] + '\\n')"
      ],
      "execution_count": 40,
      "outputs": [
        {
          "output_type": "stream",
          "text": [
            "Features: room in algernon's flat in half moon street the room is luxuriously and artistically furnished the sound of a\n",
            "\n",
            "Label: piano\n",
            "\n",
            "Features: a woman of no importance a play author oscar wilde release date september 16 2014 ebook 854 this file\n",
            "\n",
            "Label: was\n",
            "\n"
          ],
          "name": "stdout"
        }
      ]
    },
    {
      "cell_type": "markdown",
      "metadata": {
        "colab_type": "text",
        "id": "r6oUuElIMgVx"
      },
      "source": [
        "## Build The Model"
      ]
    },
    {
      "cell_type": "markdown",
      "metadata": {
        "colab_type": "text",
        "id": "m8gPwEjRzf-Z"
      },
      "source": [
        "Use `keras.Sequential` to define the model. For this simple example three layers are used to define our model:\n",
        "\n",
        "* `keras.layers.Embedding`: The input layer. A trainable lookup table that will map the numbers of each character to a vector with `embedding_dim` dimensions;\n",
        "* `keras.layers.LSTM`: A type of RNN with size `units=rnn_units` (You can also use a GRU layer here.)\n",
        "* `keras.layers.Dense`: The output layer, with `num_words` outputs."
      ]
    },
    {
      "cell_type": "code",
      "metadata": {
        "colab_type": "code",
        "id": "GKpCQFZLHdyN",
        "colab": {
          "base_uri": "https://localhost:8080/",
          "height": 591
        },
        "outputId": "c3fd4ebe-0236-4920-a7d8-04d7232f5635"
      },
      "source": [
        "model = Sequential()\n",
        "\n",
        "# Embedding layer\n",
        "model.add(\n",
        "    Embedding(\n",
        "        input_dim=len(word_idx) + 1,\n",
        "        output_dim=100,\n",
        "        weights=None,\n",
        "        trainable=True))\n",
        "\n",
        "# Recurrent layer\n",
        "model.add(\n",
        "    LSTM(\n",
        "        64, return_sequences=False, dropout=0.1,\n",
        "        recurrent_dropout=0.1))\n",
        "\n",
        "# Fully connected layer\n",
        "model.add(Dense(64, activation='relu'))\n",
        "\n",
        "# Dropout for regularization\n",
        "model.add(Dropout(0.5))\n",
        "\n",
        "# Output layer\n",
        "model.add(Dense(num_words, activation='softmax'))\n",
        "\n",
        "# Compile the model\n",
        "model.compile(\n",
        "    optimizer='adam', loss='categorical_crossentropy', metrics=['accuracy'])\n",
        "\n",
        "model.summary()"
      ],
      "execution_count": 41,
      "outputs": [
        {
          "output_type": "stream",
          "text": [
            "WARNING: Logging before flag parsing goes to stderr.\n",
            "W0721 07:40:18.039941 140468034418560 deprecation_wrapper.py:119] From /usr/local/lib/python3.6/dist-packages/keras/backend/tensorflow_backend.py:74: The name tf.get_default_graph is deprecated. Please use tf.compat.v1.get_default_graph instead.\n",
            "\n",
            "W0721 07:40:18.085660 140468034418560 deprecation_wrapper.py:119] From /usr/local/lib/python3.6/dist-packages/keras/backend/tensorflow_backend.py:517: The name tf.placeholder is deprecated. Please use tf.compat.v1.placeholder instead.\n",
            "\n",
            "W0721 07:40:18.092679 140468034418560 deprecation_wrapper.py:119] From /usr/local/lib/python3.6/dist-packages/keras/backend/tensorflow_backend.py:4138: The name tf.random_uniform is deprecated. Please use tf.random.uniform instead.\n",
            "\n",
            "W0721 07:40:18.214566 140468034418560 deprecation_wrapper.py:119] From /usr/local/lib/python3.6/dist-packages/keras/backend/tensorflow_backend.py:133: The name tf.placeholder_with_default is deprecated. Please use tf.compat.v1.placeholder_with_default instead.\n",
            "\n",
            "W0721 07:40:18.226491 140468034418560 deprecation.py:506] From /usr/local/lib/python3.6/dist-packages/keras/backend/tensorflow_backend.py:3445: calling dropout (from tensorflow.python.ops.nn_ops) with keep_prob is deprecated and will be removed in a future version.\n",
            "Instructions for updating:\n",
            "Please use `rate` instead of `keep_prob`. Rate should be set to `rate = 1 - keep_prob`.\n",
            "W0721 07:40:18.519858 140468034418560 deprecation_wrapper.py:119] From /usr/local/lib/python3.6/dist-packages/keras/optimizers.py:790: The name tf.train.Optimizer is deprecated. Please use tf.compat.v1.train.Optimizer instead.\n",
            "\n",
            "W0721 07:40:18.543914 140468034418560 deprecation_wrapper.py:119] From /usr/local/lib/python3.6/dist-packages/keras/backend/tensorflow_backend.py:3295: The name tf.log is deprecated. Please use tf.math.log instead.\n",
            "\n"
          ],
          "name": "stderr"
        },
        {
          "output_type": "stream",
          "text": [
            "_________________________________________________________________\n",
            "Layer (type)                 Output Shape              Param #   \n",
            "=================================================================\n",
            "embedding_1 (Embedding)      (None, None, 100)         3283900   \n",
            "_________________________________________________________________\n",
            "lstm_1 (LSTM)                (None, 64)                42240     \n",
            "_________________________________________________________________\n",
            "dense_1 (Dense)              (None, 64)                4160      \n",
            "_________________________________________________________________\n",
            "dropout_1 (Dropout)          (None, 64)                0         \n",
            "_________________________________________________________________\n",
            "dense_2 (Dense)              (None, 32839)             2134535   \n",
            "=================================================================\n",
            "Total params: 5,464,835\n",
            "Trainable params: 5,464,835\n",
            "Non-trainable params: 0\n",
            "_________________________________________________________________\n"
          ],
          "name": "stdout"
        }
      ]
    },
    {
      "cell_type": "markdown",
      "metadata": {
        "colab_type": "text",
        "id": "vL3tUp1UHdyS"
      },
      "source": [
        "For each word the model looks up the embedding, runs the LSTM one timestep with the embedding as input, and applies the dense layer to generate logits predicting the log-liklihood of the next word."
      ]
    },
    {
      "cell_type": "markdown",
      "metadata": {
        "colab_type": "text",
        "id": "LJL0Q0YPY6Ee"
      },
      "source": [
        "## Train the model"
      ]
    },
    {
      "cell_type": "code",
      "metadata": {
        "colab_type": "code",
        "id": "6o84puBcHdyV",
        "colab": {
          "base_uri": "https://localhost:8080/",
          "height": 1000
        },
        "outputId": "b0860085-52a5-4e20-c4c7-1b5dd5269286"
      },
      "source": [
        "h = model.fit(X_train, y_train, epochs = 500, batch_size = 50, \n",
        "          verbose = 1)## Train the model"
      ],
      "execution_count": 42,
      "outputs": [
        {
          "output_type": "stream",
          "text": [
            "W0721 07:40:37.219076 140468034418560 deprecation.py:323] From /usr/local/lib/python3.6/dist-packages/tensorflow/python/ops/math_grad.py:1250: add_dispatch_support.<locals>.wrapper (from tensorflow.python.ops.array_ops) is deprecated and will be removed in a future version.\n",
            "Instructions for updating:\n",
            "Use tf.where in 2.0, which has the same broadcast rule as np.where\n"
          ],
          "name": "stderr"
        },
        {
          "output_type": "stream",
          "text": [
            "Epoch 1/500\n",
            "6510/6510 [==============================] - 10s 1ms/step - loss: 8.2410 - acc: 0.0538\n",
            "Epoch 2/500\n",
            "6510/6510 [==============================] - 5s 757us/step - loss: 6.7135 - acc: 0.0613\n",
            "Epoch 3/500\n",
            "6510/6510 [==============================] - 5s 767us/step - loss: 6.4469 - acc: 0.0599\n",
            "Epoch 4/500\n",
            "6510/6510 [==============================] - 5s 761us/step - loss: 6.2736 - acc: 0.0596\n",
            "Epoch 5/500\n",
            "6510/6510 [==============================] - 5s 777us/step - loss: 6.1338 - acc: 0.0618\n",
            "Epoch 6/500\n",
            "6510/6510 [==============================] - 5s 785us/step - loss: 6.0336 - acc: 0.0684\n",
            "Epoch 7/500\n",
            "6510/6510 [==============================] - 5s 782us/step - loss: 5.9148 - acc: 0.0708\n",
            "Epoch 8/500\n",
            "6510/6510 [==============================] - 5s 762us/step - loss: 5.7882 - acc: 0.0774\n",
            "Epoch 9/500\n",
            "6510/6510 [==============================] - 5s 771us/step - loss: 5.6758 - acc: 0.0802\n",
            "Epoch 10/500\n",
            "6510/6510 [==============================] - 5s 759us/step - loss: 5.5847 - acc: 0.0820\n",
            "Epoch 11/500\n",
            "6510/6510 [==============================] - 5s 760us/step - loss: 5.4796 - acc: 0.0888\n",
            "Epoch 12/500\n",
            "6510/6510 [==============================] - 5s 766us/step - loss: 5.3973 - acc: 0.0948\n",
            "Epoch 13/500\n",
            "6510/6510 [==============================] - 5s 775us/step - loss: 5.2979 - acc: 0.1028\n",
            "Epoch 14/500\n",
            "6510/6510 [==============================] - 5s 756us/step - loss: 5.1680 - acc: 0.1151\n",
            "Epoch 15/500\n",
            "6510/6510 [==============================] - 5s 765us/step - loss: 5.0691 - acc: 0.1233\n",
            "Epoch 16/500\n",
            "6510/6510 [==============================] - 5s 761us/step - loss: 4.9546 - acc: 0.1327\n",
            "Epoch 17/500\n",
            "6510/6510 [==============================] - 5s 752us/step - loss: 4.8172 - acc: 0.1475\n",
            "Epoch 18/500\n",
            "6510/6510 [==============================] - 5s 763us/step - loss: 4.6693 - acc: 0.1641\n",
            "Epoch 19/500\n",
            "6510/6510 [==============================] - 5s 764us/step - loss: 4.4974 - acc: 0.1876\n",
            "Epoch 20/500\n",
            "6510/6510 [==============================] - 5s 757us/step - loss: 4.3750 - acc: 0.2088\n",
            "Epoch 21/500\n",
            "6510/6510 [==============================] - 5s 760us/step - loss: 4.2577 - acc: 0.2252\n",
            "Epoch 22/500\n",
            "6510/6510 [==============================] - 5s 766us/step - loss: 4.1380 - acc: 0.2406\n",
            "Epoch 23/500\n",
            "6510/6510 [==============================] - 5s 762us/step - loss: 4.0303 - acc: 0.2487\n",
            "Epoch 24/500\n",
            "6510/6510 [==============================] - 5s 761us/step - loss: 3.9138 - acc: 0.2684\n",
            "Epoch 25/500\n",
            "6510/6510 [==============================] - 5s 775us/step - loss: 3.8247 - acc: 0.2882\n",
            "Epoch 26/500\n",
            "6510/6510 [==============================] - 5s 761us/step - loss: 3.7213 - acc: 0.2998\n",
            "Epoch 27/500\n",
            "6510/6510 [==============================] - 5s 762us/step - loss: 3.6278 - acc: 0.3146\n",
            "Epoch 28/500\n",
            "6510/6510 [==============================] - 5s 763us/step - loss: 3.5392 - acc: 0.3249\n",
            "Epoch 29/500\n",
            "6510/6510 [==============================] - 5s 762us/step - loss: 3.4501 - acc: 0.3387\n",
            "Epoch 30/500\n",
            "6510/6510 [==============================] - 5s 762us/step - loss: 3.3901 - acc: 0.3458\n",
            "Epoch 31/500\n",
            "6510/6510 [==============================] - 5s 764us/step - loss: 3.3048 - acc: 0.3492\n",
            "Epoch 32/500\n",
            "6510/6510 [==============================] - 5s 764us/step - loss: 3.2426 - acc: 0.3607\n",
            "Epoch 33/500\n",
            "6510/6510 [==============================] - 5s 754us/step - loss: 3.1472 - acc: 0.3728\n",
            "Epoch 34/500\n",
            "6510/6510 [==============================] - 5s 760us/step - loss: 3.1128 - acc: 0.3863\n",
            "Epoch 35/500\n",
            "6510/6510 [==============================] - 5s 759us/step - loss: 3.0678 - acc: 0.3839\n",
            "Epoch 36/500\n",
            "6510/6510 [==============================] - 5s 756us/step - loss: 2.9649 - acc: 0.3977\n",
            "Epoch 37/500\n",
            "6510/6510 [==============================] - 5s 773us/step - loss: 2.9203 - acc: 0.3957\n",
            "Epoch 38/500\n",
            "6510/6510 [==============================] - 5s 767us/step - loss: 2.8670 - acc: 0.4095\n",
            "Epoch 39/500\n",
            "6510/6510 [==============================] - 5s 762us/step - loss: 2.8280 - acc: 0.4140\n",
            "Epoch 40/500\n",
            "6510/6510 [==============================] - 5s 755us/step - loss: 2.7467 - acc: 0.4252\n",
            "Epoch 41/500\n",
            "6510/6510 [==============================] - 5s 763us/step - loss: 2.7009 - acc: 0.4243\n",
            "Epoch 42/500\n",
            "6510/6510 [==============================] - 5s 759us/step - loss: 2.6537 - acc: 0.4363\n",
            "Epoch 43/500\n",
            "6510/6510 [==============================] - 5s 762us/step - loss: 2.6274 - acc: 0.4381\n",
            "Epoch 44/500\n",
            "6510/6510 [==============================] - 5s 752us/step - loss: 2.5901 - acc: 0.4386\n",
            "Epoch 45/500\n",
            "6510/6510 [==============================] - 5s 757us/step - loss: 2.5085 - acc: 0.4556\n",
            "Epoch 46/500\n",
            "6510/6510 [==============================] - 5s 762us/step - loss: 2.4834 - acc: 0.4545\n",
            "Epoch 47/500\n",
            "6510/6510 [==============================] - 5s 764us/step - loss: 2.4356 - acc: 0.4656\n",
            "Epoch 48/500\n",
            "6510/6510 [==============================] - 5s 761us/step - loss: 2.4163 - acc: 0.4667\n",
            "Epoch 49/500\n",
            "6510/6510 [==============================] - 5s 760us/step - loss: 2.3739 - acc: 0.4680\n",
            "Epoch 50/500\n",
            "6510/6510 [==============================] - 5s 760us/step - loss: 2.3409 - acc: 0.4745\n",
            "Epoch 51/500\n",
            "6510/6510 [==============================] - 5s 756us/step - loss: 2.2678 - acc: 0.4886\n",
            "Epoch 52/500\n",
            "6510/6510 [==============================] - 5s 756us/step - loss: 2.2119 - acc: 0.4925\n",
            "Epoch 53/500\n",
            "6510/6510 [==============================] - 5s 773us/step - loss: 2.1834 - acc: 0.4889\n",
            "Epoch 54/500\n",
            "6510/6510 [==============================] - 5s 765us/step - loss: 2.1666 - acc: 0.4943\n",
            "Epoch 55/500\n",
            "6510/6510 [==============================] - 5s 771us/step - loss: 2.1261 - acc: 0.5037\n",
            "Epoch 56/500\n",
            "6510/6510 [==============================] - 5s 769us/step - loss: 2.0826 - acc: 0.5108\n",
            "Epoch 57/500\n",
            "6510/6510 [==============================] - 5s 783us/step - loss: 2.0474 - acc: 0.5158\n",
            "Epoch 58/500\n",
            "6510/6510 [==============================] - 5s 775us/step - loss: 2.0131 - acc: 0.5232\n",
            "Epoch 59/500\n",
            "6510/6510 [==============================] - 5s 784us/step - loss: 1.9949 - acc: 0.5284\n",
            "Epoch 60/500\n",
            "6510/6510 [==============================] - 5s 768us/step - loss: 1.9595 - acc: 0.5320\n",
            "Epoch 61/500\n",
            "6510/6510 [==============================] - 5s 762us/step - loss: 1.9219 - acc: 0.5346\n",
            "Epoch 62/500\n",
            "6510/6510 [==============================] - 5s 768us/step - loss: 1.9045 - acc: 0.5421\n",
            "Epoch 63/500\n",
            "6510/6510 [==============================] - 5s 764us/step - loss: 1.8520 - acc: 0.5518\n",
            "Epoch 64/500\n",
            "6510/6510 [==============================] - 5s 770us/step - loss: 1.8458 - acc: 0.5508\n",
            "Epoch 65/500\n",
            "6510/6510 [==============================] - 5s 759us/step - loss: 1.8047 - acc: 0.5576\n",
            "Epoch 66/500\n",
            "6510/6510 [==============================] - 5s 764us/step - loss: 1.7829 - acc: 0.5659\n",
            "Epoch 67/500\n",
            "6510/6510 [==============================] - 5s 760us/step - loss: 1.7665 - acc: 0.5707\n",
            "Epoch 68/500\n",
            "6510/6510 [==============================] - 5s 795us/step - loss: 1.7375 - acc: 0.5645\n",
            "Epoch 69/500\n",
            "6510/6510 [==============================] - 5s 782us/step - loss: 1.7272 - acc: 0.5691\n",
            "Epoch 70/500\n",
            "6510/6510 [==============================] - 5s 769us/step - loss: 1.6759 - acc: 0.5757\n",
            "Epoch 71/500\n",
            "6510/6510 [==============================] - 5s 767us/step - loss: 1.6560 - acc: 0.5888\n",
            "Epoch 72/500\n",
            "6510/6510 [==============================] - 5s 760us/step - loss: 1.6428 - acc: 0.5814\n",
            "Epoch 73/500\n",
            "6510/6510 [==============================] - 5s 767us/step - loss: 1.6262 - acc: 0.5932\n",
            "Epoch 74/500\n",
            "6510/6510 [==============================] - 5s 786us/step - loss: 1.6018 - acc: 0.5916\n",
            "Epoch 75/500\n",
            "6510/6510 [==============================] - 5s 759us/step - loss: 1.5845 - acc: 0.5960\n",
            "Epoch 76/500\n",
            "6510/6510 [==============================] - 5s 761us/step - loss: 1.5663 - acc: 0.5977\n",
            "Epoch 77/500\n",
            "6510/6510 [==============================] - 5s 754us/step - loss: 1.5460 - acc: 0.6077\n",
            "Epoch 78/500\n",
            "6510/6510 [==============================] - 5s 754us/step - loss: 1.5150 - acc: 0.6083\n",
            "Epoch 79/500\n",
            "6510/6510 [==============================] - 5s 752us/step - loss: 1.5000 - acc: 0.6097\n",
            "Epoch 80/500\n",
            "6510/6510 [==============================] - 5s 755us/step - loss: 1.4729 - acc: 0.6158\n",
            "Epoch 81/500\n",
            "6510/6510 [==============================] - 5s 753us/step - loss: 1.4887 - acc: 0.6134\n",
            "Epoch 82/500\n",
            "6510/6510 [==============================] - 5s 758us/step - loss: 1.4701 - acc: 0.6187\n",
            "Epoch 83/500\n",
            "6510/6510 [==============================] - 5s 758us/step - loss: 1.4331 - acc: 0.6273\n",
            "Epoch 84/500\n",
            "6510/6510 [==============================] - 5s 763us/step - loss: 1.4216 - acc: 0.6269\n",
            "Epoch 85/500\n",
            "6510/6510 [==============================] - 5s 770us/step - loss: 1.4220 - acc: 0.6232\n",
            "Epoch 86/500\n",
            "6510/6510 [==============================] - 5s 768us/step - loss: 1.3961 - acc: 0.6292\n",
            "Epoch 87/500\n",
            "6510/6510 [==============================] - 5s 772us/step - loss: 1.3890 - acc: 0.6336\n",
            "Epoch 88/500\n",
            "6510/6510 [==============================] - 5s 753us/step - loss: 1.3706 - acc: 0.6369\n",
            "Epoch 89/500\n",
            "6510/6510 [==============================] - 5s 756us/step - loss: 1.3413 - acc: 0.6416\n",
            "Epoch 90/500\n",
            "6510/6510 [==============================] - 5s 755us/step - loss: 1.3224 - acc: 0.6465\n",
            "Epoch 91/500\n",
            "6510/6510 [==============================] - 5s 760us/step - loss: 1.3125 - acc: 0.6547\n",
            "Epoch 92/500\n",
            "6510/6510 [==============================] - 5s 761us/step - loss: 1.3034 - acc: 0.6533\n",
            "Epoch 93/500\n",
            "6510/6510 [==============================] - 5s 761us/step - loss: 1.3001 - acc: 0.6522\n",
            "Epoch 94/500\n",
            "6510/6510 [==============================] - 5s 762us/step - loss: 1.2641 - acc: 0.6567\n",
            "Epoch 95/500\n",
            "6510/6510 [==============================] - 5s 756us/step - loss: 1.2429 - acc: 0.6676\n",
            "Epoch 96/500\n",
            "6510/6510 [==============================] - 5s 762us/step - loss: 1.2717 - acc: 0.6628\n",
            "Epoch 97/500\n",
            "6510/6510 [==============================] - 5s 757us/step - loss: 1.2478 - acc: 0.6653\n",
            "Epoch 98/500\n",
            "6510/6510 [==============================] - 5s 755us/step - loss: 1.2283 - acc: 0.6639\n",
            "Epoch 99/500\n",
            "6510/6510 [==============================] - 5s 765us/step - loss: 1.2196 - acc: 0.6725\n",
            "Epoch 100/500\n",
            "6510/6510 [==============================] - 5s 768us/step - loss: 1.2256 - acc: 0.6661\n",
            "Epoch 101/500\n",
            "6510/6510 [==============================] - 5s 757us/step - loss: 1.2043 - acc: 0.6776\n",
            "Epoch 102/500\n",
            "6510/6510 [==============================] - 5s 766us/step - loss: 1.2194 - acc: 0.6697\n",
            "Epoch 103/500\n",
            "6510/6510 [==============================] - 5s 769us/step - loss: 1.2062 - acc: 0.6720\n",
            "Epoch 104/500\n",
            "6510/6510 [==============================] - 5s 765us/step - loss: 1.1709 - acc: 0.6856\n",
            "Epoch 105/500\n",
            "6510/6510 [==============================] - 5s 774us/step - loss: 1.1941 - acc: 0.6719\n",
            "Epoch 106/500\n",
            "6510/6510 [==============================] - 5s 764us/step - loss: 1.1477 - acc: 0.6873\n",
            "Epoch 107/500\n",
            "6510/6510 [==============================] - 5s 760us/step - loss: 1.1157 - acc: 0.6943\n",
            "Epoch 108/500\n",
            "6510/6510 [==============================] - 5s 756us/step - loss: 1.1206 - acc: 0.6942\n",
            "Epoch 109/500\n",
            "6510/6510 [==============================] - 5s 757us/step - loss: 1.1225 - acc: 0.6948\n",
            "Epoch 110/500\n",
            "6510/6510 [==============================] - 5s 763us/step - loss: 1.1306 - acc: 0.6900\n",
            "Epoch 111/500\n",
            "6510/6510 [==============================] - 5s 772us/step - loss: 1.1092 - acc: 0.6909\n",
            "Epoch 112/500\n",
            "6510/6510 [==============================] - 5s 763us/step - loss: 1.0841 - acc: 0.6978\n",
            "Epoch 113/500\n",
            "6510/6510 [==============================] - 5s 760us/step - loss: 1.0975 - acc: 0.6888\n",
            "Epoch 114/500\n",
            "6510/6510 [==============================] - 5s 765us/step - loss: 1.0884 - acc: 0.7017\n",
            "Epoch 115/500\n",
            "6510/6510 [==============================] - 5s 756us/step - loss: 1.0862 - acc: 0.6923\n",
            "Epoch 116/500\n",
            "6510/6510 [==============================] - 5s 767us/step - loss: 1.0774 - acc: 0.7006\n",
            "Epoch 117/500\n",
            "6510/6510 [==============================] - 5s 768us/step - loss: 1.0671 - acc: 0.6969\n",
            "Epoch 118/500\n",
            "6510/6510 [==============================] - 5s 764us/step - loss: 1.0595 - acc: 0.7083\n",
            "Epoch 119/500\n",
            "6510/6510 [==============================] - 5s 762us/step - loss: 1.0388 - acc: 0.7101\n",
            "Epoch 120/500\n",
            "6510/6510 [==============================] - 5s 760us/step - loss: 1.0479 - acc: 0.7012\n",
            "Epoch 121/500\n",
            "6510/6510 [==============================] - 5s 766us/step - loss: 1.0299 - acc: 0.7092\n",
            "Epoch 122/500\n",
            "6510/6510 [==============================] - 5s 757us/step - loss: 1.0208 - acc: 0.7108\n",
            "Epoch 123/500\n",
            "6510/6510 [==============================] - 5s 769us/step - loss: 0.9980 - acc: 0.7229\n",
            "Epoch 124/500\n",
            "6510/6510 [==============================] - 5s 768us/step - loss: 0.9989 - acc: 0.7204\n",
            "Epoch 125/500\n",
            "6510/6510 [==============================] - 5s 765us/step - loss: 1.0021 - acc: 0.7152\n",
            "Epoch 126/500\n",
            "6510/6510 [==============================] - 5s 756us/step - loss: 1.0122 - acc: 0.7174\n",
            "Epoch 127/500\n",
            "6510/6510 [==============================] - 5s 751us/step - loss: 1.0019 - acc: 0.7209\n",
            "Epoch 128/500\n",
            "6510/6510 [==============================] - 5s 755us/step - loss: 0.9827 - acc: 0.7267\n",
            "Epoch 129/500\n",
            "6510/6510 [==============================] - 5s 763us/step - loss: 0.9577 - acc: 0.7347\n",
            "Epoch 130/500\n",
            "6510/6510 [==============================] - 5s 772us/step - loss: 0.9615 - acc: 0.7258\n",
            "Epoch 131/500\n",
            "6510/6510 [==============================] - 5s 780us/step - loss: 0.9855 - acc: 0.7209\n",
            "Epoch 132/500\n",
            "6510/6510 [==============================] - 5s 771us/step - loss: 0.9659 - acc: 0.7263\n",
            "Epoch 133/500\n",
            "6510/6510 [==============================] - 5s 761us/step - loss: 0.9788 - acc: 0.7270\n",
            "Epoch 134/500\n",
            "6510/6510 [==============================] - 5s 760us/step - loss: 0.9630 - acc: 0.7323\n",
            "Epoch 135/500\n",
            "6510/6510 [==============================] - 5s 774us/step - loss: 0.9365 - acc: 0.7292\n",
            "Epoch 136/500\n",
            "6510/6510 [==============================] - 5s 765us/step - loss: 0.9456 - acc: 0.7327\n",
            "Epoch 137/500\n",
            "6510/6510 [==============================] - 5s 765us/step - loss: 0.9511 - acc: 0.7286\n",
            "Epoch 138/500\n",
            "6510/6510 [==============================] - 5s 760us/step - loss: 0.9195 - acc: 0.7407\n",
            "Epoch 139/500\n",
            "6510/6510 [==============================] - 5s 753us/step - loss: 0.9348 - acc: 0.7306\n",
            "Epoch 140/500\n",
            "6510/6510 [==============================] - 5s 755us/step - loss: 0.9222 - acc: 0.7320\n",
            "Epoch 141/500\n",
            "6510/6510 [==============================] - 5s 747us/step - loss: 0.9051 - acc: 0.7375\n",
            "Epoch 142/500\n",
            "6510/6510 [==============================] - 5s 758us/step - loss: 0.9115 - acc: 0.7459\n",
            "Epoch 143/500\n",
            "6510/6510 [==============================] - 5s 747us/step - loss: 0.9096 - acc: 0.7398\n",
            "Epoch 144/500\n",
            "6510/6510 [==============================] - 5s 753us/step - loss: 0.9058 - acc: 0.7390\n",
            "Epoch 145/500\n",
            "6510/6510 [==============================] - 5s 753us/step - loss: 0.9117 - acc: 0.7382\n",
            "Epoch 146/500\n",
            "6510/6510 [==============================] - 5s 763us/step - loss: 0.8758 - acc: 0.7461\n",
            "Epoch 147/500\n",
            "6510/6510 [==============================] - 5s 757us/step - loss: 0.8992 - acc: 0.7384\n",
            "Epoch 148/500\n",
            "6510/6510 [==============================] - 5s 768us/step - loss: 0.8942 - acc: 0.7481\n",
            "Epoch 149/500\n",
            "6510/6510 [==============================] - 5s 755us/step - loss: 0.8915 - acc: 0.7378\n",
            "Epoch 150/500\n",
            "6510/6510 [==============================] - 5s 758us/step - loss: 0.8752 - acc: 0.7452\n",
            "Epoch 151/500\n",
            "6510/6510 [==============================] - 5s 763us/step - loss: 0.8711 - acc: 0.7508\n",
            "Epoch 152/500\n",
            "6510/6510 [==============================] - 5s 767us/step - loss: 0.8700 - acc: 0.7475\n",
            "Epoch 153/500\n",
            "6510/6510 [==============================] - 5s 759us/step - loss: 0.8749 - acc: 0.7478\n",
            "Epoch 154/500\n",
            "6510/6510 [==============================] - 5s 761us/step - loss: 0.8488 - acc: 0.7578\n",
            "Epoch 155/500\n",
            "6510/6510 [==============================] - 5s 756us/step - loss: 0.8578 - acc: 0.7535\n",
            "Epoch 156/500\n",
            "6510/6510 [==============================] - 5s 753us/step - loss: 0.8350 - acc: 0.7582\n",
            "Epoch 157/500\n",
            "6510/6510 [==============================] - 5s 758us/step - loss: 0.8465 - acc: 0.7528\n",
            "Epoch 158/500\n",
            "6510/6510 [==============================] - 5s 761us/step - loss: 0.8641 - acc: 0.7528\n",
            "Epoch 159/500\n",
            "6510/6510 [==============================] - 5s 762us/step - loss: 0.8304 - acc: 0.7619\n",
            "Epoch 160/500\n",
            "6510/6510 [==============================] - 5s 766us/step - loss: 0.8304 - acc: 0.7585\n",
            "Epoch 161/500\n",
            "6510/6510 [==============================] - 5s 760us/step - loss: 0.8280 - acc: 0.7587\n",
            "Epoch 162/500\n",
            "6510/6510 [==============================] - 5s 758us/step - loss: 0.8294 - acc: 0.7562\n",
            "Epoch 163/500\n",
            "6510/6510 [==============================] - 5s 762us/step - loss: 0.7964 - acc: 0.7674\n",
            "Epoch 164/500\n",
            "6510/6510 [==============================] - 5s 751us/step - loss: 0.8257 - acc: 0.7568\n",
            "Epoch 165/500\n",
            "6510/6510 [==============================] - 5s 748us/step - loss: 0.7995 - acc: 0.7624\n",
            "Epoch 166/500\n",
            "6510/6510 [==============================] - 5s 760us/step - loss: 0.8002 - acc: 0.7664\n",
            "Epoch 167/500\n",
            "6510/6510 [==============================] - 5s 774us/step - loss: 0.7814 - acc: 0.7725\n",
            "Epoch 168/500\n",
            "6510/6510 [==============================] - 5s 762us/step - loss: 0.7831 - acc: 0.7707\n",
            "Epoch 169/500\n",
            "6510/6510 [==============================] - 5s 767us/step - loss: 0.7768 - acc: 0.7724\n",
            "Epoch 170/500\n",
            "6510/6510 [==============================] - 5s 756us/step - loss: 0.7977 - acc: 0.7671\n",
            "Epoch 171/500\n",
            "6510/6510 [==============================] - 5s 764us/step - loss: 0.7812 - acc: 0.7694\n",
            "Epoch 172/500\n",
            "6510/6510 [==============================] - 5s 763us/step - loss: 0.7889 - acc: 0.7690\n",
            "Epoch 173/500\n",
            "6510/6510 [==============================] - 5s 771us/step - loss: 0.7802 - acc: 0.7747\n",
            "Epoch 174/500\n",
            "6510/6510 [==============================] - 5s 782us/step - loss: 0.7821 - acc: 0.7700\n",
            "Epoch 175/500\n",
            "6510/6510 [==============================] - 5s 779us/step - loss: 0.7782 - acc: 0.7694\n",
            "Epoch 176/500\n",
            "6510/6510 [==============================] - 5s 753us/step - loss: 0.7724 - acc: 0.7777\n",
            "Epoch 177/500\n",
            "6510/6510 [==============================] - 5s 751us/step - loss: 0.7673 - acc: 0.7742\n",
            "Epoch 178/500\n",
            "6510/6510 [==============================] - 5s 759us/step - loss: 0.7572 - acc: 0.7753\n",
            "Epoch 179/500\n",
            "6510/6510 [==============================] - 5s 767us/step - loss: 0.7589 - acc: 0.7757\n",
            "Epoch 180/500\n",
            "6510/6510 [==============================] - 5s 755us/step - loss: 0.7532 - acc: 0.7794\n",
            "Epoch 181/500\n",
            "6510/6510 [==============================] - 5s 757us/step - loss: 0.7593 - acc: 0.7799\n",
            "Epoch 182/500\n",
            "6510/6510 [==============================] - 5s 761us/step - loss: 0.7699 - acc: 0.7702\n",
            "Epoch 183/500\n",
            "6510/6510 [==============================] - 5s 757us/step - loss: 0.7505 - acc: 0.7806\n",
            "Epoch 184/500\n",
            "6510/6510 [==============================] - 5s 753us/step - loss: 0.7591 - acc: 0.7765\n",
            "Epoch 185/500\n",
            "6510/6510 [==============================] - 5s 755us/step - loss: 0.7404 - acc: 0.7810\n",
            "Epoch 186/500\n",
            "6510/6510 [==============================] - 5s 749us/step - loss: 0.7444 - acc: 0.7765\n",
            "Epoch 187/500\n",
            "6510/6510 [==============================] - 5s 752us/step - loss: 0.7260 - acc: 0.7891\n",
            "Epoch 188/500\n",
            "6510/6510 [==============================] - 5s 756us/step - loss: 0.7346 - acc: 0.7840\n",
            "Epoch 189/500\n",
            "6510/6510 [==============================] - 5s 758us/step - loss: 0.7390 - acc: 0.7780\n",
            "Epoch 190/500\n",
            "6510/6510 [==============================] - 5s 752us/step - loss: 0.7159 - acc: 0.7849\n",
            "Epoch 191/500\n",
            "6510/6510 [==============================] - 5s 754us/step - loss: 0.7109 - acc: 0.7826\n",
            "Epoch 192/500\n",
            "6510/6510 [==============================] - 5s 754us/step - loss: 0.7075 - acc: 0.7886\n",
            "Epoch 193/500\n",
            "6510/6510 [==============================] - 5s 782us/step - loss: 0.7140 - acc: 0.7925\n",
            "Epoch 194/500\n",
            "6510/6510 [==============================] - 5s 790us/step - loss: 0.7195 - acc: 0.7854\n",
            "Epoch 195/500\n",
            "6510/6510 [==============================] - 5s 763us/step - loss: 0.7027 - acc: 0.7908\n",
            "Epoch 196/500\n",
            "6510/6510 [==============================] - 5s 761us/step - loss: 0.7172 - acc: 0.7926\n",
            "Epoch 197/500\n",
            "6510/6510 [==============================] - 5s 786us/step - loss: 0.7085 - acc: 0.7906\n",
            "Epoch 198/500\n",
            "6510/6510 [==============================] - 5s 769us/step - loss: 0.7255 - acc: 0.7823\n",
            "Epoch 199/500\n",
            "6510/6510 [==============================] - 5s 765us/step - loss: 0.6987 - acc: 0.7916\n",
            "Epoch 200/500\n",
            "6510/6510 [==============================] - 5s 770us/step - loss: 0.6938 - acc: 0.7923\n",
            "Epoch 201/500\n",
            "6510/6510 [==============================] - 5s 763us/step - loss: 0.6967 - acc: 0.7873\n",
            "Epoch 202/500\n",
            "6510/6510 [==============================] - 5s 757us/step - loss: 0.7048 - acc: 0.7885\n",
            "Epoch 203/500\n",
            "6510/6510 [==============================] - 5s 758us/step - loss: 0.6790 - acc: 0.7971\n",
            "Epoch 204/500\n",
            "6510/6510 [==============================] - 5s 763us/step - loss: 0.6888 - acc: 0.7926\n",
            "Epoch 205/500\n",
            "6510/6510 [==============================] - 5s 760us/step - loss: 0.6864 - acc: 0.7955\n",
            "Epoch 206/500\n",
            "6510/6510 [==============================] - 5s 757us/step - loss: 0.6846 - acc: 0.7939\n",
            "Epoch 207/500\n",
            "6510/6510 [==============================] - 5s 758us/step - loss: 0.6965 - acc: 0.7894\n",
            "Epoch 208/500\n",
            "6510/6510 [==============================] - 5s 760us/step - loss: 0.6691 - acc: 0.7955\n",
            "Epoch 209/500\n",
            "6510/6510 [==============================] - 5s 756us/step - loss: 0.6717 - acc: 0.7994\n",
            "Epoch 210/500\n",
            "6510/6510 [==============================] - 5s 765us/step - loss: 0.6664 - acc: 0.7995\n",
            "Epoch 211/500\n",
            "6510/6510 [==============================] - 5s 760us/step - loss: 0.6840 - acc: 0.7954\n",
            "Epoch 212/500\n",
            "6510/6510 [==============================] - 5s 758us/step - loss: 0.6725 - acc: 0.8029\n",
            "Epoch 213/500\n",
            "6510/6510 [==============================] - 5s 762us/step - loss: 0.6567 - acc: 0.8018\n",
            "Epoch 214/500\n",
            "6510/6510 [==============================] - 5s 750us/step - loss: 0.6441 - acc: 0.8054\n",
            "Epoch 215/500\n",
            "6510/6510 [==============================] - 5s 766us/step - loss: 0.6485 - acc: 0.8065\n",
            "Epoch 216/500\n",
            "6510/6510 [==============================] - 5s 765us/step - loss: 0.6470 - acc: 0.8045\n",
            "Epoch 217/500\n",
            "6510/6510 [==============================] - 5s 759us/step - loss: 0.6922 - acc: 0.7948\n",
            "Epoch 218/500\n",
            "6510/6510 [==============================] - 5s 759us/step - loss: 0.6842 - acc: 0.7945\n",
            "Epoch 219/500\n",
            "6510/6510 [==============================] - 5s 759us/step - loss: 0.6436 - acc: 0.8057\n",
            "Epoch 220/500\n",
            "6510/6510 [==============================] - 5s 759us/step - loss: 0.6743 - acc: 0.7945\n",
            "Epoch 221/500\n",
            "6510/6510 [==============================] - 5s 759us/step - loss: 0.6470 - acc: 0.8043\n",
            "Epoch 222/500\n",
            "6510/6510 [==============================] - 5s 764us/step - loss: 0.6333 - acc: 0.8118\n",
            "Epoch 223/500\n",
            "6510/6510 [==============================] - 5s 755us/step - loss: 0.6316 - acc: 0.8123\n",
            "Epoch 224/500\n",
            "6510/6510 [==============================] - 5s 751us/step - loss: 0.6555 - acc: 0.8032\n",
            "Epoch 225/500\n",
            "6510/6510 [==============================] - 5s 754us/step - loss: 0.6393 - acc: 0.8081\n",
            "Epoch 226/500\n",
            "6510/6510 [==============================] - 5s 759us/step - loss: 0.6410 - acc: 0.8018\n",
            "Epoch 227/500\n",
            "6510/6510 [==============================] - 5s 763us/step - loss: 0.6399 - acc: 0.8094\n",
            "Epoch 228/500\n",
            "6510/6510 [==============================] - 5s 751us/step - loss: 0.6431 - acc: 0.8115\n",
            "Epoch 229/500\n",
            "6510/6510 [==============================] - 5s 752us/step - loss: 0.6493 - acc: 0.7995\n",
            "Epoch 230/500\n",
            "6510/6510 [==============================] - 5s 750us/step - loss: 0.6100 - acc: 0.8177\n",
            "Epoch 231/500\n",
            "6510/6510 [==============================] - 5s 757us/step - loss: 0.6182 - acc: 0.8083\n",
            "Epoch 232/500\n",
            "6510/6510 [==============================] - 5s 766us/step - loss: 0.6471 - acc: 0.8017\n",
            "Epoch 233/500\n",
            "6510/6510 [==============================] - 5s 761us/step - loss: 0.6206 - acc: 0.8141\n",
            "Epoch 234/500\n",
            "6510/6510 [==============================] - 5s 768us/step - loss: 0.6384 - acc: 0.8091\n",
            "Epoch 235/500\n",
            "6510/6510 [==============================] - 5s 760us/step - loss: 0.6292 - acc: 0.8126\n",
            "Epoch 236/500\n",
            "6510/6510 [==============================] - 5s 759us/step - loss: 0.6172 - acc: 0.8169\n",
            "Epoch 237/500\n",
            "6510/6510 [==============================] - 5s 748us/step - loss: 0.6147 - acc: 0.8112\n",
            "Epoch 238/500\n",
            "6510/6510 [==============================] - 5s 749us/step - loss: 0.6095 - acc: 0.8127\n",
            "Epoch 239/500\n",
            "6510/6510 [==============================] - 5s 756us/step - loss: 0.6458 - acc: 0.7998\n",
            "Epoch 240/500\n",
            "6510/6510 [==============================] - 5s 753us/step - loss: 0.6135 - acc: 0.8101\n",
            "Epoch 241/500\n",
            "6510/6510 [==============================] - 5s 753us/step - loss: 0.6035 - acc: 0.8195\n",
            "Epoch 242/500\n",
            "6510/6510 [==============================] - 5s 751us/step - loss: 0.6142 - acc: 0.8155\n",
            "Epoch 243/500\n",
            "6510/6510 [==============================] - 5s 752us/step - loss: 0.6271 - acc: 0.8154\n",
            "Epoch 244/500\n",
            "6510/6510 [==============================] - 5s 755us/step - loss: 0.6004 - acc: 0.8232\n",
            "Epoch 245/500\n",
            "6510/6510 [==============================] - 5s 748us/step - loss: 0.6261 - acc: 0.8143\n",
            "Epoch 246/500\n",
            "6510/6510 [==============================] - 5s 765us/step - loss: 0.6056 - acc: 0.8115\n",
            "Epoch 247/500\n",
            "6510/6510 [==============================] - 5s 755us/step - loss: 0.5963 - acc: 0.8220\n",
            "Epoch 248/500\n",
            "6510/6510 [==============================] - 5s 757us/step - loss: 0.5859 - acc: 0.8218\n",
            "Epoch 249/500\n",
            "6510/6510 [==============================] - 5s 766us/step - loss: 0.5949 - acc: 0.8198\n",
            "Epoch 250/500\n",
            "6510/6510 [==============================] - 5s 753us/step - loss: 0.5903 - acc: 0.8172\n",
            "Epoch 251/500\n",
            "6510/6510 [==============================] - 5s 756us/step - loss: 0.6110 - acc: 0.8120\n",
            "Epoch 252/500\n",
            "6510/6510 [==============================] - 5s 749us/step - loss: 0.5872 - acc: 0.8237\n",
            "Epoch 253/500\n",
            "6510/6510 [==============================] - 5s 758us/step - loss: 0.6015 - acc: 0.8217\n",
            "Epoch 254/500\n",
            "6510/6510 [==============================] - 5s 756us/step - loss: 0.6153 - acc: 0.8167\n",
            "Epoch 255/500\n",
            "6510/6510 [==============================] - 5s 765us/step - loss: 0.5852 - acc: 0.8192\n",
            "Epoch 256/500\n",
            "6510/6510 [==============================] - 5s 789us/step - loss: 0.5997 - acc: 0.8151\n",
            "Epoch 257/500\n",
            "6510/6510 [==============================] - 5s 782us/step - loss: 0.5683 - acc: 0.8269\n",
            "Epoch 258/500\n",
            "6510/6510 [==============================] - 5s 763us/step - loss: 0.5762 - acc: 0.8217\n",
            "Epoch 259/500\n",
            "6510/6510 [==============================] - 5s 772us/step - loss: 0.5978 - acc: 0.8157\n",
            "Epoch 260/500\n",
            "6510/6510 [==============================] - 5s 753us/step - loss: 0.5770 - acc: 0.8207\n",
            "Epoch 261/500\n",
            "6510/6510 [==============================] - 5s 755us/step - loss: 0.6104 - acc: 0.8146\n",
            "Epoch 262/500\n",
            "6510/6510 [==============================] - 5s 749us/step - loss: 0.5831 - acc: 0.8243\n",
            "Epoch 263/500\n",
            "6510/6510 [==============================] - 5s 746us/step - loss: 0.5804 - acc: 0.8210\n",
            "Epoch 264/500\n",
            "6510/6510 [==============================] - 5s 754us/step - loss: 0.5674 - acc: 0.8264\n",
            "Epoch 265/500\n",
            "6510/6510 [==============================] - 5s 756us/step - loss: 0.5679 - acc: 0.8289\n",
            "Epoch 266/500\n",
            "6510/6510 [==============================] - 5s 759us/step - loss: 0.5871 - acc: 0.8174\n",
            "Epoch 267/500\n",
            "6510/6510 [==============================] - 5s 750us/step - loss: 0.5596 - acc: 0.8318\n",
            "Epoch 268/500\n",
            "6510/6510 [==============================] - 5s 752us/step - loss: 0.5827 - acc: 0.8267\n",
            "Epoch 269/500\n",
            "6510/6510 [==============================] - 5s 760us/step - loss: 0.5668 - acc: 0.8275\n",
            "Epoch 270/500\n",
            "6510/6510 [==============================] - 5s 759us/step - loss: 0.5576 - acc: 0.8263\n",
            "Epoch 271/500\n",
            "6510/6510 [==============================] - 5s 756us/step - loss: 0.5561 - acc: 0.8257\n",
            "Epoch 272/500\n",
            "6510/6510 [==============================] - 5s 763us/step - loss: 0.5320 - acc: 0.8327\n",
            "Epoch 273/500\n",
            "6510/6510 [==============================] - 5s 757us/step - loss: 0.5563 - acc: 0.8264\n",
            "Epoch 274/500\n",
            "6510/6510 [==============================] - 5s 762us/step - loss: 0.5516 - acc: 0.8309\n",
            "Epoch 275/500\n",
            "6510/6510 [==============================] - 5s 752us/step - loss: 0.5767 - acc: 0.8214\n",
            "Epoch 276/500\n",
            "6510/6510 [==============================] - 5s 762us/step - loss: 0.5771 - acc: 0.8201\n",
            "Epoch 277/500\n",
            "6510/6510 [==============================] - 5s 757us/step - loss: 0.5293 - acc: 0.8381\n",
            "Epoch 278/500\n",
            "6510/6510 [==============================] - 5s 765us/step - loss: 0.5644 - acc: 0.8269\n",
            "Epoch 279/500\n",
            "6510/6510 [==============================] - 5s 757us/step - loss: 0.5415 - acc: 0.8370\n",
            "Epoch 280/500\n",
            "6510/6510 [==============================] - 5s 749us/step - loss: 0.5517 - acc: 0.8309\n",
            "Epoch 281/500\n",
            "6510/6510 [==============================] - 5s 769us/step - loss: 0.5541 - acc: 0.8261\n",
            "Epoch 282/500\n",
            "6510/6510 [==============================] - 5s 764us/step - loss: 0.5387 - acc: 0.8373\n",
            "Epoch 283/500\n",
            "6510/6510 [==============================] - 5s 758us/step - loss: 0.5735 - acc: 0.8226\n",
            "Epoch 284/500\n",
            "6510/6510 [==============================] - 5s 768us/step - loss: 0.5464 - acc: 0.8335\n",
            "Epoch 285/500\n",
            "6510/6510 [==============================] - 5s 763us/step - loss: 0.5484 - acc: 0.8323\n",
            "Epoch 286/500\n",
            "6510/6510 [==============================] - 5s 757us/step - loss: 0.5366 - acc: 0.8390\n",
            "Epoch 287/500\n",
            "6510/6510 [==============================] - 5s 750us/step - loss: 0.5359 - acc: 0.8356\n",
            "Epoch 288/500\n",
            "6510/6510 [==============================] - 5s 751us/step - loss: 0.5478 - acc: 0.8296\n",
            "Epoch 289/500\n",
            "6510/6510 [==============================] - 5s 755us/step - loss: 0.5434 - acc: 0.8292\n",
            "Epoch 290/500\n",
            "6510/6510 [==============================] - 5s 760us/step - loss: 0.5485 - acc: 0.8333\n",
            "Epoch 291/500\n",
            "6510/6510 [==============================] - 5s 760us/step - loss: 0.5388 - acc: 0.8318\n",
            "Epoch 292/500\n",
            "6510/6510 [==============================] - 5s 748us/step - loss: 0.5515 - acc: 0.8333\n",
            "Epoch 293/500\n",
            "6510/6510 [==============================] - 5s 758us/step - loss: 0.5326 - acc: 0.8393\n",
            "Epoch 294/500\n",
            "6510/6510 [==============================] - 5s 751us/step - loss: 0.5590 - acc: 0.8350\n",
            "Epoch 295/500\n",
            "6510/6510 [==============================] - 5s 754us/step - loss: 0.5259 - acc: 0.8372\n",
            "Epoch 296/500\n",
            "6510/6510 [==============================] - 5s 759us/step - loss: 0.5245 - acc: 0.8363\n",
            "Epoch 297/500\n",
            "6510/6510 [==============================] - 5s 767us/step - loss: 0.5242 - acc: 0.8382\n",
            "Epoch 298/500\n",
            "6510/6510 [==============================] - 5s 770us/step - loss: 0.5371 - acc: 0.8335\n",
            "Epoch 299/500\n",
            "6510/6510 [==============================] - 5s 755us/step - loss: 0.5280 - acc: 0.8376\n",
            "Epoch 300/500\n",
            "6510/6510 [==============================] - 5s 750us/step - loss: 0.5062 - acc: 0.8384\n",
            "Epoch 301/500\n",
            "6510/6510 [==============================] - 5s 761us/step - loss: 0.5228 - acc: 0.8407\n",
            "Epoch 302/500\n",
            "6510/6510 [==============================] - 5s 747us/step - loss: 0.5322 - acc: 0.8398\n",
            "Epoch 303/500\n",
            "6510/6510 [==============================] - 5s 752us/step - loss: 0.5086 - acc: 0.8470\n",
            "Epoch 304/500\n",
            "6510/6510 [==============================] - 5s 748us/step - loss: 0.5163 - acc: 0.8406\n",
            "Epoch 305/500\n",
            "6510/6510 [==============================] - 5s 750us/step - loss: 0.5312 - acc: 0.8375\n",
            "Epoch 306/500\n",
            "6510/6510 [==============================] - 5s 758us/step - loss: 0.5132 - acc: 0.8392\n",
            "Epoch 307/500\n",
            "6510/6510 [==============================] - 5s 761us/step - loss: 0.5279 - acc: 0.8382\n",
            "Epoch 308/500\n",
            "6510/6510 [==============================] - 5s 765us/step - loss: 0.5147 - acc: 0.8379\n",
            "Epoch 309/500\n",
            "6510/6510 [==============================] - 5s 762us/step - loss: 0.5283 - acc: 0.8292\n",
            "Epoch 310/500\n",
            "6510/6510 [==============================] - 5s 767us/step - loss: 0.5104 - acc: 0.8416\n",
            "Epoch 311/500\n",
            "6510/6510 [==============================] - 5s 749us/step - loss: 0.4973 - acc: 0.8467\n",
            "Epoch 312/500\n",
            "6510/6510 [==============================] - 5s 764us/step - loss: 0.5261 - acc: 0.8352\n",
            "Epoch 313/500\n",
            "6510/6510 [==============================] - 5s 756us/step - loss: 0.5334 - acc: 0.8376\n",
            "Epoch 314/500\n",
            "6510/6510 [==============================] - 5s 760us/step - loss: 0.5182 - acc: 0.8395\n",
            "Epoch 315/500\n",
            "6510/6510 [==============================] - 5s 758us/step - loss: 0.5350 - acc: 0.8358\n",
            "Epoch 316/500\n",
            "6510/6510 [==============================] - 5s 760us/step - loss: 0.5229 - acc: 0.8425\n",
            "Epoch 317/500\n",
            "6510/6510 [==============================] - 5s 755us/step - loss: 0.5007 - acc: 0.8462\n",
            "Epoch 318/500\n",
            "6510/6510 [==============================] - 5s 760us/step - loss: 0.5147 - acc: 0.8439\n",
            "Epoch 319/500\n",
            "6510/6510 [==============================] - 5s 783us/step - loss: 0.5158 - acc: 0.8404\n",
            "Epoch 320/500\n",
            "6510/6510 [==============================] - 5s 786us/step - loss: 0.5126 - acc: 0.8409\n",
            "Epoch 321/500\n",
            "6510/6510 [==============================] - 5s 772us/step - loss: 0.4986 - acc: 0.8442\n",
            "Epoch 322/500\n",
            "6510/6510 [==============================] - 5s 753us/step - loss: 0.5119 - acc: 0.8418\n",
            "Epoch 323/500\n",
            "6510/6510 [==============================] - 5s 757us/step - loss: 0.5166 - acc: 0.8421\n",
            "Epoch 324/500\n",
            "6510/6510 [==============================] - 5s 764us/step - loss: 0.5087 - acc: 0.8418\n",
            "Epoch 325/500\n",
            "6510/6510 [==============================] - 5s 762us/step - loss: 0.5006 - acc: 0.8441\n",
            "Epoch 326/500\n",
            "6510/6510 [==============================] - 5s 760us/step - loss: 0.5022 - acc: 0.8467\n",
            "Epoch 327/500\n",
            "6510/6510 [==============================] - 5s 758us/step - loss: 0.4787 - acc: 0.8510\n",
            "Epoch 328/500\n",
            "6510/6510 [==============================] - 5s 757us/step - loss: 0.5050 - acc: 0.8429\n",
            "Epoch 329/500\n",
            "6510/6510 [==============================] - 5s 766us/step - loss: 0.5045 - acc: 0.8462\n",
            "Epoch 330/500\n",
            "6510/6510 [==============================] - 5s 767us/step - loss: 0.5059 - acc: 0.8462\n",
            "Epoch 331/500\n",
            "6510/6510 [==============================] - 5s 771us/step - loss: 0.5039 - acc: 0.8376\n",
            "Epoch 332/500\n",
            "6510/6510 [==============================] - 5s 760us/step - loss: 0.4954 - acc: 0.8404\n",
            "Epoch 333/500\n",
            "6510/6510 [==============================] - 5s 761us/step - loss: 0.4977 - acc: 0.8449\n",
            "Epoch 334/500\n",
            "6510/6510 [==============================] - 5s 757us/step - loss: 0.5066 - acc: 0.8439\n",
            "Epoch 335/500\n",
            "6510/6510 [==============================] - 5s 755us/step - loss: 0.4947 - acc: 0.8478\n",
            "Epoch 336/500\n",
            "6510/6510 [==============================] - 5s 758us/step - loss: 0.4726 - acc: 0.8544\n",
            "Epoch 337/500\n",
            "6510/6510 [==============================] - 5s 755us/step - loss: 0.4882 - acc: 0.8478\n",
            "Epoch 338/500\n",
            "6510/6510 [==============================] - 5s 756us/step - loss: 0.4669 - acc: 0.8499\n",
            "Epoch 339/500\n",
            "6510/6510 [==============================] - 5s 753us/step - loss: 0.4826 - acc: 0.8539\n",
            "Epoch 340/500\n",
            "6510/6510 [==============================] - 5s 763us/step - loss: 0.4992 - acc: 0.8473\n",
            "Epoch 341/500\n",
            "6510/6510 [==============================] - 5s 758us/step - loss: 0.4778 - acc: 0.8528\n",
            "Epoch 342/500\n",
            "6510/6510 [==============================] - 5s 755us/step - loss: 0.4853 - acc: 0.8492\n",
            "Epoch 343/500\n",
            "6510/6510 [==============================] - 5s 754us/step - loss: 0.4628 - acc: 0.8519\n",
            "Epoch 344/500\n",
            "6510/6510 [==============================] - 5s 752us/step - loss: 0.4608 - acc: 0.8616\n",
            "Epoch 345/500\n",
            "6510/6510 [==============================] - 5s 768us/step - loss: 0.4747 - acc: 0.8525\n",
            "Epoch 346/500\n",
            "6510/6510 [==============================] - 5s 761us/step - loss: 0.4797 - acc: 0.8525\n",
            "Epoch 347/500\n",
            "6510/6510 [==============================] - 5s 762us/step - loss: 0.4972 - acc: 0.8502\n",
            "Epoch 348/500\n",
            "6510/6510 [==============================] - 5s 755us/step - loss: 0.4683 - acc: 0.8542\n",
            "Epoch 349/500\n",
            "6510/6510 [==============================] - 5s 750us/step - loss: 0.4843 - acc: 0.8502\n",
            "Epoch 350/500\n",
            "6510/6510 [==============================] - 5s 752us/step - loss: 0.4835 - acc: 0.8498\n",
            "Epoch 351/500\n",
            "6510/6510 [==============================] - 5s 756us/step - loss: 0.4824 - acc: 0.8504\n",
            "Epoch 352/500\n",
            "6510/6510 [==============================] - 5s 755us/step - loss: 0.4916 - acc: 0.8479\n",
            "Epoch 353/500\n",
            "6510/6510 [==============================] - 5s 745us/step - loss: 0.4869 - acc: 0.8501\n",
            "Epoch 354/500\n",
            "6510/6510 [==============================] - 5s 758us/step - loss: 0.4730 - acc: 0.8508\n",
            "Epoch 355/500\n",
            "6510/6510 [==============================] - 5s 750us/step - loss: 0.4876 - acc: 0.8501\n",
            "Epoch 356/500\n",
            "6510/6510 [==============================] - 5s 752us/step - loss: 0.4770 - acc: 0.8525\n",
            "Epoch 357/500\n",
            "6510/6510 [==============================] - 5s 755us/step - loss: 0.4564 - acc: 0.8575\n",
            "Epoch 358/500\n",
            "6510/6510 [==============================] - 5s 759us/step - loss: 0.4877 - acc: 0.8472\n",
            "Epoch 359/500\n",
            "6510/6510 [==============================] - 5s 753us/step - loss: 0.4664 - acc: 0.8528\n",
            "Epoch 360/500\n",
            "6510/6510 [==============================] - 5s 755us/step - loss: 0.4518 - acc: 0.8608\n",
            "Epoch 361/500\n",
            "6510/6510 [==============================] - 5s 760us/step - loss: 0.4710 - acc: 0.8528\n",
            "Epoch 362/500\n",
            "6510/6510 [==============================] - 5s 760us/step - loss: 0.4493 - acc: 0.8619\n",
            "Epoch 363/500\n",
            "6510/6510 [==============================] - 5s 757us/step - loss: 0.4682 - acc: 0.8565\n",
            "Epoch 364/500\n",
            "6510/6510 [==============================] - 5s 760us/step - loss: 0.4472 - acc: 0.8611\n",
            "Epoch 365/500\n",
            "6510/6510 [==============================] - 5s 757us/step - loss: 0.4641 - acc: 0.8556\n",
            "Epoch 366/500\n",
            "6510/6510 [==============================] - 5s 753us/step - loss: 0.4875 - acc: 0.8524\n",
            "Epoch 367/500\n",
            "6510/6510 [==============================] - 5s 758us/step - loss: 0.4692 - acc: 0.8568\n",
            "Epoch 368/500\n",
            "6510/6510 [==============================] - 5s 751us/step - loss: 0.4507 - acc: 0.8642\n",
            "Epoch 369/500\n",
            "6510/6510 [==============================] - 5s 757us/step - loss: 0.4850 - acc: 0.8505\n",
            "Epoch 370/500\n",
            "6510/6510 [==============================] - 5s 755us/step - loss: 0.4572 - acc: 0.8588\n",
            "Epoch 371/500\n",
            "6510/6510 [==============================] - 5s 754us/step - loss: 0.4692 - acc: 0.8576\n",
            "Epoch 372/500\n",
            "6510/6510 [==============================] - 5s 749us/step - loss: 0.4630 - acc: 0.8516\n",
            "Epoch 373/500\n",
            "6510/6510 [==============================] - 5s 755us/step - loss: 0.4796 - acc: 0.8516\n",
            "Epoch 374/500\n",
            "6510/6510 [==============================] - 5s 751us/step - loss: 0.4602 - acc: 0.8555\n",
            "Epoch 375/500\n",
            "6510/6510 [==============================] - 5s 757us/step - loss: 0.4578 - acc: 0.8607\n",
            "Epoch 376/500\n",
            "6510/6510 [==============================] - 5s 756us/step - loss: 0.4537 - acc: 0.8561\n",
            "Epoch 377/500\n",
            "6510/6510 [==============================] - 5s 760us/step - loss: 0.4544 - acc: 0.8570\n",
            "Epoch 378/500\n",
            "6510/6510 [==============================] - 5s 756us/step - loss: 0.4593 - acc: 0.8608\n",
            "Epoch 379/500\n",
            "6510/6510 [==============================] - 5s 763us/step - loss: 0.4704 - acc: 0.8518\n",
            "Epoch 380/500\n",
            "6510/6510 [==============================] - 5s 759us/step - loss: 0.4707 - acc: 0.8504\n",
            "Epoch 381/500\n",
            "6510/6510 [==============================] - 5s 773us/step - loss: 0.4502 - acc: 0.8594\n",
            "Epoch 382/500\n",
            "6510/6510 [==============================] - 5s 793us/step - loss: 0.4440 - acc: 0.8596\n",
            "Epoch 383/500\n",
            "6510/6510 [==============================] - 5s 786us/step - loss: 0.4483 - acc: 0.8610\n",
            "Epoch 384/500\n",
            "6510/6510 [==============================] - 5s 742us/step - loss: 0.4700 - acc: 0.8551\n",
            "Epoch 385/500\n",
            "6510/6510 [==============================] - 5s 747us/step - loss: 0.4474 - acc: 0.8625\n",
            "Epoch 386/500\n",
            "6510/6510 [==============================] - 5s 751us/step - loss: 0.4384 - acc: 0.8637\n",
            "Epoch 387/500\n",
            "6510/6510 [==============================] - 5s 736us/step - loss: 0.4343 - acc: 0.8644\n",
            "Epoch 388/500\n",
            "6510/6510 [==============================] - 5s 748us/step - loss: 0.4472 - acc: 0.8621\n",
            "Epoch 389/500\n",
            "6510/6510 [==============================] - 5s 752us/step - loss: 0.4531 - acc: 0.8628\n",
            "Epoch 390/500\n",
            "6510/6510 [==============================] - 5s 756us/step - loss: 0.4577 - acc: 0.8607\n",
            "Epoch 391/500\n",
            "6510/6510 [==============================] - 5s 756us/step - loss: 0.4473 - acc: 0.8588\n",
            "Epoch 392/500\n",
            "6510/6510 [==============================] - 5s 757us/step - loss: 0.4431 - acc: 0.8653\n",
            "Epoch 393/500\n",
            "6510/6510 [==============================] - 5s 752us/step - loss: 0.4487 - acc: 0.8585\n",
            "Epoch 394/500\n",
            "6510/6510 [==============================] - 5s 764us/step - loss: 0.4264 - acc: 0.8679\n",
            "Epoch 395/500\n",
            "6510/6510 [==============================] - 5s 765us/step - loss: 0.4441 - acc: 0.8594\n",
            "Epoch 396/500\n",
            "6510/6510 [==============================] - 5s 763us/step - loss: 0.4406 - acc: 0.8633\n",
            "Epoch 397/500\n",
            "6510/6510 [==============================] - 5s 754us/step - loss: 0.4471 - acc: 0.8608\n",
            "Epoch 398/500\n",
            "6510/6510 [==============================] - 5s 750us/step - loss: 0.4217 - acc: 0.8664\n",
            "Epoch 399/500\n",
            "6510/6510 [==============================] - 5s 748us/step - loss: 0.4329 - acc: 0.8679\n",
            "Epoch 400/500\n",
            "6510/6510 [==============================] - 5s 749us/step - loss: 0.4461 - acc: 0.8607\n",
            "Epoch 401/500\n",
            "6510/6510 [==============================] - 5s 753us/step - loss: 0.4419 - acc: 0.8641\n",
            "Epoch 402/500\n",
            "6510/6510 [==============================] - 5s 760us/step - loss: 0.4524 - acc: 0.8607\n",
            "Epoch 403/500\n",
            "6510/6510 [==============================] - 5s 761us/step - loss: 0.4394 - acc: 0.8633\n",
            "Epoch 404/500\n",
            "6510/6510 [==============================] - 5s 752us/step - loss: 0.4278 - acc: 0.8705\n",
            "Epoch 405/500\n",
            "6510/6510 [==============================] - 5s 753us/step - loss: 0.4307 - acc: 0.8679\n",
            "Epoch 406/500\n",
            "6510/6510 [==============================] - 5s 757us/step - loss: 0.4359 - acc: 0.8599\n",
            "Epoch 407/500\n",
            "6510/6510 [==============================] - 5s 760us/step - loss: 0.4395 - acc: 0.8619\n",
            "Epoch 408/500\n",
            "6510/6510 [==============================] - 5s 753us/step - loss: 0.4462 - acc: 0.8633\n",
            "Epoch 409/500\n",
            "6510/6510 [==============================] - 5s 758us/step - loss: 0.4425 - acc: 0.8633\n",
            "Epoch 410/500\n",
            "6510/6510 [==============================] - 5s 752us/step - loss: 0.4233 - acc: 0.8665\n",
            "Epoch 411/500\n",
            "6510/6510 [==============================] - 5s 761us/step - loss: 0.4446 - acc: 0.8601\n",
            "Epoch 412/500\n",
            "6510/6510 [==============================] - 5s 757us/step - loss: 0.4449 - acc: 0.8610\n",
            "Epoch 413/500\n",
            "6510/6510 [==============================] - 5s 759us/step - loss: 0.4545 - acc: 0.8598\n",
            "Epoch 414/500\n",
            "6510/6510 [==============================] - 5s 750us/step - loss: 0.4158 - acc: 0.8679\n",
            "Epoch 415/500\n",
            "6510/6510 [==============================] - 5s 759us/step - loss: 0.4236 - acc: 0.8685\n",
            "Epoch 416/500\n",
            "6510/6510 [==============================] - 5s 755us/step - loss: 0.4320 - acc: 0.8685\n",
            "Epoch 417/500\n",
            "6510/6510 [==============================] - 5s 758us/step - loss: 0.4345 - acc: 0.8645\n",
            "Epoch 418/500\n",
            "6510/6510 [==============================] - 5s 768us/step - loss: 0.4337 - acc: 0.8667\n",
            "Epoch 419/500\n",
            "6510/6510 [==============================] - 5s 766us/step - loss: 0.4022 - acc: 0.8743\n",
            "Epoch 420/500\n",
            "6510/6510 [==============================] - 5s 771us/step - loss: 0.4290 - acc: 0.8694\n",
            "Epoch 421/500\n",
            "6510/6510 [==============================] - 5s 760us/step - loss: 0.4340 - acc: 0.8670\n",
            "Epoch 422/500\n",
            "6510/6510 [==============================] - 5s 756us/step - loss: 0.4217 - acc: 0.8713\n",
            "Epoch 423/500\n",
            "6510/6510 [==============================] - 5s 756us/step - loss: 0.4037 - acc: 0.8751\n",
            "Epoch 424/500\n",
            "6510/6510 [==============================] - 5s 748us/step - loss: 0.4298 - acc: 0.8657\n",
            "Epoch 425/500\n",
            "6510/6510 [==============================] - 5s 753us/step - loss: 0.4231 - acc: 0.8694\n",
            "Epoch 426/500\n",
            "6510/6510 [==============================] - 5s 758us/step - loss: 0.4366 - acc: 0.8637\n",
            "Epoch 427/500\n",
            "6510/6510 [==============================] - 5s 772us/step - loss: 0.4309 - acc: 0.8639\n",
            "Epoch 428/500\n",
            "6510/6510 [==============================] - 5s 771us/step - loss: 0.4316 - acc: 0.8702\n",
            "Epoch 429/500\n",
            "6510/6510 [==============================] - 5s 753us/step - loss: 0.4338 - acc: 0.8637\n",
            "Epoch 430/500\n",
            "6510/6510 [==============================] - 5s 748us/step - loss: 0.4126 - acc: 0.8702\n",
            "Epoch 431/500\n",
            "6510/6510 [==============================] - 5s 751us/step - loss: 0.4082 - acc: 0.8763\n",
            "Epoch 432/500\n",
            "6510/6510 [==============================] - 5s 757us/step - loss: 0.4112 - acc: 0.8722\n",
            "Epoch 433/500\n",
            "6510/6510 [==============================] - 5s 753us/step - loss: 0.4260 - acc: 0.8674\n",
            "Epoch 434/500\n",
            "6510/6510 [==============================] - 5s 763us/step - loss: 0.4239 - acc: 0.8651\n",
            "Epoch 435/500\n",
            "6510/6510 [==============================] - 5s 750us/step - loss: 0.4152 - acc: 0.8731\n",
            "Epoch 436/500\n",
            "6510/6510 [==============================] - 5s 748us/step - loss: 0.4198 - acc: 0.8699\n",
            "Epoch 437/500\n",
            "6510/6510 [==============================] - 5s 760us/step - loss: 0.4092 - acc: 0.8717\n",
            "Epoch 438/500\n",
            "6510/6510 [==============================] - 5s 758us/step - loss: 0.4203 - acc: 0.8691\n",
            "Epoch 439/500\n",
            "6510/6510 [==============================] - 5s 768us/step - loss: 0.4176 - acc: 0.8704\n",
            "Epoch 440/500\n",
            "6510/6510 [==============================] - 5s 768us/step - loss: 0.4095 - acc: 0.8722\n",
            "Epoch 441/500\n",
            "6510/6510 [==============================] - 5s 759us/step - loss: 0.4058 - acc: 0.8763\n",
            "Epoch 442/500\n",
            "6510/6510 [==============================] - 5s 754us/step - loss: 0.4135 - acc: 0.8705\n",
            "Epoch 443/500\n",
            "6510/6510 [==============================] - 5s 763us/step - loss: 0.4219 - acc: 0.8696\n",
            "Epoch 444/500\n",
            "6510/6510 [==============================] - 5s 776us/step - loss: 0.4091 - acc: 0.8705\n",
            "Epoch 445/500\n",
            "6510/6510 [==============================] - 5s 783us/step - loss: 0.4265 - acc: 0.8684\n",
            "Epoch 446/500\n",
            "6510/6510 [==============================] - 5s 785us/step - loss: 0.4198 - acc: 0.8687\n",
            "Epoch 447/500\n",
            "6510/6510 [==============================] - 5s 751us/step - loss: 0.3990 - acc: 0.8828\n",
            "Epoch 448/500\n",
            "6510/6510 [==============================] - 5s 748us/step - loss: 0.4105 - acc: 0.8708\n",
            "Epoch 449/500\n",
            "6510/6510 [==============================] - 5s 763us/step - loss: 0.4017 - acc: 0.8757\n",
            "Epoch 450/500\n",
            "6510/6510 [==============================] - 5s 762us/step - loss: 0.4162 - acc: 0.8699\n",
            "Epoch 451/500\n",
            "6510/6510 [==============================] - 5s 759us/step - loss: 0.4249 - acc: 0.8697\n",
            "Epoch 452/500\n",
            "6510/6510 [==============================] - 5s 761us/step - loss: 0.4173 - acc: 0.8690\n",
            "Epoch 453/500\n",
            "6510/6510 [==============================] - 5s 754us/step - loss: 0.4304 - acc: 0.8657\n",
            "Epoch 454/500\n",
            "6510/6510 [==============================] - 5s 755us/step - loss: 0.4214 - acc: 0.8676\n",
            "Epoch 455/500\n",
            "6510/6510 [==============================] - 5s 758us/step - loss: 0.4048 - acc: 0.8759\n",
            "Epoch 456/500\n",
            "6510/6510 [==============================] - 5s 769us/step - loss: 0.4218 - acc: 0.8719\n",
            "Epoch 457/500\n",
            "6510/6510 [==============================] - 5s 760us/step - loss: 0.3936 - acc: 0.8733\n",
            "Epoch 458/500\n",
            "6510/6510 [==============================] - 5s 765us/step - loss: 0.3959 - acc: 0.8747\n",
            "Epoch 459/500\n",
            "6510/6510 [==============================] - 5s 757us/step - loss: 0.3954 - acc: 0.8771\n",
            "Epoch 460/500\n",
            "6510/6510 [==============================] - 5s 763us/step - loss: 0.3990 - acc: 0.8745\n",
            "Epoch 461/500\n",
            "6510/6510 [==============================] - 5s 757us/step - loss: 0.4197 - acc: 0.8707\n",
            "Epoch 462/500\n",
            "6510/6510 [==============================] - 5s 758us/step - loss: 0.3923 - acc: 0.8770\n",
            "Epoch 463/500\n",
            "6510/6510 [==============================] - 5s 761us/step - loss: 0.4180 - acc: 0.8696\n",
            "Epoch 464/500\n",
            "6510/6510 [==============================] - 5s 770us/step - loss: 0.4030 - acc: 0.8747\n",
            "Epoch 465/500\n",
            "6510/6510 [==============================] - 5s 766us/step - loss: 0.4129 - acc: 0.8705\n",
            "Epoch 466/500\n",
            "6510/6510 [==============================] - 5s 761us/step - loss: 0.4016 - acc: 0.8719\n",
            "Epoch 467/500\n",
            "6510/6510 [==============================] - 5s 758us/step - loss: 0.4220 - acc: 0.8662\n",
            "Epoch 468/500\n",
            "6510/6510 [==============================] - 5s 768us/step - loss: 0.4018 - acc: 0.8745\n",
            "Epoch 469/500\n",
            "6510/6510 [==============================] - 5s 768us/step - loss: 0.3927 - acc: 0.8823\n",
            "Epoch 470/500\n",
            "6510/6510 [==============================] - 5s 770us/step - loss: 0.3987 - acc: 0.8756\n",
            "Epoch 471/500\n",
            "6510/6510 [==============================] - 5s 762us/step - loss: 0.3876 - acc: 0.8793\n",
            "Epoch 472/500\n",
            "6510/6510 [==============================] - 5s 761us/step - loss: 0.3897 - acc: 0.8747\n",
            "Epoch 473/500\n",
            "6510/6510 [==============================] - 5s 765us/step - loss: 0.3855 - acc: 0.8759\n",
            "Epoch 474/500\n",
            "6510/6510 [==============================] - 5s 769us/step - loss: 0.3830 - acc: 0.8785\n",
            "Epoch 475/500\n",
            "6510/6510 [==============================] - 5s 764us/step - loss: 0.4099 - acc: 0.8720\n",
            "Epoch 476/500\n",
            "6510/6510 [==============================] - 5s 773us/step - loss: 0.3720 - acc: 0.8808\n",
            "Epoch 477/500\n",
            "6510/6510 [==============================] - 5s 773us/step - loss: 0.3929 - acc: 0.8754\n",
            "Epoch 478/500\n",
            "6510/6510 [==============================] - 5s 763us/step - loss: 0.3959 - acc: 0.8719\n",
            "Epoch 479/500\n",
            "6510/6510 [==============================] - 5s 769us/step - loss: 0.3890 - acc: 0.8748\n",
            "Epoch 480/500\n",
            "6510/6510 [==============================] - 5s 763us/step - loss: 0.4084 - acc: 0.8745\n",
            "Epoch 481/500\n",
            "6510/6510 [==============================] - 5s 770us/step - loss: 0.3923 - acc: 0.8779\n",
            "Epoch 482/500\n",
            "6510/6510 [==============================] - 5s 767us/step - loss: 0.4026 - acc: 0.8713\n",
            "Epoch 483/500\n",
            "6510/6510 [==============================] - 5s 767us/step - loss: 0.3964 - acc: 0.8756\n",
            "Epoch 484/500\n",
            "6510/6510 [==============================] - 5s 763us/step - loss: 0.4180 - acc: 0.8659\n",
            "Epoch 485/500\n",
            "6510/6510 [==============================] - 5s 767us/step - loss: 0.4030 - acc: 0.8736\n",
            "Epoch 486/500\n",
            "6510/6510 [==============================] - 5s 762us/step - loss: 0.3852 - acc: 0.8783\n",
            "Epoch 487/500\n",
            "6510/6510 [==============================] - 5s 757us/step - loss: 0.3856 - acc: 0.8777\n",
            "Epoch 488/500\n",
            "6510/6510 [==============================] - 5s 754us/step - loss: 0.3759 - acc: 0.8759\n",
            "Epoch 489/500\n",
            "6510/6510 [==============================] - 5s 762us/step - loss: 0.3787 - acc: 0.8806\n",
            "Epoch 490/500\n",
            "6510/6510 [==============================] - 5s 756us/step - loss: 0.3979 - acc: 0.8731\n",
            "Epoch 491/500\n",
            "6510/6510 [==============================] - 5s 762us/step - loss: 0.3977 - acc: 0.8748\n",
            "Epoch 492/500\n",
            "6510/6510 [==============================] - 5s 771us/step - loss: 0.3616 - acc: 0.8876\n",
            "Epoch 493/500\n",
            "6510/6510 [==============================] - 5s 780us/step - loss: 0.3875 - acc: 0.8803\n",
            "Epoch 494/500\n",
            "6510/6510 [==============================] - 5s 763us/step - loss: 0.3783 - acc: 0.8834\n",
            "Epoch 495/500\n",
            "6510/6510 [==============================] - 5s 764us/step - loss: 0.3609 - acc: 0.8874\n",
            "Epoch 496/500\n",
            "6510/6510 [==============================] - 5s 763us/step - loss: 0.3901 - acc: 0.8780\n",
            "Epoch 497/500\n",
            "6510/6510 [==============================] - 5s 758us/step - loss: 0.3870 - acc: 0.8799\n",
            "Epoch 498/500\n",
            "6510/6510 [==============================] - 5s 756us/step - loss: 0.3896 - acc: 0.8704\n",
            "Epoch 499/500\n",
            "6510/6510 [==============================] - 5s 761us/step - loss: 0.3856 - acc: 0.8826\n",
            "Epoch 500/500\n",
            "6510/6510 [==============================] - 5s 766us/step - loss: 0.3970 - acc: 0.8754\n"
          ],
          "name": "stdout"
        }
      ]
    },
    {
      "cell_type": "markdown",
      "metadata": {
        "colab_type": "text",
        "id": "82716QWAJrXG"
      },
      "source": [
        "### Save Model"
      ]
    },
    {
      "cell_type": "code",
      "metadata": {
        "colab_type": "code",
        "id": "_8MFkQgYJm-D",
        "colab": {}
      },
      "source": [
        "\n",
        "model.save('./data/model_oscar_500epochs.h5')"
      ],
      "execution_count": 0,
      "outputs": []
    },
    {
      "cell_type": "markdown",
      "metadata": {
        "colab_type": "text",
        "id": "4AYVKydVJv5C"
      },
      "source": [
        "## If you have already trained the model and saved it, you can load a pretrained model"
      ]
    },
    {
      "cell_type": "code",
      "metadata": {
        "colab_type": "code",
        "id": "IqsQUz04J0GP",
        "colab": {}
      },
      "source": [
        "model = load_model('./data/model_oscar_500epochs.h5')"
      ],
      "execution_count": 0,
      "outputs": []
    },
    {
      "cell_type": "markdown",
      "metadata": {
        "colab_type": "text",
        "id": "ZFe2Y0SJJ3Hb"
      },
      "source": [
        "### Note: After loading the model run  model.fit()  to continue training form there, if required."
      ]
    },
    {
      "cell_type": "code",
      "metadata": {
        "colab_type": "code",
        "id": "e9yLm_xnJ5JV",
        "colab": {
          "base_uri": "https://localhost:8080/",
          "height": 1000
        },
        "outputId": "29ada88c-1741-4fe9-c9f6-e0cfd54afd08"
      },
      "source": [
        "model.fit(X_train, y_train, batch_size=50, epochs=50)"
      ],
      "execution_count": 45,
      "outputs": [
        {
          "output_type": "stream",
          "text": [
            "Epoch 1/50\n",
            "6510/6510 [==============================] - 6s 871us/step - loss: 0.3726 - acc: 0.8799\n",
            "Epoch 2/50\n",
            "6510/6510 [==============================] - 5s 762us/step - loss: 0.3812 - acc: 0.8826\n",
            "Epoch 3/50\n",
            "6510/6510 [==============================] - 5s 768us/step - loss: 0.3986 - acc: 0.8786\n",
            "Epoch 4/50\n",
            "6510/6510 [==============================] - 5s 756us/step - loss: 0.4092 - acc: 0.8697\n",
            "Epoch 5/50\n",
            "6510/6510 [==============================] - 5s 762us/step - loss: 0.3852 - acc: 0.8803\n",
            "Epoch 6/50\n",
            "6510/6510 [==============================] - 5s 752us/step - loss: 0.3852 - acc: 0.8811\n",
            "Epoch 7/50\n",
            "6510/6510 [==============================] - 5s 774us/step - loss: 0.3850 - acc: 0.8794\n",
            "Epoch 8/50\n",
            "6510/6510 [==============================] - 5s 756us/step - loss: 0.3791 - acc: 0.8845\n",
            "Epoch 9/50\n",
            "6510/6510 [==============================] - 5s 755us/step - loss: 0.3905 - acc: 0.8788\n",
            "Epoch 10/50\n",
            "6510/6510 [==============================] - 5s 753us/step - loss: 0.3846 - acc: 0.8780\n",
            "Epoch 11/50\n",
            "6510/6510 [==============================] - 5s 783us/step - loss: 0.3982 - acc: 0.8762\n",
            "Epoch 12/50\n",
            "6510/6510 [==============================] - 5s 780us/step - loss: 0.4040 - acc: 0.8725\n",
            "Epoch 13/50\n",
            "6510/6510 [==============================] - 5s 763us/step - loss: 0.3930 - acc: 0.8796\n",
            "Epoch 14/50\n",
            "6510/6510 [==============================] - 5s 759us/step - loss: 0.3745 - acc: 0.8839\n",
            "Epoch 15/50\n",
            "6510/6510 [==============================] - 5s 757us/step - loss: 0.3730 - acc: 0.8848\n",
            "Epoch 16/50\n",
            "6510/6510 [==============================] - 5s 767us/step - loss: 0.3886 - acc: 0.8773\n",
            "Epoch 17/50\n",
            "6510/6510 [==============================] - 5s 765us/step - loss: 0.3718 - acc: 0.8865\n",
            "Epoch 18/50\n",
            "6510/6510 [==============================] - 5s 763us/step - loss: 0.3814 - acc: 0.8834\n",
            "Epoch 19/50\n",
            "6510/6510 [==============================] - 5s 765us/step - loss: 0.3906 - acc: 0.8825\n",
            "Epoch 20/50\n",
            "6510/6510 [==============================] - 5s 757us/step - loss: 0.3857 - acc: 0.8799\n",
            "Epoch 21/50\n",
            "6510/6510 [==============================] - 5s 767us/step - loss: 0.3639 - acc: 0.8836\n",
            "Epoch 22/50\n",
            "6510/6510 [==============================] - 5s 764us/step - loss: 0.3927 - acc: 0.8757\n",
            "Epoch 23/50\n",
            "6510/6510 [==============================] - 5s 759us/step - loss: 0.3800 - acc: 0.8829\n",
            "Epoch 24/50\n",
            "6510/6510 [==============================] - 5s 768us/step - loss: 0.3899 - acc: 0.8780\n",
            "Epoch 25/50\n",
            "6510/6510 [==============================] - 5s 759us/step - loss: 0.3928 - acc: 0.8794\n",
            "Epoch 26/50\n",
            "6510/6510 [==============================] - 5s 754us/step - loss: 0.3931 - acc: 0.8773\n",
            "Epoch 27/50\n",
            "6510/6510 [==============================] - 5s 761us/step - loss: 0.3728 - acc: 0.8808\n",
            "Epoch 28/50\n",
            "6510/6510 [==============================] - 5s 764us/step - loss: 0.3649 - acc: 0.8802\n",
            "Epoch 29/50\n",
            "6510/6510 [==============================] - 5s 762us/step - loss: 0.3745 - acc: 0.8848\n",
            "Epoch 30/50\n",
            "6510/6510 [==============================] - 5s 762us/step - loss: 0.3666 - acc: 0.8866\n",
            "Epoch 31/50\n",
            "6510/6510 [==============================] - 5s 765us/step - loss: 0.3593 - acc: 0.8846\n",
            "Epoch 32/50\n",
            "6510/6510 [==============================] - 5s 769us/step - loss: 0.3518 - acc: 0.8919\n",
            "Epoch 33/50\n",
            "6510/6510 [==============================] - 5s 770us/step - loss: 0.3497 - acc: 0.8896\n",
            "Epoch 34/50\n",
            "6510/6510 [==============================] - 5s 779us/step - loss: 0.3586 - acc: 0.8873\n",
            "Epoch 35/50\n",
            "6510/6510 [==============================] - 5s 767us/step - loss: 0.3487 - acc: 0.8925\n",
            "Epoch 36/50\n",
            "6510/6510 [==============================] - 5s 772us/step - loss: 0.3819 - acc: 0.8837\n",
            "Epoch 37/50\n",
            "6510/6510 [==============================] - 5s 779us/step - loss: 0.3682 - acc: 0.8829\n",
            "Epoch 38/50\n",
            "6510/6510 [==============================] - 5s 769us/step - loss: 0.3647 - acc: 0.8869\n",
            "Epoch 39/50\n",
            "6510/6510 [==============================] - 5s 771us/step - loss: 0.3776 - acc: 0.8873\n",
            "Epoch 40/50\n",
            "6510/6510 [==============================] - 5s 770us/step - loss: 0.3521 - acc: 0.8871\n",
            "Epoch 41/50\n",
            "6510/6510 [==============================] - 5s 779us/step - loss: 0.3586 - acc: 0.8886\n",
            "Epoch 42/50\n",
            "6510/6510 [==============================] - 5s 766us/step - loss: 0.3592 - acc: 0.8840\n",
            "Epoch 43/50\n",
            "6510/6510 [==============================] - 5s 765us/step - loss: 0.3517 - acc: 0.8916\n",
            "Epoch 44/50\n",
            "6510/6510 [==============================] - 5s 768us/step - loss: 0.3573 - acc: 0.8871\n",
            "Epoch 45/50\n",
            "6510/6510 [==============================] - 5s 760us/step - loss: 0.3693 - acc: 0.8865\n",
            "Epoch 46/50\n",
            "6510/6510 [==============================] - 5s 769us/step - loss: 0.3914 - acc: 0.8774\n",
            "Epoch 47/50\n",
            "6510/6510 [==============================] - 5s 762us/step - loss: 0.3515 - acc: 0.8903\n",
            "Epoch 48/50\n",
            "6510/6510 [==============================] - 5s 770us/step - loss: 0.3701 - acc: 0.8854\n",
            "Epoch 49/50\n",
            "6510/6510 [==============================] - 5s 776us/step - loss: 0.3515 - acc: 0.8905\n",
            "Epoch 50/50\n",
            "6510/6510 [==============================] - 5s 767us/step - loss: 0.3647 - acc: 0.8866\n"
          ],
          "name": "stdout"
        },
        {
          "output_type": "execute_result",
          "data": {
            "text/plain": [
              "<keras.callbacks.History at 0x7fc0f644bc88>"
            ]
          },
          "metadata": {
            "tags": []
          },
          "execution_count": 45
        }
      ]
    },
    {
      "cell_type": "markdown",
      "metadata": {
        "colab_type": "text",
        "id": "EmkaxXdjHdyd"
      },
      "source": [
        "## Evaluation"
      ]
    },
    {
      "cell_type": "code",
      "metadata": {
        "colab_type": "code",
        "id": "7RraFX9YHdye",
        "colab": {
          "base_uri": "https://localhost:8080/",
          "height": 118
        },
        "outputId": "06ed46f6-bcc1-4091-d8b6-68ca2c8ea7b2"
      },
      "source": [
        "print(model.evaluate(X_train, y_train, batch_size = 20))\n",
        "print('\\nModel Performance: Log Loss and Accuracy on validation data')\n",
        "print(model.evaluate(X_valid, y_valid, batch_size = 20))"
      ],
      "execution_count": 46,
      "outputs": [
        {
          "output_type": "stream",
          "text": [
            "6510/6510 [==============================] - 4s 604us/step\n",
            "[0.029276745782012746, 0.9921658967497162]\n",
            "\n",
            "Model Performance: Log Loss and Accuracy on validation data\n",
            "2790/2790 [==============================] - 1s 535us/step\n",
            "[8.882757538962963, 0.37670251032784846]\n"
          ],
          "name": "stdout"
        }
      ]
    },
    {
      "cell_type": "markdown",
      "metadata": {
        "colab_type": "text",
        "id": "u5CKxykLHdyj"
      },
      "source": [
        "## Generate text"
      ]
    },
    {
      "cell_type": "code",
      "metadata": {
        "colab_type": "code",
        "id": "4JSW5EwKHdyk",
        "colab": {
          "base_uri": "https://localhost:8080/",
          "height": 154
        },
        "outputId": "76ff7d5b-a4f7-4397-add0-371ea417a8e9"
      },
      "source": [
        "seed_length=50\n",
        "new_words=50\n",
        "diversity=1\n",
        "n_gen=1\n",
        "\n",
        "import random\n",
        "\n",
        "# Choose a random sequence\n",
        "seq = random.choice(sequences)\n",
        "\n",
        "# print seq\n",
        "\n",
        "# Choose a random starting point\n",
        "seed_idx = random.randint(0, len(seq) - seed_length - 10)\n",
        "# Ending index for seed\n",
        "end_idx = seed_idx + seed_length\n",
        "\n",
        "gen_list = []\n",
        "\n",
        "for n in range(n_gen):\n",
        "    # Extract the seed sequence\n",
        "    seed = seq[seed_idx:end_idx]\n",
        "    original_sequence = [idx_word[i] for i in seed]\n",
        "    generated = seed[:] + ['#']\n",
        "\n",
        "    # Find the actual entire sequence\n",
        "    actual = generated[:] + seq[end_idx:end_idx + new_words]\n",
        "        \n",
        "    # Keep adding new words\n",
        "    for i in range(new_words):\n",
        "\n",
        "        # Make a prediction from the seed\n",
        "        preds = model.predict(np.array(seed).reshape(1, -1))[0].astype(np.float64)\n",
        "\n",
        "        # Diversify\n",
        "        preds = np.log(preds) / diversity\n",
        "        exp_preds = np.exp(preds)\n",
        "\n",
        "        # Softmax\n",
        "        preds = exp_preds / sum(exp_preds)\n",
        "\n",
        "        # Choose the next word\n",
        "        probas = np.random.multinomial(1, preds, 1)[0]\n",
        "\n",
        "        next_idx = np.argmax(probas)\n",
        "\n",
        "        # New seed adds on old word\n",
        "        #             seed = seed[1:] + [next_idx]\n",
        "        seed += [next_idx]\n",
        "        generated.append(next_idx)\n",
        "    # Showing generated and actual abstract\n",
        "    n = []\n",
        "\n",
        "    for i in generated:\n",
        "        n.append(idx_word.get(i, '< --- >'))\n",
        "\n",
        "    gen_list.append(n)\n",
        "\n",
        "a = []\n",
        "\n",
        "for i in actual:\n",
        "    a.append(idx_word.get(i, '< --- >'))\n",
        "\n",
        "a = a[seed_length:]\n",
        "\n",
        "gen_list = [gen[seed_length:seed_length + len(a)] for gen in gen_list]\n",
        "\n",
        "print('Original Sequence: \\n'+' '.join(original_sequence))\n",
        "print(\"\\n\")\n",
        "# print(gen_list)\n",
        "print('Generated Sequence: \\n'+' '.join(gen_list[0][1:]))\n",
        "# print(a)"
      ],
      "execution_count": 48,
      "outputs": [
        {
          "output_type": "stream",
          "text": [
            "/usr/local/lib/python3.6/dist-packages/ipykernel_launcher.py:36: RuntimeWarning: divide by zero encountered in log\n"
          ],
          "name": "stderr"
        },
        {
          "output_type": "stream",
          "text": [
            "Original Sequence: \n",
            "on the palms of the child’s hands were the prints of two nails and the prints of two nails were on the little feet “who hath dared to wound thee ” cried the giant “tell me that i may take my big sword and slay him ” “nay ” answered\n",
            "\n",
            "\n",
            "Generated Sequence: \n",
            "attached to reel and the possible exception of ruskin guerriers du wittiest much lady much wanted a new i return sonnets une heure viendra qui tout friend count moranzone an old lord bilton however are exceptions the majority of prison now printed for the first time particulars one to the\n"
          ],
          "name": "stdout"
        }
      ]
    },
    {
      "cell_type": "code",
      "metadata": {
        "colab_type": "code",
        "id": "9aXeiz7ZHdyp",
        "colab": {}
      },
      "source": [
        ""
      ],
      "execution_count": 0,
      "outputs": []
    }
  ]
}