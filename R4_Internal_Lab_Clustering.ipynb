{
 "cells": [
  {
   "cell_type": "markdown",
   "metadata": {},
   "source": [
    "### The data set has information about features of silhouette extracted from the images of different cars\n",
    "\n",
    "Four \"Corgie\" model vehicles were used for the experiment: a double decker bus, Cheverolet van, Saab 9000 and an Opel Manta 400 cars. This particular combination of vehicles was chosen with the expectation that the bus, van and either one of the cars would be readily distinguishable, but it would be more difficult to distinguish between the cars.\n",
    "\n"
   ]
  },
  {
   "cell_type": "markdown",
   "metadata": {},
   "source": [
    "### 1. Read the dataset using function .dropna() - to avoid dealing with NAs as of now"
   ]
  },
  {
   "cell_type": "code",
   "execution_count": 1,
   "metadata": {},
   "outputs": [],
   "source": [
    "# To enable plotting graphs in Jupyter notebook\n",
    "%matplotlib inline \n"
   ]
  },
  {
   "cell_type": "code",
   "execution_count": 2,
   "metadata": {},
   "outputs": [],
   "source": [
    "# Numerical libraries\n",
    "import numpy as np   \n",
    "\n",
    "from sklearn.model_selection import train_test_split\n",
    "\n",
    "from sklearn.cluster import KMeans\n",
    "\n",
    "# to handle data in form of rows and columns \n",
    "import pandas as pd    \n",
    "\n",
    "# importing ploting libraries\n",
    "import matplotlib.pyplot as plt   \n",
    "\n",
    "#importing seaborn for statistical plots\n",
    "import seaborn as sns\n",
    "\n",
    "from sklearn import metrics"
   ]
  },
  {
   "cell_type": "code",
   "execution_count": 3,
   "metadata": {},
   "outputs": [],
   "source": [
    "df=pd.read_csv(\"vehicle.csv\").dropna()"
   ]
  },
  {
   "cell_type": "code",
   "execution_count": 4,
   "metadata": {},
   "outputs": [
    {
     "data": {
      "text/html": [
       "<div>\n",
       "<style scoped>\n",
       "    .dataframe tbody tr th:only-of-type {\n",
       "        vertical-align: middle;\n",
       "    }\n",
       "\n",
       "    .dataframe tbody tr th {\n",
       "        vertical-align: top;\n",
       "    }\n",
       "\n",
       "    .dataframe thead th {\n",
       "        text-align: right;\n",
       "    }\n",
       "</style>\n",
       "<table border=\"1\" class=\"dataframe\">\n",
       "  <thead>\n",
       "    <tr style=\"text-align: right;\">\n",
       "      <th></th>\n",
       "      <th>compactness</th>\n",
       "      <th>circularity</th>\n",
       "      <th>distance_circularity</th>\n",
       "      <th>radius_ratio</th>\n",
       "      <th>pr.axis_aspect_ratio</th>\n",
       "      <th>max.length_aspect_ratio</th>\n",
       "      <th>scatter_ratio</th>\n",
       "      <th>elongatedness</th>\n",
       "      <th>pr.axis_rectangularity</th>\n",
       "      <th>max.length_rectangularity</th>\n",
       "      <th>scaled_variance</th>\n",
       "      <th>scaled_variance.1</th>\n",
       "      <th>scaled_radius_of_gyration</th>\n",
       "      <th>scaled_radius_of_gyration.1</th>\n",
       "      <th>skewness_about</th>\n",
       "      <th>skewness_about.1</th>\n",
       "      <th>skewness_about.2</th>\n",
       "      <th>hollows_ratio</th>\n",
       "      <th>class</th>\n",
       "    </tr>\n",
       "  </thead>\n",
       "  <tbody>\n",
       "    <tr>\n",
       "      <th>0</th>\n",
       "      <td>95</td>\n",
       "      <td>48.0</td>\n",
       "      <td>83.0</td>\n",
       "      <td>178.0</td>\n",
       "      <td>72.0</td>\n",
       "      <td>10</td>\n",
       "      <td>162.0</td>\n",
       "      <td>42.0</td>\n",
       "      <td>20.0</td>\n",
       "      <td>159</td>\n",
       "      <td>176.0</td>\n",
       "      <td>379.0</td>\n",
       "      <td>184.0</td>\n",
       "      <td>70.0</td>\n",
       "      <td>6.0</td>\n",
       "      <td>16.0</td>\n",
       "      <td>187.0</td>\n",
       "      <td>197</td>\n",
       "      <td>van</td>\n",
       "    </tr>\n",
       "    <tr>\n",
       "      <th>1</th>\n",
       "      <td>91</td>\n",
       "      <td>41.0</td>\n",
       "      <td>84.0</td>\n",
       "      <td>141.0</td>\n",
       "      <td>57.0</td>\n",
       "      <td>9</td>\n",
       "      <td>149.0</td>\n",
       "      <td>45.0</td>\n",
       "      <td>19.0</td>\n",
       "      <td>143</td>\n",
       "      <td>170.0</td>\n",
       "      <td>330.0</td>\n",
       "      <td>158.0</td>\n",
       "      <td>72.0</td>\n",
       "      <td>9.0</td>\n",
       "      <td>14.0</td>\n",
       "      <td>189.0</td>\n",
       "      <td>199</td>\n",
       "      <td>van</td>\n",
       "    </tr>\n",
       "    <tr>\n",
       "      <th>2</th>\n",
       "      <td>104</td>\n",
       "      <td>50.0</td>\n",
       "      <td>106.0</td>\n",
       "      <td>209.0</td>\n",
       "      <td>66.0</td>\n",
       "      <td>10</td>\n",
       "      <td>207.0</td>\n",
       "      <td>32.0</td>\n",
       "      <td>23.0</td>\n",
       "      <td>158</td>\n",
       "      <td>223.0</td>\n",
       "      <td>635.0</td>\n",
       "      <td>220.0</td>\n",
       "      <td>73.0</td>\n",
       "      <td>14.0</td>\n",
       "      <td>9.0</td>\n",
       "      <td>188.0</td>\n",
       "      <td>196</td>\n",
       "      <td>car</td>\n",
       "    </tr>\n",
       "    <tr>\n",
       "      <th>3</th>\n",
       "      <td>93</td>\n",
       "      <td>41.0</td>\n",
       "      <td>82.0</td>\n",
       "      <td>159.0</td>\n",
       "      <td>63.0</td>\n",
       "      <td>9</td>\n",
       "      <td>144.0</td>\n",
       "      <td>46.0</td>\n",
       "      <td>19.0</td>\n",
       "      <td>143</td>\n",
       "      <td>160.0</td>\n",
       "      <td>309.0</td>\n",
       "      <td>127.0</td>\n",
       "      <td>63.0</td>\n",
       "      <td>6.0</td>\n",
       "      <td>10.0</td>\n",
       "      <td>199.0</td>\n",
       "      <td>207</td>\n",
       "      <td>van</td>\n",
       "    </tr>\n",
       "    <tr>\n",
       "      <th>4</th>\n",
       "      <td>85</td>\n",
       "      <td>44.0</td>\n",
       "      <td>70.0</td>\n",
       "      <td>205.0</td>\n",
       "      <td>103.0</td>\n",
       "      <td>52</td>\n",
       "      <td>149.0</td>\n",
       "      <td>45.0</td>\n",
       "      <td>19.0</td>\n",
       "      <td>144</td>\n",
       "      <td>241.0</td>\n",
       "      <td>325.0</td>\n",
       "      <td>188.0</td>\n",
       "      <td>127.0</td>\n",
       "      <td>9.0</td>\n",
       "      <td>11.0</td>\n",
       "      <td>180.0</td>\n",
       "      <td>183</td>\n",
       "      <td>bus</td>\n",
       "    </tr>\n",
       "  </tbody>\n",
       "</table>\n",
       "</div>"
      ],
      "text/plain": [
       "   compactness  circularity  distance_circularity  radius_ratio  \\\n",
       "0           95         48.0                  83.0         178.0   \n",
       "1           91         41.0                  84.0         141.0   \n",
       "2          104         50.0                 106.0         209.0   \n",
       "3           93         41.0                  82.0         159.0   \n",
       "4           85         44.0                  70.0         205.0   \n",
       "\n",
       "   pr.axis_aspect_ratio  max.length_aspect_ratio  scatter_ratio  \\\n",
       "0                  72.0                       10          162.0   \n",
       "1                  57.0                        9          149.0   \n",
       "2                  66.0                       10          207.0   \n",
       "3                  63.0                        9          144.0   \n",
       "4                 103.0                       52          149.0   \n",
       "\n",
       "   elongatedness  pr.axis_rectangularity  max.length_rectangularity  \\\n",
       "0           42.0                    20.0                        159   \n",
       "1           45.0                    19.0                        143   \n",
       "2           32.0                    23.0                        158   \n",
       "3           46.0                    19.0                        143   \n",
       "4           45.0                    19.0                        144   \n",
       "\n",
       "   scaled_variance  scaled_variance.1  scaled_radius_of_gyration  \\\n",
       "0            176.0              379.0                      184.0   \n",
       "1            170.0              330.0                      158.0   \n",
       "2            223.0              635.0                      220.0   \n",
       "3            160.0              309.0                      127.0   \n",
       "4            241.0              325.0                      188.0   \n",
       "\n",
       "   scaled_radius_of_gyration.1  skewness_about  skewness_about.1  \\\n",
       "0                         70.0             6.0              16.0   \n",
       "1                         72.0             9.0              14.0   \n",
       "2                         73.0            14.0               9.0   \n",
       "3                         63.0             6.0              10.0   \n",
       "4                        127.0             9.0              11.0   \n",
       "\n",
       "   skewness_about.2  hollows_ratio class  \n",
       "0             187.0            197   van  \n",
       "1             189.0            199   van  \n",
       "2             188.0            196   car  \n",
       "3             199.0            207   van  \n",
       "4             180.0            183   bus  "
      ]
     },
     "execution_count": 4,
     "metadata": {},
     "output_type": "execute_result"
    }
   ],
   "source": [
    "df.head()"
   ]
  },
  {
   "cell_type": "code",
   "execution_count": 5,
   "metadata": {},
   "outputs": [
    {
     "data": {
      "text/plain": [
       "compactness                      int64\n",
       "circularity                    float64\n",
       "distance_circularity           float64\n",
       "radius_ratio                   float64\n",
       "pr.axis_aspect_ratio           float64\n",
       "max.length_aspect_ratio          int64\n",
       "scatter_ratio                  float64\n",
       "elongatedness                  float64\n",
       "pr.axis_rectangularity         float64\n",
       "max.length_rectangularity        int64\n",
       "scaled_variance                float64\n",
       "scaled_variance.1              float64\n",
       "scaled_radius_of_gyration      float64\n",
       "scaled_radius_of_gyration.1    float64\n",
       "skewness_about                 float64\n",
       "skewness_about.1               float64\n",
       "skewness_about.2               float64\n",
       "hollows_ratio                    int64\n",
       "class                           object\n",
       "dtype: object"
      ]
     },
     "execution_count": 5,
     "metadata": {},
     "output_type": "execute_result"
    }
   ],
   "source": [
    "df.dtypes"
   ]
  },
  {
   "cell_type": "code",
   "execution_count": 6,
   "metadata": {},
   "outputs": [
    {
     "data": {
      "text/plain": [
       "car    413\n",
       "bus    205\n",
       "van    195\n",
       "Name: class, dtype: int64"
      ]
     },
     "execution_count": 6,
     "metadata": {},
     "output_type": "execute_result"
    }
   ],
   "source": [
    "df[\"class\"].value_counts()"
   ]
  },
  {
   "cell_type": "code",
   "execution_count": null,
   "metadata": {},
   "outputs": [],
   "source": [
    "# Convert class object to Category datatype"
   ]
  },
  {
   "cell_type": "code",
   "execution_count": 7,
   "metadata": {},
   "outputs": [],
   "source": [
    "df[\"class\"]=df[\"class\"].astype(\"category\")"
   ]
  },
  {
   "cell_type": "markdown",
   "metadata": {},
   "source": [
    "### 2. Print/ Plot the dependent (categorical variable) - Class column"
   ]
  },
  {
   "cell_type": "markdown",
   "metadata": {},
   "source": [
    "Since the variable is categorical, you can use value_counts function"
   ]
  },
  {
   "cell_type": "code",
   "execution_count": 155,
   "metadata": {},
   "outputs": [
    {
     "data": {
      "image/png": "[encoded data removed]",
      "text/plain": [
       "<Figure size 432x288 with 1 Axes>"
      ]
     },
     "metadata": {
      "needs_background": "light"
     },
     "output_type": "display_data"
    }
   ],
   "source": [
    "sns.countplot(\"class\",data=df)\n",
    "plt.show()"
   ]
  },
  {
   "cell_type": "markdown",
   "metadata": {},
   "source": [
    "### Check for any missing values in the data "
   ]
  },
  {
   "cell_type": "code",
   "execution_count": 9,
   "metadata": {},
   "outputs": [
    {
     "data": {
      "text/plain": [
       "False"
      ]
     },
     "execution_count": 9,
     "metadata": {},
     "output_type": "execute_result"
    }
   ],
   "source": [
    "df.isna().values.any()"
   ]
  },
  {
   "cell_type": "markdown",
   "metadata": {},
   "source": [
    "### 3. Standardize the data "
   ]
  },
  {
   "cell_type": "code",
   "execution_count": null,
   "metadata": {},
   "outputs": [],
   "source": [
    "# Check datatypes - "
   ]
  },
  {
   "cell_type": "code",
   "execution_count": 10,
   "metadata": {},
   "outputs": [
    {
     "data": {
      "text/plain": [
       "compactness                       int64\n",
       "circularity                     float64\n",
       "distance_circularity            float64\n",
       "radius_ratio                    float64\n",
       "pr.axis_aspect_ratio            float64\n",
       "max.length_aspect_ratio           int64\n",
       "scatter_ratio                   float64\n",
       "elongatedness                   float64\n",
       "pr.axis_rectangularity          float64\n",
       "max.length_rectangularity         int64\n",
       "scaled_variance                 float64\n",
       "scaled_variance.1               float64\n",
       "scaled_radius_of_gyration       float64\n",
       "scaled_radius_of_gyration.1     float64\n",
       "skewness_about                  float64\n",
       "skewness_about.1                float64\n",
       "skewness_about.2                float64\n",
       "hollows_ratio                     int64\n",
       "class                          category\n",
       "dtype: object"
      ]
     },
     "execution_count": 10,
     "metadata": {},
     "output_type": "execute_result"
    }
   ],
   "source": [
    "df.dtypes"
   ]
  },
  {
   "cell_type": "code",
   "execution_count": null,
   "metadata": {},
   "outputs": [],
   "source": []
  },
  {
   "cell_type": "markdown",
   "metadata": {},
   "source": [
    "Since the dimensions of the data are not really known to us, it would be wise to standardize the data using z scores before we go for any clustering methods.\n",
    "You can use zscore function to do this"
   ]
  },
  {
   "cell_type": "code",
   "execution_count": null,
   "metadata": {},
   "outputs": [],
   "source": [
    "# Split the dependent and independent variables into different datatypes"
   ]
  },
  {
   "cell_type": "code",
   "execution_count": 11,
   "metadata": {},
   "outputs": [],
   "source": [
    "df_independent=df.drop(columns=\"class\")"
   ]
  },
  {
   "cell_type": "code",
   "execution_count": null,
   "metadata": {},
   "outputs": [],
   "source": [
    "# Standardize the independent variables using Z score"
   ]
  },
  {
   "cell_type": "code",
   "execution_count": 12,
   "metadata": {},
   "outputs": [],
   "source": [
    "from scipy.stats import zscore\n",
    "\n",
    "df_z = df_independent.apply(zscore)"
   ]
  },
  {
   "cell_type": "code",
   "execution_count": null,
   "metadata": {},
   "outputs": [],
   "source": [
    "# Merge the datasets into one"
   ]
  },
  {
   "cell_type": "code",
   "execution_count": 13,
   "metadata": {},
   "outputs": [],
   "source": [
    "df_z[\"class\"]=df[\"class\"]"
   ]
  },
  {
   "cell_type": "code",
   "execution_count": 156,
   "metadata": {},
   "outputs": [],
   "source": [
    "# Assign Dummies for the categorical column"
   ]
  },
  {
   "cell_type": "code",
   "execution_count": null,
   "metadata": {},
   "outputs": [],
   "source": [
    "df_z_dummies=pd.get_dummies(df_z)"
   ]
  },
  {
   "cell_type": "code",
   "execution_count": null,
   "metadata": {},
   "outputs": [],
   "source": [
    "df_z_dummies.head()"
   ]
  },
  {
   "cell_type": "markdown",
   "metadata": {},
   "source": [
    "### K - Means Clustering"
   ]
  },
  {
   "cell_type": "markdown",
   "metadata": {},
   "source": [
    "### 4. Assign a dummy array called distortion"
   ]
  },
  {
   "cell_type": "code",
   "execution_count": 15,
   "metadata": {},
   "outputs": [],
   "source": [
    "distortion=[]"
   ]
  },
  {
   "cell_type": "markdown",
   "metadata": {},
   "source": [
    "You can later use this array to plot the elbow plot"
   ]
  },
  {
   "cell_type": "markdown",
   "metadata": {},
   "source": [
    "### 5. Calculating distortion - C distance"
   ]
  },
  {
   "cell_type": "code",
   "execution_count": 173,
   "metadata": {},
   "outputs": [],
   "source": [
    "cluster_range = range( 2, 10)   \n",
    "cluster_errors = []\n",
    "cluster_sil_scores = []\n",
    "distortion=[]\n",
    "for num_clusters in cluster_range:\n",
    "  clusters = KMeans( num_clusters, n_init = 5)\n",
    "  clusters.fit(df_z_dummies)\n",
    "  c_ft=clusters.fit_predict(df_z_dummies) \n",
    "  distortion.append(((df_z_dummies - clusters.cluster_centers_[c_ft])**2.0).sum(axis=1))\n",
    "  labels = clusters.labels_                     # capture the cluster lables\n",
    "  centroids = clusters.cluster_centers_         # capture the centroids\n",
    "  cluster_errors.append( clusters.inertia_ )    # capture the intertia\n",
    "  cluster_sil_scores.append(metrics.silhouette_score(df_z_dummies, labels, metric='euclidean'))\n",
    "  "
   ]
  },
  {
   "cell_type": "code",
   "execution_count": 174,
   "metadata": {},
   "outputs": [
    {
     "data": {
      "text/plain": [
       "[0        9.282581\n",
       " 1        2.424473\n",
       " 2        3.330769\n",
       " 3        9.616697\n",
       " 4      185.167633\n",
       " 6       12.314386\n",
       " 7        5.176559\n",
       " 8       17.565358\n",
       " 10       7.162040\n",
       " 11      16.014642\n",
       " 12       4.522306\n",
       " 13       2.196523\n",
       " 14      14.941509\n",
       " 15       5.497727\n",
       " 16      17.796980\n",
       " 17      13.092913\n",
       " 18       2.508561\n",
       " 20       6.376118\n",
       " 21      17.656718\n",
       " 22      10.742160\n",
       " 23       4.538468\n",
       " 24       4.804707\n",
       " 25       4.385681\n",
       " 26      15.853171\n",
       " 27       5.130678\n",
       " 28      10.641276\n",
       " 29      10.970830\n",
       " 30       3.591355\n",
       " 31       7.329322\n",
       " 32       8.691051\n",
       "           ...    \n",
       " 816      8.950109\n",
       " 817      6.857451\n",
       " 818      9.627534\n",
       " 819     11.000864\n",
       " 820      8.912183\n",
       " 821      4.781960\n",
       " 822      9.754851\n",
       " 823      2.063367\n",
       " 824      2.805818\n",
       " 825      7.034811\n",
       " 826     15.157439\n",
       " 827      9.020475\n",
       " 828      4.899494\n",
       " 829      9.200367\n",
       " 830     15.121821\n",
       " 831     14.389133\n",
       " 832      4.946532\n",
       " 833      6.078240\n",
       " 834     20.851297\n",
       " 835     35.883324\n",
       " 836      2.742112\n",
       " 837      7.534248\n",
       " 838      5.187175\n",
       " 839      6.521941\n",
       " 840     20.650883\n",
       " 841      7.892493\n",
       " 842      7.504937\n",
       " 843      4.969129\n",
       " 844      8.624415\n",
       " 845     11.211887\n",
       " Length: 813, dtype: float64, 0        8.159361\n",
       " 1        3.842065\n",
       " 2        3.303023\n",
       " 3        4.020257\n",
       " 4      177.604793\n",
       " 6        6.961345\n",
       " 7        4.620776\n",
       " 8       15.000009\n",
       " 10       6.987209\n",
       " 11      15.568049\n",
       " 12       5.521862\n",
       " 13       4.433999\n",
       " 14      12.691338\n",
       " 15       5.325683\n",
       " 16      10.439297\n",
       " 17       7.281554\n",
       " 18       2.082711\n",
       " 20       6.752814\n",
       " 21       9.033667\n",
       " 22       6.081083\n",
       " 23       5.692037\n",
       " 24       5.033127\n",
       " 25       6.067969\n",
       " 26       7.416118\n",
       " 27       4.745830\n",
       " 28      11.755175\n",
       " 29       4.895421\n",
       " 30       5.710716\n",
       " 31       3.996654\n",
       " 32       5.889347\n",
       "           ...    \n",
       " 816     11.260259\n",
       " 817      6.469717\n",
       " 818     10.756648\n",
       " 819     10.360679\n",
       " 820      4.811294\n",
       " 821      4.261647\n",
       " 822      3.761357\n",
       " 823      2.139865\n",
       " 824      2.248396\n",
       " 825      7.919591\n",
       " 826     11.699927\n",
       " 827      8.381272\n",
       " 828      4.583588\n",
       " 829      8.829515\n",
       " 830      7.970668\n",
       " 831      7.630020\n",
       " 832      4.793547\n",
       " 833      8.419629\n",
       " 834     11.621527\n",
       " 835     33.679793\n",
       " 836      4.513753\n",
       " 837      5.546538\n",
       " 838      6.283048\n",
       " 839      4.428154\n",
       " 840     16.069572\n",
       " 841      6.564639\n",
       " 842      8.393807\n",
       " 843      4.642811\n",
       " 844     10.395425\n",
       " 845      9.410261\n",
       " Length: 813, dtype: float64, 0        4.356076\n",
       " 1        4.472943\n",
       " 2        3.822221\n",
       " 3        2.833205\n",
       " 4      170.512957\n",
       " 6        8.139970\n",
       " 7        4.161535\n",
       " 8        9.233910\n",
       " 10       3.764273\n",
       " 11      10.423310\n",
       " 12       6.521644\n",
       " 13       5.723659\n",
       " 14       6.198939\n",
       " 15       5.607468\n",
       " 16      10.582703\n",
       " 17       5.605081\n",
       " 18       1.542391\n",
       " 20       6.496109\n",
       " 21       9.236574\n",
       " 22       6.849231\n",
       " 23       4.479247\n",
       " 24       6.026748\n",
       " 25       7.518909\n",
       " 26       7.557620\n",
       " 27       4.343970\n",
       " 28       6.392530\n",
       " 29       5.016652\n",
       " 30       6.839026\n",
       " 31       3.121274\n",
       " 32       3.079172\n",
       "           ...    \n",
       " 816      8.284626\n",
       " 817      5.784635\n",
       " 818      5.202503\n",
       " 819      4.503732\n",
       " 820      4.718207\n",
       " 821      4.210805\n",
       " 822      3.230164\n",
       " 823      2.658042\n",
       " 824      1.396968\n",
       " 825      7.740854\n",
       " 826      7.217165\n",
       " 827      7.109890\n",
       " 828      4.457967\n",
       " 829      8.808451\n",
       " 830      6.145234\n",
       " 831      7.465115\n",
       " 832      4.706848\n",
       " 833      8.006422\n",
       " 834     11.735673\n",
       " 835     29.400245\n",
       " 836      4.353598\n",
       " 837      6.618492\n",
       " 838      7.248551\n",
       " 839      4.022950\n",
       " 840     11.088494\n",
       " 841      6.750949\n",
       " 842      7.451759\n",
       " 843      4.632265\n",
       " 844      8.152517\n",
       " 845      9.274601\n",
       " Length: 813, dtype: float64, 0       7.597411\n",
       " 1       4.118610\n",
       " 2       4.398370\n",
       " 3       3.039835\n",
       " 4      16.835367\n",
       " 6       7.960501\n",
       " 7       4.137061\n",
       " 8      10.257245\n",
       " 10      4.213469\n",
       " 11     11.216224\n",
       " 12      7.574088\n",
       " 13      5.211800\n",
       " 14      6.136977\n",
       " 15      5.859900\n",
       " 16     11.152408\n",
       " 17      6.299747\n",
       " 18      1.398279\n",
       " 20      6.164132\n",
       " 21      9.785174\n",
       " 22      6.742872\n",
       " 23      4.563793\n",
       " 24      6.900273\n",
       " 25      7.032647\n",
       " 26      8.163804\n",
       " 27      4.185565\n",
       " 28      5.376009\n",
       " 29      5.346834\n",
       " 30      6.621136\n",
       " 31      3.253517\n",
       " 32      3.520363\n",
       "          ...    \n",
       " 816    11.184071\n",
       " 817     5.762307\n",
       " 818     4.774855\n",
       " 819     4.047540\n",
       " 820     5.032364\n",
       " 821     3.992057\n",
       " 822     3.323341\n",
       " 823     3.306719\n",
       " 824     1.163975\n",
       " 825     7.651763\n",
       " 826     5.512311\n",
       " 827     6.703656\n",
       " 828     4.425008\n",
       " 829     8.159605\n",
       " 830     6.506706\n",
       " 831     8.250068\n",
       " 832     5.223197\n",
       " 833     7.613451\n",
       " 834    12.420730\n",
       " 835    26.749620\n",
       " 836     4.046414\n",
       " 837     7.310734\n",
       " 838     6.815776\n",
       " 839     4.028662\n",
       " 840    11.966814\n",
       " 841     8.479838\n",
       " 842    10.754457\n",
       " 843     4.844993\n",
       " 844     8.277421\n",
       " 845     9.647130\n",
       " Length: 813, dtype: float64, 0       5.163498\n",
       " 1       3.455617\n",
       " 2       4.413066\n",
       " 3       2.684685\n",
       " 4      16.835367\n",
       " 6       8.366460\n",
       " 7       4.910557\n",
       " 8       8.489461\n",
       " 10      3.786248\n",
       " 11      9.498031\n",
       " 12      2.718502\n",
       " 13      2.126159\n",
       " 14      6.491073\n",
       " 15      5.874844\n",
       " 16      6.740803\n",
       " 17      6.253887\n",
       " 18      1.397841\n",
       " 20      3.860051\n",
       " 21      5.813885\n",
       " 22      7.205595\n",
       " 23      5.039339\n",
       " 24      6.946485\n",
       " 25      2.600189\n",
       " 26      4.059986\n",
       " 27      4.206616\n",
       " 28      5.304981\n",
       " 29      3.375164\n",
       " 30      1.170233\n",
       " 31      3.088335\n",
       " 32      2.489808\n",
       "          ...    \n",
       " 816     4.049674\n",
       " 817     5.747530\n",
       " 818     4.422190\n",
       " 819     4.063393\n",
       " 820     3.757552\n",
       " 821     4.018240\n",
       " 822     3.244356\n",
       " 823     3.328095\n",
       " 824     1.151648\n",
       " 825     8.719327\n",
       " 826     5.560637\n",
       " 827     6.674665\n",
       " 828     5.311414\n",
       " 829     4.469968\n",
       " 830     5.447365\n",
       " 831     8.867111\n",
       " 832     5.219347\n",
       " 833     4.061984\n",
       " 834     7.539030\n",
       " 835    26.676532\n",
       " 836     2.774843\n",
       " 837     6.623185\n",
       " 838     5.668623\n",
       " 839     4.552450\n",
       " 840     9.712861\n",
       " 841     9.092862\n",
       " 842     4.320973\n",
       " 843     4.871057\n",
       " 844     8.177677\n",
       " 845     7.507156\n",
       " Length: 813, dtype: float64, 0       6.603835\n",
       " 1       4.746689\n",
       " 2       3.374540\n",
       " 3       2.692779\n",
       " 4      16.835367\n",
       " 6       7.884517\n",
       " 7       4.017301\n",
       " 8       6.979339\n",
       " 10      2.598720\n",
       " 11      8.534389\n",
       " 12      4.754673\n",
       " 13      4.448467\n",
       " 14      7.234813\n",
       " 15      5.770239\n",
       " 16      4.728366\n",
       " 17      3.628122\n",
       " 18      2.390765\n",
       " 20      2.982209\n",
       " 21      4.558900\n",
       " 22      8.040594\n",
       " 23      4.588935\n",
       " 24      4.675130\n",
       " 25      5.148080\n",
       " 26      3.091859\n",
       " 27      4.906231\n",
       " 28      7.122838\n",
       " 29      3.879188\n",
       " 30      3.634028\n",
       " 31      2.918864\n",
       " 32      2.609928\n",
       "          ...    \n",
       " 816     6.149758\n",
       " 817     5.868051\n",
       " 818     6.368404\n",
       " 819     4.881158\n",
       " 820     3.854144\n",
       " 821     4.672130\n",
       " 822     3.468040\n",
       " 823     1.650536\n",
       " 824     2.282006\n",
       " 825     8.170896\n",
       " 826     7.169385\n",
       " 827     8.174440\n",
       " 828     4.979161\n",
       " 829     4.760609\n",
       " 830     6.747695\n",
       " 831     5.796126\n",
       " 832     4.442072\n",
       " 833     5.338857\n",
       " 834     6.317423\n",
       " 835     5.130472\n",
       " 836     3.558776\n",
       " 837     5.339909\n",
       " 838     7.670798\n",
       " 839     3.836723\n",
       " 840     9.495309\n",
       " 841     5.144893\n",
       " 842     7.241914\n",
       " 843     4.453010\n",
       " 844     7.587360\n",
       " 845     5.243643\n",
       " Length: 813, dtype: float64, 0       4.591329\n",
       " 1       2.636939\n",
       " 2       3.426700\n",
       " 3       2.532646\n",
       " 4      16.835367\n",
       " 6       8.509386\n",
       " 7       4.616479\n",
       " 8       7.561238\n",
       " 10      3.290587\n",
       " 11      9.191649\n",
       " 12      3.323189\n",
       " 13      1.572051\n",
       " 14      6.870866\n",
       " 15      5.756641\n",
       " 16      4.791441\n",
       " 17      4.423372\n",
       " 18      2.064154\n",
       " 20      4.416149\n",
       " 21      4.740227\n",
       " 22      7.129586\n",
       " 23      4.735610\n",
       " 24      5.091073\n",
       " 25      2.676167\n",
       " 26      3.257133\n",
       " 27      4.689824\n",
       " 28      5.657107\n",
       " 29      3.911095\n",
       " 30      0.968145\n",
       " 31      3.171298\n",
       " 32      2.344003\n",
       "          ...    \n",
       " 816     3.757442\n",
       " 817     5.387740\n",
       " 818     4.062869\n",
       " 819     3.550008\n",
       " 820     3.697980\n",
       " 821     4.317638\n",
       " 822     3.102005\n",
       " 823     1.751542\n",
       " 824     1.733053\n",
       " 825     9.613094\n",
       " 826     6.023849\n",
       " 827     7.482976\n",
       " 828     4.837028\n",
       " 829     3.984820\n",
       " 830     5.261495\n",
       " 831     7.697498\n",
       " 832     4.290137\n",
       " 833     3.980073\n",
       " 834     6.642223\n",
       " 835     5.130472\n",
       " 836     2.761871\n",
       " 837     5.818844\n",
       " 838     5.009524\n",
       " 839     4.363947\n",
       " 840     9.481108\n",
       " 841     6.221759\n",
       " 842     4.129255\n",
       " 843     4.272753\n",
       " 844     8.296617\n",
       " 845     5.057353\n",
       " Length: 813, dtype: float64, 0       4.217072\n",
       " 1       2.639765\n",
       " 2       3.882255\n",
       " 3       2.539245\n",
       " 4      16.835367\n",
       " 6       8.093262\n",
       " 7       3.404996\n",
       " 8       6.603397\n",
       " 10      3.074521\n",
       " 11     10.145697\n",
       " 12      3.079282\n",
       " 13      1.631898\n",
       " 14      5.837200\n",
       " 15      6.233206\n",
       " 16      4.770864\n",
       " 17      6.225195\n",
       " 18      1.928732\n",
       " 20      4.260832\n",
       " 21      4.626109\n",
       " 22      6.976353\n",
       " 23      5.263342\n",
       " 24      5.840391\n",
       " 25      2.821406\n",
       " 26      3.177895\n",
       " 27      4.155978\n",
       " 28      5.277660\n",
       " 29      3.952287\n",
       " 30      1.028632\n",
       " 31      2.468989\n",
       " 32      3.639409\n",
       "          ...    \n",
       " 816     3.765608\n",
       " 817     4.732937\n",
       " 818     5.693224\n",
       " 819     5.318817\n",
       " 820     3.722316\n",
       " 821     3.980266\n",
       " 822     3.450658\n",
       " 823     1.976764\n",
       " 824     1.384878\n",
       " 825     9.712808\n",
       " 826     5.390554\n",
       " 827     7.090545\n",
       " 828     4.884710\n",
       " 829     4.299450\n",
       " 830     5.568912\n",
       " 831     9.341385\n",
       " 832     4.539517\n",
       " 833     3.868999\n",
       " 834     6.542258\n",
       " 835     5.130472\n",
       " 836     3.087144\n",
       " 837     5.315768\n",
       " 838     5.039999\n",
       " 839     2.277640\n",
       " 840    11.194757\n",
       " 841     4.098627\n",
       " 842     4.029514\n",
       " 843     4.407777\n",
       " 844     8.910001\n",
       " 845     5.131228\n",
       " Length: 813, dtype: float64]"
      ]
     },
     "execution_count": 174,
     "metadata": {},
     "output_type": "execute_result"
    }
   ],
   "source": [
    "distortion"
   ]
  },
  {
   "cell_type": "markdown",
   "metadata": {},
   "source": [
    "Iterating values of k from 1 to 10 fit K means model\n",
    "Using c distance - Get the measure for Sum of squares error."
   ]
  },
  {
   "cell_type": "code",
   "execution_count": 175,
   "metadata": {},
   "outputs": [
    {
     "data": {
      "text/html": [
       "<div>\n",
       "<style scoped>\n",
       "    .dataframe tbody tr th:only-of-type {\n",
       "        vertical-align: middle;\n",
       "    }\n",
       "\n",
       "    .dataframe tbody tr th {\n",
       "        vertical-align: top;\n",
       "    }\n",
       "\n",
       "    .dataframe thead th {\n",
       "        text-align: right;\n",
       "    }\n",
       "</style>\n",
       "<table border=\"1\" class=\"dataframe\">\n",
       "  <thead>\n",
       "    <tr style=\"text-align: right;\">\n",
       "      <th></th>\n",
       "      <th>num_clusters</th>\n",
       "      <th>cluster_errors</th>\n",
       "      <th>Avg Sil Score</th>\n",
       "    </tr>\n",
       "  </thead>\n",
       "  <tbody>\n",
       "    <tr>\n",
       "      <th>0</th>\n",
       "      <td>2</td>\n",
       "      <td>9065.460317</td>\n",
       "      <td>0.380556</td>\n",
       "    </tr>\n",
       "    <tr>\n",
       "      <th>1</th>\n",
       "      <td>3</td>\n",
       "      <td>7480.633371</td>\n",
       "      <td>0.280140</td>\n",
       "    </tr>\n",
       "    <tr>\n",
       "      <th>2</th>\n",
       "      <td>4</td>\n",
       "      <td>6176.793238</td>\n",
       "      <td>0.292672</td>\n",
       "    </tr>\n",
       "    <tr>\n",
       "      <th>3</th>\n",
       "      <td>5</td>\n",
       "      <td>6342.060598</td>\n",
       "      <td>0.208100</td>\n",
       "    </tr>\n",
       "    <tr>\n",
       "      <th>4</th>\n",
       "      <td>6</td>\n",
       "      <td>5131.975201</td>\n",
       "      <td>0.226412</td>\n",
       "    </tr>\n",
       "    <tr>\n",
       "      <th>5</th>\n",
       "      <td>7</td>\n",
       "      <td>4723.846836</td>\n",
       "      <td>0.221265</td>\n",
       "    </tr>\n",
       "    <tr>\n",
       "      <th>6</th>\n",
       "      <td>8</td>\n",
       "      <td>4447.149422</td>\n",
       "      <td>0.214988</td>\n",
       "    </tr>\n",
       "    <tr>\n",
       "      <th>7</th>\n",
       "      <td>9</td>\n",
       "      <td>4164.372254</td>\n",
       "      <td>0.206507</td>\n",
       "    </tr>\n",
       "  </tbody>\n",
       "</table>\n",
       "</div>"
      ],
      "text/plain": [
       "   num_clusters  cluster_errors  Avg Sil Score\n",
       "0             2     9065.460317       0.380556\n",
       "1             3     7480.633371       0.280140\n",
       "2             4     6176.793238       0.292672\n",
       "3             5     6342.060598       0.208100\n",
       "4             6     5131.975201       0.226412\n",
       "5             7     4723.846836       0.221265\n",
       "6             8     4447.149422       0.214988\n",
       "7             9     4164.372254       0.206507"
      ]
     },
     "execution_count": 175,
     "metadata": {},
     "output_type": "execute_result"
    }
   ],
   "source": [
    "cluster_range = range( 2, 10)   # expect 3 to four clusters from the pair panel visual inspection hence restricting from 2 to 6\n",
    "cluster_errors = []\n",
    "cluster_sil_scores = []\n",
    "c_ft = []\n",
    "for num_clusters in cluster_range:\n",
    "  clusters = KMeans( num_clusters, n_init = 5)\n",
    "  clusters.fit(df_z_dummies)\n",
    "  c_ft=clusters.fit_predict(df_z_dummies) \n",
    "  labels = clusters.labels_                     # capture the cluster lables\n",
    "  centroids = clusters.cluster_centers_         # capture the centroids\n",
    "  cluster_errors.append( clusters.inertia_ )    # capture the intertia\n",
    "  cluster_sil_scores.append(metrics.silhouette_score(df_z_dummies, labels, metric='euclidean'))\n",
    "\n",
    "\n",
    "\n",
    "\n",
    "\n",
    "\n",
    "# combine the cluster_range and cluster_errors into a dataframe by combining them\n",
    "clusters_df = pd.DataFrame( { \"num_clusters\":cluster_range, \"cluster_errors\": cluster_errors , \"Avg Sil Score\": cluster_sil_scores } )\n",
    "clusters_df[0:15]"
   ]
  },
  {
   "cell_type": "markdown",
   "metadata": {},
   "source": [
    "### 6. Plotting Elbow/ Scree Plot"
   ]
  },
  {
   "cell_type": "code",
   "execution_count": null,
   "metadata": {},
   "outputs": [],
   "source": [
    "# Sum of Squares is the object Cluster Errors"
   ]
  },
  {
   "cell_type": "code",
   "execution_count": 30,
   "metadata": {},
   "outputs": [
    {
     "data": {
      "text/plain": [
       "[<matplotlib.lines.Line2D at 0x1a4b19ff2b0>]"
      ]
     },
     "execution_count": 30,
     "metadata": {},
     "output_type": "execute_result"
    },
    {
     "data": {
      "image/png": "[encoded data removed]",
      "text/plain": [
       "<Figure size 864x432 with 1 Axes>"
      ]
     },
     "metadata": {
      "needs_background": "light"
     },
     "output_type": "display_data"
    }
   ],
   "source": [
    "# Elbow plot\n",
    "\n",
    "plt.figure(figsize=(12,6))\n",
    "plt.plot( clusters_df.num_clusters, clusters_df.cluster_errors, marker = \"o\" )"
   ]
  },
  {
   "cell_type": "markdown",
   "metadata": {},
   "source": [
    "Use Matplotlib to plot the scree plot - Note: Scree plot plots distortion vs the no of clusters"
   ]
  },
  {
   "cell_type": "code",
   "execution_count": null,
   "metadata": {},
   "outputs": [],
   "source": []
  },
  {
   "cell_type": "markdown",
   "metadata": {},
   "source": [
    "### Find out the optimal value of K"
   ]
  },
  {
   "cell_type": "code",
   "execution_count": null,
   "metadata": {},
   "outputs": [],
   "source": [
    "#4"
   ]
  },
  {
   "cell_type": "code",
   "execution_count": 176,
   "metadata": {},
   "outputs": [
    {
     "data": {
      "text/plain": [
       "array([5, 0, 4, 1, 8, 7, 6, 2, 3])"
      ]
     },
     "execution_count": 176,
     "metadata": {},
     "output_type": "execute_result"
    }
   ],
   "source": [
    "clusters.fit_predict(centroids)"
   ]
  },
  {
   "cell_type": "markdown",
   "metadata": {},
   "source": [
    "### Using optimal value of K - Cluster the data. \n",
    "Note: Since the data has more than 2 dimension we cannot visualize the data. As an alternative, we can observe the centroids and note how they are distributed across different dimensions"
   ]
  },
  {
   "cell_type": "code",
   "execution_count": null,
   "metadata": {},
   "outputs": [],
   "source": []
  },
  {
   "cell_type": "markdown",
   "metadata": {},
   "source": [
    "You can use kmeans.cluster_centers_ function to pull the centroid information from the instance"
   ]
  },
  {
   "cell_type": "code",
   "execution_count": null,
   "metadata": {},
   "outputs": [],
   "source": []
  },
  {
   "cell_type": "markdown",
   "metadata": {},
   "source": [
    "### 7. Store the centroids in a dataframe with column names from the original dataset given "
   ]
  },
  {
   "cell_type": "code",
   "execution_count": null,
   "metadata": {},
   "outputs": [],
   "source": [
    "# Provided in the above block"
   ]
  },
  {
   "cell_type": "markdown",
   "metadata": {},
   "source": [
    "Hint: Use pd.Dataframe function "
   ]
  },
  {
   "cell_type": "markdown",
   "metadata": {},
   "source": [
    "### Use kmeans.labels_ function to print out the labels of the classes"
   ]
  },
  {
   "cell_type": "code",
   "execution_count": 177,
   "metadata": {},
   "outputs": [
    {
     "data": {
      "text/plain": [
       "array([3, 3, 8, 4, 7, 4, 4, 4, 4, 4, 3, 3, 5, 8, 0, 2, 8, 6, 0, 4, 4, 8,\n",
       "       3, 0, 8, 5, 0, 3, 4, 4, 8, 2, 6, 7, 8, 6, 5, 0, 3, 2, 8, 3, 3, 6,\n",
       "       3, 2, 0, 2, 8, 4, 1, 4, 5, 3, 8, 0, 5, 0, 0, 6, 5, 0, 8, 3, 5, 8,\n",
       "       2, 0, 3, 5, 2, 6, 3, 8, 4, 0, 2, 1, 3, 0, 2, 0, 8, 2, 8, 3, 6, 8,\n",
       "       3, 3, 5, 6, 7, 4, 4, 0, 5, 5, 2, 6, 5, 3, 3, 0, 0, 3, 3, 5, 8, 5,\n",
       "       0, 3, 4, 0, 3, 3, 6, 3, 3, 5, 5, 2, 2, 0, 8, 7, 3, 4, 0, 3, 2, 8,\n",
       "       6, 5, 8, 3, 2, 4, 2, 5, 5, 2, 8, 3, 1, 2, 0, 2, 0, 8, 2, 4, 8, 8,\n",
       "       2, 8, 6, 0, 8, 1, 4, 8, 3, 2, 2, 2, 0, 8, 0, 4, 0, 5, 2, 2, 3, 8,\n",
       "       2, 5, 3, 1, 2, 6, 8, 6, 6, 6, 3, 2, 8, 8, 4, 3, 3, 6, 8, 2, 4, 2,\n",
       "       1, 0, 6, 8, 6, 4, 8, 3, 6, 0, 4, 8, 4, 8, 6, 0, 0, 6, 8, 4, 3, 2,\n",
       "       8, 6, 2, 4, 6, 8, 3, 0, 2, 2, 8, 0, 8, 3, 4, 3, 8, 2, 4, 5, 8, 0,\n",
       "       2, 4, 4, 5, 6, 5, 4, 0, 6, 5, 2, 1, 4, 6, 0, 8, 2, 5, 6, 6, 8, 3,\n",
       "       3, 5, 0, 4, 7, 3, 4, 1, 4, 5, 0, 2, 2, 8, 4, 2, 4, 6, 3, 8, 8, 8,\n",
       "       5, 3, 3, 8, 6, 0, 4, 5, 0, 8, 1, 6, 5, 2, 6, 5, 3, 2, 4, 5, 8, 6,\n",
       "       1, 8, 3, 8, 4, 3, 2, 0, 0, 8, 8, 8, 4, 4, 4, 5, 0, 3, 6, 5, 5, 4,\n",
       "       8, 3, 5, 8, 5, 5, 3, 3, 8, 3, 0, 6, 3, 2, 5, 5, 0, 1, 8, 0, 0, 8,\n",
       "       0, 1, 6, 8, 3, 3, 5, 3, 7, 8, 6, 4, 4, 3, 5, 2, 3, 2, 4, 8, 2, 8,\n",
       "       4, 5, 2, 0, 0, 3, 2, 3, 0, 6, 2, 3, 8, 4, 2, 6, 0, 5, 4, 6, 2, 2,\n",
       "       8, 2, 8, 4, 8, 5, 0, 6, 8, 4, 0, 0, 5, 5, 5, 3, 4, 5, 1, 3, 5, 8,\n",
       "       8, 4, 3, 2, 2, 4, 5, 6, 0, 3, 8, 2, 4, 8, 5, 0, 5, 6, 6, 8, 4, 3,\n",
       "       8, 1, 8, 0, 8, 8, 3, 5, 6, 8, 8, 5, 4, 3, 6, 8, 3, 0, 8, 8, 4, 6,\n",
       "       8, 1, 3, 3, 0, 8, 8, 8, 0, 0, 5, 8, 8, 2, 3, 8, 6, 2, 8, 2, 0, 0,\n",
       "       4, 8, 0, 4, 2, 0, 7, 8, 3, 5, 8, 5, 6, 5, 1, 5, 0, 0, 4, 8, 4, 5,\n",
       "       1, 3, 4, 2, 2, 3, 3, 0, 4, 2, 8, 0, 0, 2, 6, 8, 5, 1, 0, 6, 8, 8,\n",
       "       2, 8, 4, 2, 5, 8, 3, 6, 4, 8, 4, 3, 3, 8, 8, 8, 8, 4, 0, 6, 4, 8,\n",
       "       8, 5, 4, 8, 0, 2, 8, 6, 0, 6, 4, 0, 5, 2, 4, 5, 4, 5, 4, 8, 2, 2,\n",
       "       8, 4, 4, 4, 6, 8, 3, 0, 2, 0, 4, 4, 0, 0, 8, 8, 3, 2, 8, 2, 8, 3,\n",
       "       3, 5, 4, 0, 8, 6, 5, 0, 0, 4, 6, 5, 8, 5, 3, 5, 5, 3, 3, 2, 0, 8,\n",
       "       2, 8, 0, 2, 5, 5, 0, 3, 3, 4, 5, 4, 5, 0, 3, 4, 3, 5, 8, 3, 6, 5,\n",
       "       2, 5, 4, 2, 8, 6, 5, 6, 2, 3, 5, 3, 1, 2, 6, 4, 1, 0, 5, 2, 3, 5,\n",
       "       3, 5, 0, 3, 2, 6, 3, 8, 8, 5, 4, 8, 8, 7, 4, 3, 2, 1, 8, 5, 8, 4,\n",
       "       8, 2, 5, 8, 8, 2, 8, 3, 5, 3, 4, 5, 4, 0, 5, 8, 1, 3, 1, 0, 0, 8,\n",
       "       1, 8, 3, 8, 2, 4, 5, 3, 6, 4, 6, 3, 5, 2, 0, 2, 2, 4, 0, 5, 3, 6,\n",
       "       3, 5, 5, 3, 8, 8, 6, 2, 2, 5, 2, 6, 5, 5, 6, 4, 2, 5, 1, 8, 0, 5,\n",
       "       4, 5, 8, 0, 6, 8, 0, 8, 3, 6, 4, 8, 5, 3, 0, 4, 8, 8, 2, 3, 0, 5,\n",
       "       5, 5, 6, 3, 8, 6, 0, 8, 0, 2, 3, 6, 6, 3, 8, 5, 5, 0, 8, 4, 8, 8,\n",
       "       3, 5, 8, 0, 3, 2, 5, 8, 3, 0, 1, 3, 3, 3, 4, 4, 2, 3, 8, 2, 0])"
      ]
     },
     "execution_count": 177,
     "metadata": {},
     "output_type": "execute_result"
    }
   ],
   "source": [
    "# Derived from the above block\n",
    "labels"
   ]
  },
  {
   "cell_type": "markdown",
   "metadata": {},
   "source": [
    "## Hierarchical Clustering "
   ]
  },
  {
   "cell_type": "markdown",
   "metadata": {},
   "source": [
    "### 8. Variable creation"
   ]
  },
  {
   "cell_type": "markdown",
   "metadata": {},
   "source": [
    "For Hierarchical clustering, we will create datasets using multivariate normal distribution to visually observe how the clusters are formed at the end"
   ]
  },
  {
   "cell_type": "raw",
   "metadata": {},
   "source": [
    "a = np.random.multivariate_normal([10, 0], [[3, 1], [1, 4]], size=[100,])\n",
    "b = np.random.multivariate_normal([0, 20], [[3, 1], [1, 4]], size=[50,])\n",
    "c = np.random.multivariate_normal([10, 20], [[3, 1], [1, 4]], size=[100,])"
   ]
  },
  {
   "cell_type": "code",
   "execution_count": 41,
   "metadata": {},
   "outputs": [],
   "source": [
    "a = np.random.multivariate_normal([10, 0], [[3, 1], [1, 4]], size=[100,])"
   ]
  },
  {
   "cell_type": "code",
   "execution_count": 43,
   "metadata": {},
   "outputs": [],
   "source": [
    "b = np.random.multivariate_normal([0, 20], [[3, 1], [1, 4]], size=[50,])"
   ]
  },
  {
   "cell_type": "code",
   "execution_count": null,
   "metadata": {},
   "outputs": [],
   "source": [
    "c = np.random.multivariate_normal([10, 20], [[3, 1], [1, 4]], size=[100,])"
   ]
  },
  {
   "cell_type": "markdown",
   "metadata": {},
   "source": [
    "### 9. Combine all three arrays a,b,c into a dataframe"
   ]
  },
  {
   "cell_type": "code",
   "execution_count": 50,
   "metadata": {},
   "outputs": [],
   "source": [
    "df_hier=pd.DataFrame(np.concatenate([a,b,c]))"
   ]
  },
  {
   "cell_type": "code",
   "execution_count": 53,
   "metadata": {},
   "outputs": [
    {
     "data": {
      "text/html": [
       "<div>\n",
       "<style scoped>\n",
       "    .dataframe tbody tr th:only-of-type {\n",
       "        vertical-align: middle;\n",
       "    }\n",
       "\n",
       "    .dataframe tbody tr th {\n",
       "        vertical-align: top;\n",
       "    }\n",
       "\n",
       "    .dataframe thead th {\n",
       "        text-align: right;\n",
       "    }\n",
       "</style>\n",
       "<table border=\"1\" class=\"dataframe\">\n",
       "  <thead>\n",
       "    <tr style=\"text-align: right;\">\n",
       "      <th></th>\n",
       "      <th>0</th>\n",
       "      <th>1</th>\n",
       "    </tr>\n",
       "  </thead>\n",
       "  <tbody>\n",
       "    <tr>\n",
       "      <th>0</th>\n",
       "      <td>7.830172</td>\n",
       "      <td>1.819482</td>\n",
       "    </tr>\n",
       "    <tr>\n",
       "      <th>1</th>\n",
       "      <td>8.766113</td>\n",
       "      <td>-3.177736</td>\n",
       "    </tr>\n",
       "    <tr>\n",
       "      <th>2</th>\n",
       "      <td>12.079926</td>\n",
       "      <td>2.843430</td>\n",
       "    </tr>\n",
       "    <tr>\n",
       "      <th>3</th>\n",
       "      <td>9.257714</td>\n",
       "      <td>-0.749894</td>\n",
       "    </tr>\n",
       "    <tr>\n",
       "      <th>4</th>\n",
       "      <td>8.188880</td>\n",
       "      <td>-0.614224</td>\n",
       "    </tr>\n",
       "  </tbody>\n",
       "</table>\n",
       "</div>"
      ],
      "text/plain": [
       "           0         1\n",
       "0   7.830172  1.819482\n",
       "1   8.766113 -3.177736\n",
       "2  12.079926  2.843430\n",
       "3   9.257714 -0.749894\n",
       "4   8.188880 -0.614224"
      ]
     },
     "execution_count": 53,
     "metadata": {},
     "output_type": "execute_result"
    }
   ],
   "source": [
    "df_hier.head()"
   ]
  },
  {
   "cell_type": "markdown",
   "metadata": {},
   "source": [
    "### 10. Use scatter matrix to print all the 3 distributions"
   ]
  },
  {
   "cell_type": "code",
   "execution_count": 110,
   "metadata": {},
   "outputs": [
    {
     "data": {
      "text/plain": [
       "<matplotlib.collections.PathCollection at 0x1a4b21cdb38>"
      ]
     },
     "execution_count": 110,
     "metadata": {},
     "output_type": "execute_result"
    },
    {
     "data": {
      "image/png": "[encoded data removed]",
      "text/plain": [
       "<Figure size 432x288 with 1 Axes>"
      ]
     },
     "metadata": {
      "needs_background": "light"
     },
     "output_type": "display_data"
    }
   ],
   "source": [
    "plt.scatter(df_hier[0],df_hier[1],cmap='bwr')"
   ]
  },
  {
   "cell_type": "code",
   "execution_count": null,
   "metadata": {},
   "outputs": [],
   "source": []
  },
  {
   "cell_type": "markdown",
   "metadata": {},
   "source": [
    "### 11. Find out the linkage matrix"
   ]
  },
  {
   "cell_type": "code",
   "execution_count": 78,
   "metadata": {},
   "outputs": [],
   "source": [
    "from scipy.cluster.hierarchy import cophenet, dendrogram, linkage, fcluster\n",
    "from scipy.spatial.distance import pdist  #Pairwise distribution between data points"
   ]
  },
  {
   "cell_type": "markdown",
   "metadata": {},
   "source": [
    "Use ward as linkage metric and distance as Eucledian"
   ]
  },
  {
   "cell_type": "code",
   "execution_count": 69,
   "metadata": {},
   "outputs": [],
   "source": [
    "Z = linkage(df_hier, 'ward','euclidean')\n"
   ]
  },
  {
   "cell_type": "code",
   "execution_count": 100,
   "metadata": {},
   "outputs": [
    {
     "data": {
      "text/plain": [
       "array([1.64000000e+02, 2.38000000e+02, 5.93213271e-02, 2.00000000e+00])"
      ]
     },
     "execution_count": 100,
     "metadata": {},
     "output_type": "execute_result"
    }
   ],
   "source": [
    "Z[1]\n"
   ]
  },
  {
   "cell_type": "markdown",
   "metadata": {},
   "source": [
    "### 12. Plot the dendrogram for the consolidated dataframe"
   ]
  },
  {
   "cell_type": "code",
   "execution_count": 178,
   "metadata": {},
   "outputs": [
    {
     "data": {
      "image/png": "[encoded data removed]",
      "text/plain": [
       "<Figure size 720x720 with 1 Axes>"
      ]
     },
     "metadata": {
      "needs_background": "light"
     },
     "output_type": "display_data"
    }
   ],
   "source": [
    "plt.figure(figsize=(10, 10))\n",
    "plt.title('Agglomerative Hierarchical Clustering Dendogram')\n",
    "plt.xlabel('index')\n",
    "plt.ylabel('Distance')\n",
    "dendrogram(Z, leaf_rotation=90.,color_threshold = 30, leaf_font_size=8. )\n",
    "plt.tight_layout()"
   ]
  },
  {
   "cell_type": "code",
   "execution_count": null,
   "metadata": {},
   "outputs": [],
   "source": []
  },
  {
   "cell_type": "code",
   "execution_count": null,
   "metadata": {},
   "outputs": [],
   "source": []
  },
  {
   "cell_type": "markdown",
   "metadata": {},
   "source": [
    "### 13. Recreate the dendrogram for last 12 merged clusters "
   ]
  },
  {
   "cell_type": "code",
   "execution_count": 179,
   "metadata": {},
   "outputs": [
    {
     "data": {
      "image/png": "[encoded data removed]",
      "text/plain": [
       "<Figure size 720x720 with 1 Axes>"
      ]
     },
     "metadata": {
      "needs_background": "light"
     },
     "output_type": "display_data"
    }
   ],
   "source": [
    "plt.figure(figsize=(10, 10))\n",
    "plt.title('Agglomerative Hierarchical Clustering Dendogram')\n",
    "plt.xlabel('index')\n",
    "plt.ylabel('Distance')\n",
    "dendrogram(Z,p=12, leaf_rotation=90.,color_threshold = 30,truncate_mode='lastp', leaf_font_size=8. )\n",
    "plt.tight_layout()"
   ]
  },
  {
   "cell_type": "markdown",
   "metadata": {},
   "source": [
    "Hint: Use truncate_mode='lastp' attribute in dendrogram function to arrive at dendrogram "
   ]
  },
  {
   "cell_type": "code",
   "execution_count": null,
   "metadata": {},
   "outputs": [],
   "source": []
  },
  {
   "cell_type": "code",
   "execution_count": null,
   "metadata": {},
   "outputs": [],
   "source": []
  },
  {
   "cell_type": "markdown",
   "metadata": {},
   "source": [
    "### 14. From the truncated dendrogram, find out the optimal distance between clusters which u want to use an input for clustering data"
   ]
  },
  {
   "cell_type": "code",
   "execution_count": 180,
   "metadata": {},
   "outputs": [],
   "source": [
    "# Distance caluclated here"
   ]
  },
  {
   "cell_type": "code",
   "execution_count": 181,
   "metadata": {},
   "outputs": [
    {
     "data": {
      "text/plain": [
       "0.9509542897811835"
      ]
     },
     "execution_count": 181,
     "metadata": {},
     "output_type": "execute_result"
    }
   ],
   "source": [
    "c, coph_dists = cophenet(Z , pdist(df_hier))\n",
    "\n",
    "c"
   ]
  },
  {
   "cell_type": "markdown",
   "metadata": {},
   "source": [
    "### 15. Using this distance measure and fcluster function to cluster the data into 3 different groups"
   ]
  },
  {
   "cell_type": "code",
   "execution_count": 77,
   "metadata": {},
   "outputs": [
    {
     "data": {
      "text/plain": [
       "array([5.08410952, 4.37137069, 2.93931456, ..., 2.77723209, 0.95561791,\n",
       "       2.92500943])"
      ]
     },
     "execution_count": 77,
     "metadata": {},
     "output_type": "execute_result"
    }
   ],
   "source": [
    "pdist(df_hier)"
   ]
  },
  {
   "cell_type": "code",
   "execution_count": 113,
   "metadata": {},
   "outputs": [
    {
     "data": {
      "text/plain": [
       "array([  4,  26,  10,   7,   8,  29,  37,  25,  24,   3,  32,  31,   4,\n",
       "        18,  36,  33,  17,   7,  35,  22,  16,  27,   5,  39,  34,  40,\n",
       "         3,  37,  22,   2,  26,  20,  37,   8,  33,   2,  18,  33,  28,\n",
       "        35,   6,  13,   6,   9,   1,   1,  20,  30,  27,  29,  17,   5,\n",
       "         7,  18,  13,  24,  16,  37,  15,  23,  23,  23,  29,  30,  12,\n",
       "        26,   2,   9,   8,  14,  31,   7,  21,   9,  25,  32,  30,  29,\n",
       "        29,  20,  28,  38,  17,   2,  15,  31,  11,  30,  15,  19,  16,\n",
       "        38,  17,  18,  36,  15,  27,  21,  30,  15,  50,  52,  48,  41,\n",
       "        52,  60,  53,  49,  59,  49,  58,  59,  48,  57,  61,  56,  66,\n",
       "        51,  66,  46,  44,  60,  43,  46,  47,  62,  47,  62,  46,  54,\n",
       "        51,  63,  65,  45,  56,  59,  48,  65,  58,  65,  51,  66,  64,\n",
       "        42,  43,  45,  57,  55,  65,  63,  97,  94,  69,  67,  93,  85,\n",
       "        92, 100,  83, 102,  72,  74,  85,  90,  98,  98,  73,  99,  93,\n",
       "        77,  86,  68,  88,  85,  69,  86, 100,  87,  95, 105,  75,  92,\n",
       "       107, 107,  78, 106,  97, 103,  89,  72,  85, 100,  81, 100,  96,\n",
       "        81,  84,  79,  87,  72,  69, 104,  78,  95,  91,  94, 101,  80,\n",
       "        76,  81,  87,  96,  71,  70,  71,  74,  80,  94,  76,  80,  75,\n",
       "        82,  86, 106,  74,  70, 100,  75, 101, 101,  99, 103, 101,  71,\n",
       "        87,  92,  71,  98,  98,  93, 105,  72, 100,  73,  73,  82,  97,\n",
       "       106,  97,  99], dtype=int32)"
      ]
     },
     "execution_count": 113,
     "metadata": {},
     "output_type": "execute_result"
    }
   ],
   "source": [
    "fcluster(Z,c,criterion='distance')"
   ]
  },
  {
   "cell_type": "markdown",
   "metadata": {},
   "source": [
    "### Use matplotlib to visually observe the clusters in 2D space "
   ]
  },
  {
   "cell_type": "code",
   "execution_count": 182,
   "metadata": {},
   "outputs": [
    {
     "data": {
      "text/plain": [
       "array([ 1,  7,  0,  1,  1,  7,  3,  7,  7,  1,  3,  3,  1,  0,  3,  3,  0,\n",
       "        1,  3,  7,  0,  7,  1,  3,  3,  3,  1,  3,  7,  1,  7,  0,  3,  1,\n",
       "        3,  1,  0,  3,  7,  3,  1,  0,  1,  1,  1,  1,  0,  3,  7,  7,  0,\n",
       "        1,  1,  0,  0,  7,  0,  3,  0,  7,  7,  7,  7,  3,  0,  7,  1,  1,\n",
       "        1,  0,  3,  1,  0,  1,  7,  3,  3,  7,  7,  0,  7,  3,  0,  1,  0,\n",
       "        3,  0,  3,  0,  0,  0,  3,  0,  0,  3,  0,  7,  0,  3,  0,  2, 11,\n",
       "        2,  2, 11,  6, 11,  2,  6,  2,  6,  6,  2,  6,  6,  6,  6, 11,  6,\n",
       "        2,  2,  6,  2,  2,  2,  6,  2,  6,  2, 11, 11,  6,  6,  2,  6,  6,\n",
       "        2,  6,  6,  6, 11,  6,  6,  2,  2,  2,  6, 11,  6,  6,  9,  9,  4,\n",
       "        4,  9,  5,  9, 10,  5, 10,  4,  8,  5,  9, 10, 10,  4, 10,  9,  8,\n",
       "        5,  4,  5,  5,  4,  5, 10,  5,  9, 10,  8,  9, 10, 10,  8, 10,  9,\n",
       "       10,  5,  4,  5, 10,  8, 10,  9,  8,  5,  8,  5,  4,  4, 10,  8,  9,\n",
       "        9,  9, 10,  8,  8,  8,  5,  9,  4,  4,  4,  8,  8,  9,  8,  8,  8,\n",
       "        8,  5, 10,  8,  4, 10,  8, 10, 10, 10, 10, 10,  4,  5,  9,  4, 10,\n",
       "       10,  9, 10,  4, 10,  4,  4,  8,  9, 10,  9, 10], dtype=int64)"
      ]
     },
     "execution_count": 182,
     "metadata": {},
     "output_type": "execute_result"
    }
   ],
   "source": [
    "from sklearn.cluster import AgglomerativeClustering\n",
    "\n",
    "# Number of clusters can be changed here. It is taken as 12 here\n",
    "cluster = AgglomerativeClustering(n_clusters=12, affinity='euclidean', linkage='ward')  \n",
    "cluster.fit_predict(df_hier)  "
   ]
  },
  {
   "cell_type": "code",
   "execution_count": 183,
   "metadata": {},
   "outputs": [
    {
     "data": {
      "text/plain": [
       "<matplotlib.collections.PathCollection at 0x1a4bb73a940>"
      ]
     },
     "execution_count": 183,
     "metadata": {},
     "output_type": "execute_result"
    },
    {
     "data": {
      "image/png": "[encoded data removed]",
      "text/plain": [
       "<Figure size 720x504 with 1 Axes>"
      ]
     },
     "metadata": {
      "needs_background": "light"
     },
     "output_type": "display_data"
    }
   ],
   "source": [
    "plt.figure(figsize=(10, 7))  \n",
    "plt.scatter(df_hier[0], df_hier[1], c=cluster.labels_, cmap='rainbow')  "
   ]
  },
  {
   "cell_type": "code",
   "execution_count": null,
   "metadata": {},
   "outputs": [],
   "source": []
  }
 ],
 "metadata": {
  "kernelspec": {
   "display_name": "Python 3",
   "language": "python",
   "name": "python3"
  },
  "language_info": {
   "codemirror_mode": {
    "name": "ipython",
    "version": 3
   },
   "file_extension": ".py",
   "mimetype": "text/x-python",
   "name": "python",
   "nbconvert_exporter": "python",
   "pygments_lexer": "ipython3",
   "version": "3.7.0"
  }
 },
 "nbformat": 4,
 "nbformat_minor": 2
}
