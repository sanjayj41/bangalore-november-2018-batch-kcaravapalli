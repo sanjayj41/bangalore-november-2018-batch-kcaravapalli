{
 "cells": [
  {
   "cell_type": "markdown",
   "metadata": {},
   "source": [
    "## Lab Brief - Statistical Learning with Python"
   ]
  },
  {
   "cell_type": "markdown",
   "metadata": {},
   "source": [
    "### Part-1"
   ]
  },
  {
   "cell_type": "markdown",
   "metadata": {},
   "source": [
    "## Measures of Data"
   ]
  },
  {
   "cell_type": "markdown",
   "metadata": {},
   "source": [
    "Descriptive Statistcs are measures that summarize important features of data. Producing these descriptive statistics is a common first step to take after cleaning and preparing a dataset for further analysis. Examples are like calculating Mean or Median. In this lab, we will be looking into some of these functions and explore several new ones."
   ]
  },
  {
   "cell_type": "markdown",
   "metadata": {},
   "source": [
    "#### Measures of Central Tendency"
   ]
  },
  {
   "cell_type": "markdown",
   "metadata": {},
   "source": [
    "Whenever you measure things of the same kind, a fairly large number of such measurements will tend to cluster around the middle value. Such a value is called a measure of \"Central Tendency\". The other terms that are used synonymously are \"Measures of Location\", or \"Statistical Averages\". "
   ]
  },
  {
   "cell_type": "code",
   "execution_count": 84,
   "metadata": {},
   "outputs": [],
   "source": [
    "import numpy as np\n",
    "import pandas as pd\n",
    "import seaborn as sns\n",
    "import matplotlib.pyplot as plt\n",
    "\n",
    "mtcars = pd.read_csv('mtcars.csv')"
   ]
  },
  {
   "cell_type": "markdown",
   "metadata": {},
   "source": [
    "##### Using the mtcars dataset.\n",
    "\n",
    "For the below set of questions, we will be using the cars data from [Motor Trend Car Road Tests](http://stat.ethz.ch/R-manual/R-devel/library/datasets/html/mtcars.html)\n",
    "\n",
    "The data was extracted from the 1974 Motor Trend US magazine, and comprises fuel consumption and 10 aspects of automobile design and performance for 32 automobiles (1973–74 models). \n",
    "\n",
    "\n",
    "Details :\n",
    "    \n",
    "A data frame with 32 observations on 11 (numeric) variables.\n",
    "\n",
    "[, 1] \tmpg \tMiles/(US) gallon\n",
    "\n",
    "[, 2] \tcyl \tNumber of cylinders\n",
    "\n",
    "[, 3] \tdisp \tDisplacement (cu.in.)\n",
    "\n",
    "[, 4] \thp \tGross horsepower\n",
    "\n",
    "[, 5] \tdrat \tRear axle ratio\n",
    "\n",
    "[, 6] \twt \tWeight (1000 lbs)\n",
    "\n",
    "[, 7] \tqsec \t1/4 mile time\n",
    "\n",
    "[, 8] \tvs \tEngine (0 = V-shaped, 1 = straight)\n",
    "\n",
    "[, 9] \tam \tTransmission (0 = automatic, 1 = manual)\n",
    "\n",
    "[,10] \tgear \tNumber of forward gears\n",
    "\n",
    "[,11] \tcarb \tNumber of carburetors "
   ]
  },
  {
   "cell_type": "markdown",
   "metadata": {},
   "source": [
    "#### Explore the data - Setting the index"
   ]
  },
  {
   "cell_type": "code",
   "execution_count": 2,
   "metadata": {},
   "outputs": [
    {
     "data": {
      "text/html": [
       "<div>\n",
       "<style scoped>\n",
       "    .dataframe tbody tr th:only-of-type {\n",
       "        vertical-align: middle;\n",
       "    }\n",
       "\n",
       "    .dataframe tbody tr th {\n",
       "        vertical-align: top;\n",
       "    }\n",
       "\n",
       "    .dataframe thead th {\n",
       "        text-align: right;\n",
       "    }\n",
       "</style>\n",
       "<table border=\"1\" class=\"dataframe\">\n",
       "  <thead>\n",
       "    <tr style=\"text-align: right;\">\n",
       "      <th></th>\n",
       "      <th>name</th>\n",
       "      <th>mpg</th>\n",
       "      <th>cyl</th>\n",
       "      <th>disp</th>\n",
       "      <th>hp</th>\n",
       "      <th>drat</th>\n",
       "      <th>wt</th>\n",
       "      <th>qsec</th>\n",
       "      <th>vs</th>\n",
       "      <th>am</th>\n",
       "      <th>gear</th>\n",
       "      <th>carb</th>\n",
       "    </tr>\n",
       "    <tr>\n",
       "      <th>name</th>\n",
       "      <th></th>\n",
       "      <th></th>\n",
       "      <th></th>\n",
       "      <th></th>\n",
       "      <th></th>\n",
       "      <th></th>\n",
       "      <th></th>\n",
       "      <th></th>\n",
       "      <th></th>\n",
       "      <th></th>\n",
       "      <th></th>\n",
       "      <th></th>\n",
       "    </tr>\n",
       "  </thead>\n",
       "  <tbody>\n",
       "    <tr>\n",
       "      <th>Mazda RX4</th>\n",
       "      <td>Mazda RX4</td>\n",
       "      <td>21.0</td>\n",
       "      <td>6</td>\n",
       "      <td>160.0</td>\n",
       "      <td>110</td>\n",
       "      <td>3.90</td>\n",
       "      <td>2.620</td>\n",
       "      <td>16.46</td>\n",
       "      <td>0</td>\n",
       "      <td>1</td>\n",
       "      <td>4</td>\n",
       "      <td>4</td>\n",
       "    </tr>\n",
       "    <tr>\n",
       "      <th>Mazda RX4 Wag</th>\n",
       "      <td>Mazda RX4 Wag</td>\n",
       "      <td>21.0</td>\n",
       "      <td>6</td>\n",
       "      <td>160.0</td>\n",
       "      <td>110</td>\n",
       "      <td>3.90</td>\n",
       "      <td>2.875</td>\n",
       "      <td>17.02</td>\n",
       "      <td>0</td>\n",
       "      <td>1</td>\n",
       "      <td>4</td>\n",
       "      <td>4</td>\n",
       "    </tr>\n",
       "    <tr>\n",
       "      <th>Datsun 710</th>\n",
       "      <td>Datsun 710</td>\n",
       "      <td>22.8</td>\n",
       "      <td>4</td>\n",
       "      <td>108.0</td>\n",
       "      <td>93</td>\n",
       "      <td>3.85</td>\n",
       "      <td>2.320</td>\n",
       "      <td>18.61</td>\n",
       "      <td>1</td>\n",
       "      <td>1</td>\n",
       "      <td>4</td>\n",
       "      <td>1</td>\n",
       "    </tr>\n",
       "    <tr>\n",
       "      <th>Hornet 4 Drive</th>\n",
       "      <td>Hornet 4 Drive</td>\n",
       "      <td>21.4</td>\n",
       "      <td>6</td>\n",
       "      <td>258.0</td>\n",
       "      <td>110</td>\n",
       "      <td>3.08</td>\n",
       "      <td>3.215</td>\n",
       "      <td>19.44</td>\n",
       "      <td>1</td>\n",
       "      <td>0</td>\n",
       "      <td>3</td>\n",
       "      <td>1</td>\n",
       "    </tr>\n",
       "    <tr>\n",
       "      <th>Hornet Sportabout</th>\n",
       "      <td>Hornet Sportabout</td>\n",
       "      <td>18.7</td>\n",
       "      <td>8</td>\n",
       "      <td>360.0</td>\n",
       "      <td>175</td>\n",
       "      <td>3.15</td>\n",
       "      <td>3.440</td>\n",
       "      <td>17.02</td>\n",
       "      <td>0</td>\n",
       "      <td>0</td>\n",
       "      <td>3</td>\n",
       "      <td>2</td>\n",
       "    </tr>\n",
       "  </tbody>\n",
       "</table>\n",
       "</div>"
      ],
      "text/plain": [
       "                                name   mpg  cyl   disp   hp  drat     wt  \\\n",
       "name                                                                       \n",
       "Mazda RX4                  Mazda RX4  21.0    6  160.0  110  3.90  2.620   \n",
       "Mazda RX4 Wag          Mazda RX4 Wag  21.0    6  160.0  110  3.90  2.875   \n",
       "Datsun 710                Datsun 710  22.8    4  108.0   93  3.85  2.320   \n",
       "Hornet 4 Drive        Hornet 4 Drive  21.4    6  258.0  110  3.08  3.215   \n",
       "Hornet Sportabout  Hornet Sportabout  18.7    8  360.0  175  3.15  3.440   \n",
       "\n",
       "                    qsec  vs  am  gear  carb  \n",
       "name                                          \n",
       "Mazda RX4          16.46   0   1     4     4  \n",
       "Mazda RX4 Wag      17.02   0   1     4     4  \n",
       "Datsun 710         18.61   1   1     4     1  \n",
       "Hornet 4 Drive     19.44   1   0     3     1  \n",
       "Hornet Sportabout  17.02   0   0     3     2  "
      ]
     },
     "execution_count": 2,
     "metadata": {},
     "output_type": "execute_result"
    }
   ],
   "source": [
    "mtcars.index = mtcars[\"name\"]\n",
    "mtcars.head()\n",
    "# mtcars.mean() #By default this will give the mean of each column"
   ]
  },
  {
   "cell_type": "markdown",
   "metadata": {},
   "source": [
    "### Question 1\n",
    "\n",
    "What is the first car name given in mtcars?\n",
    "\n",
    "** Make use of index which has been set previously **\n",
    "\n",
    "**Hint**: Use .loc function\n"
   ]
  },
  {
   "cell_type": "code",
   "execution_count": 16,
   "metadata": {
    "scrolled": true
   },
   "outputs": [
    {
     "data": {
      "text/plain": [
       "'Mazda RX4'"
      ]
     },
     "execution_count": 16,
     "metadata": {},
     "output_type": "execute_result"
    }
   ],
   "source": [
    "mtcars.loc[:,\"name\"].head(1)\n",
    "mtcars.loc[\"Mazda RX4\",\"name\"]"
   ]
  },
  {
   "cell_type": "markdown",
   "metadata": {},
   "source": [
    "### Question 2\n",
    "What is the highest difference between the hp and cyl?\n",
    "\n",
    "**Hint:** You can use **max()** function to find the difference"
   ]
  },
  {
   "cell_type": "code",
   "execution_count": 24,
   "metadata": {},
   "outputs": [
    {
     "data": {
      "text/plain": [
       "327"
      ]
     },
     "execution_count": 24,
     "metadata": {},
     "output_type": "execute_result"
    }
   ],
   "source": [
    "mtcars[\"hp\"].max()-mtcars[\"cyl\"].max()"
   ]
  },
  {
   "cell_type": "markdown",
   "metadata": {},
   "source": [
    "### Question 3\n",
    "What are the cars having highest weight(wt) and lowest weight(wt)?\n",
    "\n",
    "**Hint:** Use idxmax() and idxmin() to locate the row\n",
    "\n",
    "Use **.iloc** function to print the  row\n",
    "\n",
    "**Note:** Both idxmax and idxmin belong to pandas"
   ]
  },
  {
   "cell_type": "code",
   "execution_count": 45,
   "metadata": {},
   "outputs": [
    {
     "data": {
      "text/plain": [
       "'Lincoln Continental'"
      ]
     },
     "execution_count": 45,
     "metadata": {},
     "output_type": "execute_result"
    }
   ],
   "source": [
    "a=pd.Series(mtcars[\"wt\"])\n",
    "b=pd.Series(mtcars[\"wt\"])\n"
   ]
  },
  {
   "cell_type": "code",
   "execution_count": 49,
   "metadata": {},
   "outputs": [
    {
     "data": {
      "text/plain": [
       "'Lotus Europa'"
      ]
     },
     "execution_count": 49,
     "metadata": {},
     "output_type": "execute_result"
    }
   ],
   "source": [
    "a.idxmax()\n",
    "a.idxmin()"
   ]
  },
  {
   "cell_type": "code",
   "execution_count": 54,
   "metadata": {},
   "outputs": [
    {
     "data": {
      "text/html": [
       "<div>\n",
       "<style scoped>\n",
       "    .dataframe tbody tr th:only-of-type {\n",
       "        vertical-align: middle;\n",
       "    }\n",
       "\n",
       "    .dataframe tbody tr th {\n",
       "        vertical-align: top;\n",
       "    }\n",
       "\n",
       "    .dataframe thead th {\n",
       "        text-align: right;\n",
       "    }\n",
       "</style>\n",
       "<table border=\"1\" class=\"dataframe\">\n",
       "  <thead>\n",
       "    <tr style=\"text-align: right;\">\n",
       "      <th></th>\n",
       "      <th>name</th>\n",
       "      <th>mpg</th>\n",
       "      <th>cyl</th>\n",
       "      <th>disp</th>\n",
       "      <th>hp</th>\n",
       "      <th>drat</th>\n",
       "      <th>wt</th>\n",
       "      <th>qsec</th>\n",
       "      <th>vs</th>\n",
       "      <th>am</th>\n",
       "      <th>gear</th>\n",
       "      <th>carb</th>\n",
       "    </tr>\n",
       "    <tr>\n",
       "      <th>name</th>\n",
       "      <th></th>\n",
       "      <th></th>\n",
       "      <th></th>\n",
       "      <th></th>\n",
       "      <th></th>\n",
       "      <th></th>\n",
       "      <th></th>\n",
       "      <th></th>\n",
       "      <th></th>\n",
       "      <th></th>\n",
       "      <th></th>\n",
       "      <th></th>\n",
       "    </tr>\n",
       "  </thead>\n",
       "  <tbody>\n",
       "    <tr>\n",
       "      <th>Lincoln Continental</th>\n",
       "      <td>Lincoln Continental</td>\n",
       "      <td>10.4</td>\n",
       "      <td>8</td>\n",
       "      <td>460.0</td>\n",
       "      <td>215</td>\n",
       "      <td>3.00</td>\n",
       "      <td>5.424</td>\n",
       "      <td>17.82</td>\n",
       "      <td>0</td>\n",
       "      <td>0</td>\n",
       "      <td>3</td>\n",
       "      <td>4</td>\n",
       "    </tr>\n",
       "    <tr>\n",
       "      <th>Lotus Europa</th>\n",
       "      <td>Lotus Europa</td>\n",
       "      <td>30.4</td>\n",
       "      <td>4</td>\n",
       "      <td>95.1</td>\n",
       "      <td>113</td>\n",
       "      <td>3.77</td>\n",
       "      <td>1.513</td>\n",
       "      <td>16.90</td>\n",
       "      <td>1</td>\n",
       "      <td>1</td>\n",
       "      <td>5</td>\n",
       "      <td>2</td>\n",
       "    </tr>\n",
       "  </tbody>\n",
       "</table>\n",
       "</div>"
      ],
      "text/plain": [
       "                                    name   mpg  cyl   disp   hp  drat     wt  \\\n",
       "name                                                                           \n",
       "Lincoln Continental  Lincoln Continental  10.4    8  460.0  215  3.00  5.424   \n",
       "Lotus Europa                Lotus Europa  30.4    4   95.1  113  3.77  1.513   \n",
       "\n",
       "                      qsec  vs  am  gear  carb  \n",
       "name                                            \n",
       "Lincoln Continental  17.82   0   0     3     4  \n",
       "Lotus Europa         16.90   1   1     5     2  "
      ]
     },
     "execution_count": 54,
     "metadata": {},
     "output_type": "execute_result"
    }
   ],
   "source": [
    "mtcars.loc[[a.idxmax(),a.idxmin()]]"
   ]
  },
  {
   "cell_type": "markdown",
   "metadata": {},
   "source": [
    "### Question 4\n",
    "\n",
    "Find the mean of each row and each column in the given dataset.\n",
    "\n",
    "**Hint:** Use .mean() function. To operate on rows use **axis=0**, on columns use **axis=1**"
   ]
  },
  {
   "cell_type": "code",
   "execution_count": 59,
   "metadata": {},
   "outputs": [
    {
     "data": {
      "text/plain": [
       "name\n",
       "Mazda RX4              29.907273\n",
       "Mazda RX4 Wag          29.981364\n",
       "Datsun 710             23.598182\n",
       "Hornet 4 Drive         38.739545\n",
       "Hornet Sportabout      53.664545\n",
       "Valiant                35.049091\n",
       "Duster 360             59.720000\n",
       "Merc 240D              24.634545\n",
       "Merc 230               27.233636\n",
       "Merc 280               31.860000\n",
       "Merc 280C              31.787273\n",
       "Merc 450SE             46.430909\n",
       "Merc 450SL             46.500000\n",
       "Merc 450SLC            46.350000\n",
       "Cadillac Fleetwood     66.232727\n",
       "Lincoln Continental    66.058545\n",
       "Chrysler Imperial      65.972273\n",
       "Fiat 128               19.440909\n",
       "Honda Civic            17.742273\n",
       "Toyota Corolla         18.814091\n",
       "Toyota Corona          24.888636\n",
       "Dodge Challenger       47.240909\n",
       "AMC Javelin            46.007727\n",
       "Camaro Z28             58.752727\n",
       "Pontiac Firebird       57.379545\n",
       "Fiat X1-9              18.928636\n",
       "Porsche 914-2          24.779091\n",
       "Lotus Europa           24.880273\n",
       "Ford Pantera L         60.971818\n",
       "Ferrari Dino           34.508182\n",
       "Maserati Bora          63.155455\n",
       "Volvo 142E             26.262727\n",
       "dtype: float64"
      ]
     },
     "execution_count": 59,
     "metadata": {},
     "output_type": "execute_result"
    }
   ],
   "source": [
    "mtcars.mean(axis=0)\n",
    "mtcars.mean(axis=1)"
   ]
  },
  {
   "cell_type": "markdown",
   "metadata": {},
   "source": [
    "### Question 5\n",
    "\n",
    "Plot mpg values of mtcards dataframe using matplotlib.\n",
    "\n",
    "**Hint: Use plt.plot function**"
   ]
  },
  {
   "cell_type": "code",
   "execution_count": 68,
   "metadata": {},
   "outputs": [
    {
     "ename": "AttributeError",
     "evalue": "'list' object has no attribute 'set_xticklabels'",
     "output_type": "error",
     "traceback": [
      "\u001b[1;31m---------------------------------------------------------------------------\u001b[0m",
      "\u001b[1;31mAttributeError\u001b[0m                            Traceback (most recent call last)",
      "\u001b[1;32m<ipython-input-68-cb8fab181013>\u001b[0m in \u001b[0;36m<module>\u001b[1;34m()\u001b[0m\n\u001b[0;32m      1\u001b[0m \u001b[0mplot\u001b[0m\u001b[1;33m=\u001b[0m\u001b[0mplt\u001b[0m\u001b[1;33m.\u001b[0m\u001b[0mplot\u001b[0m\u001b[1;33m(\u001b[0m\u001b[0mmtcars\u001b[0m\u001b[1;33m[\u001b[0m\u001b[1;34m\"mpg\"\u001b[0m\u001b[1;33m]\u001b[0m\u001b[1;33m)\u001b[0m\u001b[1;33m\u001b[0m\u001b[0m\n\u001b[1;32m----> 2\u001b[1;33m \u001b[0mplot\u001b[0m\u001b[1;33m.\u001b[0m\u001b[0mset_xticklabels\u001b[0m\u001b[1;33m(\u001b[0m\u001b[0mplot\u001b[0m\u001b[1;33m.\u001b[0m\u001b[0mget_xticklabels\u001b[0m\u001b[1;33m(\u001b[0m\u001b[1;33m)\u001b[0m\u001b[1;33m,\u001b[0m \u001b[0mrotation\u001b[0m\u001b[1;33m=\u001b[0m\u001b[1;36m40\u001b[0m\u001b[1;33m)\u001b[0m\u001b[1;33m;\u001b[0m\u001b[1;33m\u001b[0m\u001b[0m\n\u001b[0m",
      "\u001b[1;31mAttributeError\u001b[0m: 'list' object has no attribute 'set_xticklabels'"
     ]
    },
    {
     "data": {
      "image/png": "[encoded data removed]",
      "text/plain": [
       "<Figure size 432x288 with 1 Axes>"
      ]
     },
     "metadata": {
      "needs_background": "light"
     },
     "output_type": "display_data"
    }
   ],
   "source": [
    "plot=plt.plot(mtcars[\"mpg\"])\n",
    "plot.set_xticklabels(plot.get_xticklabels(), rotation=40);"
   ]
  },
  {
   "cell_type": "markdown",
   "metadata": {},
   "source": [
    "## Part 2"
   ]
  },
  {
   "cell_type": "markdown",
   "metadata": {},
   "source": [
    "## Measures of Dispersion"
   ]
  },
  {
   "cell_type": "markdown",
   "metadata": {},
   "source": [
    "Measures of Dispersion (Spread) are statistics that describe how data varies. Measure of dispersion gives us the sense of how much the data tends to diverge from the central tendency."
   ]
  },
  {
   "cell_type": "markdown",
   "metadata": {},
   "source": [
    "### Question 6\n",
    "\n",
    "What the range of `mpg` in the given dataset?\n",
    "\n",
    "**Hint:** Range = max-min"
   ]
  },
  {
   "cell_type": "code",
   "execution_count": 70,
   "metadata": {},
   "outputs": [
    {
     "data": {
      "text/plain": [
       "23.5"
      ]
     },
     "execution_count": 70,
     "metadata": {},
     "output_type": "execute_result"
    }
   ],
   "source": [
    "mtcars[\"mpg\"].max()-mtcars[\"mpg\"].min()"
   ]
  },
  {
   "cell_type": "markdown",
   "metadata": {},
   "source": [
    "### Question 7\n",
    "\n",
    "Calculate the 25th quantile (lower quantile)for `mpg` in the given dataset.\n",
    "\n",
    "**Hint:** Use **.quantile()**"
   ]
  },
  {
   "cell_type": "code",
   "execution_count": 73,
   "metadata": {},
   "outputs": [
    {
     "data": {
      "text/plain": [
       "15.425"
      ]
     },
     "execution_count": 73,
     "metadata": {},
     "output_type": "execute_result"
    }
   ],
   "source": [
    "mtcars[\"mpg\"].quantile(q=0.25)"
   ]
  },
  {
   "cell_type": "markdown",
   "metadata": {},
   "source": [
    "### Question 8\n",
    "\n",
    "Calculate the Inter-Quartile Range(IQR) for `mpg` in the given dataset."
   ]
  },
  {
   "cell_type": "markdown",
   "metadata": {},
   "source": [
    "Interquartile range (IQR) is another common measure of spread. IQR is the distance between the 3rd quartile and the 1st quartile.\n",
    "\n",
    "**Hint:** IQR = Q3 - Q1"
   ]
  },
  {
   "cell_type": "code",
   "execution_count": 74,
   "metadata": {},
   "outputs": [
    {
     "data": {
      "text/plain": [
       "7.375"
      ]
     },
     "execution_count": 74,
     "metadata": {},
     "output_type": "execute_result"
    }
   ],
   "source": [
    "mtcars[\"mpg\"].quantile(q=0.75)-mtcars[\"mpg\"].quantile(q=0.25)"
   ]
  },
  {
   "cell_type": "markdown",
   "metadata": {},
   "source": [
    "### Question 9\n",
    "\n",
    "Calculate the Variance, Standard Deviation and Median Absolute Deviation for `mpg`."
   ]
  },
  {
   "cell_type": "markdown",
   "metadata": {},
   "source": [
    "Variance and Standard Deviation are two other common measure of dispersion.\n",
    "\n",
    "**Hint:** Use .var() and .std()"
   ]
  },
  {
   "cell_type": "markdown",
   "metadata": {},
   "source": [
    "**Hint:** Median Absolute Deviation - alternative measure of spread based on the median. It is the median of the absolute value of the deviations from the median. "
   ]
  },
  {
   "cell_type": "code",
   "execution_count": 85,
   "metadata": {},
   "outputs": [
    {
     "data": {
      "text/plain": [
       "36.32410282258065"
      ]
     },
     "execution_count": 85,
     "metadata": {},
     "output_type": "execute_result"
    }
   ],
   "source": [
    "mtcars[\"mpg\"].var()"
   ]
  },
  {
   "cell_type": "code",
   "execution_count": 86,
   "metadata": {},
   "outputs": [
    {
     "data": {
      "text/plain": [
       "6.026948052089105"
      ]
     },
     "execution_count": 86,
     "metadata": {},
     "output_type": "execute_result"
    }
   ],
   "source": [
    "mtcars[\"mpg\"].std()"
   ]
  },
  {
   "cell_type": "code",
   "execution_count": 90,
   "metadata": {},
   "outputs": [
    {
     "data": {
      "text/plain": [
       "4.714453125"
      ]
     },
     "execution_count": 90,
     "metadata": {},
     "output_type": "execute_result"
    }
   ],
   "source": [
    "mtcars[\"mpg\"].mad()"
   ]
  },
  {
   "cell_type": "markdown",
   "metadata": {},
   "source": [
    "## Part 3"
   ]
  },
  {
   "cell_type": "markdown",
   "metadata": {},
   "source": [
    "## Probability Distributions"
   ]
  },
  {
   "cell_type": "markdown",
   "metadata": {},
   "source": [
    "The probability distribution describes how a random variable is distributed. It tells us which values a variable is most likely to take on and which values are less likely to take on. "
   ]
  },
  {
   "cell_type": "markdown",
   "metadata": {},
   "source": [
    "Each value in the given range is equally likely to occur. "
   ]
  },
  {
   "cell_type": "code",
   "execution_count": 29,
   "metadata": {},
   "outputs": [],
   "source": [
    "import scipy.stats as stats # Many functions for probability distributions in python are in scipy.stats"
   ]
  },
  {
   "cell_type": "markdown",
   "metadata": {},
   "source": [
    "### Question 10\n",
    "\n",
    "Generate 1000 datapoints with standard normal distribution with mean 0 and standard deviation 1. "
   ]
  },
  {
   "cell_type": "markdown",
   "metadata": {},
   "source": [
    "#### Normal Distribution"
   ]
  },
  {
   "cell_type": "markdown",
   "metadata": {},
   "source": [
    "The normal or Gaussian Distribution is a continuos probability distribution given by a symmetric bell shaped curve. It is defined its center(mean) and spread(std)."
   ]
  },
  {
   "cell_type": "markdown",
   "metadata": {},
   "source": [
    "The bulk of the observations generated from a normal distribution lie near the mean which lies at the center. About 68% of the data lies within 1 std, 95% lies within 2 stds and 99.7% lies within 3 stds.\n",
    "\n",
    "**Hint:** You can use **np.random.normal()** function to generate normal distribution"
   ]
  },
  {
   "cell_type": "code",
   "execution_count": 78,
   "metadata": {},
   "outputs": [
    {
     "data": {
      "text/plain": [
       "array([-1.84233280e+00,  2.13064421e+00, -4.09963514e-01,  7.04188515e-01,\n",
       "       -2.42507635e-01,  3.47161163e-01, -2.39900268e+00,  9.91473283e-01,\n",
       "        4.31199741e-01, -3.93819467e-01,  3.37372675e-01,  1.47395413e-01,\n",
       "        3.53455301e-01, -5.67359441e-01,  1.76871154e+00, -7.71310229e-01,\n",
       "       -4.60537671e-01, -9.22897346e-01,  1.69722318e+00,  4.19538453e-01,\n",
       "       -6.88909797e-01,  1.55657732e+00, -1.36791971e+00, -1.01664005e+00,\n",
       "        1.40572389e+00, -4.88653346e-01,  8.06415219e-01,  8.90507746e-03,\n",
       "       -1.00916252e+00, -1.29375017e-01,  3.96951946e-01,  1.85635477e-01,\n",
       "       -9.45237156e-01, -1.54433411e+00,  8.02675740e-01,  6.36889050e-01,\n",
       "        1.01885665e+00,  1.80720192e-01,  3.51570979e-01, -1.18560375e-01,\n",
       "       -1.36703988e-01, -2.85792716e-01, -4.78140902e-01,  1.01664188e+00,\n",
       "        5.68244283e-01,  6.86748436e-01, -7.29528616e-01,  4.23374436e-01,\n",
       "        2.86905511e-01, -3.73399503e-01,  7.25106861e-01,  9.50722381e-02,\n",
       "       -1.84999790e+00, -8.95561398e-03,  1.43227240e+00,  2.85234813e-02,\n",
       "        3.26549608e-01, -2.21798176e-01,  8.53379933e-02,  9.04161541e-01,\n",
       "       -1.22870021e+00,  8.46865168e-01, -1.36017350e+00,  4.32544007e-02,\n",
       "       -9.77263250e-01, -3.14854046e-01,  1.08253481e+00, -3.81973074e-01,\n",
       "        4.32185229e-01, -7.52470119e-01, -2.03182482e-01,  8.53619637e-01,\n",
       "        9.38552697e-01, -5.85107558e-02,  5.40941090e-01, -1.43079418e+00,\n",
       "       -1.01823043e+00,  8.99058008e-01, -1.79451977e+00, -2.58663890e-01,\n",
       "        1.18082414e-01,  2.16104842e-01,  6.95653570e-01, -1.07197830e+00,\n",
       "       -2.40418525e+00, -5.31306943e-01, -7.48653563e-01,  9.30731475e-01,\n",
       "        1.02204157e+00, -8.01498468e-01, -7.62769974e-01, -3.76066022e-01,\n",
       "       -1.05183382e+00, -5.35074319e-01, -2.34253367e+00, -9.99800781e-01,\n",
       "        5.14556571e-01, -3.54437690e-01,  1.89087468e+00,  1.50013746e+00,\n",
       "        1.35865382e+00, -5.86323311e-01,  9.45268222e-02, -3.31804422e-01,\n",
       "       -1.66447619e-01,  5.08077097e-01, -3.96304890e-01,  1.46474233e+00,\n",
       "       -5.02285994e-01, -1.68529011e-01, -7.17566126e-02, -3.77304796e-01,\n",
       "        4.30747447e-01, -5.04266655e-01,  4.90768219e-01, -1.69847623e+00,\n",
       "       -3.81620213e-01, -2.29253013e-01, -4.17791457e-01, -1.81076796e-01,\n",
       "       -1.54972155e+00,  1.10061223e-01,  1.08342863e+00, -8.61226585e-01,\n",
       "        1.58443863e+00, -1.02617264e-01,  1.06301766e+00, -5.88401885e-01,\n",
       "        6.04230485e-01, -8.33775997e-01,  6.11040566e-01,  1.68832569e+00,\n",
       "       -2.28273678e+00, -1.65406891e+00, -9.31000704e-01, -1.50898007e-01,\n",
       "       -8.61703225e-01,  1.13664555e+00,  6.69458190e-01, -6.37436672e-02,\n",
       "       -3.83747368e-01, -9.44063665e-01, -6.47296257e-01, -6.37033775e-01,\n",
       "       -2.74797451e-01,  1.32166175e-01, -1.83848440e+00,  9.53610995e-01,\n",
       "       -9.77750429e-01, -1.81822650e+00, -1.10864043e+00, -2.41185314e-01,\n",
       "        4.27351088e-01,  1.71009751e+00, -8.93288074e-01, -4.14555708e-01,\n",
       "        7.08748420e-01, -7.95984024e-01, -1.52557280e+00,  1.88764776e+00,\n",
       "       -1.38272287e+00, -4.71100879e-01, -2.76335052e-01, -4.51792749e-01,\n",
       "        1.54325152e+00, -2.16311817e-01,  3.82369969e-01, -1.22453111e+00,\n",
       "       -6.56665668e-01,  1.08773145e-01,  6.89273484e-01,  1.00904583e+00,\n",
       "        4.39676824e-01,  4.15964251e-01,  1.00987148e+00,  3.85413925e-01,\n",
       "       -3.87072406e-01, -2.02790100e+00,  1.84548995e+00,  6.11566206e-01,\n",
       "       -7.71499568e-01,  8.97856442e-01, -5.34685964e-01, -8.80945551e-01,\n",
       "       -9.01357283e-02, -4.09507527e-01,  1.13186128e-01, -9.22856369e-01,\n",
       "       -1.15146806e+00, -8.24350337e-01, -7.11194454e-01, -1.09878280e-01,\n",
       "       -6.38413595e-01,  5.34596138e-01,  3.32469234e-01,  2.83185492e-01,\n",
       "       -9.74793973e-01, -2.38907338e-02, -5.18933369e-01, -1.98503162e+00,\n",
       "        3.20882598e-01,  1.53451808e+00, -8.95470957e-01, -2.25600149e-01,\n",
       "        8.78396595e-01,  3.04414527e-02,  1.48313469e+00,  2.71673261e+00,\n",
       "        2.49243698e-01, -5.91975173e-01,  3.54445395e-01,  9.06633884e-01,\n",
       "        2.04818043e+00, -3.82618308e-02, -3.09544358e-01,  8.42116219e-01,\n",
       "        3.88531725e-01, -7.68919299e-01,  2.84230595e-01,  2.16913103e+00,\n",
       "       -1.44615334e+00,  1.43095382e-02,  8.19782500e-01, -1.28700731e+00,\n",
       "        4.52395049e-01,  3.07176985e-01, -3.33397465e-01, -4.46375538e-02,\n",
       "        1.01965759e+00, -1.39154523e+00,  1.57398344e-01, -7.85947805e-01,\n",
       "       -1.04692702e+00, -4.52153034e-01, -5.25007396e-01, -6.24933849e-02,\n",
       "        9.79635344e-01,  1.26091099e-01, -5.84126582e-01, -2.85656343e-01,\n",
       "       -1.37805799e+00,  5.41339615e-01,  5.49156135e-01,  5.21473936e-01,\n",
       "        5.46573427e-01,  4.22610908e-01, -7.31228359e-01, -1.66037040e+00,\n",
       "        2.64177353e-01, -1.60111816e+00,  7.75571990e-01,  9.44829656e-01,\n",
       "        6.00134894e-01, -1.02678825e+00, -1.65142484e-02,  3.43266521e-01,\n",
       "       -1.23349464e-01, -1.41866523e+00, -1.09571975e+00,  6.30838060e-01,\n",
       "        4.51010283e-02,  2.18697024e+00, -9.71485256e-01, -1.06345666e+00,\n",
       "        1.17341471e+00,  1.81934189e-01,  3.47231902e-01,  4.15009321e-01,\n",
       "       -1.99959430e-01, -1.17718384e+00, -5.09122356e-01, -9.65464226e-02,\n",
       "        4.36353453e-01, -5.66195806e-01, -2.59997829e-01, -1.32592294e+00,\n",
       "        1.30281336e+00,  1.09215456e+00, -7.99514281e-01, -8.86602137e-03,\n",
       "       -8.38848816e-01, -1.18684470e+00,  6.41592719e-01,  2.09992012e-01,\n",
       "        4.56900115e-01, -1.23331015e+00,  1.29546495e+00, -5.64795102e-01,\n",
       "        3.28231514e+00,  1.21448760e-01,  1.23796250e-01, -5.46937819e-01,\n",
       "       -2.82609245e-01, -5.15195488e-01,  8.45008977e-01,  9.70438604e-01,\n",
       "       -1.13113116e-01,  8.10240946e-01,  6.32089692e-01,  1.26464493e+00,\n",
       "        2.13973519e-01,  8.43580013e-01,  2.59875293e-01,  8.92505791e-01,\n",
       "       -1.39430942e+00, -7.54302496e-01,  1.60004796e+00, -4.18947434e-01,\n",
       "        9.18378855e-02, -1.17549032e-01, -6.62076759e-01,  1.39294524e+00,\n",
       "       -3.28782542e-01,  1.42446977e+00,  1.42914308e+00,  8.32377002e-01,\n",
       "       -8.56352539e-02, -8.18108870e-01, -3.43705077e-01,  2.53454522e-01,\n",
       "        1.05753502e-01, -6.74406457e-01, -2.41549195e-01,  1.33559731e+00,\n",
       "       -8.07841311e-01, -1.02617751e+00, -1.23722051e+00, -3.66990426e-01,\n",
       "        1.91459790e-01,  1.06009615e+00, -1.03369249e+00,  2.36703023e+00,\n",
       "        2.05278299e+00,  5.81126168e-01,  2.80996402e+00, -8.34177267e-01,\n",
       "        3.60503866e-01, -6.40038415e-01,  7.42596756e-01, -8.92772101e-01,\n",
       "       -1.38794984e+00, -9.81935705e-01, -1.32089760e+00,  7.41532150e-01,\n",
       "       -7.70322767e-01, -4.16996688e-01,  6.87875814e-01,  1.13723183e+00,\n",
       "       -2.43002232e-02, -6.51191672e-01,  8.36951057e-01,  8.35425065e-02,\n",
       "       -4.47754271e-01, -1.32386171e+00,  1.32246627e-01,  1.08521166e+00,\n",
       "       -4.19313017e-01, -1.33445112e+00,  1.34028675e+00, -2.10683710e+00,\n",
       "        1.67648889e+00,  1.33065798e+00, -1.98705986e+00, -1.20974132e+00,\n",
       "       -2.97946830e-02, -6.75992304e-01,  1.59838287e+00, -2.02134115e+00,\n",
       "        8.38173845e-01,  8.69787208e-01,  4.94976561e-01,  6.98441438e-01,\n",
       "        1.52132470e+00, -8.46179942e-01,  1.39665835e+00,  8.36620628e-01,\n",
       "        6.01813540e-02,  5.32762386e-01, -1.10846966e+00,  1.71558065e+00,\n",
       "       -7.22367555e-01, -2.32577800e-01,  6.25496899e-01, -7.02021745e-01,\n",
       "       -1.11747397e+00, -4.25680148e-01, -6.57716641e-02, -2.94620186e-01,\n",
       "        1.27683213e-01,  3.49196649e-01,  5.78703109e-01,  9.09331418e-01,\n",
       "        1.70751952e+00, -1.37541342e+00, -8.49745939e-01, -8.99086366e-01,\n",
       "        9.84260536e-01,  1.32017533e-01, -8.77498034e-01, -1.38033953e+00,\n",
       "       -4.81764915e-01, -3.01670936e-03, -8.63260706e-01,  9.39468723e-01,\n",
       "        6.84052771e-01, -5.21121291e-01, -9.92824032e-01,  1.12988312e+00,\n",
       "       -8.95855201e-01,  8.65695993e-01,  1.01898355e+00,  3.71380613e-01,\n",
       "       -1.37885852e+00, -1.89395133e+00,  6.98303422e-01,  6.79089552e-01,\n",
       "        6.77691917e-02,  2.29247272e-01, -1.82058413e-01,  3.03405947e-01,\n",
       "       -5.81454600e-01, -3.37297774e-01,  5.99275808e-01, -3.73754887e-01,\n",
       "        2.70491477e-01, -3.55750073e-01,  7.31269949e-02,  5.63383732e-01,\n",
       "       -5.89259234e-01,  5.94988156e-02, -5.34454872e-01, -7.08056150e-01,\n",
       "        8.57699156e-01, -1.29318338e+00, -8.24198718e-01,  1.63084256e+00,\n",
       "       -6.60197106e-01, -2.45658845e-01, -1.06529298e+00,  8.32814374e-01,\n",
       "        3.49840778e-01, -1.22766506e+00, -5.89282204e-01,  1.28118049e-01,\n",
       "       -7.27610671e-01, -2.94021996e-01,  4.59561159e-01, -2.60862785e-01,\n",
       "        1.69747022e+00,  1.74928216e+00,  2.03669265e+00,  1.31075594e+00,\n",
       "        8.97539806e-02,  6.74440514e-01, -6.77721409e-02, -8.32739600e-01,\n",
       "        8.69139257e-01, -1.88103965e+00, -2.14635475e-01,  1.64838334e+00,\n",
       "        1.48336144e+00,  3.48706617e-03, -1.05197077e+00,  2.87465992e-01,\n",
       "        1.05663448e+00, -7.38125774e-02, -1.12979983e+00,  1.10224310e+00,\n",
       "        5.80532971e-01, -3.71120415e-01, -2.09060326e+00,  4.21980364e-02,\n",
       "       -1.96661252e-01,  6.25693175e-01, -3.32716337e-01,  1.51026778e-02,\n",
       "       -8.60204416e-01,  1.93337409e-01,  1.08241279e-01, -2.34085267e+00,\n",
       "       -7.19320638e-01, -1.35441056e+00,  3.02621109e-01,  1.65232447e-01,\n",
       "        3.30795909e-01,  8.19041982e-01, -1.50785317e+00,  1.29286889e+00,\n",
       "        1.13495861e+00, -6.87843723e-01,  1.01734285e+00, -1.34251993e+00,\n",
       "       -3.12975336e-02, -1.30723005e+00, -5.59970980e-01, -8.07482581e-01,\n",
       "        1.46790640e+00, -3.89718199e-01,  3.10313706e-01, -6.75145231e-01,\n",
       "        1.73165950e+00,  1.16144699e+00,  2.18811914e-01, -6.14728367e-01,\n",
       "        6.01468302e-01,  1.56150792e+00,  2.33777452e+00,  7.62867822e-01,\n",
       "       -2.70867813e-01, -1.28349003e-01, -1.12249012e+00, -8.57494763e-01,\n",
       "       -2.16177027e+00,  1.77533381e+00,  1.55215053e-02, -1.89921497e-01,\n",
       "        2.61509047e+00, -1.58872350e-02, -1.89410469e+00,  3.02267221e-01,\n",
       "        1.28707315e+00,  1.77270923e-01, -4.02952567e-01,  6.34261114e-02,\n",
       "       -2.52060057e-02,  4.04863590e-01, -1.74425996e+00,  9.82012450e-01,\n",
       "       -8.20946213e-01, -2.41907269e-02,  3.85517260e-02,  8.54920156e-01,\n",
       "       -2.55296225e-01, -8.22131630e-01, -9.83073692e-01, -1.67709151e+00,\n",
       "        7.62656994e-01,  6.84776168e-01,  4.03584704e-01, -2.09368438e-01,\n",
       "       -4.50925997e-01,  1.76801259e+00, -9.01608534e-01,  1.17831568e+00,\n",
       "        1.39454430e-01,  4.24414755e-02,  2.25244723e-01, -8.24140338e-02,\n",
       "        1.16334089e+00, -1.87478457e-01,  1.33271580e-01,  7.58575754e-01,\n",
       "        1.10352783e-01, -1.15440130e+00, -5.59793490e-01, -1.54922621e-01,\n",
       "        1.53878630e+00,  1.59058515e-02,  2.15586978e-01, -8.58082943e-01,\n",
       "        1.63988553e-01, -7.85013317e-01, -4.86588363e-01,  1.42499638e+00,\n",
       "        1.93059202e-01, -2.45428668e+00,  2.76789469e-01,  5.52157075e-01,\n",
       "       -2.86222927e-01, -6.04870990e-02,  7.80195500e-01,  2.24944857e-01,\n",
       "        3.79902014e-01,  3.14660054e-01, -5.36873485e-01,  2.52895794e-01,\n",
       "       -8.44640926e-01, -2.01663576e+00, -2.72260926e-01,  7.79682402e-01,\n",
       "       -2.29420728e-01, -1.41575904e-02, -5.45390060e-01,  5.40851946e-01,\n",
       "       -2.41549053e+00,  5.06523978e-01, -4.41386090e-01, -2.53412233e-01,\n",
       "       -2.04972112e-01,  2.24199390e+00, -7.81608290e-01,  1.40822610e-01,\n",
       "        3.80159418e-01, -1.26528290e+00,  1.20754477e+00,  7.07904957e-01,\n",
       "        7.04040490e-01, -1.30518589e+00, -5.76944826e-01, -2.59280973e-01,\n",
       "       -1.59074890e+00, -1.07045016e+00,  3.44009254e-01,  4.17780581e-02,\n",
       "       -2.77291010e-01, -6.73062139e-01,  3.78009714e-01, -1.24662680e+00,\n",
       "       -1.75703839e-01,  7.14337070e-01,  1.87923664e+00,  1.38568640e+00,\n",
       "       -2.67014224e+00,  5.62361544e-01,  1.52988228e-02, -4.72486797e-01,\n",
       "       -2.00544702e-01,  3.07251810e-01, -1.07129148e+00, -9.40065110e-01,\n",
       "        1.35641557e+00, -7.80293016e-01, -2.24631942e+00, -2.97435466e-01,\n",
       "        1.92550355e+00, -3.40199005e-01, -2.17525795e-01,  1.60552901e+00,\n",
       "       -1.16177188e+00,  1.41788633e+00,  1.30526340e+00,  9.56657981e-02,\n",
       "       -2.22106221e+00, -4.93993341e-01,  1.68057868e+00,  1.62998234e+00,\n",
       "        1.00234384e+00,  1.51765179e-01,  7.34131563e-02,  7.85873501e-01,\n",
       "       -8.04716653e-01, -1.38327638e+00, -1.60381880e+00,  6.92014628e-01,\n",
       "        8.63736856e-01, -1.58407463e+00, -7.22659834e-01,  8.73894948e-01,\n",
       "       -1.73838500e-01,  1.50010922e+00,  3.57511949e-01, -2.87495093e-01,\n",
       "        2.63266559e+00,  1.30364880e+00, -4.81875924e-01, -2.11080366e-01,\n",
       "        6.68234488e-01, -5.25425760e-01,  2.48931570e-01, -9.56772952e-01,\n",
       "        9.48309081e-01, -1.12330474e+00,  5.58989234e-01,  6.06938352e-01,\n",
       "        1.10380367e+00,  3.65419242e-01, -1.59577831e+00,  9.54604441e-01,\n",
       "        1.49661675e+00,  5.94572188e-01, -1.33002371e+00,  6.91373128e-01,\n",
       "       -4.41002939e-01,  6.18649205e-01, -2.00041801e+00, -1.04251668e+00,\n",
       "        3.07832890e-01,  7.75527506e-01,  4.24028678e-01, -7.79198596e-01,\n",
       "       -2.34477802e-01,  9.67086801e-02, -1.52824320e+00,  4.50911214e-02,\n",
       "       -1.04179160e+00, -2.44628921e-01, -6.27102039e-01,  8.44974530e-01,\n",
       "        7.72800699e-01, -8.57027975e-01, -5.67287445e-01,  6.32933882e-01,\n",
       "       -1.92444011e-01,  9.20335750e-01, -1.66386109e+00, -1.97423228e+00,\n",
       "        5.95300369e-01, -1.78099565e+00, -3.12978209e-01,  5.02312774e-02,\n",
       "        1.33011691e+00,  1.32482055e+00,  1.57697922e-01,  1.26321865e+00,\n",
       "        4.77091654e-01,  6.45247274e-01, -1.21313625e+00, -7.84656293e-01,\n",
       "        9.43150808e-01,  6.54628416e-01,  1.38850322e-01,  4.06123847e-01,\n",
       "       -8.46981117e-01,  2.30055627e+00, -2.17513054e-01,  8.73535056e-01,\n",
       "       -1.26541702e-01,  1.95785760e+00,  1.43415522e+00, -7.71032543e-01,\n",
       "        8.27035136e-01, -1.52656331e-01,  4.83762696e-01,  6.52939254e-02,\n",
       "        2.97275511e-01,  1.14665071e+00, -1.96434925e+00,  2.61302705e-01,\n",
       "        8.04684628e-01, -1.44879975e+00, -5.18505568e-01, -1.61517642e-01,\n",
       "        9.60502399e-01, -2.23184793e-01,  4.43196757e-01,  8.87159704e-02,\n",
       "       -1.93898237e-01,  3.83525523e-01, -1.37873697e+00, -4.79296229e-01,\n",
       "        1.66307088e+00, -1.59201625e+00, -6.62266748e-01, -1.94101977e-01,\n",
       "        1.69477214e+00,  2.70937853e-01, -9.81857041e-01,  2.65914580e-01,\n",
       "       -7.04242477e-01, -1.10654216e+00,  1.76556146e+00, -5.54768998e-01,\n",
       "        3.60913699e-01,  9.45754575e-01,  1.34119381e+00, -8.55791503e-01,\n",
       "        4.83313192e-01, -1.03374452e-01,  1.39743512e+00,  2.09623377e-01,\n",
       "       -3.98470095e-01,  2.72456829e-01,  2.39208696e-02, -1.11073769e-03,\n",
       "        5.47183171e-01, -7.57463113e-02,  3.21592091e+00,  1.42222054e+00,\n",
       "       -2.19194668e+00,  2.58150571e-01, -4.39635733e-01,  5.38881784e-01,\n",
       "       -4.23286923e-02,  6.56118481e-01,  5.45683627e-01, -1.61290297e+00,\n",
       "       -1.20928049e+00,  1.57712696e+00,  1.26651483e+00,  1.21897470e+00,\n",
       "        1.47790240e+00,  4.81871267e-01, -9.78017262e-01,  1.39747821e+00,\n",
       "       -3.01207574e-01,  4.26619222e-01, -6.96841255e-01, -6.05872079e-01,\n",
       "        2.94769917e+00, -6.50603100e-01, -2.97450555e-01,  3.55070738e-01,\n",
       "        1.25001450e+00,  1.64873397e+00,  5.34177683e-01, -4.71797355e-01,\n",
       "        1.95542905e+00, -1.16390854e+00, -1.62807940e+00, -1.17365446e+00,\n",
       "       -1.95449687e+00, -3.79025967e-01, -1.33142538e+00,  1.52749169e+00,\n",
       "        1.54048230e+00, -5.15732380e-01, -1.83015501e+00, -1.48524802e-01,\n",
       "       -4.24353318e-01,  2.35590493e+00, -1.58577530e+00,  6.58403066e-01,\n",
       "        1.26281000e+00,  6.15790876e-01, -1.22509861e+00, -1.51548484e+00,\n",
       "        1.50460631e+00, -1.87362584e-01, -9.01327364e-01,  4.07270104e-01,\n",
       "        1.95593229e+00,  7.86447373e-01,  1.60780484e+00,  5.11729755e-01,\n",
       "       -1.85691802e+00, -9.66254857e-01,  1.07657661e+00,  1.70694362e+00,\n",
       "       -2.00643641e+00, -6.98435390e-01, -1.23325575e+00, -2.03237822e+00,\n",
       "        2.42810204e+00,  6.21583424e-01, -2.51449609e-01,  8.09830012e-01,\n",
       "       -9.56996995e-01,  1.15141504e+00, -1.41125129e-01, -2.30856136e-01,\n",
       "       -5.15839111e-01, -5.87742348e-01, -7.35871083e-01,  6.81780664e-01,\n",
       "        1.18756980e+00, -6.67276707e-01,  1.14159980e+00,  8.03869614e-01,\n",
       "       -4.88591340e-01, -3.08871346e-02,  3.43240652e-01,  7.96530165e-01,\n",
       "       -1.14816751e+00, -5.93796702e-01, -6.97748017e-01, -1.00413901e+00,\n",
       "       -1.86882904e+00, -1.96395919e+00, -8.64080417e-01,  2.21918094e-01,\n",
       "       -1.37125581e-02, -3.51012002e-01,  2.79684759e-01,  7.59311583e-01,\n",
       "        3.60107202e-01, -4.39063794e-01,  1.01019229e+00, -7.36675531e-01,\n",
       "       -1.25091428e+00,  4.06690176e-01, -1.20634845e+00,  2.40461144e-01,\n",
       "       -5.04382272e-02, -3.86823647e-01, -1.16360877e+00,  5.01240147e-01,\n",
       "        1.63581408e+00,  8.76839390e-01,  2.11554437e+00, -3.98659764e-01,\n",
       "        1.65606029e+00, -1.23617409e-01,  2.67883808e-01,  1.05990211e+00,\n",
       "       -4.78031662e-01,  9.50668954e-01, -4.59002347e-02, -3.40358270e-01,\n",
       "       -5.70597633e-01,  3.76245315e-01, -9.38887390e-02,  1.25743861e-01,\n",
       "        1.30692445e+00,  4.66195334e-01, -9.94588138e-01,  9.55605765e-02,\n",
       "        6.28037851e-01,  8.27934127e-02, -1.45109152e+00, -2.31433415e+00,\n",
       "        1.79630862e+00, -8.48036813e-01, -3.81670103e-01, -1.40219552e+00,\n",
       "       -2.10012379e+00,  3.23840418e-01, -2.47778068e+00, -5.75512495e-01,\n",
       "       -4.44233438e-01, -4.87971238e-01,  1.03327699e-01, -1.17427737e+00,\n",
       "       -1.32020756e+00, -1.00081476e+00, -3.39778544e-01, -7.63980709e-02,\n",
       "       -1.81858640e-01, -5.55698089e-01, -2.18717521e+00,  1.40433232e+00,\n",
       "        3.05094545e-01,  1.09930481e+00, -1.56005745e-01,  1.42510010e+00,\n",
       "       -4.54611892e-01,  1.19568554e+00, -2.06658979e-01,  1.35627450e+00,\n",
       "       -7.06911042e-01,  2.50221150e+00,  1.13984753e+00,  1.04445902e+00,\n",
       "       -8.58094572e-01,  6.89312594e-01, -2.13037379e+00, -1.48895085e-01,\n",
       "        2.24860332e-01, -1.62036397e+00,  6.96219566e-02,  4.64934379e-01,\n",
       "       -9.97892843e-02, -4.84217521e-02, -7.00923787e-02,  3.01365864e-01,\n",
       "        1.78131730e+00, -2.30943147e-01,  1.55124184e-04,  2.38576937e-02,\n",
       "        6.78608697e-01, -1.41882968e+00, -6.49841697e-01,  1.69571235e-01,\n",
       "        8.24703973e-01, -1.16940849e+00,  5.59725618e-01,  2.24806874e+00,\n",
       "       -5.45882956e-01, -1.11221044e-02, -1.60344733e+00, -1.53136507e+00,\n",
       "       -1.45743766e+00, -1.42017218e+00,  5.95172642e-02, -1.30812854e+00,\n",
       "        1.93272099e-01,  1.13605355e+00,  5.70740560e-01, -6.94429633e-03,\n",
       "       -1.38792983e+00, -2.09006408e-01,  1.76980074e+00,  8.87997058e-01,\n",
       "        1.88346095e+00, -4.45580529e-01,  1.37348141e-01,  6.89895449e-01,\n",
       "        1.17335356e+00,  7.84443975e-01, -2.15854939e+00, -5.80202955e-01,\n",
       "       -1.54553668e-01, -2.33210173e+00, -1.50950799e+00, -7.69113782e-01,\n",
       "       -1.79676937e-01,  8.47517705e-01,  4.95611463e-01, -5.19732596e-01,\n",
       "        1.34869822e+00, -9.24970830e-01,  2.05770984e-01, -1.06909663e-01,\n",
       "        8.46055386e-01, -4.64175431e-01,  3.70635013e-01,  3.72380958e-01,\n",
       "        6.83578840e-01,  1.35387667e+00, -4.33276777e-01, -8.74462428e-01])"
      ]
     },
     "execution_count": 78,
     "metadata": {},
     "output_type": "execute_result"
    }
   ],
   "source": [
    "np.random.normal(0,1,1000)"
   ]
  },
  {
   "cell_type": "markdown",
   "metadata": {},
   "source": [
    "## Question 11\n",
    "\n",
    "Generate binomial distribution data for fair coin flipping of size 100. Assume `0` for head and `1` for tail.\n",
    "\n",
    "[ **Hint:** For fair coin flip `p=0.5` ]"
   ]
  },
  {
   "cell_type": "markdown",
   "metadata": {},
   "source": [
    "#### Binomial Distribution"
   ]
  },
  {
   "cell_type": "markdown",
   "metadata": {},
   "source": [
    "It is defined by 2 parameters: the probability of success and the number of trails. It tells about how likely it is possible to get a given number of successes in n trails."
   ]
  },
  {
   "cell_type": "code",
   "execution_count": 97,
   "metadata": {},
   "outputs": [
    {
     "data": {
      "text/plain": [
       "array([0, 1, 0, 1, 0, 1, 0, 1, 1, 0, 0, 0, 1, 0, 0, 1, 0, 0, 1, 0, 0, 1,\n",
       "       0, 1, 1, 0, 0, 0, 1, 0, 1, 1, 1, 1, 1, 1, 1, 1, 1, 1, 1, 1, 1, 0,\n",
       "       0, 1, 1, 1, 0, 1, 0, 1, 1, 0, 0, 1, 1, 0, 1, 1, 0, 1, 0, 1, 0, 0,\n",
       "       1, 0, 0, 1, 0, 0, 0, 0, 1, 1, 0, 0, 0, 0, 0, 1, 0, 0, 0, 0, 0, 0,\n",
       "       1, 0, 1, 0, 0, 0, 0, 1, 1, 0, 1, 1])"
      ]
     },
     "execution_count": 97,
     "metadata": {},
     "output_type": "execute_result"
    }
   ],
   "source": [
    "np.random.binomial(1,0.5,100)"
   ]
  },
  {
   "cell_type": "markdown",
   "metadata": {},
   "source": [
    "#### Visualizing Poisson Distribution"
   ]
  },
  {
   "cell_type": "markdown",
   "metadata": {},
   "source": [
    "It models the probability of seeing certain number of successes within a time interval."
   ]
  },
  {
   "cell_type": "code",
   "execution_count": 83,
   "metadata": {},
   "outputs": [
    {
     "ename": "NameError",
     "evalue": "name 'stats' is not defined",
     "output_type": "error",
     "traceback": [
      "\u001b[1;31m---------------------------------------------------------------------------\u001b[0m",
      "\u001b[1;31mNameError\u001b[0m                                 Traceback (most recent call last)",
      "\u001b[1;32m<ipython-input-83-9c77971a0b7f>\u001b[0m in \u001b[0;36m<module>\u001b[1;34m()\u001b[0m\n\u001b[1;32m----> 1\u001b[1;33m \u001b[0mpoisson_data\u001b[0m \u001b[1;33m=\u001b[0m \u001b[0mstats\u001b[0m\u001b[1;33m.\u001b[0m\u001b[0mpoisson\u001b[0m\u001b[1;33m.\u001b[0m\u001b[0mrvs\u001b[0m\u001b[1;33m(\u001b[0m\u001b[0msize\u001b[0m\u001b[1;33m=\u001b[0m\u001b[1;36m100\u001b[0m\u001b[1;33m,\u001b[0m\u001b[0mmu\u001b[0m\u001b[1;33m=\u001b[0m\u001b[1;36m10\u001b[0m\u001b[1;33m)\u001b[0m\u001b[1;33m\u001b[0m\u001b[0m\n\u001b[0m\u001b[0;32m      2\u001b[0m \u001b[1;33m\u001b[0m\u001b[0m\n\u001b[0;32m      3\u001b[0m \u001b[0mpd\u001b[0m\u001b[1;33m.\u001b[0m\u001b[0mDataFrame\u001b[0m\u001b[1;33m(\u001b[0m\u001b[0mpoisson_data\u001b[0m\u001b[1;33m)\u001b[0m\u001b[1;33m.\u001b[0m\u001b[0mhist\u001b[0m\u001b[1;33m(\u001b[0m\u001b[1;33m)\u001b[0m\u001b[1;33m\u001b[0m\u001b[0m\n\u001b[0;32m      4\u001b[0m \u001b[1;33m\u001b[0m\u001b[0m\n\u001b[0;32m      5\u001b[0m \u001b[0mplt\u001b[0m\u001b[1;33m.\u001b[0m\u001b[0mshow\u001b[0m\u001b[1;33m(\u001b[0m\u001b[1;33m)\u001b[0m\u001b[1;33m\u001b[0m\u001b[0m\n",
      "\u001b[1;31mNameError\u001b[0m: name 'stats' is not defined"
     ]
    }
   ],
   "source": [
    "poisson_data = stats.poisson.rvs(size=100,mu=10)\n",
    "\n",
    "pd.DataFrame(poisson_data).hist()\n",
    "\n",
    "plt.show()"
   ]
  },
  {
   "cell_type": "code",
   "execution_count": null,
   "metadata": {},
   "outputs": [],
   "source": []
  }
 ],
 "metadata": {
  "kernelspec": {
   "display_name": "Python 3",
   "language": "python",
   "name": "python3"
  },
  "language_info": {
   "codemirror_mode": {
    "name": "ipython",
    "version": 3
   },
   "file_extension": ".py",
   "mimetype": "text/x-python",
   "name": "python",
   "nbconvert_exporter": "python",
   "pygments_lexer": "ipython3",
   "version": "3.7.0"
  }
 },
 "nbformat": 4,
 "nbformat_minor": 2
}
