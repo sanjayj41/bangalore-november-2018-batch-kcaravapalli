{
 "cells": [
  {
   "cell_type": "code",
   "execution_count": 1,
   "metadata": {},
   "outputs": [],
   "source": [
    "import pandas as pd\n",
    "import numpy as np\n",
    "from IPython.core.interactiveshell import InteractiveShell\n",
    "InteractiveShell.ast_node_interactivity = \"all\"\n",
    "import matplotlib.pyplot as plt\n",
    "import seaborn as sns\n",
    "%matplotlib inline"
   ]
  },
  {
   "cell_type": "code",
   "execution_count": 21,
   "metadata": {},
   "outputs": [],
   "source": [
    "# import tensorflow as tf\n",
    "import keras\n",
    "from keras.models import Sequential\n",
    "from keras.layers import Dense"
   ]
  },
  {
   "cell_type": "code",
   "execution_count": 3,
   "metadata": {},
   "outputs": [],
   "source": [
    "df=pd.read_csv(\"bank.csv\")"
   ]
  },
  {
   "cell_type": "code",
   "execution_count": 4,
   "metadata": {},
   "outputs": [
    {
     "data": {
      "text/html": [
       "<div>\n",
       "<style scoped>\n",
       "    .dataframe tbody tr th:only-of-type {\n",
       "        vertical-align: middle;\n",
       "    }\n",
       "\n",
       "    .dataframe tbody tr th {\n",
       "        vertical-align: top;\n",
       "    }\n",
       "\n",
       "    .dataframe thead th {\n",
       "        text-align: right;\n",
       "    }\n",
       "</style>\n",
       "<table border=\"1\" class=\"dataframe\">\n",
       "  <thead>\n",
       "    <tr style=\"text-align: right;\">\n",
       "      <th></th>\n",
       "      <th>RowNumber</th>\n",
       "      <th>CustomerId</th>\n",
       "      <th>Surname</th>\n",
       "      <th>CreditScore</th>\n",
       "      <th>Geography</th>\n",
       "      <th>Gender</th>\n",
       "      <th>Age</th>\n",
       "      <th>Tenure</th>\n",
       "      <th>Balance</th>\n",
       "      <th>NumOfProducts</th>\n",
       "      <th>HasCrCard</th>\n",
       "      <th>IsActiveMember</th>\n",
       "      <th>EstimatedSalary</th>\n",
       "      <th>Exited</th>\n",
       "    </tr>\n",
       "  </thead>\n",
       "  <tbody>\n",
       "    <tr>\n",
       "      <th>0</th>\n",
       "      <td>1</td>\n",
       "      <td>15634602</td>\n",
       "      <td>Hargrave</td>\n",
       "      <td>619</td>\n",
       "      <td>France</td>\n",
       "      <td>Female</td>\n",
       "      <td>42</td>\n",
       "      <td>2</td>\n",
       "      <td>0.00</td>\n",
       "      <td>1</td>\n",
       "      <td>1</td>\n",
       "      <td>1</td>\n",
       "      <td>101348.88</td>\n",
       "      <td>1</td>\n",
       "    </tr>\n",
       "    <tr>\n",
       "      <th>1</th>\n",
       "      <td>2</td>\n",
       "      <td>15647311</td>\n",
       "      <td>Hill</td>\n",
       "      <td>608</td>\n",
       "      <td>Spain</td>\n",
       "      <td>Female</td>\n",
       "      <td>41</td>\n",
       "      <td>1</td>\n",
       "      <td>83807.86</td>\n",
       "      <td>1</td>\n",
       "      <td>0</td>\n",
       "      <td>1</td>\n",
       "      <td>112542.58</td>\n",
       "      <td>0</td>\n",
       "    </tr>\n",
       "    <tr>\n",
       "      <th>2</th>\n",
       "      <td>3</td>\n",
       "      <td>15619304</td>\n",
       "      <td>Onio</td>\n",
       "      <td>502</td>\n",
       "      <td>France</td>\n",
       "      <td>Female</td>\n",
       "      <td>42</td>\n",
       "      <td>8</td>\n",
       "      <td>159660.80</td>\n",
       "      <td>3</td>\n",
       "      <td>1</td>\n",
       "      <td>0</td>\n",
       "      <td>113931.57</td>\n",
       "      <td>1</td>\n",
       "    </tr>\n",
       "    <tr>\n",
       "      <th>3</th>\n",
       "      <td>4</td>\n",
       "      <td>15701354</td>\n",
       "      <td>Boni</td>\n",
       "      <td>699</td>\n",
       "      <td>France</td>\n",
       "      <td>Female</td>\n",
       "      <td>39</td>\n",
       "      <td>1</td>\n",
       "      <td>0.00</td>\n",
       "      <td>2</td>\n",
       "      <td>0</td>\n",
       "      <td>0</td>\n",
       "      <td>93826.63</td>\n",
       "      <td>0</td>\n",
       "    </tr>\n",
       "    <tr>\n",
       "      <th>4</th>\n",
       "      <td>5</td>\n",
       "      <td>15737888</td>\n",
       "      <td>Mitchell</td>\n",
       "      <td>850</td>\n",
       "      <td>Spain</td>\n",
       "      <td>Female</td>\n",
       "      <td>43</td>\n",
       "      <td>2</td>\n",
       "      <td>125510.82</td>\n",
       "      <td>1</td>\n",
       "      <td>1</td>\n",
       "      <td>1</td>\n",
       "      <td>79084.10</td>\n",
       "      <td>0</td>\n",
       "    </tr>\n",
       "  </tbody>\n",
       "</table>\n",
       "</div>"
      ],
      "text/plain": [
       "   RowNumber  CustomerId   Surname  CreditScore Geography  Gender  Age  \\\n",
       "0          1    15634602  Hargrave          619    France  Female   42   \n",
       "1          2    15647311      Hill          608     Spain  Female   41   \n",
       "2          3    15619304      Onio          502    France  Female   42   \n",
       "3          4    15701354      Boni          699    France  Female   39   \n",
       "4          5    15737888  Mitchell          850     Spain  Female   43   \n",
       "\n",
       "   Tenure    Balance  NumOfProducts  HasCrCard  IsActiveMember  \\\n",
       "0       2       0.00              1          1               1   \n",
       "1       1   83807.86              1          0               1   \n",
       "2       8  159660.80              3          1               0   \n",
       "3       1       0.00              2          0               0   \n",
       "4       2  125510.82              1          1               1   \n",
       "\n",
       "   EstimatedSalary  Exited  \n",
       "0        101348.88       1  \n",
       "1        112542.58       0  \n",
       "2        113931.57       1  \n",
       "3         93826.63       0  \n",
       "4         79084.10       0  "
      ]
     },
     "execution_count": 4,
     "metadata": {},
     "output_type": "execute_result"
    }
   ],
   "source": [
    "df.head()"
   ]
  },
  {
   "cell_type": "code",
   "execution_count": 5,
   "metadata": {},
   "outputs": [],
   "source": [
    "#Row Number, Surname and CustomerID columns can be dropped\n",
    "df.drop(columns=[\"RowNumber\",\"CustomerId\",\"Surname\"],inplace=True)"
   ]
  },
  {
   "cell_type": "code",
   "execution_count": 6,
   "metadata": {},
   "outputs": [
    {
     "data": {
      "text/html": [
       "<div>\n",
       "<style scoped>\n",
       "    .dataframe tbody tr th:only-of-type {\n",
       "        vertical-align: middle;\n",
       "    }\n",
       "\n",
       "    .dataframe tbody tr th {\n",
       "        vertical-align: top;\n",
       "    }\n",
       "\n",
       "    .dataframe thead th {\n",
       "        text-align: right;\n",
       "    }\n",
       "</style>\n",
       "<table border=\"1\" class=\"dataframe\">\n",
       "  <thead>\n",
       "    <tr style=\"text-align: right;\">\n",
       "      <th></th>\n",
       "      <th>CreditScore</th>\n",
       "      <th>Geography</th>\n",
       "      <th>Gender</th>\n",
       "      <th>Age</th>\n",
       "      <th>Tenure</th>\n",
       "      <th>Balance</th>\n",
       "      <th>NumOfProducts</th>\n",
       "      <th>HasCrCard</th>\n",
       "      <th>IsActiveMember</th>\n",
       "      <th>EstimatedSalary</th>\n",
       "      <th>Exited</th>\n",
       "    </tr>\n",
       "  </thead>\n",
       "  <tbody>\n",
       "    <tr>\n",
       "      <th>0</th>\n",
       "      <td>619</td>\n",
       "      <td>France</td>\n",
       "      <td>Female</td>\n",
       "      <td>42</td>\n",
       "      <td>2</td>\n",
       "      <td>0.00</td>\n",
       "      <td>1</td>\n",
       "      <td>1</td>\n",
       "      <td>1</td>\n",
       "      <td>101348.88</td>\n",
       "      <td>1</td>\n",
       "    </tr>\n",
       "    <tr>\n",
       "      <th>1</th>\n",
       "      <td>608</td>\n",
       "      <td>Spain</td>\n",
       "      <td>Female</td>\n",
       "      <td>41</td>\n",
       "      <td>1</td>\n",
       "      <td>83807.86</td>\n",
       "      <td>1</td>\n",
       "      <td>0</td>\n",
       "      <td>1</td>\n",
       "      <td>112542.58</td>\n",
       "      <td>0</td>\n",
       "    </tr>\n",
       "    <tr>\n",
       "      <th>2</th>\n",
       "      <td>502</td>\n",
       "      <td>France</td>\n",
       "      <td>Female</td>\n",
       "      <td>42</td>\n",
       "      <td>8</td>\n",
       "      <td>159660.80</td>\n",
       "      <td>3</td>\n",
       "      <td>1</td>\n",
       "      <td>0</td>\n",
       "      <td>113931.57</td>\n",
       "      <td>1</td>\n",
       "    </tr>\n",
       "    <tr>\n",
       "      <th>3</th>\n",
       "      <td>699</td>\n",
       "      <td>France</td>\n",
       "      <td>Female</td>\n",
       "      <td>39</td>\n",
       "      <td>1</td>\n",
       "      <td>0.00</td>\n",
       "      <td>2</td>\n",
       "      <td>0</td>\n",
       "      <td>0</td>\n",
       "      <td>93826.63</td>\n",
       "      <td>0</td>\n",
       "    </tr>\n",
       "    <tr>\n",
       "      <th>4</th>\n",
       "      <td>850</td>\n",
       "      <td>Spain</td>\n",
       "      <td>Female</td>\n",
       "      <td>43</td>\n",
       "      <td>2</td>\n",
       "      <td>125510.82</td>\n",
       "      <td>1</td>\n",
       "      <td>1</td>\n",
       "      <td>1</td>\n",
       "      <td>79084.10</td>\n",
       "      <td>0</td>\n",
       "    </tr>\n",
       "  </tbody>\n",
       "</table>\n",
       "</div>"
      ],
      "text/plain": [
       "   CreditScore Geography  Gender  Age  Tenure    Balance  NumOfProducts  \\\n",
       "0          619    France  Female   42       2       0.00              1   \n",
       "1          608     Spain  Female   41       1   83807.86              1   \n",
       "2          502    France  Female   42       8  159660.80              3   \n",
       "3          699    France  Female   39       1       0.00              2   \n",
       "4          850     Spain  Female   43       2  125510.82              1   \n",
       "\n",
       "   HasCrCard  IsActiveMember  EstimatedSalary  Exited  \n",
       "0          1               1        101348.88       1  \n",
       "1          0               1        112542.58       0  \n",
       "2          1               0        113931.57       1  \n",
       "3          0               0         93826.63       0  \n",
       "4          1               1         79084.10       0  "
      ]
     },
     "execution_count": 6,
     "metadata": {},
     "output_type": "execute_result"
    },
    {
     "data": {
      "text/plain": [
       "array(['France', 'Spain', 'Germany'], dtype=object)"
      ]
     },
     "execution_count": 6,
     "metadata": {},
     "output_type": "execute_result"
    },
    {
     "data": {
      "text/plain": [
       "array(['Female', 'Male'], dtype=object)"
      ]
     },
     "execution_count": 6,
     "metadata": {},
     "output_type": "execute_result"
    }
   ],
   "source": [
    "df.head()\n",
    "df[\"Geography\"].unique()\n",
    "df[\"Gender\"].unique()"
   ]
  },
  {
   "cell_type": "code",
   "execution_count": 7,
   "metadata": {},
   "outputs": [],
   "source": [
    "X = df.iloc[:,0:10].values\n",
    "y = df.iloc[:, 10].values"
   ]
  },
  {
   "cell_type": "code",
   "execution_count": 8,
   "metadata": {},
   "outputs": [
    {
     "data": {
      "text/plain": [
       "array([[619, 'France', 'Female', ..., 1, 1, 101348.88],\n",
       "       [608, 'Spain', 'Female', ..., 0, 1, 112542.58],\n",
       "       [502, 'France', 'Female', ..., 1, 0, 113931.57],\n",
       "       ...,\n",
       "       [709, 'France', 'Female', ..., 0, 1, 42085.58],\n",
       "       [772, 'Germany', 'Male', ..., 1, 0, 92888.52],\n",
       "       [792, 'France', 'Female', ..., 1, 0, 38190.78]], dtype=object)"
      ]
     },
     "execution_count": 8,
     "metadata": {},
     "output_type": "execute_result"
    },
    {
     "data": {
      "text/plain": [
       "array([1, 0, 1, ..., 1, 1, 0], dtype=int64)"
      ]
     },
     "execution_count": 8,
     "metadata": {},
     "output_type": "execute_result"
    }
   ],
   "source": [
    "X\n",
    "y"
   ]
  },
  {
   "cell_type": "code",
   "execution_count": 10,
   "metadata": {},
   "outputs": [],
   "source": [
    "#label_X_country_encoder.fit_transform(X[:,1])"
   ]
  },
  {
   "cell_type": "code",
   "execution_count": 11,
   "metadata": {},
   "outputs": [],
   "source": [
    "# Encoding categorical (string based) data. Country: there are 3 options: France, Spain and Germany\n",
    "# This will convert those strings into scalar values for analysis\n",
    "#print(X[:8,1], '... will now become: ')\n",
    "from sklearn.preprocessing import LabelEncoder, OneHotEncoder\n",
    "label_X_country_encoder = LabelEncoder()\n",
    "X[:,1] = label_X_country_encoder.fit_transform(X[:,1])\n"
   ]
  },
  {
   "cell_type": "code",
   "execution_count": 12,
   "metadata": {},
   "outputs": [
    {
     "data": {
      "text/plain": [
       "array([[619, 0, 'Female', ..., 1, 1, 101348.88],\n",
       "       [608, 2, 'Female', ..., 0, 1, 112542.58],\n",
       "       [502, 0, 'Female', ..., 1, 0, 113931.57],\n",
       "       ...,\n",
       "       [709, 0, 'Female', ..., 0, 1, 42085.58],\n",
       "       [772, 1, 'Male', ..., 1, 0, 92888.52],\n",
       "       [792, 0, 'Female', ..., 1, 0, 38190.78]], dtype=object)"
      ]
     },
     "execution_count": 12,
     "metadata": {},
     "output_type": "execute_result"
    }
   ],
   "source": [
    "X"
   ]
  },
  {
   "cell_type": "code",
   "execution_count": 13,
   "metadata": {},
   "outputs": [],
   "source": [
    "# We will do the same thing for gender. this will be binary in this dataset\n",
    "\n",
    "label_X_gender_encoder = LabelEncoder()\n",
    "X[:,2] = label_X_gender_encoder.fit_transform(X[:,2])\n"
   ]
  },
  {
   "cell_type": "code",
   "execution_count": 14,
   "metadata": {},
   "outputs": [
    {
     "data": {
      "text/plain": [
       "array([[619, 0, 0, ..., 1, 1, 101348.88],\n",
       "       [608, 2, 0, ..., 0, 1, 112542.58],\n",
       "       [502, 0, 0, ..., 1, 0, 113931.57],\n",
       "       ...,\n",
       "       [709, 0, 0, ..., 0, 1, 42085.58],\n",
       "       [772, 1, 1, ..., 1, 0, 92888.52],\n",
       "       [792, 0, 0, ..., 1, 0, 38190.78]], dtype=object)"
      ]
     },
     "execution_count": 14,
     "metadata": {},
     "output_type": "execute_result"
    }
   ],
   "source": [
    "X"
   ]
  },
  {
   "cell_type": "code",
   "execution_count": 15,
   "metadata": {},
   "outputs": [
    {
     "name": "stderr",
     "output_type": "stream",
     "text": [
      "C:\\Users\\kalya\\Anaconda3\\lib\\site-packages\\sklearn\\preprocessing\\_encoders.py:371: FutureWarning: The handling of integer data will change in version 0.22. Currently, the categories are determined based on the range [0, max(values)], while in the future they will be determined based on the unique values.\n",
      "If you want the future behaviour and silence this warning, you can specify \"categories='auto'\".\n",
      "In case you used a LabelEncoder before this OneHotEncoder to convert the categories to integers, then you can now use the OneHotEncoder directly.\n",
      "  warnings.warn(msg, FutureWarning)\n",
      "C:\\Users\\kalya\\Anaconda3\\lib\\site-packages\\sklearn\\preprocessing\\_encoders.py:392: DeprecationWarning: The 'categorical_features' keyword is deprecated in version 0.20 and will be removed in 0.22. You can use the ColumnTransformer instead.\n",
      "  \"use the ColumnTransformer instead.\", DeprecationWarning)\n"
     ]
    }
   ],
   "source": [
    "countryhotencoder = OneHotEncoder(categorical_features=[1]) # 1 is the country column\n",
    "X=countryhotencoder.fit_transform(X).toarray()"
   ]
  },
  {
   "cell_type": "code",
   "execution_count": 16,
   "metadata": {},
   "outputs": [
    {
     "data": {
      "text/plain": [
       "array([[1.0000000e+00, 0.0000000e+00, 0.0000000e+00, ..., 1.0000000e+00,\n",
       "        1.0000000e+00, 1.0134888e+05],\n",
       "       [0.0000000e+00, 0.0000000e+00, 1.0000000e+00, ..., 0.0000000e+00,\n",
       "        1.0000000e+00, 1.1254258e+05],\n",
       "       [1.0000000e+00, 0.0000000e+00, 0.0000000e+00, ..., 1.0000000e+00,\n",
       "        0.0000000e+00, 1.1393157e+05],\n",
       "       ...,\n",
       "       [1.0000000e+00, 0.0000000e+00, 0.0000000e+00, ..., 0.0000000e+00,\n",
       "        1.0000000e+00, 4.2085580e+04],\n",
       "       [0.0000000e+00, 1.0000000e+00, 0.0000000e+00, ..., 1.0000000e+00,\n",
       "        0.0000000e+00, 9.2888520e+04],\n",
       "       [1.0000000e+00, 0.0000000e+00, 0.0000000e+00, ..., 1.0000000e+00,\n",
       "        0.0000000e+00, 3.8190780e+04]])"
      ]
     },
     "execution_count": 16,
     "metadata": {},
     "output_type": "execute_result"
    }
   ],
   "source": [
    "X"
   ]
  },
  {
   "cell_type": "code",
   "execution_count": 17,
   "metadata": {},
   "outputs": [],
   "source": [
    "\n",
    "# Splitting the dataset into the Training and Testing set.\n",
    "from sklearn.model_selection import train_test_split\n",
    "X_train, X_test, y_train, y_test = train_test_split(X,y, test_size = 0.3, random_state = 0)"
   ]
  },
  {
   "cell_type": "code",
   "execution_count": 18,
   "metadata": {},
   "outputs": [],
   "source": [
    "# Feature Scaling\n",
    "from sklearn.preprocessing import StandardScaler\n",
    "sc=StandardScaler()\n",
    "X_train = sc.fit_transform(X_train)\n",
    "X_test = sc.transform(X_test)"
   ]
  },
  {
   "cell_type": "code",
   "execution_count": 103,
   "metadata": {},
   "outputs": [],
   "source": [
    "# import keras"
   ]
  },
  {
   "cell_type": "code",
   "execution_count": 22,
   "metadata": {},
   "outputs": [],
   "source": [
    "# from keras.models import Sequential\n",
    "# from keras.layers import Dense"
   ]
  },
  {
   "cell_type": "code",
   "execution_count": 19,
   "metadata": {},
   "outputs": [],
   "source": [
    "#Initialize Sequential model\n",
    "# model = Sequential()\n",
    "\n",
    "#Reshape data from 2D to 1D -> 28x28 to 784\n",
    "# model.add(tf.keras.layers.Reshape((784,),input_shape=(28,28,)))\n",
    "\n",
    "#Normalize the data\n",
    "# model.add(keras.layers.BatchNormalization())\n",
    "\n",
    "#Add Dense Layer which provides 10 Outputs after applying softmax\n",
    "# model.add(Dense(1, activation='relu'))\n",
    "\n",
    "#Comile the model ((We will learn about optimizers it in the next residency))\n",
    "# model.compile(optimizer='sgd', loss='sparse_categorical_crossentropy', metrics=['accuracy'])"
   ]
  },
  {
   "cell_type": "code",
   "execution_count": 23,
   "metadata": {},
   "outputs": [],
   "source": [
    "model = Sequential()\n",
    "model.add(Dense(activation = 'relu', input_dim = 12, units=6, kernel_initializer='uniform'))\n",
    "model.add(keras.layers.BatchNormalization())\n",
    "model.add(Dense(activation = 'relu', units=6, kernel_initializer='uniform')) \n",
    "model.add(Dense(activation = 'sigmoid', units=1, kernel_initializer='uniform')) \n",
    "model.compile(optimizer='adam', loss = 'binary_crossentropy', metrics=['accuracy'])"
   ]
  },
  {
   "cell_type": "code",
   "execution_count": 24,
   "metadata": {},
   "outputs": [
    {
     "name": "stdout",
     "output_type": "stream",
     "text": [
      "WARNING:tensorflow:From C:\\Users\\kalya\\Anaconda3\\lib\\site-packages\\tensorflow\\python\\ops\\math_ops.py:3066: to_int32 (from tensorflow.python.ops.math_ops) is deprecated and will be removed in a future version.\n",
      "Instructions for updating:\n",
      "Use tf.cast instead.\n",
      "Train on 7000 samples, validate on 3000 samples\n",
      "Epoch 1/100\n",
      "7000/7000 [==============================] - 2s 249us/step - loss: 0.5023 - acc: 0.7964 - val_loss: 0.4311 - val_acc: 0.7930\n",
      "Epoch 2/100\n",
      "7000/7000 [==============================] - 1s 127us/step - loss: 0.4304 - acc: 0.7977 - val_loss: 0.4150 - val_acc: 0.7930\n",
      "Epoch 3/100\n",
      "7000/7000 [==============================] - 1s 121us/step - loss: 0.4110 - acc: 0.7977 - val_loss: 0.3993 - val_acc: 0.7930\n",
      "Epoch 4/100\n",
      "7000/7000 [==============================] - 1s 127us/step - loss: 0.3967 - acc: 0.8256 - val_loss: 0.3696 - val_acc: 0.8460\n",
      "Epoch 5/100\n",
      "7000/7000 [==============================] - 1s 123us/step - loss: 0.3842 - acc: 0.8397 - val_loss: 0.3545 - val_acc: 0.8473\n",
      "Epoch 6/100\n",
      "7000/7000 [==============================] - 1s 121us/step - loss: 0.3765 - acc: 0.8457 - val_loss: 0.3515 - val_acc: 0.8520\n",
      "Epoch 7/100\n",
      "7000/7000 [==============================] - 1s 126us/step - loss: 0.3687 - acc: 0.8449 - val_loss: 0.3448 - val_acc: 0.8570\n",
      "Epoch 8/100\n",
      "7000/7000 [==============================] - 1s 122us/step - loss: 0.3691 - acc: 0.8424 - val_loss: 0.3434 - val_acc: 0.8543\n",
      "Epoch 9/100\n",
      "7000/7000 [==============================] - 1s 124us/step - loss: 0.3666 - acc: 0.8470 - val_loss: 0.3423 - val_acc: 0.8610\n",
      "Epoch 10/100\n",
      "7000/7000 [==============================] - 1s 125us/step - loss: 0.3656 - acc: 0.8489 - val_loss: 0.3421 - val_acc: 0.8583\n",
      "Epoch 11/100\n",
      "7000/7000 [==============================] - 1s 135us/step - loss: 0.3645 - acc: 0.8470 - val_loss: 0.3544 - val_acc: 0.8493\n",
      "Epoch 12/100\n",
      "7000/7000 [==============================] - 1s 129us/step - loss: 0.3606 - acc: 0.8494 - val_loss: 0.3418 - val_acc: 0.8577\n",
      "Epoch 13/100\n",
      "7000/7000 [==============================] - 1s 155us/step - loss: 0.3657 - acc: 0.8487 - val_loss: 0.3440 - val_acc: 0.8610\n",
      "Epoch 14/100\n",
      "7000/7000 [==============================] - 1s 139us/step - loss: 0.3648 - acc: 0.8470 - val_loss: 0.3469 - val_acc: 0.8610\n",
      "Epoch 15/100\n",
      "7000/7000 [==============================] - 1s 151us/step - loss: 0.3605 - acc: 0.8520 - val_loss: 0.3435 - val_acc: 0.8590\n",
      "Epoch 16/100\n",
      "7000/7000 [==============================] - 1s 145us/step - loss: 0.3622 - acc: 0.8460 - val_loss: 0.3472 - val_acc: 0.8613\n",
      "Epoch 17/100\n",
      "7000/7000 [==============================] - 1s 129us/step - loss: 0.3642 - acc: 0.8474 - val_loss: 0.3435 - val_acc: 0.8640\n",
      "Epoch 18/100\n",
      "7000/7000 [==============================] - 1s 150us/step - loss: 0.3623 - acc: 0.8529 - val_loss: 0.3441 - val_acc: 0.8623\n",
      "Epoch 19/100\n",
      "7000/7000 [==============================] - 1s 157us/step - loss: 0.3616 - acc: 0.8501 - val_loss: 0.3441 - val_acc: 0.8603\n",
      "Epoch 20/100\n",
      "7000/7000 [==============================] - 1s 144us/step - loss: 0.3600 - acc: 0.8523 - val_loss: 0.3452 - val_acc: 0.8537\n",
      "Epoch 21/100\n",
      "7000/7000 [==============================] - 1s 137us/step - loss: 0.3571 - acc: 0.8534 - val_loss: 0.3469 - val_acc: 0.8600\n",
      "Epoch 22/100\n",
      "7000/7000 [==============================] - 1s 157us/step - loss: 0.3612 - acc: 0.8531 - val_loss: 0.3459 - val_acc: 0.8590\n",
      "Epoch 23/100\n",
      "7000/7000 [==============================] - 1s 181us/step - loss: 0.3603 - acc: 0.8497 - val_loss: 0.3481 - val_acc: 0.8567\n",
      "Epoch 24/100\n",
      "7000/7000 [==============================] - 1s 177us/step - loss: 0.3571 - acc: 0.8541 - val_loss: 0.3462 - val_acc: 0.8560\n",
      "Epoch 25/100\n",
      "7000/7000 [==============================] - 1s 128us/step - loss: 0.3588 - acc: 0.8564 - val_loss: 0.3437 - val_acc: 0.8553\n",
      "Epoch 26/100\n",
      "7000/7000 [==============================] - 1s 130us/step - loss: 0.3586 - acc: 0.8561 - val_loss: 0.3418 - val_acc: 0.8573\n",
      "Epoch 27/100\n",
      "7000/7000 [==============================] - 1s 171us/step - loss: 0.3570 - acc: 0.8541 - val_loss: 0.3407 - val_acc: 0.8580\n",
      "Epoch 28/100\n",
      "7000/7000 [==============================] - 1s 169us/step - loss: 0.3572 - acc: 0.8571 - val_loss: 0.3447 - val_acc: 0.8573\n",
      "Epoch 29/100\n",
      "7000/7000 [==============================] - 1s 149us/step - loss: 0.3559 - acc: 0.8531 - val_loss: 0.3417 - val_acc: 0.8620\n",
      "Epoch 30/100\n",
      "7000/7000 [==============================] - 1s 125us/step - loss: 0.3612 - acc: 0.8531 - val_loss: 0.3422 - val_acc: 0.8550\n",
      "Epoch 31/100\n",
      "7000/7000 [==============================] - 1s 112us/step - loss: 0.3568 - acc: 0.8544 - val_loss: 0.3438 - val_acc: 0.8580\n",
      "Epoch 32/100\n",
      "7000/7000 [==============================] - 1s 114us/step - loss: 0.3567 - acc: 0.8554 - val_loss: 0.3411 - val_acc: 0.8590\n",
      "Epoch 33/100\n",
      "7000/7000 [==============================] - 1s 116us/step - loss: 0.3555 - acc: 0.8551 - val_loss: 0.3446 - val_acc: 0.8593\n",
      "Epoch 34/100\n",
      "7000/7000 [==============================] - 1s 127us/step - loss: 0.3560 - acc: 0.8561 - val_loss: 0.3465 - val_acc: 0.8577\n",
      "Epoch 35/100\n",
      "7000/7000 [==============================] - 1s 144us/step - loss: 0.3570 - acc: 0.8554 - val_loss: 0.3422 - val_acc: 0.8560\n",
      "Epoch 36/100\n",
      "7000/7000 [==============================] - 1s 139us/step - loss: 0.3557 - acc: 0.8534 - val_loss: 0.3441 - val_acc: 0.8600\n",
      "Epoch 37/100\n",
      "7000/7000 [==============================] - 1s 111us/step - loss: 0.3534 - acc: 0.8613 - val_loss: 0.3442 - val_acc: 0.8597\n",
      "Epoch 38/100\n",
      "7000/7000 [==============================] - 1s 113us/step - loss: 0.3574 - acc: 0.8541 - val_loss: 0.3445 - val_acc: 0.8600\n",
      "Epoch 39/100\n",
      "7000/7000 [==============================] - 1s 121us/step - loss: 0.3563 - acc: 0.8560 - val_loss: 0.3387 - val_acc: 0.8607\n",
      "Epoch 40/100\n",
      "7000/7000 [==============================] - 1s 110us/step - loss: 0.3527 - acc: 0.8563 - val_loss: 0.3416 - val_acc: 0.8573\n",
      "Epoch 41/100\n",
      "7000/7000 [==============================] - 1s 145us/step - loss: 0.3541 - acc: 0.8573 - val_loss: 0.3481 - val_acc: 0.8587\n",
      "Epoch 42/100\n",
      "7000/7000 [==============================] - 1s 144us/step - loss: 0.3583 - acc: 0.8580 - val_loss: 0.3398 - val_acc: 0.8590\n",
      "Epoch 43/100\n",
      "7000/7000 [==============================] - 1s 123us/step - loss: 0.3536 - acc: 0.8571 - val_loss: 0.3462 - val_acc: 0.8563\n",
      "Epoch 44/100\n",
      "7000/7000 [==============================] - 1s 113us/step - loss: 0.3501 - acc: 0.8593 - val_loss: 0.3403 - val_acc: 0.8580\n",
      "Epoch 45/100\n",
      "7000/7000 [==============================] - 1s 112us/step - loss: 0.3534 - acc: 0.8583 - val_loss: 0.3454 - val_acc: 0.8590\n",
      "Epoch 46/100\n",
      "7000/7000 [==============================] - 1s 112us/step - loss: 0.3518 - acc: 0.8556 - val_loss: 0.3425 - val_acc: 0.8597\n",
      "Epoch 47/100\n",
      "7000/7000 [==============================] - 1s 122us/step - loss: 0.3544 - acc: 0.8584 - val_loss: 0.3440 - val_acc: 0.8570\n",
      "Epoch 48/100\n",
      "7000/7000 [==============================] - 1s 177us/step - loss: 0.3539 - acc: 0.8557 - val_loss: 0.3426 - val_acc: 0.8607\n",
      "Epoch 49/100\n",
      "7000/7000 [==============================] - 1s 142us/step - loss: 0.3542 - acc: 0.8547 - val_loss: 0.3444 - val_acc: 0.8563\n",
      "Epoch 50/100\n",
      "7000/7000 [==============================] - 1s 115us/step - loss: 0.3559 - acc: 0.8550 - val_loss: 0.3492 - val_acc: 0.8570\n",
      "Epoch 51/100\n",
      "7000/7000 [==============================] - 1s 114us/step - loss: 0.3560 - acc: 0.8567 - val_loss: 0.3481 - val_acc: 0.8597\n",
      "Epoch 52/100\n",
      "7000/7000 [==============================] - 1s 115us/step - loss: 0.3522 - acc: 0.8586 - val_loss: 0.3481 - val_acc: 0.8580\n",
      "Epoch 53/100\n",
      "7000/7000 [==============================] - 1s 120us/step - loss: 0.3542 - acc: 0.8556 - val_loss: 0.3462 - val_acc: 0.8580\n",
      "Epoch 54/100\n",
      "7000/7000 [==============================] - 1s 150us/step - loss: 0.3540 - acc: 0.8537 - val_loss: 0.3482 - val_acc: 0.8573\n",
      "Epoch 55/100\n",
      "7000/7000 [==============================] - 1s 150us/step - loss: 0.3551 - acc: 0.8549 - val_loss: 0.3490 - val_acc: 0.8540\n",
      "Epoch 56/100\n",
      "7000/7000 [==============================] - 1s 120us/step - loss: 0.3516 - acc: 0.8581 - val_loss: 0.3478 - val_acc: 0.8537\n",
      "Epoch 57/100\n",
      "7000/7000 [==============================] - 1s 114us/step - loss: 0.3560 - acc: 0.8531 - val_loss: 0.3419 - val_acc: 0.8597\n",
      "Epoch 58/100\n"
     ]
    },
    {
     "name": "stdout",
     "output_type": "stream",
     "text": [
      "7000/7000 [==============================] - 1s 115us/step - loss: 0.3556 - acc: 0.8551 - val_loss: 0.3388 - val_acc: 0.8607\n",
      "Epoch 59/100\n",
      "7000/7000 [==============================] - 1s 111us/step - loss: 0.3502 - acc: 0.8571 - val_loss: 0.3431 - val_acc: 0.8533\n",
      "Epoch 60/100\n",
      "7000/7000 [==============================] - 1s 133us/step - loss: 0.3543 - acc: 0.8530 - val_loss: 0.3423 - val_acc: 0.8600\n",
      "Epoch 61/100\n",
      "7000/7000 [==============================] - 1s 144us/step - loss: 0.3570 - acc: 0.8543 - val_loss: 0.3478 - val_acc: 0.8590\n",
      "Epoch 62/100\n",
      "7000/7000 [==============================] - 1s 142us/step - loss: 0.3536 - acc: 0.8530 - val_loss: 0.3419 - val_acc: 0.8590\n",
      "Epoch 63/100\n",
      "7000/7000 [==============================] - 1s 141us/step - loss: 0.3517 - acc: 0.8596 - val_loss: 0.3397 - val_acc: 0.8587\n",
      "Epoch 64/100\n",
      "7000/7000 [==============================] - 1s 111us/step - loss: 0.3544 - acc: 0.8563 - val_loss: 0.3445 - val_acc: 0.8583\n",
      "Epoch 65/100\n",
      "7000/7000 [==============================] - 1s 111us/step - loss: 0.3520 - acc: 0.8546 - val_loss: 0.3443 - val_acc: 0.8573\n",
      "Epoch 66/100\n",
      "7000/7000 [==============================] - 1s 112us/step - loss: 0.3523 - acc: 0.8553 - val_loss: 0.3410 - val_acc: 0.8613\n",
      "Epoch 67/100\n",
      "7000/7000 [==============================] - 1s 112us/step - loss: 0.3510 - acc: 0.8567 - val_loss: 0.3445 - val_acc: 0.8633\n",
      "Epoch 68/100\n",
      "7000/7000 [==============================] - 1s 139us/step - loss: 0.3508 - acc: 0.8610 - val_loss: 0.3384 - val_acc: 0.8590\n",
      "Epoch 69/100\n",
      "7000/7000 [==============================] - 1s 142us/step - loss: 0.3536 - acc: 0.8586 - val_loss: 0.3393 - val_acc: 0.8617\n",
      "Epoch 70/100\n",
      "7000/7000 [==============================] - 1s 148us/step - loss: 0.3485 - acc: 0.8593 - val_loss: 0.3429 - val_acc: 0.8557\n",
      "Epoch 71/100\n",
      "7000/7000 [==============================] - 1s 132us/step - loss: 0.3495 - acc: 0.8566 - val_loss: 0.3414 - val_acc: 0.8583\n",
      "Epoch 72/100\n",
      "7000/7000 [==============================] - 1s 114us/step - loss: 0.3513 - acc: 0.8586 - val_loss: 0.3466 - val_acc: 0.8590\n",
      "Epoch 73/100\n",
      "7000/7000 [==============================] - 1s 111us/step - loss: 0.3534 - acc: 0.8524 - val_loss: 0.3516 - val_acc: 0.8557\n",
      "Epoch 74/100\n",
      "7000/7000 [==============================] - 1s 121us/step - loss: 0.3538 - acc: 0.8569 - val_loss: 0.3414 - val_acc: 0.8593\n",
      "Epoch 75/100\n",
      "7000/7000 [==============================] - 1s 153us/step - loss: 0.3496 - acc: 0.8594 - val_loss: 0.3463 - val_acc: 0.8620\n",
      "Epoch 76/100\n",
      "7000/7000 [==============================] - 1s 174us/step - loss: 0.3530 - acc: 0.8584 - val_loss: 0.3417 - val_acc: 0.8573\n",
      "Epoch 77/100\n",
      "7000/7000 [==============================] - 1s 159us/step - loss: 0.3559 - acc: 0.8546 - val_loss: 0.3420 - val_acc: 0.8587\n",
      "Epoch 78/100\n",
      "7000/7000 [==============================] - 1s 157us/step - loss: 0.3497 - acc: 0.8607 - val_loss: 0.3403 - val_acc: 0.8580\n",
      "Epoch 79/100\n",
      "7000/7000 [==============================] - 1s 128us/step - loss: 0.3555 - acc: 0.8550 - val_loss: 0.3410 - val_acc: 0.8580\n",
      "Epoch 80/100\n",
      "7000/7000 [==============================] - 1s 186us/step - loss: 0.3544 - acc: 0.8530 - val_loss: 0.3413 - val_acc: 0.8600\n",
      "Epoch 81/100\n",
      "7000/7000 [==============================] - 1s 188us/step - loss: 0.3527 - acc: 0.8571 - val_loss: 0.3420 - val_acc: 0.8613\n",
      "Epoch 82/100\n",
      "7000/7000 [==============================] - 2s 243us/step - loss: 0.3472 - acc: 0.8591 - val_loss: 0.3450 - val_acc: 0.8587\n",
      "Epoch 83/100\n",
      "7000/7000 [==============================] - 1s 123us/step - loss: 0.3514 - acc: 0.8581 - val_loss: 0.3414 - val_acc: 0.8610\n",
      "Epoch 84/100\n",
      "7000/7000 [==============================] - 1s 171us/step - loss: 0.3504 - acc: 0.8549 - val_loss: 0.3419 - val_acc: 0.8580\n",
      "Epoch 85/100\n",
      "7000/7000 [==============================] - 1s 210us/step - loss: 0.3507 - acc: 0.8580 - val_loss: 0.3438 - val_acc: 0.8607\n",
      "Epoch 86/100\n",
      "7000/7000 [==============================] - 1s 208us/step - loss: 0.3492 - acc: 0.8587 - val_loss: 0.3417 - val_acc: 0.8610\n",
      "Epoch 87/100\n",
      "7000/7000 [==============================] - 1s 169us/step - loss: 0.3527 - acc: 0.8569 - val_loss: 0.3465 - val_acc: 0.8603\n",
      "Epoch 88/100\n",
      "7000/7000 [==============================] - 1s 129us/step - loss: 0.3528 - acc: 0.8551 - val_loss: 0.3441 - val_acc: 0.8590\n",
      "Epoch 89/100\n",
      "7000/7000 [==============================] - 1s 128us/step - loss: 0.3523 - acc: 0.8581 - val_loss: 0.3408 - val_acc: 0.8580\n",
      "Epoch 90/100\n",
      "7000/7000 [==============================] - 1s 166us/step - loss: 0.3513 - acc: 0.8580 - val_loss: 0.3449 - val_acc: 0.8637\n",
      "Epoch 91/100\n",
      "7000/7000 [==============================] - 1s 167us/step - loss: 0.3530 - acc: 0.8571 - val_loss: 0.3438 - val_acc: 0.8600\n",
      "Epoch 92/100\n",
      "7000/7000 [==============================] - 1s 167us/step - loss: 0.3496 - acc: 0.8584 - val_loss: 0.3455 - val_acc: 0.8573\n",
      "Epoch 93/100\n",
      "7000/7000 [==============================] - 1s 131us/step - loss: 0.3490 - acc: 0.8587 - val_loss: 0.3395 - val_acc: 0.8583\n",
      "Epoch 94/100\n",
      "7000/7000 [==============================] - 1s 129us/step - loss: 0.3531 - acc: 0.8547 - val_loss: 0.3442 - val_acc: 0.8557\n",
      "Epoch 95/100\n",
      "7000/7000 [==============================] - 1s 147us/step - loss: 0.3496 - acc: 0.8604 - val_loss: 0.3416 - val_acc: 0.8570\n",
      "Epoch 96/100\n",
      "7000/7000 [==============================] - 1s 174us/step - loss: 0.3518 - acc: 0.8584 - val_loss: 0.3398 - val_acc: 0.8587\n",
      "Epoch 97/100\n",
      "7000/7000 [==============================] - 1s 169us/step - loss: 0.3478 - acc: 0.8587 - val_loss: 0.3402 - val_acc: 0.8560\n",
      "Epoch 98/100\n",
      "7000/7000 [==============================] - 1s 145us/step - loss: 0.3534 - acc: 0.8574 - val_loss: 0.3406 - val_acc: 0.8590\n",
      "Epoch 99/100\n",
      "7000/7000 [==============================] - 1s 128us/step - loss: 0.3502 - acc: 0.8570 - val_loss: 0.3425 - val_acc: 0.8603\n",
      "Epoch 100/100\n",
      "7000/7000 [==============================] - 1s 126us/step - loss: 0.3516 - acc: 0.8601 - val_loss: 0.3451 - val_acc: 0.8603\n"
     ]
    },
    {
     "data": {
      "text/plain": [
       "<keras.callbacks.History at 0x1893e72c278>"
      ]
     },
     "execution_count": 24,
     "metadata": {},
     "output_type": "execute_result"
    }
   ],
   "source": [
    "model.fit(X_train, y_train, validation_data=(X_test, y_test), batch_size=10, epochs=100)"
   ]
  },
  {
   "cell_type": "code",
   "execution_count": 25,
   "metadata": {},
   "outputs": [
    {
     "data": {
      "text/plain": [
       "array([[0.2596135 ],\n",
       "       [0.27017164],\n",
       "       [0.19322124],\n",
       "       ...,\n",
       "       [0.11883569],\n",
       "       [0.08246106],\n",
       "       [0.62185633]], dtype=float32)"
      ]
     },
     "execution_count": 25,
     "metadata": {},
     "output_type": "execute_result"
    }
   ],
   "source": [
    "model.predict(X_test)"
   ]
  },
  {
   "cell_type": "code",
   "execution_count": 26,
   "metadata": {},
   "outputs": [],
   "source": [
    "y_predict=model.predict_classes(X_test)"
   ]
  },
  {
   "cell_type": "code",
   "execution_count": 27,
   "metadata": {},
   "outputs": [],
   "source": [
    "from sklearn import metrics"
   ]
  },
  {
   "cell_type": "code",
   "execution_count": 28,
   "metadata": {},
   "outputs": [
    {
     "data": {
      "text/plain": [
       "0.8603333333333333"
      ]
     },
     "execution_count": 28,
     "metadata": {},
     "output_type": "execute_result"
    }
   ],
   "source": [
    "metrics.accuracy_score(y_test,y_predict)"
   ]
  },
  {
   "cell_type": "code",
   "execution_count": 29,
   "metadata": {},
   "outputs": [
    {
     "data": {
      "text/plain": [
       "array([[2273,  106],\n",
       "       [ 313,  308]], dtype=int64)"
      ]
     },
     "execution_count": 29,
     "metadata": {},
     "output_type": "execute_result"
    }
   ],
   "source": [
    "metrics.confusion_matrix(y_test,y_predict)"
   ]
  },
  {
   "cell_type": "code",
   "execution_count": 30,
   "metadata": {},
   "outputs": [
    {
     "name": "stdout",
     "output_type": "stream",
     "text": [
      "              precision    recall  f1-score   support\n",
      "\n",
      "           0       0.88      0.96      0.92      2379\n",
      "           1       0.74      0.50      0.60       621\n",
      "\n",
      "   micro avg       0.86      0.86      0.86      3000\n",
      "   macro avg       0.81      0.73      0.76      3000\n",
      "weighted avg       0.85      0.86      0.85      3000\n",
      "\n"
     ]
    }
   ],
   "source": [
    "cr=metrics.classification_report(y_test,y_predict)\n",
    "print(cr)"
   ]
  },
  {
   "cell_type": "code",
   "execution_count": 31,
   "metadata": {},
   "outputs": [],
   "source": [
    "from keras.optimizers import sgd"
   ]
  },
  {
   "cell_type": "code",
   "execution_count": 34,
   "metadata": {},
   "outputs": [],
   "source": [
    "model = Sequential()\n",
    "model.add(Dense(activation = 'relu', input_dim = 12, units=6, kernel_initializer='uniform'))\n",
    "model.add(keras.layers.BatchNormalization())\n",
    "model.add(Dense(activation = 'relu', units=6, kernel_initializer='uniform')) \n",
    "model.add(Dense(activation = 'sigmoid', units=1, kernel_initializer='uniform')) \n",
    "\n",
    "sg = sgd(lr=0.5)\n",
    "\n",
    "\n",
    "model.compile(optimizer=sg, loss = 'binary_crossentropy', metrics=['accuracy'])"
   ]
  },
  {
   "cell_type": "code",
   "execution_count": 35,
   "metadata": {},
   "outputs": [
    {
     "name": "stdout",
     "output_type": "stream",
     "text": [
      "Train on 7000 samples, validate on 3000 samples\n",
      "Epoch 1/100\n",
      "7000/7000 [==============================] - 2s 299us/step - loss: 0.4413 - acc: 0.8069 - val_loss: 0.3843 - val_acc: 0.8400\n",
      "Epoch 2/100\n",
      "7000/7000 [==============================] - 1s 166us/step - loss: 0.4134 - acc: 0.8233 - val_loss: 0.3840 - val_acc: 0.8437\n",
      "Epoch 3/100\n",
      "7000/7000 [==============================] - 1s 168us/step - loss: 0.3996 - acc: 0.8320 - val_loss: 0.3739 - val_acc: 0.8410\n",
      "Epoch 4/100\n",
      "7000/7000 [==============================] - 1s 166us/step - loss: 0.4012 - acc: 0.8307 - val_loss: 0.3774 - val_acc: 0.8420\n",
      "Epoch 5/100\n",
      "7000/7000 [==============================] - 1s 165us/step - loss: 0.3963 - acc: 0.8324 - val_loss: 0.3895 - val_acc: 0.8460\n",
      "Epoch 6/100\n",
      "7000/7000 [==============================] - 1s 162us/step - loss: 0.4006 - acc: 0.8326 - val_loss: 0.3560 - val_acc: 0.8573\n",
      "Epoch 7/100\n",
      "7000/7000 [==============================] - 1s 160us/step - loss: 0.3945 - acc: 0.8334 - val_loss: 0.3615 - val_acc: 0.8573\n",
      "Epoch 8/100\n",
      "7000/7000 [==============================] - 1s 164us/step - loss: 0.3975 - acc: 0.8357 - val_loss: 0.3514 - val_acc: 0.8590\n",
      "Epoch 9/100\n",
      "7000/7000 [==============================] - 1s 164us/step - loss: 0.3977 - acc: 0.8350 - val_loss: 0.3754 - val_acc: 0.8470\n",
      "Epoch 10/100\n",
      "7000/7000 [==============================] - 1s 167us/step - loss: 0.3935 - acc: 0.8347 - val_loss: 0.3596 - val_acc: 0.8487\n",
      "Epoch 11/100\n",
      "7000/7000 [==============================] - 1s 162us/step - loss: 0.3959 - acc: 0.8313 - val_loss: 0.3648 - val_acc: 0.8497\n",
      "Epoch 12/100\n",
      "7000/7000 [==============================] - 1s 176us/step - loss: 0.3941 - acc: 0.8370 - val_loss: 0.3583 - val_acc: 0.8567\n",
      "Epoch 13/100\n",
      "7000/7000 [==============================] - 1s 173us/step - loss: 0.3980 - acc: 0.8341 - val_loss: 0.3644 - val_acc: 0.8550\n",
      "Epoch 14/100\n",
      "7000/7000 [==============================] - 1s 167us/step - loss: 0.3989 - acc: 0.8301 - val_loss: 0.3704 - val_acc: 0.8460\n",
      "Epoch 15/100\n",
      "7000/7000 [==============================] - 1s 164us/step - loss: 0.3914 - acc: 0.8330 - val_loss: 0.3864 - val_acc: 0.8180\n",
      "Epoch 16/100\n",
      "7000/7000 [==============================] - 1s 162us/step - loss: 0.3949 - acc: 0.8370 - val_loss: 0.3588 - val_acc: 0.8553\n",
      "Epoch 17/100\n",
      "7000/7000 [==============================] - 1s 176us/step - loss: 0.3922 - acc: 0.8360 - val_loss: 0.3719 - val_acc: 0.8470\n",
      "Epoch 18/100\n",
      "7000/7000 [==============================] - 2s 219us/step - loss: 0.3941 - acc: 0.8360 - val_loss: 0.3832 - val_acc: 0.8390\n",
      "Epoch 19/100\n",
      "7000/7000 [==============================] - 1s 167us/step - loss: 0.3973 - acc: 0.8319 - val_loss: 0.3675 - val_acc: 0.8513\n",
      "Epoch 20/100\n",
      "7000/7000 [==============================] - 1s 178us/step - loss: 0.3941 - acc: 0.8363 - val_loss: 0.3588 - val_acc: 0.8573\n",
      "Epoch 21/100\n",
      "7000/7000 [==============================] - 1s 201us/step - loss: 0.3923 - acc: 0.8389 - val_loss: 0.3539 - val_acc: 0.8590\n",
      "Epoch 22/100\n",
      "7000/7000 [==============================] - 1s 163us/step - loss: 0.4024 - acc: 0.8344 - val_loss: 0.3654 - val_acc: 0.8547\n",
      "Epoch 23/100\n",
      "7000/7000 [==============================] - 1s 142us/step - loss: 0.3933 - acc: 0.8361 - val_loss: 0.3762 - val_acc: 0.8540\n",
      "Epoch 24/100\n",
      "7000/7000 [==============================] - 1s 139us/step - loss: 0.3948 - acc: 0.8339 - val_loss: 0.3500 - val_acc: 0.8537\n",
      "Epoch 25/100\n",
      "7000/7000 [==============================] - 1s 142us/step - loss: 0.3943 - acc: 0.8329 - val_loss: 0.3626 - val_acc: 0.8513\n",
      "Epoch 26/100\n",
      "7000/7000 [==============================] - 1s 140us/step - loss: 0.3955 - acc: 0.8333 - val_loss: 0.3547 - val_acc: 0.8537\n",
      "Epoch 27/100\n",
      "7000/7000 [==============================] - 1s 204us/step - loss: 0.3933 - acc: 0.8350 - val_loss: 0.3926 - val_acc: 0.8380\n",
      "Epoch 28/100\n",
      "7000/7000 [==============================] - 1s 178us/step - loss: 0.3874 - acc: 0.8381 - val_loss: 0.3661 - val_acc: 0.8590\n",
      "Epoch 29/100\n",
      "7000/7000 [==============================] - 1s 184us/step - loss: 0.3932 - acc: 0.8414 - val_loss: 0.3502 - val_acc: 0.8610\n",
      "Epoch 30/100\n",
      "7000/7000 [==============================] - ETA: 0s - loss: 0.3960 - acc: 0.833 - 1s 180us/step - loss: 0.3959 - acc: 0.8331 - val_loss: 0.3579 - val_acc: 0.8590\n",
      "Epoch 31/100\n",
      "7000/7000 [==============================] - 1s 171us/step - loss: 0.3903 - acc: 0.8376 - val_loss: 0.3575 - val_acc: 0.8593\n",
      "Epoch 32/100\n",
      "7000/7000 [==============================] - 1s 170us/step - loss: 0.3935 - acc: 0.8330 - val_loss: 0.3483 - val_acc: 0.8640\n",
      "Epoch 33/100\n",
      "7000/7000 [==============================] - 1s 172us/step - loss: 0.3920 - acc: 0.8407 - val_loss: 0.3507 - val_acc: 0.8567\n",
      "Epoch 34/100\n",
      "7000/7000 [==============================] - 1s 172us/step - loss: 0.3958 - acc: 0.8350 - val_loss: 0.3668 - val_acc: 0.8540\n",
      "Epoch 35/100\n",
      "7000/7000 [==============================] - 1s 182us/step - loss: 0.3896 - acc: 0.8387 - val_loss: 0.3916 - val_acc: 0.8427\n",
      "Epoch 36/100\n",
      "7000/7000 [==============================] - 1s 181us/step - loss: 0.3929 - acc: 0.8346 - val_loss: 0.3558 - val_acc: 0.8607\n",
      "Epoch 37/100\n",
      "7000/7000 [==============================] - 1s 166us/step - loss: 0.3880 - acc: 0.8391 - val_loss: 0.3641 - val_acc: 0.8577\n",
      "Epoch 38/100\n",
      "7000/7000 [==============================] - 1s 170us/step - loss: 0.3895 - acc: 0.8406 - val_loss: 0.3765 - val_acc: 0.8243\n",
      "Epoch 39/100\n",
      "7000/7000 [==============================] - 1s 169us/step - loss: 0.3907 - acc: 0.8379 - val_loss: 0.3720 - val_acc: 0.8530\n",
      "Epoch 40/100\n",
      "7000/7000 [==============================] - 1s 169us/step - loss: 0.3947 - acc: 0.8373 - val_loss: 0.3480 - val_acc: 0.8603\n",
      "Epoch 41/100\n",
      "7000/7000 [==============================] - 1s 171us/step - loss: 0.3889 - acc: 0.8397 - val_loss: 0.3948 - val_acc: 0.8273\n",
      "Epoch 42/100\n",
      "7000/7000 [==============================] - 1s 174us/step - loss: 0.3902 - acc: 0.8394 - val_loss: 0.4347 - val_acc: 0.8087\n",
      "Epoch 43/100\n",
      "7000/7000 [==============================] - 1s 172us/step - loss: 0.3895 - acc: 0.8379 - val_loss: 0.3897 - val_acc: 0.8540\n",
      "Epoch 44/100\n",
      "7000/7000 [==============================] - 1s 169us/step - loss: 0.3901 - acc: 0.8369 - val_loss: 0.3672 - val_acc: 0.8613\n",
      "Epoch 45/100\n",
      "7000/7000 [==============================] - 1s 171us/step - loss: 0.3905 - acc: 0.8429 - val_loss: 0.3710 - val_acc: 0.8400\n",
      "Epoch 46/100\n",
      "7000/7000 [==============================] - 1s 169us/step - loss: 0.3912 - acc: 0.8363 - val_loss: 0.3560 - val_acc: 0.8490\n",
      "Epoch 47/100\n",
      "7000/7000 [==============================] - 1s 167us/step - loss: 0.3894 - acc: 0.8376 - val_loss: 0.3996 - val_acc: 0.8187\n",
      "Epoch 48/100\n",
      "7000/7000 [==============================] - 1s 171us/step - loss: 0.3898 - acc: 0.8391 - val_loss: 0.3823 - val_acc: 0.8240\n",
      "Epoch 49/100\n",
      "7000/7000 [==============================] - 1s 169us/step - loss: 0.3919 - acc: 0.8364 - val_loss: 0.3458 - val_acc: 0.8620\n",
      "Epoch 50/100\n",
      "7000/7000 [==============================] - 1s 207us/step - loss: 0.3942 - acc: 0.8370 - val_loss: 0.3685 - val_acc: 0.8470\n",
      "Epoch 51/100\n",
      "7000/7000 [==============================] - 2s 313us/step - loss: 0.3944 - acc: 0.8393 - val_loss: 0.3610 - val_acc: 0.8603\n",
      "Epoch 52/100\n",
      "7000/7000 [==============================] - 2s 276us/step - loss: 0.3921 - acc: 0.8366 - val_loss: 0.3606 - val_acc: 0.8550\n",
      "Epoch 53/100\n",
      "7000/7000 [==============================] - 2s 253us/step - loss: 0.3946 - acc: 0.8381 - val_loss: 0.3506 - val_acc: 0.8550\n",
      "Epoch 54/100\n",
      "7000/7000 [==============================] - 1s 210us/step - loss: 0.3871 - acc: 0.8381 - val_loss: 0.3529 - val_acc: 0.8597\n",
      "Epoch 55/100\n",
      "7000/7000 [==============================] - 1s 179us/step - loss: 0.3889 - acc: 0.8404 - val_loss: 0.3953 - val_acc: 0.8480\n",
      "Epoch 56/100\n",
      "7000/7000 [==============================] - 1s 178us/step - loss: 0.3931 - acc: 0.8387 - val_loss: 0.3482 - val_acc: 0.8603\n",
      "Epoch 57/100\n",
      "7000/7000 [==============================] - 1s 176us/step - loss: 0.3929 - acc: 0.8371 - val_loss: 0.3538 - val_acc: 0.8570\n",
      "Epoch 58/100\n",
      "7000/7000 [==============================] - 1s 173us/step - loss: 0.3908 - acc: 0.8417 - val_loss: 0.3662 - val_acc: 0.8450\n",
      "Epoch 59/100\n",
      "7000/7000 [==============================] - 1s 203us/step - loss: 0.3859 - acc: 0.8376 - val_loss: 0.3572 - val_acc: 0.8487\n"
     ]
    },
    {
     "name": "stdout",
     "output_type": "stream",
     "text": [
      "Epoch 60/100\n",
      "7000/7000 [==============================] - 1s 164us/step - loss: 0.3949 - acc: 0.8346 - val_loss: 0.3764 - val_acc: 0.8430\n",
      "Epoch 61/100\n",
      "7000/7000 [==============================] - 1s 158us/step - loss: 0.3843 - acc: 0.8407 - val_loss: 0.3643 - val_acc: 0.8520\n",
      "Epoch 62/100\n",
      "7000/7000 [==============================] - 1s 173us/step - loss: 0.3909 - acc: 0.8393 - val_loss: 0.3683 - val_acc: 0.8497\n",
      "Epoch 63/100\n",
      "7000/7000 [==============================] - 1s 157us/step - loss: 0.3853 - acc: 0.8416 - val_loss: 0.3662 - val_acc: 0.8520\n",
      "Epoch 64/100\n",
      "7000/7000 [==============================] - 1s 159us/step - loss: 0.3896 - acc: 0.8394 - val_loss: 0.3606 - val_acc: 0.8587\n",
      "Epoch 65/100\n",
      "7000/7000 [==============================] - 1s 157us/step - loss: 0.3912 - acc: 0.8363 - val_loss: 0.4006 - val_acc: 0.8543\n",
      "Epoch 66/100\n",
      "7000/7000 [==============================] - 1s 160us/step - loss: 0.3882 - acc: 0.8399 - val_loss: 0.3702 - val_acc: 0.8470\n",
      "Epoch 67/100\n",
      "7000/7000 [==============================] - 1s 159us/step - loss: 0.3870 - acc: 0.8423 - val_loss: 0.3486 - val_acc: 0.8573\n",
      "Epoch 68/100\n",
      "7000/7000 [==============================] - 1s 159us/step - loss: 0.3927 - acc: 0.8400 - val_loss: 0.3600 - val_acc: 0.8513\n",
      "Epoch 69/100\n",
      "7000/7000 [==============================] - 1s 161us/step - loss: 0.3897 - acc: 0.8376 - val_loss: 0.3671 - val_acc: 0.8507\n",
      "Epoch 70/100\n",
      "7000/7000 [==============================] - 1s 162us/step - loss: 0.3931 - acc: 0.8354 - val_loss: 0.3555 - val_acc: 0.8590\n",
      "Epoch 71/100\n",
      "7000/7000 [==============================] - 1s 162us/step - loss: 0.3904 - acc: 0.8406 - val_loss: 0.3477 - val_acc: 0.8583\n",
      "Epoch 72/100\n",
      "7000/7000 [==============================] - 1s 161us/step - loss: 0.3918 - acc: 0.8431 - val_loss: 0.3621 - val_acc: 0.8490\n",
      "Epoch 73/100\n",
      "7000/7000 [==============================] - 1s 157us/step - loss: 0.3953 - acc: 0.8363 - val_loss: 0.3525 - val_acc: 0.8577\n",
      "Epoch 74/100\n",
      "7000/7000 [==============================] - 1s 160us/step - loss: 0.3928 - acc: 0.8381 - val_loss: 0.3633 - val_acc: 0.8490\n",
      "Epoch 75/100\n",
      "7000/7000 [==============================] - 1s 159us/step - loss: 0.3861 - acc: 0.8419 - val_loss: 0.3574 - val_acc: 0.8530\n",
      "Epoch 76/100\n",
      "7000/7000 [==============================] - 1s 162us/step - loss: 0.3903 - acc: 0.8394 - val_loss: 0.3583 - val_acc: 0.8573\n",
      "Epoch 77/100\n",
      "7000/7000 [==============================] - 1s 159us/step - loss: 0.3900 - acc: 0.8356 - val_loss: 0.3500 - val_acc: 0.8550\n",
      "Epoch 78/100\n",
      "7000/7000 [==============================] - 1s 162us/step - loss: 0.3892 - acc: 0.8383 - val_loss: 0.3791 - val_acc: 0.8433\n",
      "Epoch 79/100\n",
      "7000/7000 [==============================] - 1s 162us/step - loss: 0.3928 - acc: 0.8379 - val_loss: 0.3411 - val_acc: 0.8593\n",
      "Epoch 80/100\n",
      "7000/7000 [==============================] - 1s 162us/step - loss: 0.3899 - acc: 0.8380 - val_loss: 0.3596 - val_acc: 0.8537\n",
      "Epoch 81/100\n",
      "7000/7000 [==============================] - 1s 162us/step - loss: 0.3885 - acc: 0.8351 - val_loss: 0.3458 - val_acc: 0.8607\n",
      "Epoch 82/100\n",
      "7000/7000 [==============================] - 1s 162us/step - loss: 0.3905 - acc: 0.8397 - val_loss: 0.4502 - val_acc: 0.8583\n",
      "Epoch 83/100\n",
      "7000/7000 [==============================] - 1s 162us/step - loss: 0.3916 - acc: 0.8401 - val_loss: 0.3723 - val_acc: 0.8463\n",
      "Epoch 84/100\n",
      "7000/7000 [==============================] - 1s 162us/step - loss: 0.3917 - acc: 0.8387 - val_loss: 0.3546 - val_acc: 0.8460\n",
      "Epoch 85/100\n",
      "7000/7000 [==============================] - 1s 162us/step - loss: 0.3940 - acc: 0.8380 - val_loss: 0.3683 - val_acc: 0.8513\n",
      "Epoch 86/100\n",
      "7000/7000 [==============================] - 1s 162us/step - loss: 0.3912 - acc: 0.8399 - val_loss: 0.3559 - val_acc: 0.8607\n",
      "Epoch 87/100\n",
      "7000/7000 [==============================] - 1s 159us/step - loss: 0.3823 - acc: 0.8443 - val_loss: 0.3516 - val_acc: 0.8610\n",
      "Epoch 88/100\n",
      "7000/7000 [==============================] - 1s 162us/step - loss: 0.3873 - acc: 0.8420 - val_loss: 0.3594 - val_acc: 0.8507\n",
      "Epoch 89/100\n",
      "7000/7000 [==============================] - 1s 162us/step - loss: 0.3930 - acc: 0.8387 - val_loss: 0.3713 - val_acc: 0.8347\n",
      "Epoch 90/100\n",
      "7000/7000 [==============================] - 1s 165us/step - loss: 0.3888 - acc: 0.8369 - val_loss: 0.3799 - val_acc: 0.8447\n",
      "Epoch 91/100\n",
      "7000/7000 [==============================] - 1s 161us/step - loss: 0.3869 - acc: 0.8443 - val_loss: 0.3646 - val_acc: 0.8427\n",
      "Epoch 92/100\n",
      "7000/7000 [==============================] - 1s 162us/step - loss: 0.3927 - acc: 0.8367 - val_loss: 0.3631 - val_acc: 0.8503\n",
      "Epoch 93/100\n",
      "7000/7000 [==============================] - 1s 160us/step - loss: 0.3883 - acc: 0.8420 - val_loss: 0.3582 - val_acc: 0.8573\n",
      "Epoch 94/100\n",
      "7000/7000 [==============================] - 1s 166us/step - loss: 0.3901 - acc: 0.8401 - val_loss: 0.3786 - val_acc: 0.8543\n",
      "Epoch 95/100\n",
      "7000/7000 [==============================] - 1s 164us/step - loss: 0.3939 - acc: 0.8384 - val_loss: 0.3679 - val_acc: 0.8597\n",
      "Epoch 96/100\n",
      "7000/7000 [==============================] - 1s 164us/step - loss: 0.3929 - acc: 0.8380 - val_loss: 0.3433 - val_acc: 0.8590\n",
      "Epoch 97/100\n",
      "7000/7000 [==============================] - 1s 164us/step - loss: 0.3939 - acc: 0.8369 - val_loss: 0.3455 - val_acc: 0.8583\n",
      "Epoch 98/100\n",
      "7000/7000 [==============================] - 1s 164us/step - loss: 0.3898 - acc: 0.8404 - val_loss: 0.3432 - val_acc: 0.8650\n",
      "Epoch 99/100\n",
      "7000/7000 [==============================] - 1s 167us/step - loss: 0.3880 - acc: 0.8389 - val_loss: 0.3539 - val_acc: 0.8577\n",
      "Epoch 100/100\n",
      "7000/7000 [==============================] - 1s 186us/step - loss: 0.3864 - acc: 0.8426 - val_loss: 0.3536 - val_acc: 0.8513\n"
     ]
    },
    {
     "data": {
      "text/plain": [
       "<keras.callbacks.History at 0x1893dce75c0>"
      ]
     },
     "execution_count": 35,
     "metadata": {},
     "output_type": "execute_result"
    }
   ],
   "source": [
    "model.fit(X_train, y_train, validation_data=(X_test, y_test), batch_size=10, epochs=100)"
   ]
  },
  {
   "cell_type": "code",
   "execution_count": 36,
   "metadata": {},
   "outputs": [
    {
     "data": {
      "text/plain": [
       "array([[0.45653805],\n",
       "       [0.22561514],\n",
       "       [0.09033576],\n",
       "       ...,\n",
       "       [0.11526269],\n",
       "       [0.1473909 ],\n",
       "       [0.66228366]], dtype=float32)"
      ]
     },
     "execution_count": 36,
     "metadata": {},
     "output_type": "execute_result"
    },
    {
     "data": {
      "text/plain": [
       "0.8513333333333334"
      ]
     },
     "execution_count": 36,
     "metadata": {},
     "output_type": "execute_result"
    },
    {
     "data": {
      "text/plain": [
       "array([[2299,   80],\n",
       "       [ 366,  255]], dtype=int64)"
      ]
     },
     "execution_count": 36,
     "metadata": {},
     "output_type": "execute_result"
    },
    {
     "name": "stdout",
     "output_type": "stream",
     "text": [
      "              precision    recall  f1-score   support\n",
      "\n",
      "           0       0.86      0.97      0.91      2379\n",
      "           1       0.76      0.41      0.53       621\n",
      "\n",
      "   micro avg       0.85      0.85      0.85      3000\n",
      "   macro avg       0.81      0.69      0.72      3000\n",
      "weighted avg       0.84      0.85      0.83      3000\n",
      "\n"
     ]
    }
   ],
   "source": [
    "model.predict(X_test)\n",
    "y_predict=model.predict_classes(X_test)\n",
    "metrics.accuracy_score(y_test,y_predict)\n",
    "metrics.confusion_matrix(y_test,y_predict)\n",
    "cr=metrics.classification_report(y_test,y_predict)\n",
    "print(cr)"
   ]
  },
  {
   "cell_type": "code",
   "execution_count": null,
   "metadata": {},
   "outputs": [],
   "source": []
  }
 ],
 "metadata": {
  "kernelspec": {
   "display_name": "Python 3",
   "language": "python",
   "name": "python3"
  },
  "language_info": {
   "codemirror_mode": {
    "name": "ipython",
    "version": 3
   },
   "file_extension": ".py",
   "mimetype": "text/x-python",
   "name": "python",
   "nbconvert_exporter": "python",
   "pygments_lexer": "ipython3",
   "version": "3.7.3"
  }
 },
 "nbformat": 4,
 "nbformat_minor": 2
}
