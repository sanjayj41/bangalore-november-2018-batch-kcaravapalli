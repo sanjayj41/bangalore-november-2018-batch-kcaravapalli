{
 "cells": [
  {
   "cell_type": "markdown",
   "metadata": {
    "colab_type": "text",
    "id": "4WH1Pr4KQlCh"
   },
   "source": [
    "### Build a DNN using Keras with `RELU` and `ADAM`"
   ]
  },
  {
   "cell_type": "markdown",
   "metadata": {
    "colab_type": "text",
    "id": "TbvI8LqlQlCl",
    "slideshow": {
     "slide_type": "slide"
    }
   },
   "source": [
    "#### Load tensorflow"
   ]
  },
  {
   "cell_type": "code",
   "execution_count": 1,
   "metadata": {
    "colab": {},
    "colab_type": "code",
    "id": "SPW-a-qYQlCp"
   },
   "outputs": [],
   "source": [
    "import tensorflow as tf\n",
    "tf.reset_default_graph()\n",
    "tf.set_random_seed(42)"
   ]
  },
  {
   "cell_type": "markdown",
   "metadata": {
    "colab_type": "text",
    "id": "74cQBsi5QlCw",
    "slideshow": {
     "slide_type": "slide"
    }
   },
   "source": [
    "#### Collect Fashion mnist data from tf.keras.datasets "
   ]
  },
  {
   "cell_type": "code",
   "execution_count": 15,
   "metadata": {
    "colab": {},
    "colab_type": "code",
    "id": "wVWy0oDTr2Kj"
   },
   "outputs": [],
   "source": [
    "(trainX, trainY),(testX, testY) = tf.keras.datasets.fashion_mnist.load_data()"
   ]
  },
  {
   "cell_type": "markdown",
   "metadata": {
    "colab_type": "text",
    "id": "no7aWYZyQlC1",
    "slideshow": {
     "slide_type": "slide"
    }
   },
   "source": [
    "#### Change train and test labels into one-hot vectors"
   ]
  },
  {
   "cell_type": "code",
   "execution_count": 16,
   "metadata": {},
   "outputs": [],
   "source": [
    "import numpy as np"
   ]
  },
  {
   "cell_type": "code",
   "execution_count": 19,
   "metadata": {},
   "outputs": [
    {
     "data": {
      "text/plain": [
       "array([0, 1, 2, 3, 4, 5, 6, 7, 8, 9], dtype=uint8)"
      ]
     },
     "execution_count": 19,
     "metadata": {},
     "output_type": "execute_result"
    }
   ],
   "source": [
    "np.unique(trainY)"
   ]
  },
  {
   "cell_type": "code",
   "execution_count": 20,
   "metadata": {
    "colab": {},
    "colab_type": "code",
    "id": "UX6otc4wQlC2"
   },
   "outputs": [],
   "source": [
    "trainY = tf.keras.utils.to_categorical(trainY, num_classes=10)\n",
    "testY = tf.keras.utils.to_categorical(testY, num_classes=10)"
   ]
  },
  {
   "cell_type": "markdown",
   "metadata": {
    "colab_type": "text",
    "id": "QjNrRTdoQlC5",
    "slideshow": {
     "slide_type": "slide"
    }
   },
   "source": [
    "#### Build the Graph"
   ]
  },
  {
   "cell_type": "markdown",
   "metadata": {
    "colab_type": "text",
    "id": "CDJ9DHVNQlC7"
   },
   "source": [
    "#### Initialize model, reshape & normalize data"
   ]
  },
  {
   "cell_type": "code",
   "execution_count": 21,
   "metadata": {
    "colab": {
     "base_uri": "https://localhost:8080/",
     "height": 88
    },
    "colab_type": "code",
    "id": "pCDQs_g1QlC8",
    "outputId": "e854b4d2-903a-4515-c21b-bd6a6e4fe2f8"
   },
   "outputs": [
    {
     "name": "stdout",
     "output_type": "stream",
     "text": [
      "WARNING:tensorflow:From C:\\Users\\kalya\\Anaconda3\\lib\\site-packages\\tensorflow\\python\\ops\\resource_variable_ops.py:435: colocate_with (from tensorflow.python.framework.ops) is deprecated and will be removed in a future version.\n",
      "Instructions for updating:\n",
      "Colocations handled automatically by placer.\n"
     ]
    }
   ],
   "source": [
    "model = tf.keras.models.Sequential()\n",
    "model.add(tf.keras.layers.Reshape((784,),input_shape=(28,28,)))\n",
    "model.add(tf.keras.layers.BatchNormalization())"
   ]
  },
  {
   "cell_type": "markdown",
   "metadata": {
    "colab_type": "text",
    "id": "kBGwTTilQlDD",
    "slideshow": {
     "slide_type": "slide"
    }
   },
   "source": [
    "#### Add two fully connected layers with 200 and 100 neurons respectively with `relu` activations. Add a dropout layer with `p=0.25`"
   ]
  },
  {
   "cell_type": "code",
   "execution_count": 22,
   "metadata": {
    "colab": {
     "base_uri": "https://localhost:8080/",
     "height": 88
    },
    "colab_type": "code",
    "id": "IXbfpfOzQlDF",
    "outputId": "f46a2e3a-2634-4e9e-88bd-57bb8de1ff0c"
   },
   "outputs": [
    {
     "name": "stdout",
     "output_type": "stream",
     "text": [
      "WARNING:tensorflow:From C:\\Users\\kalya\\Anaconda3\\lib\\site-packages\\tensorflow\\python\\keras\\layers\\core.py:143: calling dropout (from tensorflow.python.ops.nn_ops) with keep_prob is deprecated and will be removed in a future version.\n",
      "Instructions for updating:\n",
      "Please use `rate` instead of `keep_prob`. Rate should be set to `rate = 1 - keep_prob`.\n"
     ]
    }
   ],
   "source": [
    "model.add(tf.keras.layers.Dense(200,activation='relu'))\n",
    "model.add(tf.keras.layers.Dense(100,activation='relu'))\n",
    "model.add(tf.keras.layers.Dropout(0.25))\n"
   ]
  },
  {
   "cell_type": "markdown",
   "metadata": {
    "colab_type": "text",
    "id": "5I8f5otcQlDJ"
   },
   "source": [
    "### Add the output layer with a fully connected layer with 10 neurons with `softmax` activation. Use `categorical_crossentropy` loss and `adam` optimizer and train the network. And, report the final validation."
   ]
  },
  {
   "cell_type": "code",
   "execution_count": 23,
   "metadata": {},
   "outputs": [],
   "source": [
    "model.add(tf.keras.layers.Dense(10,activation='softmax'))"
   ]
  },
  {
   "cell_type": "code",
   "execution_count": 24,
   "metadata": {},
   "outputs": [],
   "source": [
    "model.compile(optimizer='adam', loss='categorical_crossentropy', metrics=['accuracy'])"
   ]
  },
  {
   "cell_type": "code",
   "execution_count": 25,
   "metadata": {},
   "outputs": [
    {
     "name": "stdout",
     "output_type": "stream",
     "text": [
      "Train on 60000 samples, validate on 10000 samples\n",
      "WARNING:tensorflow:From C:\\Users\\kalya\\Anaconda3\\lib\\site-packages\\tensorflow\\python\\ops\\math_ops.py:3066: to_int32 (from tensorflow.python.ops.math_ops) is deprecated and will be removed in a future version.\n",
      "Instructions for updating:\n",
      "Use tf.cast instead.\n",
      "Epoch 1/50\n",
      "60000/60000 [==============================] - 10s 164us/sample - loss: 0.5071 - acc: 0.8178 - val_loss: 0.4030 - val_acc: 0.8520\n",
      "Epoch 2/50\n",
      "60000/60000 [==============================] - 9s 151us/sample - loss: 0.3977 - acc: 0.8576 - val_loss: 0.3821 - val_acc: 0.8569\n",
      "Epoch 3/50\n",
      "60000/60000 [==============================] - 9s 153us/sample - loss: 0.3589 - acc: 0.8687 - val_loss: 0.3528 - val_acc: 0.8700\n",
      "Epoch 4/50\n",
      "60000/60000 [==============================] - 10s 162us/sample - loss: 0.3340 - acc: 0.8770 - val_loss: 0.3638 - val_acc: 0.8716\n",
      "Epoch 5/50\n",
      "60000/60000 [==============================] - 10s 159us/sample - loss: 0.3186 - acc: 0.8822 - val_loss: 0.3498 - val_acc: 0.8749\n",
      "Epoch 6/50\n",
      "60000/60000 [==============================] - 10s 173us/sample - loss: 0.3004 - acc: 0.8884 - val_loss: 0.3602 - val_acc: 0.8790\n",
      "Epoch 7/50\n",
      "60000/60000 [==============================] - 8s 139us/sample - loss: 0.2873 - acc: 0.8931 - val_loss: 0.3791 - val_acc: 0.8725\n",
      "Epoch 8/50\n",
      "60000/60000 [==============================] - 10s 169us/sample - loss: 0.2744 - acc: 0.8969 - val_loss: 0.3452 - val_acc: 0.8837\n",
      "Epoch 9/50\n",
      "60000/60000 [==============================] - 10s 173us/sample - loss: 0.2663 - acc: 0.8987 - val_loss: 0.3333 - val_acc: 0.8880\n",
      "Epoch 10/50\n",
      "60000/60000 [==============================] - 12s 193us/sample - loss: 0.2532 - acc: 0.9039 - val_loss: 0.3558 - val_acc: 0.8822\n",
      "Epoch 11/50\n",
      "60000/60000 [==============================] - 11s 186us/sample - loss: 0.2456 - acc: 0.9072 - val_loss: 0.3573 - val_acc: 0.8856\n",
      "Epoch 12/50\n",
      "60000/60000 [==============================] - 10s 172us/sample - loss: 0.2369 - acc: 0.9103 - val_loss: 0.3560 - val_acc: 0.8845\n",
      "Epoch 13/50\n",
      "60000/60000 [==============================] - 10s 171us/sample - loss: 0.2321 - acc: 0.9123 - val_loss: 0.3574 - val_acc: 0.8867\n",
      "Epoch 14/50\n",
      "60000/60000 [==============================] - 10s 166us/sample - loss: 0.2250 - acc: 0.9154 - val_loss: 0.3532 - val_acc: 0.8897\n",
      "Epoch 15/50\n",
      "60000/60000 [==============================] - 10s 170us/sample - loss: 0.2168 - acc: 0.9166 - val_loss: 0.3673 - val_acc: 0.8878\n",
      "Epoch 16/50\n",
      "60000/60000 [==============================] - 10s 171us/sample - loss: 0.2098 - acc: 0.9202 - val_loss: 0.3752 - val_acc: 0.8837\n",
      "Epoch 17/50\n",
      "60000/60000 [==============================] - 10s 170us/sample - loss: 0.2086 - acc: 0.9198 - val_loss: 0.3650 - val_acc: 0.8892\n",
      "Epoch 18/50\n",
      "60000/60000 [==============================] - 10s 167us/sample - loss: 0.1995 - acc: 0.9252 - val_loss: 0.3925 - val_acc: 0.8831\n",
      "Epoch 19/50\n",
      "60000/60000 [==============================] - 10s 166us/sample - loss: 0.1973 - acc: 0.9250 - val_loss: 0.3721 - val_acc: 0.8891\n",
      "Epoch 20/50\n",
      "60000/60000 [==============================] - 10s 173us/sample - loss: 0.1903 - acc: 0.9273 - val_loss: 0.4156 - val_acc: 0.8824\n",
      "Epoch 21/50\n",
      "60000/60000 [==============================] - 10s 174us/sample - loss: 0.1906 - acc: 0.9273 - val_loss: 0.3913 - val_acc: 0.8908\n",
      "Epoch 22/50\n",
      "60000/60000 [==============================] - 10s 173us/sample - loss: 0.1863 - acc: 0.9294 - val_loss: 0.4015 - val_acc: 0.8910\n",
      "Epoch 23/50\n",
      "60000/60000 [==============================] - 10s 167us/sample - loss: 0.1808 - acc: 0.9301 - val_loss: 0.4277 - val_acc: 0.8821\n",
      "Epoch 24/50\n",
      "60000/60000 [==============================] - 10s 167us/sample - loss: 0.1793 - acc: 0.9323 - val_loss: 0.4078 - val_acc: 0.8870\n",
      "Epoch 25/50\n",
      "60000/60000 [==============================] - 10s 169us/sample - loss: 0.1732 - acc: 0.9334 - val_loss: 0.4176 - val_acc: 0.8889\n",
      "Epoch 26/50\n",
      "60000/60000 [==============================] - 10s 165us/sample - loss: 0.1703 - acc: 0.9355 - val_loss: 0.4442 - val_acc: 0.8857\n",
      "Epoch 27/50\n",
      "60000/60000 [==============================] - 10s 169us/sample - loss: 0.1699 - acc: 0.9338 - val_loss: 0.4053 - val_acc: 0.8876\n",
      "Epoch 28/50\n",
      "60000/60000 [==============================] - 10s 165us/sample - loss: 0.1642 - acc: 0.9369 - val_loss: 0.4369 - val_acc: 0.8855\n",
      "Epoch 29/50\n",
      "60000/60000 [==============================] - 10s 167us/sample - loss: 0.1620 - acc: 0.9382 - val_loss: 0.4392 - val_acc: 0.8848\n",
      "Epoch 30/50\n",
      "60000/60000 [==============================] - 10s 173us/sample - loss: 0.1584 - acc: 0.9398 - val_loss: 0.4120 - val_acc: 0.8917\n",
      "Epoch 31/50\n",
      "60000/60000 [==============================] - 11s 178us/sample - loss: 0.1542 - acc: 0.9410 - val_loss: 0.4382 - val_acc: 0.8920\n",
      "Epoch 32/50\n",
      "60000/60000 [==============================] - 11s 188us/sample - loss: 0.1551 - acc: 0.9408 - val_loss: 0.4435 - val_acc: 0.8886\n",
      "Epoch 33/50\n",
      "60000/60000 [==============================] - 10s 169us/sample - loss: 0.1530 - acc: 0.9418 - val_loss: 0.4469 - val_acc: 0.8872\n",
      "Epoch 34/50\n",
      "60000/60000 [==============================] - 9s 156us/sample - loss: 0.1468 - acc: 0.9436 - val_loss: 0.4196 - val_acc: 0.8964\n",
      "Epoch 35/50\n",
      "60000/60000 [==============================] - 9s 150us/sample - loss: 0.1483 - acc: 0.9443 - val_loss: 0.4725 - val_acc: 0.8890\n",
      "Epoch 36/50\n",
      "60000/60000 [==============================] - 10s 161us/sample - loss: 0.1460 - acc: 0.9434 - val_loss: 0.4715 - val_acc: 0.8871\n",
      "Epoch 37/50\n",
      "60000/60000 [==============================] - 11s 187us/sample - loss: 0.1428 - acc: 0.9450 - val_loss: 0.4418 - val_acc: 0.8865\n",
      "Epoch 38/50\n",
      "60000/60000 [==============================] - 11s 180us/sample - loss: 0.1440 - acc: 0.9466 - val_loss: 0.4587 - val_acc: 0.8917\n",
      "Epoch 39/50\n",
      "60000/60000 [==============================] - 12s 195us/sample - loss: 0.1396 - acc: 0.9462 - val_loss: 0.4621 - val_acc: 0.8886\n",
      "Epoch 40/50\n",
      "60000/60000 [==============================] - 11s 184us/sample - loss: 0.1362 - acc: 0.9485 - val_loss: 0.4756 - val_acc: 0.8925\n",
      "Epoch 41/50\n",
      "60000/60000 [==============================] - 11s 184us/sample - loss: 0.1336 - acc: 0.9489 - val_loss: 0.4616 - val_acc: 0.8887\n",
      "Epoch 42/50\n",
      "60000/60000 [==============================] - 11s 181us/sample - loss: 0.1353 - acc: 0.9486 - val_loss: 0.4706 - val_acc: 0.8927\n",
      "Epoch 43/50\n",
      "60000/60000 [==============================] - 11s 177us/sample - loss: 0.1359 - acc: 0.9494 - val_loss: 0.4860 - val_acc: 0.8888\n",
      "Epoch 44/50\n",
      "60000/60000 [==============================] - 11s 179us/sample - loss: 0.1337 - acc: 0.9492 - val_loss: 0.4643 - val_acc: 0.8933\n",
      "Epoch 45/50\n",
      "60000/60000 [==============================] - 11s 183us/sample - loss: 0.1340 - acc: 0.9491 - val_loss: 0.4872 - val_acc: 0.8907\n",
      "Epoch 46/50\n",
      "60000/60000 [==============================] - 11s 191us/sample - loss: 0.1255 - acc: 0.9532 - val_loss: 0.4728 - val_acc: 0.8928\n",
      "Epoch 47/50\n",
      "60000/60000 [==============================] - 11s 185us/sample - loss: 0.1289 - acc: 0.9510 - val_loss: 0.4998 - val_acc: 0.8880\n",
      "Epoch 48/50\n",
      "60000/60000 [==============================] - 11s 184us/sample - loss: 0.1270 - acc: 0.9529 - val_loss: 0.4712 - val_acc: 0.8909\n",
      "Epoch 49/50\n",
      "60000/60000 [==============================] - 11s 183us/sample - loss: 0.1257 - acc: 0.9516 - val_loss: 0.5058 - val_acc: 0.8903\n",
      "Epoch 50/50\n",
      "60000/60000 [==============================] - 11s 182us/sample - loss: 0.1219 - acc: 0.9539 - val_loss: 0.5393 - val_acc: 0.8942\n"
     ]
    },
    {
     "data": {
      "text/plain": [
       "<tensorflow.python.keras.callbacks.History at 0x1c1ca965c50>"
      ]
     },
     "execution_count": 25,
     "metadata": {},
     "output_type": "execute_result"
    }
   ],
   "source": [
    "model.fit(trainX,trainY,          \n",
    "          validation_data=(testX,testY),\n",
    "          epochs=50,\n",
    "          batch_size=32)"
   ]
  },
  {
   "cell_type": "markdown",
   "metadata": {},
   "source": [
    "## Train Accuracy is 95% while test accuracy is 89.5%. Train loss is 0.12 while Test loss is 0.53"
   ]
  },
  {
   "cell_type": "code",
   "execution_count": null,
   "metadata": {},
   "outputs": [],
   "source": []
  }
 ],
 "metadata": {
  "colab": {
   "collapsed_sections": [],
   "name": "updated_R7_ExternalLab_Questions.ipynb",
   "provenance": [],
   "version": "0.3.2"
  },
  "kernelspec": {
   "display_name": "Python 3",
   "language": "python",
   "name": "python3"
  },
  "language_info": {
   "codemirror_mode": {
    "name": "ipython",
    "version": 3
   },
   "file_extension": ".py",
   "mimetype": "text/x-python",
   "name": "python",
   "nbconvert_exporter": "python",
   "pygments_lexer": "ipython3",
   "version": "3.7.3"
  }
 },
 "nbformat": 4,
 "nbformat_minor": 1
}
